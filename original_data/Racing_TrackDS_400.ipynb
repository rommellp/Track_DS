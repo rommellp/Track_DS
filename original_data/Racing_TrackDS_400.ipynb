{
 "cells": [
  {
   "cell_type": "code",
   "execution_count": 1,
   "metadata": {
    "id": "dyQze7GSQqIm"
   },
   "outputs": [],
   "source": [
    "#import modules for analyzing ,plotting, and formatting\n",
    "import pandas as pd\n",
    "import matplotlib.pyplot as plt\n",
    "import numpy as np\n",
    "import datetime\n",
    "import random\n",
    "import seaborn as sns"
   ]
  },
  {
   "cell_type": "code",
   "execution_count": 2,
   "metadata": {
    "id": "tTupoZErQwon"
   },
   "outputs": [],
   "source": [
    "original_tf_data = pd.read_csv(\"first_upload_copy.csv\")\n",
    "\n",
    "df = pd.DataFrame(original_tf_data, columns=['ID Number','Gender','Grade Level','Season','400 Meters','800 Meters','1500 Meters','1600 Meters'])\n",
    "columnsTitles = ['ID Number','Gender','Grade Level','Season','400 Meters','800 Meters','1500 Meters','1600 Meters']\n",
    "original_tf_df = df.reindex(columns=columnsTitles)\n",
    "\n",
    "original_tf_df\n",
    "copy_df = original_tf_df.copy()"
   ]
  },
  {
   "cell_type": "code",
   "execution_count": 3,
   "metadata": {
    "colab": {
     "base_uri": "https://localhost:8080/",
     "height": 419
    },
    "id": "7JGQlmu3Qz11",
    "outputId": "ad6117a5-4aed-46c4-f457-fde51f27783b"
   },
   "outputs": [
    {
     "data": {
      "text/html": [
       "<div>\n",
       "<style scoped>\n",
       "    .dataframe tbody tr th:only-of-type {\n",
       "        vertical-align: middle;\n",
       "    }\n",
       "\n",
       "    .dataframe tbody tr th {\n",
       "        vertical-align: top;\n",
       "    }\n",
       "\n",
       "    .dataframe thead th {\n",
       "        text-align: right;\n",
       "    }\n",
       "</style>\n",
       "<table border=\"1\" class=\"dataframe\">\n",
       "  <thead>\n",
       "    <tr style=\"text-align: right;\">\n",
       "      <th></th>\n",
       "      <th>ID Number</th>\n",
       "      <th>Gender</th>\n",
       "      <th>Grade Level</th>\n",
       "      <th>Season</th>\n",
       "      <th>400 Meters</th>\n",
       "      <th>800 Meters</th>\n",
       "      <th>1500 Meters</th>\n",
       "      <th>1600 Meters</th>\n",
       "    </tr>\n",
       "  </thead>\n",
       "  <tbody>\n",
       "    <tr>\n",
       "      <th>0</th>\n",
       "      <td>21</td>\n",
       "      <td>M</td>\n",
       "      <td>12th Grade</td>\n",
       "      <td>2007 Outdoor Season</td>\n",
       "      <td>57.74</td>\n",
       "      <td>NaN</td>\n",
       "      <td>NaN</td>\n",
       "      <td>NaN</td>\n",
       "    </tr>\n",
       "    <tr>\n",
       "      <th>1</th>\n",
       "      <td>21</td>\n",
       "      <td>M</td>\n",
       "      <td>12th Grade</td>\n",
       "      <td>2007 Outdoor Season</td>\n",
       "      <td>57.34c</td>\n",
       "      <td>NaN</td>\n",
       "      <td>NaN</td>\n",
       "      <td>NaN</td>\n",
       "    </tr>\n",
       "    <tr>\n",
       "      <th>2</th>\n",
       "      <td>21</td>\n",
       "      <td>M</td>\n",
       "      <td>12th Grade</td>\n",
       "      <td>2007 Outdoor Season</td>\n",
       "      <td>56.14c</td>\n",
       "      <td>NaN</td>\n",
       "      <td>NaN</td>\n",
       "      <td>NaN</td>\n",
       "    </tr>\n",
       "    <tr>\n",
       "      <th>3</th>\n",
       "      <td>21</td>\n",
       "      <td>M</td>\n",
       "      <td>12th Grade</td>\n",
       "      <td>2007 Outdoor Season</td>\n",
       "      <td>57.2h</td>\n",
       "      <td>NaN</td>\n",
       "      <td>NaN</td>\n",
       "      <td>NaN</td>\n",
       "    </tr>\n",
       "    <tr>\n",
       "      <th>4</th>\n",
       "      <td>21</td>\n",
       "      <td>M</td>\n",
       "      <td>12th Grade</td>\n",
       "      <td>2007 Outdoor Season</td>\n",
       "      <td>58.8h</td>\n",
       "      <td>NaN</td>\n",
       "      <td>NaN</td>\n",
       "      <td>NaN</td>\n",
       "    </tr>\n",
       "    <tr>\n",
       "      <th>...</th>\n",
       "      <td>...</td>\n",
       "      <td>...</td>\n",
       "      <td>...</td>\n",
       "      <td>...</td>\n",
       "      <td>...</td>\n",
       "      <td>...</td>\n",
       "      <td>...</td>\n",
       "      <td>...</td>\n",
       "    </tr>\n",
       "    <tr>\n",
       "      <th>41784</th>\n",
       "      <td>19989</td>\n",
       "      <td>M</td>\n",
       "      <td>12th Grade</td>\n",
       "      <td>2005 Outdoor Season</td>\n",
       "      <td>54.14c</td>\n",
       "      <td>NaN</td>\n",
       "      <td>NaN</td>\n",
       "      <td>NaN</td>\n",
       "    </tr>\n",
       "    <tr>\n",
       "      <th>41785</th>\n",
       "      <td>19991</td>\n",
       "      <td>M</td>\n",
       "      <td>12th Grade</td>\n",
       "      <td>2005 Outdoor Season</td>\n",
       "      <td>NaN</td>\n",
       "      <td>3:27.3h</td>\n",
       "      <td>NaN</td>\n",
       "      <td>NaN</td>\n",
       "    </tr>\n",
       "    <tr>\n",
       "      <th>41786</th>\n",
       "      <td>19991</td>\n",
       "      <td>M</td>\n",
       "      <td>12th Grade</td>\n",
       "      <td>2005 Outdoor Season</td>\n",
       "      <td>NaN</td>\n",
       "      <td>3:14.3h</td>\n",
       "      <td>NaN</td>\n",
       "      <td>NaN</td>\n",
       "    </tr>\n",
       "    <tr>\n",
       "      <th>41787</th>\n",
       "      <td>19991</td>\n",
       "      <td>M</td>\n",
       "      <td>12th Grade</td>\n",
       "      <td>2005 Outdoor Season</td>\n",
       "      <td>NaN</td>\n",
       "      <td>3:21.5h</td>\n",
       "      <td>NaN</td>\n",
       "      <td>NaN</td>\n",
       "    </tr>\n",
       "    <tr>\n",
       "      <th>41788</th>\n",
       "      <td>19991</td>\n",
       "      <td>M</td>\n",
       "      <td>12th Grade</td>\n",
       "      <td>2005 Outdoor Season</td>\n",
       "      <td>NaN</td>\n",
       "      <td>3:05.3h</td>\n",
       "      <td>NaN</td>\n",
       "      <td>NaN</td>\n",
       "    </tr>\n",
       "  </tbody>\n",
       "</table>\n",
       "<p>41789 rows × 8 columns</p>\n",
       "</div>"
      ],
      "text/plain": [
       "       ID Number Gender Grade Level                                    Season  \\\n",
       "0             21      M  12th Grade  2007 Outdoor Season                        \n",
       "1             21      M  12th Grade  2007 Outdoor Season                        \n",
       "2             21      M  12th Grade  2007 Outdoor Season                        \n",
       "3             21      M  12th Grade  2007 Outdoor Season                        \n",
       "4             21      M  12th Grade  2007 Outdoor Season                        \n",
       "...          ...    ...         ...                                       ...   \n",
       "41784      19989      M  12th Grade  2005 Outdoor Season                        \n",
       "41785      19991      M  12th Grade  2005 Outdoor Season                        \n",
       "41786      19991      M  12th Grade  2005 Outdoor Season                        \n",
       "41787      19991      M  12th Grade  2005 Outdoor Season                        \n",
       "41788      19991      M  12th Grade  2005 Outdoor Season                        \n",
       "\n",
       "      400 Meters 800 Meters 1500 Meters 1600 Meters  \n",
       "0          57.74        NaN         NaN         NaN  \n",
       "1         57.34c        NaN         NaN         NaN  \n",
       "2         56.14c        NaN         NaN         NaN  \n",
       "3          57.2h        NaN         NaN         NaN  \n",
       "4          58.8h        NaN         NaN         NaN  \n",
       "...          ...        ...         ...         ...  \n",
       "41784     54.14c        NaN         NaN         NaN  \n",
       "41785        NaN    3:27.3h         NaN         NaN  \n",
       "41786        NaN    3:14.3h         NaN         NaN  \n",
       "41787        NaN    3:21.5h         NaN         NaN  \n",
       "41788        NaN    3:05.3h         NaN         NaN  \n",
       "\n",
       "[41789 rows x 8 columns]"
      ]
     },
     "execution_count": 3,
     "metadata": {},
     "output_type": "execute_result"
    }
   ],
   "source": [
    "copy_df"
   ]
  },
  {
   "cell_type": "code",
   "execution_count": 4,
   "metadata": {
    "colab": {
     "base_uri": "https://localhost:8080/"
    },
    "id": "c-K0hrWbQ4MH",
    "outputId": "5f5e02df-d8c5-40c5-fcf8-ff9d02c77292"
   },
   "outputs": [
    {
     "name": "stdout",
     "output_type": "stream",
     "text": [
      "<class 'pandas.core.frame.DataFrame'>\n",
      "RangeIndex: 41789 entries, 0 to 41788\n",
      "Data columns (total 8 columns):\n",
      " #   Column       Non-Null Count  Dtype \n",
      "---  ------       --------------  ----- \n",
      " 0   ID Number    41789 non-null  int64 \n",
      " 1   Gender       41789 non-null  object\n",
      " 2   Grade Level  41789 non-null  object\n",
      " 3   Season       41789 non-null  object\n",
      " 4   400 Meters   14362 non-null  object\n",
      " 5   800 Meters   12910 non-null  object\n",
      " 6   1500 Meters  14315 non-null  object\n",
      " 7   1600 Meters  200 non-null    object\n",
      "dtypes: int64(1), object(7)\n",
      "memory usage: 2.6+ MB\n"
     ]
    }
   ],
   "source": [
    "copy_df.info()"
   ]
  },
  {
   "cell_type": "code",
   "execution_count": 5,
   "metadata": {
    "id": "7enHwKMHQ-tc"
   },
   "outputs": [],
   "source": [
    "# this is the laters version of these def I am running\n",
    "\n",
    "null_times = {np.nan,'nan','DNR','nt','no time','FS','DQ','NT','SCR','DNS','DNF','na','MB', 'shot 29.9', 'NS', '?'}\n",
    "\n",
    "def time_convert(x):\n",
    "    if (str(x)[-1]=='c') or (str(x)[-1]=='h'):\n",
    "        x = str(x)[:-1] \n",
    "    x_split = str(x).split(':')\n",
    "    if not '.' in x_split[-1]:\n",
    "        x = str(x) + '.00'\n",
    "    #print(x)\n",
    "    ##Annoying edge cases\n",
    "    if (x_split[-1] == '60.00') or (x_split[-1] =='60.0') or (x_split[-1] == '28/0'):\n",
    "      #print('here')\n",
    "      return np.nan\n",
    "\n",
    "    if (x[-1] == 'a'):\n",
    "      #print('here')\n",
    "      return(np.nan)\n",
    "\n",
    "    if (str(x) == '57.4**'):\n",
    "      #print(x)\n",
    "      return(np.nan)\n",
    "\n",
    "    if len(x_split)==1:\n",
    "        t = datetime.datetime.strptime(x, '%S.%f').time()\n",
    "        return((t.hour * 60 + t.minute) *60 + t.second+ 0.000001*t.microsecond)\n",
    "\n",
    "    if len(x_split)==2:\n",
    "      t = datetime.datetime.strptime(x, '%M:%S.%f').time()\n",
    "      return((t.hour * 60 + t.minute) *60 + t.second+ 0.000001*t.microsecond)\n",
    "\n",
    "    if len(x_split)==3:\n",
    "        t = datetime.datetime.strptime(x, '%H:%M:%S.%f').time()\n",
    "        return((t.hour * 60 + t.minute) *60 + t.second+ 0.000001*t.microsecond)\n",
    "  "
   ]
  },
  {
   "cell_type": "code",
   "execution_count": 6,
   "metadata": {
    "id": "zxtPBJ1UPNal"
   },
   "outputs": [],
   "source": [
    "#One dataframe for each event\n",
    "#here we are doing the final filtering of these df's\n",
    "#by using a list of wrongly input features, we can check if those values are in any \n",
    "#row of these 400m cols. if it is, it is filtered out using the '~'. \n",
    "#finally, convert time is applied to convert each input time to seconds. \n",
    "\n",
    "df_400 = copy_df[['ID Number', 'Gender', 'Grade Level', 'Season', '400 Meters']]\n",
    "df_400 = df_400[~df_400['400 Meters'].isin(null_times)]\n",
    "df_400['400 Meters'] = df_400['400 Meters'].apply(time_convert)\n",
    "\n",
    "df_800 = copy_df[['ID Number', 'Gender', 'Grade Level', 'Season', '800 Meters']]\n",
    "df_800 = df_800[~df_800['800 Meters'].isin(null_times)]\n",
    "df_800['800 Meters'] = df_800['800 Meters'].apply(time_convert)\n",
    "\n",
    "df_1500 = copy_df[['ID Number', 'Gender', 'Grade Level', 'Season', '1500 Meters']]\n",
    "df_1500 = df_1500[~df_1500['1500 Meters'].isin(null_times)]\n",
    "df_1500['1500 Meters'] = df_1500['1500 Meters'].apply(time_convert)\n",
    "\n",
    "df_1600 = copy_df[['ID Number', 'Gender', 'Grade Level', 'Season', '1600 Meters']]\n",
    "df_1600 = df_1600[~df_1600['1600 Meters'].isin(null_times)]\n",
    "df_1600['1600 Meters'] = df_1600['1600 Meters'].apply(time_convert)"
   ]
  },
  {
   "cell_type": "code",
   "execution_count": 7,
   "metadata": {
    "colab": {
     "base_uri": "https://localhost:8080/",
     "height": 718
    },
    "id": "WuQ03gn1gheV",
    "outputId": "1a5ac4d2-c13e-4c1a-8f7b-0c99f7f2f5b1"
   },
   "outputs": [
    {
     "name": "stdout",
     "output_type": "stream",
     "text": [
      "<class 'pandas.core.frame.DataFrame'>\n",
      "Int64Index: 14223 entries, 0 to 41784\n",
      "Data columns (total 5 columns):\n",
      " #   Column       Non-Null Count  Dtype  \n",
      "---  ------       --------------  -----  \n",
      " 0   ID Number    14223 non-null  int64  \n",
      " 1   Gender       14223 non-null  object \n",
      " 2   Grade Level  14223 non-null  object \n",
      " 3   Season       14223 non-null  object \n",
      " 4   400 Meters   14188 non-null  float64\n",
      "dtypes: float64(1), int64(1), object(3)\n",
      "memory usage: 666.7+ KB\n"
     ]
    },
    {
     "data": {
      "text/html": [
       "<div>\n",
       "<style scoped>\n",
       "    .dataframe tbody tr th:only-of-type {\n",
       "        vertical-align: middle;\n",
       "    }\n",
       "\n",
       "    .dataframe tbody tr th {\n",
       "        vertical-align: top;\n",
       "    }\n",
       "\n",
       "    .dataframe thead th {\n",
       "        text-align: right;\n",
       "    }\n",
       "</style>\n",
       "<table border=\"1\" class=\"dataframe\">\n",
       "  <thead>\n",
       "    <tr style=\"text-align: right;\">\n",
       "      <th></th>\n",
       "      <th>ID Number</th>\n",
       "      <th>Gender</th>\n",
       "      <th>Grade Level</th>\n",
       "      <th>Season</th>\n",
       "      <th>400 Meters</th>\n",
       "    </tr>\n",
       "  </thead>\n",
       "  <tbody>\n",
       "    <tr>\n",
       "      <th>8570</th>\n",
       "      <td>3580</td>\n",
       "      <td>M</td>\n",
       "      <td>11th Grade</td>\n",
       "      <td>2005 Outdoor Season</td>\n",
       "      <td>3304.00</td>\n",
       "    </tr>\n",
       "    <tr>\n",
       "      <th>10159</th>\n",
       "      <td>4193</td>\n",
       "      <td>M</td>\n",
       "      <td>12th Grade</td>\n",
       "      <td>2006 Outdoor Season</td>\n",
       "      <td>3213.14</td>\n",
       "    </tr>\n",
       "    <tr>\n",
       "      <th>15147</th>\n",
       "      <td>6416</td>\n",
       "      <td>M</td>\n",
       "      <td>12th Grade</td>\n",
       "      <td>2005 Outdoor Season</td>\n",
       "      <td>3694.14</td>\n",
       "    </tr>\n",
       "    <tr>\n",
       "      <th>15543</th>\n",
       "      <td>6657</td>\n",
       "      <td>M</td>\n",
       "      <td>9th Grade</td>\n",
       "      <td>2004 Outdoor Season</td>\n",
       "      <td>3573.00</td>\n",
       "    </tr>\n",
       "    <tr>\n",
       "      <th>16189</th>\n",
       "      <td>6988</td>\n",
       "      <td>M</td>\n",
       "      <td>9th Grade</td>\n",
       "      <td>2004 Outdoor Season</td>\n",
       "      <td>3375.14</td>\n",
       "    </tr>\n",
       "    <tr>\n",
       "      <th>16190</th>\n",
       "      <td>6988</td>\n",
       "      <td>M</td>\n",
       "      <td>9th Grade</td>\n",
       "      <td>2004 Outdoor Season</td>\n",
       "      <td>3429.14</td>\n",
       "    </tr>\n",
       "    <tr>\n",
       "      <th>18396</th>\n",
       "      <td>8322</td>\n",
       "      <td>M</td>\n",
       "      <td>10th Grade</td>\n",
       "      <td>2004 Outdoor Season</td>\n",
       "      <td>12.24</td>\n",
       "    </tr>\n",
       "    <tr>\n",
       "      <th>18974</th>\n",
       "      <td>8676</td>\n",
       "      <td>M</td>\n",
       "      <td>11th Grade</td>\n",
       "      <td>2005 Outdoor Season</td>\n",
       "      <td>5775.14</td>\n",
       "    </tr>\n",
       "    <tr>\n",
       "      <th>26686</th>\n",
       "      <td>12583</td>\n",
       "      <td>M</td>\n",
       "      <td>11th Grade</td>\n",
       "      <td>2007 Outdoor Season</td>\n",
       "      <td>3309.00</td>\n",
       "    </tr>\n",
       "    <tr>\n",
       "      <th>27009</th>\n",
       "      <td>12633</td>\n",
       "      <td>M</td>\n",
       "      <td>9th Grade</td>\n",
       "      <td>2005 Outdoor Season</td>\n",
       "      <td>3574.14</td>\n",
       "    </tr>\n",
       "    <tr>\n",
       "      <th>33792</th>\n",
       "      <td>15477</td>\n",
       "      <td>M</td>\n",
       "      <td>11th Grade</td>\n",
       "      <td>2007 Outdoor Season</td>\n",
       "      <td>3268.14</td>\n",
       "    </tr>\n",
       "    <tr>\n",
       "      <th>36969</th>\n",
       "      <td>17034</td>\n",
       "      <td>M</td>\n",
       "      <td>9th Grade</td>\n",
       "      <td>2005 Outdoor Season</td>\n",
       "      <td>3486.14</td>\n",
       "    </tr>\n",
       "    <tr>\n",
       "      <th>38944</th>\n",
       "      <td>17988</td>\n",
       "      <td>M</td>\n",
       "      <td>10th Grade</td>\n",
       "      <td>2006 Outdoor Season</td>\n",
       "      <td>18.74</td>\n",
       "    </tr>\n",
       "    <tr>\n",
       "      <th>39293</th>\n",
       "      <td>18161</td>\n",
       "      <td>M</td>\n",
       "      <td>11th Grade</td>\n",
       "      <td>2005 Outdoor Season</td>\n",
       "      <td>3214.00</td>\n",
       "    </tr>\n",
       "    <tr>\n",
       "      <th>39590</th>\n",
       "      <td>18457</td>\n",
       "      <td>M</td>\n",
       "      <td>9th Grade</td>\n",
       "      <td>2005 Outdoor Season</td>\n",
       "      <td>3548.14</td>\n",
       "    </tr>\n",
       "  </tbody>\n",
       "</table>\n",
       "</div>"
      ],
      "text/plain": [
       "       ID Number Gender Grade Level                                    Season  \\\n",
       "8570        3580      M  11th Grade  2005 Outdoor Season                        \n",
       "10159       4193      M  12th Grade  2006 Outdoor Season                        \n",
       "15147       6416      M  12th Grade  2005 Outdoor Season                        \n",
       "15543       6657      M   9th Grade  2004 Outdoor Season                        \n",
       "16189       6988      M   9th Grade  2004 Outdoor Season                        \n",
       "16190       6988      M   9th Grade  2004 Outdoor Season                        \n",
       "18396       8322      M  10th Grade  2004 Outdoor Season                        \n",
       "18974       8676      M  11th Grade  2005 Outdoor Season                        \n",
       "26686      12583      M  11th Grade  2007 Outdoor Season                        \n",
       "27009      12633      M   9th Grade  2005 Outdoor Season                        \n",
       "33792      15477      M  11th Grade  2007 Outdoor Season                        \n",
       "36969      17034      M   9th Grade  2005 Outdoor Season                        \n",
       "38944      17988      M  10th Grade  2006 Outdoor Season                        \n",
       "39293      18161      M  11th Grade  2005 Outdoor Season                        \n",
       "39590      18457      M   9th Grade  2005 Outdoor Season                        \n",
       "\n",
       "       400 Meters  \n",
       "8570      3304.00  \n",
       "10159     3213.14  \n",
       "15147     3694.14  \n",
       "15543     3573.00  \n",
       "16189     3375.14  \n",
       "16190     3429.14  \n",
       "18396       12.24  \n",
       "18974     5775.14  \n",
       "26686     3309.00  \n",
       "27009     3574.14  \n",
       "33792     3268.14  \n",
       "36969     3486.14  \n",
       "38944       18.74  \n",
       "39293     3214.00  \n",
       "39590     3548.14  "
      ]
     },
     "execution_count": 7,
     "metadata": {},
     "output_type": "execute_result"
    }
   ],
   "source": [
    "df_400.info()\n",
    "#There is something wrong with these 15 out of 14k in how their times were reported\n",
    "df_400[(df_400['400 Meters']>180) | (df_400['400 Meters']<40)]"
   ]
  },
  {
   "cell_type": "code",
   "execution_count": 8,
   "metadata": {},
   "outputs": [
    {
     "data": {
      "text/html": [
       "<div>\n",
       "<style scoped>\n",
       "    .dataframe tbody tr th:only-of-type {\n",
       "        vertical-align: middle;\n",
       "    }\n",
       "\n",
       "    .dataframe tbody tr th {\n",
       "        vertical-align: top;\n",
       "    }\n",
       "\n",
       "    .dataframe thead th {\n",
       "        text-align: right;\n",
       "    }\n",
       "</style>\n",
       "<table border=\"1\" class=\"dataframe\">\n",
       "  <thead>\n",
       "    <tr style=\"text-align: right;\">\n",
       "      <th></th>\n",
       "      <th>ID Number</th>\n",
       "      <th>Gender</th>\n",
       "      <th>Grade Level</th>\n",
       "      <th>Season</th>\n",
       "      <th>1500 Meters</th>\n",
       "    </tr>\n",
       "  </thead>\n",
       "  <tbody>\n",
       "    <tr>\n",
       "      <th>72</th>\n",
       "      <td>63</td>\n",
       "      <td>M</td>\n",
       "      <td>12th Grade</td>\n",
       "      <td>2005 Outdoor Season</td>\n",
       "      <td>291.40</td>\n",
       "    </tr>\n",
       "    <tr>\n",
       "      <th>73</th>\n",
       "      <td>63</td>\n",
       "      <td>M</td>\n",
       "      <td>12th Grade</td>\n",
       "      <td>2005 Outdoor Season</td>\n",
       "      <td>267.37</td>\n",
       "    </tr>\n",
       "    <tr>\n",
       "      <th>74</th>\n",
       "      <td>63</td>\n",
       "      <td>M</td>\n",
       "      <td>12th Grade</td>\n",
       "      <td>2005 Outdoor Season</td>\n",
       "      <td>267.40</td>\n",
       "    </tr>\n",
       "    <tr>\n",
       "      <th>75</th>\n",
       "      <td>63</td>\n",
       "      <td>M</td>\n",
       "      <td>12th Grade</td>\n",
       "      <td>2005 Outdoor Season</td>\n",
       "      <td>261.68</td>\n",
       "    </tr>\n",
       "    <tr>\n",
       "      <th>92</th>\n",
       "      <td>63</td>\n",
       "      <td>M</td>\n",
       "      <td>11th Grade</td>\n",
       "      <td>2004 Outdoor Season</td>\n",
       "      <td>265.00</td>\n",
       "    </tr>\n",
       "  </tbody>\n",
       "</table>\n",
       "</div>"
      ],
      "text/plain": [
       "    ID Number Gender Grade Level                                    Season  \\\n",
       "72         63      M  12th Grade  2005 Outdoor Season                        \n",
       "73         63      M  12th Grade  2005 Outdoor Season                        \n",
       "74         63      M  12th Grade  2005 Outdoor Season                        \n",
       "75         63      M  12th Grade  2005 Outdoor Season                        \n",
       "92         63      M  11th Grade  2004 Outdoor Season                        \n",
       "\n",
       "    1500 Meters  \n",
       "72       291.40  \n",
       "73       267.37  \n",
       "74       267.40  \n",
       "75       261.68  \n",
       "92       265.00  "
      ]
     },
     "execution_count": 8,
     "metadata": {},
     "output_type": "execute_result"
    }
   ],
   "source": [
    "df_1500.head()"
   ]
  },
  {
   "cell_type": "markdown",
   "metadata": {
    "id": "hKGmKoO681hZ"
   },
   "source": [
    "To analyze this dataset, we will be looking at how the runners have changed over time. Specifically we will answer the questions:\n",
    "1. how has the pop of runners changed over the seasons.\n",
    "2. how has their performance changed( min, max, mean) by season.\n",
    "3. how does a 9th grader perform in a recent season vs one in the earliest season.\n",
    "\n"
   ]
  },
  {
   "cell_type": "code",
   "execution_count": 9,
   "metadata": {
    "colab": {
     "base_uri": "https://localhost:8080/",
     "height": 204
    },
    "id": "Bik0aiBs6wfI",
    "outputId": "9a2ebae6-9aea-4164-fdfb-423fa8f62a86"
   },
   "outputs": [
    {
     "data": {
      "text/html": [
       "<div>\n",
       "<style scoped>\n",
       "    .dataframe tbody tr th:only-of-type {\n",
       "        vertical-align: middle;\n",
       "    }\n",
       "\n",
       "    .dataframe tbody tr th {\n",
       "        vertical-align: top;\n",
       "    }\n",
       "\n",
       "    .dataframe thead th {\n",
       "        text-align: right;\n",
       "    }\n",
       "</style>\n",
       "<table border=\"1\" class=\"dataframe\">\n",
       "  <thead>\n",
       "    <tr style=\"text-align: right;\">\n",
       "      <th></th>\n",
       "      <th>ID Number</th>\n",
       "      <th>Gender</th>\n",
       "      <th>Grade Level</th>\n",
       "      <th>Season</th>\n",
       "      <th>400 Meters</th>\n",
       "    </tr>\n",
       "  </thead>\n",
       "  <tbody>\n",
       "    <tr>\n",
       "      <th>0</th>\n",
       "      <td>21</td>\n",
       "      <td>M</td>\n",
       "      <td>12th Grade</td>\n",
       "      <td>2007 Outdoor Season</td>\n",
       "      <td>57.74</td>\n",
       "    </tr>\n",
       "    <tr>\n",
       "      <th>1</th>\n",
       "      <td>21</td>\n",
       "      <td>M</td>\n",
       "      <td>12th Grade</td>\n",
       "      <td>2007 Outdoor Season</td>\n",
       "      <td>57.34</td>\n",
       "    </tr>\n",
       "    <tr>\n",
       "      <th>2</th>\n",
       "      <td>21</td>\n",
       "      <td>M</td>\n",
       "      <td>12th Grade</td>\n",
       "      <td>2007 Outdoor Season</td>\n",
       "      <td>56.14</td>\n",
       "    </tr>\n",
       "    <tr>\n",
       "      <th>3</th>\n",
       "      <td>21</td>\n",
       "      <td>M</td>\n",
       "      <td>12th Grade</td>\n",
       "      <td>2007 Outdoor Season</td>\n",
       "      <td>57.20</td>\n",
       "    </tr>\n",
       "    <tr>\n",
       "      <th>4</th>\n",
       "      <td>21</td>\n",
       "      <td>M</td>\n",
       "      <td>12th Grade</td>\n",
       "      <td>2007 Outdoor Season</td>\n",
       "      <td>58.80</td>\n",
       "    </tr>\n",
       "  </tbody>\n",
       "</table>\n",
       "</div>"
      ],
      "text/plain": [
       "   ID Number Gender Grade Level                                    Season  \\\n",
       "0         21      M  12th Grade  2007 Outdoor Season                        \n",
       "1         21      M  12th Grade  2007 Outdoor Season                        \n",
       "2         21      M  12th Grade  2007 Outdoor Season                        \n",
       "3         21      M  12th Grade  2007 Outdoor Season                        \n",
       "4         21      M  12th Grade  2007 Outdoor Season                        \n",
       "\n",
       "   400 Meters  \n",
       "0       57.74  \n",
       "1       57.34  \n",
       "2       56.14  \n",
       "3       57.20  \n",
       "4       58.80  "
      ]
     },
     "execution_count": 9,
     "metadata": {},
     "output_type": "execute_result"
    }
   ],
   "source": [
    "df_4 = df_400[(df_400['400 Meters']<75) & (df_400['400 Meters']>40)]\n",
    "df_4.head()"
   ]
  },
  {
   "cell_type": "code",
   "execution_count": 10,
   "metadata": {
    "colab": {
     "base_uri": "https://localhost:8080/"
    },
    "id": "08nc0pIa64j3",
    "outputId": "a974ff2e-261c-484c-cc03-e00740f454dd"
   },
   "outputs": [
    {
     "data": {
      "text/plain": [
       "(14110, 5)"
      ]
     },
     "execution_count": 10,
     "metadata": {},
     "output_type": "execute_result"
    }
   ],
   "source": [
    "df_4.shape"
   ]
  },
  {
   "cell_type": "code",
   "execution_count": 11,
   "metadata": {},
   "outputs": [],
   "source": [
    "df_4.to_csv('Runner_Comp_400m.csv', index=False)"
   ]
  },
  {
   "cell_type": "code",
   "execution_count": 12,
   "metadata": {
    "colab": {
     "base_uri": "https://localhost:8080/"
    },
    "id": "ZXXji2pN-OA7",
    "outputId": "1f16e0bc-8334-4b3e-e039-15b7820e0407"
   },
   "outputs": [
    {
     "name": "stdout",
     "output_type": "stream",
     "text": [
      "       ID Number Gender Grade Level                                    Season  \\\n",
      "6500        2762      M  12th Grade  2004 Outdoor Season                        \n",
      "6206        2651      M  11th Grade  2006 Outdoor Season                        \n",
      "18001       8082      M  11th Grade  2006 Outdoor Season                        \n",
      "41378      19699      M  10th Grade  2005 Outdoor Season                        \n",
      "2116        1065      M   9th Grade  2004 Outdoor Season                        \n",
      "1             21      M  12th Grade  2007 Outdoor Season                        \n",
      "9112        3850      M  12th Grade  2006 Outdoor Season                        \n",
      "\n",
      "       400 Meters  \n",
      "6500        54.64  \n",
      "6206        61.40  \n",
      "18001       63.74  \n",
      "41378       61.04  \n",
      "2116        54.14  \n",
      "1           57.34  \n",
      "9112        56.44  \n"
     ]
    }
   ],
   "source": [
    "# randomly select n rows from your dataset\n",
    "competitors = df_4.sample(7)\n",
    "\n",
    "# print the randomly selected rows\n",
    "print(competitors)"
   ]
  },
  {
   "cell_type": "code",
   "execution_count": 13,
   "metadata": {
    "colab": {
     "base_uri": "https://localhost:8080/"
    },
    "id": "VTKTyt9A-mmt",
    "outputId": "977ae7e5-e5ab-4161-98f3-d050359a5fca"
   },
   "outputs": [
    {
     "name": "stdout",
     "output_type": "stream",
     "text": [
      "Enter data for Id Number:100\n",
      "Enter data for Gender:m\n",
      "Enter data for Grade Level:12th grade\n",
      "Enter data for Season:\n",
      "Enter data for 400 Meters:52\n"
     ]
    }
   ],
   "source": [
    "user_input_1 = input(\"Enter data for Id Number:\")\n",
    "user_input_2 = input(\"Enter data for Gender:\")\n",
    "user_input_3 = input(\"Enter data for Grade Level:\")\n",
    "user_input_4 = input(\"Enter data for Season:\")\n",
    "user_input_5 = input(\"Enter data for 400 Meters:\")\n"
   ]
  },
  {
   "cell_type": "code",
   "execution_count": 14,
   "metadata": {
    "colab": {
     "base_uri": "https://localhost:8080/"
    },
    "id": "WFwPL1KkAwHp",
    "outputId": "8196675c-0353-489b-d8ca-4ef153c4899e"
   },
   "outputs": [
    {
     "data": {
      "text/plain": [
       "{'ID Number': ['100'],\n",
       " 'Gender': ['m'],\n",
       " 'Grade Level': ['12th grade'],\n",
       " 'Season': [''],\n",
       " '400 Meters': ['52']}"
      ]
     },
     "execution_count": 14,
     "metadata": {},
     "output_type": "execute_result"
    }
   ],
   "source": [
    "user_data = {\"ID Number\": [user_input_1], \"Gender\": [user_input_2], \"Grade Level\": [user_input_3],\\\n",
    "             \"Season\": [user_input_4], \"400 Meters\": [user_input_5]}\n",
    "\n",
    "user_data"
   ]
  },
  {
   "cell_type": "code",
   "execution_count": 15,
   "metadata": {
    "colab": {
     "base_uri": "https://localhost:8080/",
     "height": 297
    },
    "id": "XbnHtJAe_7Vn",
    "outputId": "17faf8ef-b03f-4ade-bec1-3a63bac9a510"
   },
   "outputs": [
    {
     "data": {
      "text/html": [
       "<div>\n",
       "<style scoped>\n",
       "    .dataframe tbody tr th:only-of-type {\n",
       "        vertical-align: middle;\n",
       "    }\n",
       "\n",
       "    .dataframe tbody tr th {\n",
       "        vertical-align: top;\n",
       "    }\n",
       "\n",
       "    .dataframe thead th {\n",
       "        text-align: right;\n",
       "    }\n",
       "</style>\n",
       "<table border=\"1\" class=\"dataframe\">\n",
       "  <thead>\n",
       "    <tr style=\"text-align: right;\">\n",
       "      <th></th>\n",
       "      <th>ID Number</th>\n",
       "      <th>Gender</th>\n",
       "      <th>Grade Level</th>\n",
       "      <th>Season</th>\n",
       "      <th>400 Meters</th>\n",
       "    </tr>\n",
       "  </thead>\n",
       "  <tbody>\n",
       "    <tr>\n",
       "      <th>0</th>\n",
       "      <td>2762</td>\n",
       "      <td>M</td>\n",
       "      <td>12th Grade</td>\n",
       "      <td>2004 Outdoor Season</td>\n",
       "      <td>54.64</td>\n",
       "    </tr>\n",
       "    <tr>\n",
       "      <th>1</th>\n",
       "      <td>2651</td>\n",
       "      <td>M</td>\n",
       "      <td>11th Grade</td>\n",
       "      <td>2006 Outdoor Season</td>\n",
       "      <td>61.4</td>\n",
       "    </tr>\n",
       "    <tr>\n",
       "      <th>2</th>\n",
       "      <td>8082</td>\n",
       "      <td>M</td>\n",
       "      <td>11th Grade</td>\n",
       "      <td>2006 Outdoor Season</td>\n",
       "      <td>63.74</td>\n",
       "    </tr>\n",
       "    <tr>\n",
       "      <th>3</th>\n",
       "      <td>19699</td>\n",
       "      <td>M</td>\n",
       "      <td>10th Grade</td>\n",
       "      <td>2005 Outdoor Season</td>\n",
       "      <td>61.04</td>\n",
       "    </tr>\n",
       "    <tr>\n",
       "      <th>4</th>\n",
       "      <td>1065</td>\n",
       "      <td>M</td>\n",
       "      <td>9th Grade</td>\n",
       "      <td>2004 Outdoor Season</td>\n",
       "      <td>54.14</td>\n",
       "    </tr>\n",
       "    <tr>\n",
       "      <th>5</th>\n",
       "      <td>21</td>\n",
       "      <td>M</td>\n",
       "      <td>12th Grade</td>\n",
       "      <td>2007 Outdoor Season</td>\n",
       "      <td>57.34</td>\n",
       "    </tr>\n",
       "    <tr>\n",
       "      <th>6</th>\n",
       "      <td>3850</td>\n",
       "      <td>M</td>\n",
       "      <td>12th Grade</td>\n",
       "      <td>2006 Outdoor Season</td>\n",
       "      <td>56.44</td>\n",
       "    </tr>\n",
       "    <tr>\n",
       "      <th>7</th>\n",
       "      <td>100</td>\n",
       "      <td>m</td>\n",
       "      <td>12th grade</td>\n",
       "      <td></td>\n",
       "      <td>52</td>\n",
       "    </tr>\n",
       "  </tbody>\n",
       "</table>\n",
       "</div>"
      ],
      "text/plain": [
       "  ID Number Gender Grade Level                                    Season  \\\n",
       "0      2762      M  12th Grade  2004 Outdoor Season                        \n",
       "1      2651      M  11th Grade  2006 Outdoor Season                        \n",
       "2      8082      M  11th Grade  2006 Outdoor Season                        \n",
       "3     19699      M  10th Grade  2005 Outdoor Season                        \n",
       "4      1065      M   9th Grade  2004 Outdoor Season                        \n",
       "5        21      M  12th Grade  2007 Outdoor Season                        \n",
       "6      3850      M  12th Grade  2006 Outdoor Season                        \n",
       "7       100      m  12th grade                                             \n",
       "\n",
       "  400 Meters  \n",
       "0      54.64  \n",
       "1       61.4  \n",
       "2      63.74  \n",
       "3      61.04  \n",
       "4      54.14  \n",
       "5      57.34  \n",
       "6      56.44  \n",
       "7         52  "
      ]
     },
     "execution_count": 15,
     "metadata": {},
     "output_type": "execute_result"
    }
   ],
   "source": [
    "\n",
    "# create a new dataframe from the user-generated data\n",
    "user_data = pd.DataFrame(user_data)\n",
    "\n",
    "# append the new row to the randomly selected rows\n",
    "merged_rows = pd.concat([competitors, user_data], ignore_index=True)\n",
    "\n",
    "# print the randomly selected rows with the new row appended\n",
    "merged_rows"
   ]
  },
  {
   "cell_type": "code",
   "execution_count": 20,
   "metadata": {
    "colab": {
     "base_uri": "https://localhost:8080/"
    },
    "id": "1rLlLcqQFESw",
    "outputId": "f21c087e-c32e-42e1-dc51-35d53b4afc07"
   },
   "outputs": [
    {
     "name": "stderr",
     "output_type": "stream",
     "text": [
      "C:\\Users\\5luca\\AppData\\Local\\Temp\\ipykernel_14716\\1639658897.py:2: FutureWarning: Dropping of nuisance columns in DataFrame reductions (with 'numeric_only=None') is deprecated; in a future version this will raise TypeError.  Select only valid columns before calling the reduction.\n",
      "  merged_rows.max()\n"
     ]
    },
    {
     "data": {
      "text/plain": [
       "Gender                                                m\n",
       "Grade Level                                   9th Grade\n",
       "Season         2007 Outdoor Season                     \n",
       "400 Meters                                        63.74\n",
       "dtype: object"
      ]
     },
     "execution_count": 20,
     "metadata": {},
     "output_type": "execute_result"
    }
   ],
   "source": [
    "merged_rows['400 Meters'] = merged_rows['400 Meters'].astype(float)\n",
    "merged_rows.max()"
   ]
  },
  {
   "cell_type": "code",
   "execution_count": 17,
   "metadata": {
    "colab": {
     "base_uri": "https://localhost:8080/"
    },
    "id": "oqyegTA8Dh8s",
    "outputId": "d5da86dd-2b2d-4667-809e-8f860116156e"
   },
   "outputs": [
    {
     "name": "stderr",
     "output_type": "stream",
     "text": [
      "C:\\Users\\5luca\\AppData\\Local\\Temp\\ipykernel_14716\\2739442137.py:2: FutureWarning: Dropping of nuisance columns in DataFrame reductions (with 'numeric_only=None') is deprecated; in a future version this will raise TypeError.  Select only valid columns before calling the reduction.\n",
      "  winner = merged_rows.min()\n"
     ]
    },
    {
     "data": {
      "text/plain": [
       "Gender                  M\n",
       "Grade Level    10th Grade\n",
       "Season                   \n",
       "400 Meters           52.0\n",
       "dtype: object"
      ]
     },
     "execution_count": 17,
     "metadata": {},
     "output_type": "execute_result"
    }
   ],
   "source": [
    "# find the index of the row with the smallest value in the \"400 Meters\" column\n",
    "winner = merged_rows.min()\n",
    "winner"
   ]
  },
  {
   "cell_type": "code",
   "execution_count": 18,
   "metadata": {
    "colab": {
     "base_uri": "https://localhost:8080/",
     "height": 142
    },
    "id": "PjXwmWAWG1Ap",
    "outputId": "a33713ae-619d-4db0-912f-e513c2c93118"
   },
   "outputs": [
    {
     "data": {
      "text/html": [
       "<div>\n",
       "<style scoped>\n",
       "    .dataframe tbody tr th:only-of-type {\n",
       "        vertical-align: middle;\n",
       "    }\n",
       "\n",
       "    .dataframe tbody tr th {\n",
       "        vertical-align: top;\n",
       "    }\n",
       "\n",
       "    .dataframe thead th {\n",
       "        text-align: right;\n",
       "    }\n",
       "</style>\n",
       "<table border=\"1\" class=\"dataframe\">\n",
       "  <thead>\n",
       "    <tr style=\"text-align: right;\">\n",
       "      <th></th>\n",
       "      <th>ID Number</th>\n",
       "      <th>Gender</th>\n",
       "      <th>Grade Level</th>\n",
       "      <th>Season</th>\n",
       "      <th>400 Meters</th>\n",
       "    </tr>\n",
       "  </thead>\n",
       "  <tbody>\n",
       "    <tr>\n",
       "      <th>7</th>\n",
       "      <td>100</td>\n",
       "      <td>m</td>\n",
       "      <td>12th grade</td>\n",
       "      <td></td>\n",
       "      <td>52.00</td>\n",
       "    </tr>\n",
       "    <tr>\n",
       "      <th>4</th>\n",
       "      <td>1065</td>\n",
       "      <td>M</td>\n",
       "      <td>9th Grade</td>\n",
       "      <td>2004 Outdoor Season</td>\n",
       "      <td>54.14</td>\n",
       "    </tr>\n",
       "    <tr>\n",
       "      <th>0</th>\n",
       "      <td>2762</td>\n",
       "      <td>M</td>\n",
       "      <td>12th Grade</td>\n",
       "      <td>2004 Outdoor Season</td>\n",
       "      <td>54.64</td>\n",
       "    </tr>\n",
       "  </tbody>\n",
       "</table>\n",
       "</div>"
      ],
      "text/plain": [
       "  ID Number Gender Grade Level                                    Season  \\\n",
       "7       100      m  12th grade                                             \n",
       "4      1065      M   9th Grade  2004 Outdoor Season                        \n",
       "0      2762      M  12th Grade  2004 Outdoor Season                        \n",
       "\n",
       "   400 Meters  \n",
       "7       52.00  \n",
       "4       54.14  \n",
       "0       54.64  "
      ]
     },
     "execution_count": 18,
     "metadata": {},
     "output_type": "execute_result"
    }
   ],
   "source": [
    "top_3 = merged_rows.nsmallest(3, columns=['400 Meters'])\n",
    "top_3"
   ]
  },
  {
   "cell_type": "code",
   "execution_count": null,
   "metadata": {
    "id": "ZmKE5J34Dnt7"
   },
   "outputs": [],
   "source": []
  }
 ],
 "metadata": {
  "colab": {
   "provenance": []
  },
  "kernelspec": {
   "display_name": "Python 3 (ipykernel)",
   "language": "python",
   "name": "python3"
  },
  "language_info": {
   "codemirror_mode": {
    "name": "ipython",
    "version": 3
   },
   "file_extension": ".py",
   "mimetype": "text/x-python",
   "name": "python",
   "nbconvert_exporter": "python",
   "pygments_lexer": "ipython3",
   "version": "3.9.13"
  }
 },
 "nbformat": 4,
 "nbformat_minor": 1
}
