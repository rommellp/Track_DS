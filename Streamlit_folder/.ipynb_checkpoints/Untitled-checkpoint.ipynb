{
 "cells": [
  {
   "cell_type": "code",
   "execution_count": 1,
   "id": "30f2e5c9",
   "metadata": {},
   "outputs": [
    {
     "ename": "NameError",
     "evalue": "name 'win' is not defined",
     "output_type": "error",
     "traceback": [
      "\u001b[1;31m---------------------------------------------------------------------------\u001b[0m",
      "\u001b[1;31mNameError\u001b[0m                                 Traceback (most recent call last)",
      "\u001b[1;32m~\\AppData\\Local\\Temp\\ipykernel_20088\\273031613.py\u001b[0m in \u001b[0;36m<module>\u001b[1;34m\u001b[0m\n\u001b[0;32m     15\u001b[0m \u001b[0mscreen\u001b[0m\u001b[1;33m.\u001b[0m\u001b[0mbgcolor\u001b[0m\u001b[1;33m(\u001b[0m\u001b[1;34m'white'\u001b[0m\u001b[1;33m)\u001b[0m\u001b[1;33m\u001b[0m\u001b[1;33m\u001b[0m\u001b[0m\n\u001b[0;32m     16\u001b[0m \u001b[1;33m\u001b[0m\u001b[0m\n\u001b[1;32m---> 17\u001b[1;33m \u001b[0mwin\u001b[0m\u001b[1;33m.\u001b[0m\u001b[0msetup\u001b[0m\u001b[1;33m(\u001b[0m\u001b[1;36m1000\u001b[0m\u001b[1;33m,\u001b[0m \u001b[1;36m500\u001b[0m\u001b[1;33m)\u001b[0m\u001b[1;33m\u001b[0m\u001b[1;33m\u001b[0m\u001b[0m\n\u001b[0m\u001b[0;32m     18\u001b[0m \u001b[1;33m\u001b[0m\u001b[0m\n\u001b[0;32m     19\u001b[0m \u001b[1;31m# Create the finish line\u001b[0m\u001b[1;33m\u001b[0m\u001b[1;33m\u001b[0m\u001b[0m\n",
      "\u001b[1;31mNameError\u001b[0m: name 'win' is not defined"
     ]
    }
   ],
   "source": [
    "import turtle\n",
    "import random\n",
    "\n",
    "# Define the distance of the race in meters\n",
    "race_distance = 400\n",
    "\n",
    "# Define the number of competitors\n",
    "num_competitors = 7\n",
    "\n",
    "# Define the speed of each competitor in meters per second (you can modify these values as needed)\n",
    "speeds = [random.uniform(6, 10) for i in range(num_competitors)]\n",
    "\n",
    "# Set up the turtle graphics window\n",
    "win = turtle.Screen()\n",
    "\n",
    "win.setup(1000, 500)\n",
    "\n",
    "# Create the finish line\n",
    "finish_line = turtle.Turtle()\n",
    "finish_line.penup()\n",
    "finish_line.goto(race_distance/2, 200)\n",
    "finish_line.pendown()\n",
    "finish_line.goto(race_distance/2, -200)\n",
    "\n",
    "# Create the competitors\n",
    "competitors = []\n",
    "for i in range(num_competitors):\n",
    "    competitor = turtle.Turtle()\n",
    "    competitor.penup()\n",
    "    competitor.goto(-450, 150 - i * 50)\n",
    "    competitor.pendown()\n",
    "    competitors.append(competitor)\n",
    "\n",
    "# Simulate the race\n",
    "while True:\n",
    "    for i in range(num_competitors):\n",
    "        competitors[i].forward(speeds[i])\n",
    "        if competitors[i].xcor() >= race_distance/2:\n",
    "            winner = i + 1\n",
    "            break\n",
    "    else:\n",
    "        continue\n",
    "    break\n",
    "\n",
    "# Print the winner\n",
    "print(\"The winner is competitor {}!\".format(winner))\n",
    "\n",
    "# Wait for the user to close the window\n",
    "turtle.done()\n"
   ]
  },
  {
   "cell_type": "code",
   "execution_count": null,
   "id": "7850a0d6",
   "metadata": {},
   "outputs": [],
   "source": []
  }
 ],
 "metadata": {
  "kernelspec": {
   "display_name": "Python 3 (ipykernel)",
   "language": "python",
   "name": "python3"
  },
  "language_info": {
   "codemirror_mode": {
    "name": "ipython",
    "version": 3
   },
   "file_extension": ".py",
   "mimetype": "text/x-python",
   "name": "python",
   "nbconvert_exporter": "python",
   "pygments_lexer": "ipython3",
   "version": "3.9.13"
  }
 },
 "nbformat": 4,
 "nbformat_minor": 5
}
