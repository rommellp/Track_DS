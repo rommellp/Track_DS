{
 "cells": [
  {
   "cell_type": "code",
   "execution_count": 32,
   "metadata": {
    "id": "t0wktXHAJJ6v"
   },
   "outputs": [],
   "source": [
    "#import modules for analyzing ,plotting, and formatting\n",
    "import pandas as pd\n",
    "import matplotlib.pyplot as plt\n",
    "import numpy as np\n",
    "import datetime\n",
    "import seaborn as sns\n",
    "import joblib \n",
    "import os"
   ]
  },
  {
   "cell_type": "code",
   "execution_count": 2,
   "metadata": {
    "id": "mikBp-p3JP0I"
   },
   "outputs": [],
   "source": [
    "os.chdir(r\"C:\\Users\\5luca\\Documents\\Python\\Projects\\Track_DS\\1merged_df\")\n",
    "merged_800_1500 = pd.read_csv(\"merged_800m_1500m_df.csv\")"
   ]
  },
  {
   "cell_type": "code",
   "execution_count": 3,
   "metadata": {
    "id": "kNKRqyjtDsRp"
   },
   "outputs": [],
   "source": [
    "#import sklearn and relevant packages\n",
    "from sklearn.model_selection import train_test_split\n",
    "from sklearn.linear_model import LinearRegression\n",
    "from sklearn.pipeline import Pipeline\n",
    "from sklearn.preprocessing import StandardScaler\n",
    "from sklearn.preprocessing import MinMaxScaler\n",
    "from sklearn.preprocessing import OneHotEncoder\n",
    "from sklearn.metrics import mean_absolute_error\n",
    "from sklearn.metrics import mean_absolute_percentage_error\n",
    "from sklearn.metrics import mean_squared_error\n",
    "from sklearn.tree import DecisionTreeRegressor\n",
    "from sklearn.model_selection import cross_val_score\n",
    "from sklearn.ensemble import RandomForestRegressor\n",
    "from sklearn.model_selection import GridSearchCV\n",
    "\n",
    "#separate datasets for the model\n",
    "#here the model is split 67/33\n",
    "m800_1500_train, m800_1500_test = train_test_split(merged_800_1500, test_size=0.33, random_state=0)\n",
    "\n",
    "#gl means grade level\n",
    "#for this model we will use 800/1500m times and grade level\n",
    "gl_800_1500_train = m800_1500_train[['800 Meters', '1500 Meters', 'Grade Level']]\n",
    "gl_800_1500_test = m800_1500_test[['800 Meters', '1500 Meters', 'Grade Level']]\n"
   ]
  },
  {
   "cell_type": "code",
   "execution_count": 4,
   "metadata": {
    "id": "X27bKDAxDyoa"
   },
   "outputs": [],
   "source": [
    "#here we separate the features and labels. The features used are the 800m times as well as the grade leve\n",
    "# this calls for dropping the 1500m column for the features df\n",
    "#next I select only the 1500m column for the label df\n",
    "features_800_train = gl_800_1500_train.drop('1500 Meters', axis=1)\n",
    "label_train = gl_800_1500_train['1500 Meters'].copy()\n",
    "\n",
    "#same steps are repeated for the test df\n",
    "features_800_test = gl_800_1500_test.drop('1500 Meters', axis=1)\n",
    "label_test = gl_800_1500_test['1500 Meters'].copy()"
   ]
  },
  {
   "cell_type": "code",
   "execution_count": 5,
   "metadata": {
    "colab": {
     "base_uri": "https://localhost:8080/",
     "height": 419
    },
    "id": "Ym8jGskOD2pW",
    "outputId": "69fb3f24-ad0f-4dbe-ef0c-36f272f3c3e4"
   },
   "outputs": [
    {
     "data": {
      "text/html": [
       "<div>\n",
       "<style scoped>\n",
       "    .dataframe tbody tr th:only-of-type {\n",
       "        vertical-align: middle;\n",
       "    }\n",
       "\n",
       "    .dataframe tbody tr th {\n",
       "        vertical-align: top;\n",
       "    }\n",
       "\n",
       "    .dataframe thead th {\n",
       "        text-align: right;\n",
       "    }\n",
       "</style>\n",
       "<table border=\"1\" class=\"dataframe\">\n",
       "  <thead>\n",
       "    <tr style=\"text-align: right;\">\n",
       "      <th></th>\n",
       "      <th>800 Meters</th>\n",
       "      <th>Grade Level</th>\n",
       "    </tr>\n",
       "  </thead>\n",
       "  <tbody>\n",
       "    <tr>\n",
       "      <th>1380</th>\n",
       "      <td>123.60</td>\n",
       "      <td>12th Grade</td>\n",
       "    </tr>\n",
       "    <tr>\n",
       "      <th>1287</th>\n",
       "      <td>151.10</td>\n",
       "      <td>10th Grade</td>\n",
       "    </tr>\n",
       "    <tr>\n",
       "      <th>1081</th>\n",
       "      <td>124.52</td>\n",
       "      <td>12th Grade</td>\n",
       "    </tr>\n",
       "    <tr>\n",
       "      <th>572</th>\n",
       "      <td>123.79</td>\n",
       "      <td>11th Grade</td>\n",
       "    </tr>\n",
       "    <tr>\n",
       "      <th>1775</th>\n",
       "      <td>133.60</td>\n",
       "      <td>11th Grade</td>\n",
       "    </tr>\n",
       "    <tr>\n",
       "      <th>...</th>\n",
       "      <td>...</td>\n",
       "      <td>...</td>\n",
       "    </tr>\n",
       "    <tr>\n",
       "      <th>1033</th>\n",
       "      <td>123.30</td>\n",
       "      <td>12th Grade</td>\n",
       "    </tr>\n",
       "    <tr>\n",
       "      <th>1731</th>\n",
       "      <td>131.30</td>\n",
       "      <td>11th Grade</td>\n",
       "    </tr>\n",
       "    <tr>\n",
       "      <th>763</th>\n",
       "      <td>155.00</td>\n",
       "      <td>9th Grade</td>\n",
       "    </tr>\n",
       "    <tr>\n",
       "      <th>835</th>\n",
       "      <td>172.20</td>\n",
       "      <td>9th Grade</td>\n",
       "    </tr>\n",
       "    <tr>\n",
       "      <th>1653</th>\n",
       "      <td>122.20</td>\n",
       "      <td>12th Grade</td>\n",
       "    </tr>\n",
       "  </tbody>\n",
       "</table>\n",
       "<p>1680 rows × 2 columns</p>\n",
       "</div>"
      ],
      "text/plain": [
       "      800 Meters Grade Level\n",
       "1380      123.60  12th Grade\n",
       "1287      151.10  10th Grade\n",
       "1081      124.52  12th Grade\n",
       "572       123.79  11th Grade\n",
       "1775      133.60  11th Grade\n",
       "...          ...         ...\n",
       "1033      123.30  12th Grade\n",
       "1731      131.30  11th Grade\n",
       "763       155.00   9th Grade\n",
       "835       172.20   9th Grade\n",
       "1653      122.20  12th Grade\n",
       "\n",
       "[1680 rows x 2 columns]"
      ]
     },
     "execution_count": 5,
     "metadata": {},
     "output_type": "execute_result"
    }
   ],
   "source": [
    "features_800_train"
   ]
  },
  {
   "cell_type": "code",
   "execution_count": 6,
   "metadata": {
    "colab": {
     "base_uri": "https://localhost:8080/",
     "height": 419
    },
    "id": "yXLwSsyQD3UH",
    "outputId": "e4ada9c2-e7c4-4bb6-ed19-80e5c03ed492"
   },
   "outputs": [
    {
     "data": {
      "text/html": [
       "<div>\n",
       "<style scoped>\n",
       "    .dataframe tbody tr th:only-of-type {\n",
       "        vertical-align: middle;\n",
       "    }\n",
       "\n",
       "    .dataframe tbody tr th {\n",
       "        vertical-align: top;\n",
       "    }\n",
       "\n",
       "    .dataframe thead th {\n",
       "        text-align: right;\n",
       "    }\n",
       "</style>\n",
       "<table border=\"1\" class=\"dataframe\">\n",
       "  <thead>\n",
       "    <tr style=\"text-align: right;\">\n",
       "      <th></th>\n",
       "      <th>800 Meters</th>\n",
       "      <th>Grade Level_9th Grade</th>\n",
       "      <th>Grade Level_10th Grade</th>\n",
       "      <th>Grade Level_11th Grade</th>\n",
       "      <th>Grade Level_12th Grade</th>\n",
       "    </tr>\n",
       "  </thead>\n",
       "  <tbody>\n",
       "    <tr>\n",
       "      <th>568</th>\n",
       "      <td>137.30</td>\n",
       "      <td>0</td>\n",
       "      <td>1</td>\n",
       "      <td>0</td>\n",
       "      <td>0</td>\n",
       "    </tr>\n",
       "    <tr>\n",
       "      <th>1180</th>\n",
       "      <td>122.30</td>\n",
       "      <td>0</td>\n",
       "      <td>1</td>\n",
       "      <td>0</td>\n",
       "      <td>0</td>\n",
       "    </tr>\n",
       "    <tr>\n",
       "      <th>1119</th>\n",
       "      <td>128.13</td>\n",
       "      <td>0</td>\n",
       "      <td>0</td>\n",
       "      <td>0</td>\n",
       "      <td>1</td>\n",
       "    </tr>\n",
       "    <tr>\n",
       "      <th>1820</th>\n",
       "      <td>156.00</td>\n",
       "      <td>0</td>\n",
       "      <td>0</td>\n",
       "      <td>0</td>\n",
       "      <td>1</td>\n",
       "    </tr>\n",
       "    <tr>\n",
       "      <th>399</th>\n",
       "      <td>146.00</td>\n",
       "      <td>1</td>\n",
       "      <td>0</td>\n",
       "      <td>0</td>\n",
       "      <td>0</td>\n",
       "    </tr>\n",
       "    <tr>\n",
       "      <th>...</th>\n",
       "      <td>...</td>\n",
       "      <td>...</td>\n",
       "      <td>...</td>\n",
       "      <td>...</td>\n",
       "      <td>...</td>\n",
       "    </tr>\n",
       "    <tr>\n",
       "      <th>1880</th>\n",
       "      <td>161.00</td>\n",
       "      <td>0</td>\n",
       "      <td>1</td>\n",
       "      <td>0</td>\n",
       "      <td>0</td>\n",
       "    </tr>\n",
       "    <tr>\n",
       "      <th>1487</th>\n",
       "      <td>130.60</td>\n",
       "      <td>0</td>\n",
       "      <td>0</td>\n",
       "      <td>1</td>\n",
       "      <td>0</td>\n",
       "    </tr>\n",
       "    <tr>\n",
       "      <th>564</th>\n",
       "      <td>150.00</td>\n",
       "      <td>1</td>\n",
       "      <td>0</td>\n",
       "      <td>0</td>\n",
       "      <td>0</td>\n",
       "    </tr>\n",
       "    <tr>\n",
       "      <th>294</th>\n",
       "      <td>148.42</td>\n",
       "      <td>0</td>\n",
       "      <td>1</td>\n",
       "      <td>0</td>\n",
       "      <td>0</td>\n",
       "    </tr>\n",
       "    <tr>\n",
       "      <th>1658</th>\n",
       "      <td>157.70</td>\n",
       "      <td>0</td>\n",
       "      <td>0</td>\n",
       "      <td>0</td>\n",
       "      <td>1</td>\n",
       "    </tr>\n",
       "  </tbody>\n",
       "</table>\n",
       "<p>828 rows × 5 columns</p>\n",
       "</div>"
      ],
      "text/plain": [
       "      800 Meters  Grade Level_9th Grade  Grade Level_10th Grade  \\\n",
       "568       137.30                      0                       1   \n",
       "1180      122.30                      0                       1   \n",
       "1119      128.13                      0                       0   \n",
       "1820      156.00                      0                       0   \n",
       "399       146.00                      1                       0   \n",
       "...          ...                    ...                     ...   \n",
       "1880      161.00                      0                       1   \n",
       "1487      130.60                      0                       0   \n",
       "564       150.00                      1                       0   \n",
       "294       148.42                      0                       1   \n",
       "1658      157.70                      0                       0   \n",
       "\n",
       "      Grade Level_11th Grade  Grade Level_12th Grade  \n",
       "568                        0                       0  \n",
       "1180                       0                       0  \n",
       "1119                       0                       1  \n",
       "1820                       0                       1  \n",
       "399                        0                       0  \n",
       "...                      ...                     ...  \n",
       "1880                       0                       0  \n",
       "1487                       1                       0  \n",
       "564                        0                       0  \n",
       "294                        0                       0  \n",
       "1658                       0                       1  \n",
       "\n",
       "[828 rows x 5 columns]"
      ]
     },
     "execution_count": 6,
     "metadata": {},
     "output_type": "execute_result"
    }
   ],
   "source": [
    "#regression models require numeric data, this means that we have to convert variables from a categorical feature to a binary one.\n",
    "#grade level is converted to 0s and 1s\n",
    "# get dummies turned all non-numeric to numeric.\n",
    "dummy_800_train = pd.get_dummies(features_800_train)\n",
    "\n",
    "#after converting the grade level column, we reindex the df\n",
    "dummy_800_train = dummy_800_train.reindex(columns=dummy_800_train.columns, fill_value=0)\n",
    "features_800_train = dummy_800_train[['800 Meters', 'Grade Level_9th Grade', 'Grade Level_10th Grade', 'Grade Level_11th Grade', 'Grade Level_12th Grade']]\n",
    "features_800_train\n",
    "\n",
    "#the same steps are repeated for the test df\n",
    "dummy_800_test = pd.get_dummies(features_800_test)\n",
    "\n",
    "dummy_800_test = dummy_800_test.reindex(columns=dummy_800_test.columns, fill_value=0)\n",
    "features_800_test = dummy_800_test[['800 Meters', 'Grade Level_9th Grade', 'Grade Level_10th Grade', 'Grade Level_11th Grade', 'Grade Level_12th Grade']]\n",
    "features_800_test"
   ]
  },
  {
   "cell_type": "code",
   "execution_count": 7,
   "metadata": {
    "colab": {
     "base_uri": "https://localhost:8080/"
    },
    "id": "Fw9sKLeqD7Xu",
    "outputId": "3410a1f7-3ed6-4539-ad2b-8b5d2dfdf500"
   },
   "outputs": [
    {
     "data": {
      "text/plain": [
       "255.7447222222222"
      ]
     },
     "execution_count": 7,
     "metadata": {},
     "output_type": "execute_result"
    }
   ],
   "source": [
    "#here I am selecting the runners with times between 59 and 60 seconds in the 800m\n",
    "#next I am finding those same runners in the labeled data (1500m times)\n",
    "#I do this as a simple measure so that I can compare the single test predicitions below, and get \n",
    "# a sense of which model is predicting closes to what we expect a runner to run. \n",
    "\n",
    "times = features_800_train[(features_800_train['800 Meters'] > 119) & (features_800_train['800 Meters'] < 120)]\n",
    "label_train[times.index].mean()"
   ]
  },
  {
   "cell_type": "code",
   "execution_count": 8,
   "metadata": {
    "id": "O8Noeut1EAau"
   },
   "outputs": [],
   "source": [
    "# I used a small definition from Intro to machine learning to display the scores from the cross val.\n",
    "#this code will be used later to display the scores from cross val cv\n",
    "def display_scores(scores):\n",
    "  print('Scores:', scores)\n",
    "  print('Mean:', scores.mean()),\n",
    "  print('Standard Deviation:', scores.std())\n"
   ]
  },
  {
   "cell_type": "markdown",
   "metadata": {
    "id": "ibNcfIZ2Es9z"
   },
   "source": [
    "Here we have the data processed and formatted to run multiple ML models.\n",
    "These will be LinearRegression, Decision Tree Regression, and Forest Regression.\n",
    "\n",
    "Our main measure of the data is the RMSE. This function compares the values of the labels to the predictions. We compare this value for all the training data and choose a model that works best before we use the test data."
   ]
  },
  {
   "cell_type": "code",
   "execution_count": 9,
   "metadata": {
    "colab": {
     "base_uri": "https://localhost:8080/",
     "height": 74
    },
    "id": "ddN2JtflEBOI",
    "outputId": "9cea1748-3f64-48f1-cf59-706db152aebe"
   },
   "outputs": [
    {
     "data": {
      "text/plain": [
       "RandomForestRegressor()"
      ]
     },
     "execution_count": 9,
     "metadata": {},
     "output_type": "execute_result"
    }
   ],
   "source": [
    "#after preparing the data we are ready to create the linear regression instance\n",
    "# and train the model with out data\n",
    "\n",
    "linreg = LinearRegression()\n",
    "linreg.fit(features_800_train, label_train)\n",
    "\n",
    "#here we are importing another regression model to test the difference,\n",
    "# and checking is a more powerful model will produce better results.\n",
    "#we fit this model and predict on our training data as we did before.\n",
    "\n",
    "tree_reg = DecisionTreeRegressor()\n",
    "tree_reg.fit(features_800_train, label_train)\n",
    "\n",
    "#the most powerful model used in this project\n",
    "forest_reg = RandomForestRegressor()\n",
    "forest_reg.fit(features_800_train, label_train)\n",
    "\n",
    "#we import the one more regression model which will be the most powerful\n",
    "#the steps will be the same as before\n",
    "\n",
    "forest_reg = RandomForestRegressor()\n",
    "forest_reg.fit(features_800_train, label_train)"
   ]
  },
  {
   "cell_type": "markdown",
   "metadata": {
    "id": "YQdCmdAME0ad"
   },
   "source": [
    "After creating an instance for each regression model, we fit each of them on the training data. \n",
    "\n",
    "After each fit we predict on training data and compare the training labels to analyze the accuracy.\n"
   ]
  },
  {
   "cell_type": "code",
   "execution_count": 10,
   "metadata": {
    "colab": {
     "base_uri": "https://localhost:8080/"
    },
    "id": "qLCLggI4ExkW",
    "outputId": "39e838e3-a3ec-42c8-9021-728a80c72974"
   },
   "outputs": [
    {
     "name": "stdout",
     "output_type": "stream",
     "text": [
      "linreg RMSE:  14.54682161150026\n"
     ]
    }
   ],
   "source": [
    "#after training we check out model by predicting using out training data\n",
    "#we compare out predictions on training data vs. the labels and study the difference\n",
    "# RMSE is the Root Mean Square Error, which measures the difference between predicted values and the labels. \n",
    "# this measure is common and works well with regression models.\n",
    "\n",
    "train_pred = linreg.predict(features_800_train)\n",
    "lin_mse = mean_squared_error(label_train, train_pred)\n",
    "lin_rmse = np.sqrt(lin_mse)\n",
    "print('linreg RMSE: ', lin_rmse)"
   ]
  },
  {
   "cell_type": "code",
   "execution_count": 11,
   "metadata": {
    "colab": {
     "base_uri": "https://localhost:8080/"
    },
    "id": "T6PZIwOvE4Ba",
    "outputId": "994773d7-f6f8-4482-a889-9e7db846fdc4"
   },
   "outputs": [
    {
     "name": "stdout",
     "output_type": "stream",
     "text": [
      "decision tree RMSE:  7.786857701352396\n"
     ]
    }
   ],
   "source": [
    "#predicting with the Decision Tree Regression \n",
    "tree_pred = tree_reg.predict(features_800_train)\n",
    "tree_mse = mean_squared_error(label_train, tree_pred)\n",
    "tree_rmse = np.sqrt(tree_mse)\n",
    "print('decision tree RMSE: ', tree_rmse)"
   ]
  },
  {
   "cell_type": "code",
   "execution_count": 12,
   "metadata": {
    "colab": {
     "base_uri": "https://localhost:8080/"
    },
    "id": "Z0e2ijTyE6fe",
    "outputId": "9ddd2c1c-f786-458f-93ac-6b4aa63f88b6"
   },
   "outputs": [
    {
     "name": "stdout",
     "output_type": "stream",
     "text": [
      "forest RMSE: 9.126253965264246\n"
     ]
    }
   ],
   "source": [
    "#prediction with Forest Regression\n",
    "forest_pred = forest_reg.predict(features_800_train)\n",
    "forest_mse = mean_squared_error(label_train, forest_pred)\n",
    "forest_rmse = np.sqrt(forest_mse)\n",
    "\n",
    "print('forest RMSE:',  forest_rmse)"
   ]
  },
  {
   "cell_type": "code",
   "execution_count": 13,
   "metadata": {
    "colab": {
     "base_uri": "https://localhost:8080/"
    },
    "id": "cqksaA5fE_g1",
    "outputId": "e1b17dc3-4c88-411a-e981-2c5b210774b0"
   },
   "outputs": [
    {
     "name": "stderr",
     "output_type": "stream",
     "text": [
      "C:\\Users\\5luca\\anaconda3\\lib\\site-packages\\sklearn\\base.py:450: UserWarning: X does not have valid feature names, but LinearRegression was fitted with feature names\n",
      "  warnings.warn(\n"
     ]
    },
    {
     "data": {
      "text/plain": [
       "array([255.68008304])"
      ]
     },
     "execution_count": 13,
     "metadata": {},
     "output_type": "execute_result"
    }
   ],
   "source": [
    "#here is a small test using a runner with a 60 second 800m.\n",
    "# the number 1 represents a grade level.\n",
    "#using this we can run a simple test to see how acurate a single prediction is.\n",
    "#the array corresponds to 800m time, 9th grade, 10th grade, 11th grade, and 12th grade (in this order).\n",
    "\n",
    "test_arr = np.array([120,0,0,0,1])\n",
    "test_arr = test_arr.reshape(1,-1)\n",
    "\n",
    "#predicting a single result with linreg\n",
    "test_pred_lin = linreg.predict(test_arr)\n",
    "test_pred_lin"
   ]
  },
  {
   "cell_type": "code",
   "execution_count": 14,
   "metadata": {
    "colab": {
     "base_uri": "https://localhost:8080/"
    },
    "id": "LLCK49xFFB2g",
    "outputId": "64abd05a-c23b-4d81-9434-33f1a86451c6"
   },
   "outputs": [
    {
     "name": "stderr",
     "output_type": "stream",
     "text": [
      "C:\\Users\\5luca\\anaconda3\\lib\\site-packages\\sklearn\\base.py:450: UserWarning: X does not have valid feature names, but DecisionTreeRegressor was fitted with feature names\n",
      "  warnings.warn(\n"
     ]
    },
    {
     "data": {
      "text/plain": [
       "array([251.31])"
      ]
     },
     "execution_count": 14,
     "metadata": {},
     "output_type": "execute_result"
    }
   ],
   "source": [
    "#here we run the same test as before, with a single sample, and compare how the decision tree predicts.\n",
    "#although the decision tree has a lower RMSE than linreg, the prediction is futher off what we would expect.\n",
    "# this shows that the decision tree likely is overfitting the data\n",
    "\n",
    "#predicting a single result with Decison tree\n",
    "test_pred_tree = tree_reg.predict(test_arr)\n",
    "test_pred_tree"
   ]
  },
  {
   "cell_type": "code",
   "execution_count": 15,
   "metadata": {
    "colab": {
     "base_uri": "https://localhost:8080/"
    },
    "id": "JDUvMFItFEvY",
    "outputId": "f3eeb7a6-c648-4361-d52d-54fb0c3cb3f7"
   },
   "outputs": [
    {
     "name": "stderr",
     "output_type": "stream",
     "text": [
      "C:\\Users\\5luca\\anaconda3\\lib\\site-packages\\sklearn\\base.py:450: UserWarning: X does not have valid feature names, but RandomForestRegressor was fitted with feature names\n",
      "  warnings.warn(\n"
     ]
    },
    {
     "data": {
      "text/plain": [
       "array([254.6653])"
      ]
     },
     "execution_count": 15,
     "metadata": {},
     "output_type": "execute_result"
    }
   ],
   "source": [
    "# predicting a single result with forest regression \n",
    "test_pred_forest = forest_reg.predict(test_arr)\n",
    "test_pred_forest"
   ]
  },
  {
   "cell_type": "code",
   "execution_count": 16,
   "metadata": {
    "colab": {
     "base_uri": "https://localhost:8080/"
    },
    "id": "X8Ugiij6FIpo",
    "outputId": "94947a4e-76c2-40f9-9ff3-0040648787b6"
   },
   "outputs": [
    {
     "name": "stdout",
     "output_type": "stream",
     "text": [
      "Scores: [12.92322322 12.8017793  12.30115494 14.35071304 21.87252578 15.1711855\n",
      " 12.62522304 13.17126945 13.63156169 14.68578445]\n",
      "Mean: 14.353442040808577\n",
      "Standard Deviation: 2.6624468673682355\n"
     ]
    }
   ],
   "source": [
    "# the same cross val is run using linear regression\n",
    "\n",
    "lin_scores = cross_val_score(linreg, features_800_train, label_train, \n",
    "                         scoring='neg_mean_squared_error', cv=10)\n",
    "\n",
    "#compared to the original linreg, the mean here is marginally better, but it is still insightful to check \n",
    "#the original values and compare.\n",
    "\n",
    "lin_rmse_scores = np.sqrt(-lin_scores)\n",
    "display_scores(lin_rmse_scores)"
   ]
  },
  {
   "cell_type": "code",
   "execution_count": 17,
   "metadata": {
    "colab": {
     "base_uri": "https://localhost:8080/"
    },
    "id": "JzcIiketFJWj",
    "outputId": "f6562d5d-0478-477f-9d3c-310218e01507"
   },
   "outputs": [
    {
     "name": "stdout",
     "output_type": "stream",
     "text": [
      "Scores: [19.20613756 18.47652506 16.85349257 21.47565491 26.76202547 20.47335056\n",
      " 16.04833702 18.02050285 17.81468564 19.10848664]\n",
      "Mean: 19.423919828302566\n",
      "Standard Deviation: 2.8768745124217756\n"
     ]
    }
   ],
   "source": [
    "#here I import cross_val_score which will allow me to test the decision tree \n",
    "#and improve how it fits by taking small chunks of the data and training on each chunk\n",
    "# this results in a better fitting.\n",
    "\n",
    "tree_scores = cross_val_score(tree_reg, features_800_train, label_train, \n",
    "                         scoring='neg_mean_squared_error', cv=10)\n",
    "\n",
    "# displaying the scors shows a larger mean\n",
    "#this is expected because before, the data was being overfit\n",
    "tree_rmse_scores = np.sqrt(-tree_scores)\n",
    "display_scores(tree_rmse_scores)"
   ]
  },
  {
   "cell_type": "code",
   "execution_count": 18,
   "metadata": {
    "colab": {
     "base_uri": "https://localhost:8080/"
    },
    "id": "7s7opHO6FLJj",
    "outputId": "ff28c4c7-c834-4d3d-eec2-547f75ee3c77"
   },
   "outputs": [
    {
     "name": "stdout",
     "output_type": "stream",
     "text": [
      "Scores: [15.57834802 16.56018062 13.56016794 18.20237114 23.93699855 17.24383253\n",
      " 13.72901173 15.1609527  15.24928928 16.1757079 ]\n",
      "Mean: 16.539686043985057\n",
      "Standard Deviation: 2.8174650815274296\n"
     ]
    }
   ],
   "source": [
    "#just as with the decision tree, randome forest was likely overfitting the training data\n",
    "# when using crossval we see that the mean is a amost twice as bad\n",
    "# still, this model produces the best results\n",
    "#this is also expected because this model is more powerful \n",
    "\n",
    "forest_scores = cross_val_score(forest_reg, features_800_train, label_train, \n",
    "                         scoring='neg_mean_squared_error', cv=10)\n",
    "\n",
    "forest_rmse_scores = np.sqrt(-forest_scores)\n",
    "display_scores(forest_rmse_scores)"
   ]
  },
  {
   "cell_type": "code",
   "execution_count": 19,
   "metadata": {
    "colab": {
     "base_uri": "https://localhost:8080/"
    },
    "id": "9b-IdoKqFLSC",
    "outputId": "33cd5d5f-01e2-4c22-f08a-bb5903777e6c"
   },
   "outputs": [
    {
     "name": "stdout",
     "output_type": "stream",
     "text": [
      "{'max_features': 4, 'n_estimators': 30}\n",
      "RandomForestRegressor(max_features=4, n_estimators=30)\n"
     ]
    },
    {
     "name": "stderr",
     "output_type": "stream",
     "text": [
      "C:\\Users\\5luca\\anaconda3\\lib\\site-packages\\sklearn\\model_selection\\_validation.py:372: FitFailedWarning: \n",
      "30 fits failed out of a total of 90.\n",
      "The score on these train-test partitions for these parameters will be set to nan.\n",
      "If these failures are not expected, you can try to debug them by setting error_score='raise'.\n",
      "\n",
      "Below are more details about the failures:\n",
      "--------------------------------------------------------------------------------\n",
      "30 fits failed with the following error:\n",
      "Traceback (most recent call last):\n",
      "  File \"C:\\Users\\5luca\\anaconda3\\lib\\site-packages\\sklearn\\model_selection\\_validation.py\", line 680, in _fit_and_score\n",
      "    estimator.fit(X_train, y_train, **fit_params)\n",
      "  File \"C:\\Users\\5luca\\anaconda3\\lib\\site-packages\\sklearn\\ensemble\\_forest.py\", line 450, in fit\n",
      "    trees = Parallel(\n",
      "  File \"C:\\Users\\5luca\\anaconda3\\lib\\site-packages\\joblib\\parallel.py\", line 1043, in __call__\n",
      "    if self.dispatch_one_batch(iterator):\n",
      "  File \"C:\\Users\\5luca\\anaconda3\\lib\\site-packages\\joblib\\parallel.py\", line 861, in dispatch_one_batch\n",
      "    self._dispatch(tasks)\n",
      "  File \"C:\\Users\\5luca\\anaconda3\\lib\\site-packages\\joblib\\parallel.py\", line 779, in _dispatch\n",
      "    job = self._backend.apply_async(batch, callback=cb)\n",
      "  File \"C:\\Users\\5luca\\anaconda3\\lib\\site-packages\\joblib\\_parallel_backends.py\", line 208, in apply_async\n",
      "    result = ImmediateResult(func)\n",
      "  File \"C:\\Users\\5luca\\anaconda3\\lib\\site-packages\\joblib\\_parallel_backends.py\", line 572, in __init__\n",
      "    self.results = batch()\n",
      "  File \"C:\\Users\\5luca\\anaconda3\\lib\\site-packages\\joblib\\parallel.py\", line 262, in __call__\n",
      "    return [func(*args, **kwargs)\n",
      "  File \"C:\\Users\\5luca\\anaconda3\\lib\\site-packages\\joblib\\parallel.py\", line 262, in <listcomp>\n",
      "    return [func(*args, **kwargs)\n",
      "  File \"C:\\Users\\5luca\\anaconda3\\lib\\site-packages\\sklearn\\utils\\fixes.py\", line 216, in __call__\n",
      "    return self.function(*args, **kwargs)\n",
      "  File \"C:\\Users\\5luca\\anaconda3\\lib\\site-packages\\sklearn\\ensemble\\_forest.py\", line 185, in _parallel_build_trees\n",
      "    tree.fit(X, y, sample_weight=curr_sample_weight, check_input=False)\n",
      "  File \"C:\\Users\\5luca\\anaconda3\\lib\\site-packages\\sklearn\\tree\\_classes.py\", line 1315, in fit\n",
      "    super().fit(\n",
      "  File \"C:\\Users\\5luca\\anaconda3\\lib\\site-packages\\sklearn\\tree\\_classes.py\", line 308, in fit\n",
      "    raise ValueError(\"max_features must be in (0, n_features]\")\n",
      "ValueError: max_features must be in (0, n_features]\n",
      "\n",
      "  warnings.warn(some_fits_failed_message, FitFailedWarning)\n",
      "C:\\Users\\5luca\\anaconda3\\lib\\site-packages\\sklearn\\model_selection\\_search.py:969: UserWarning: One or more of the test scores are non-finite: [-328.04292402 -298.60399636 -293.55645735 -315.73546122 -294.44928419\n",
      " -284.03740079           nan           nan           nan           nan\n",
      "           nan           nan -366.01512773 -369.13064132 -366.0373985\n",
      " -363.81880609 -360.4939639  -353.63979599]\n",
      "  warnings.warn(\n",
      "C:\\Users\\5luca\\anaconda3\\lib\\site-packages\\sklearn\\model_selection\\_search.py:969: UserWarning: One or more of the train scores are non-finite: [-117.02329508  -90.45793458  -82.87790231 -111.42881543  -88.15432072\n",
      "  -80.70011819           nan           nan           nan           nan\n",
      "           nan           nan  -53.61068338  -53.61068338  -53.61068338\n",
      "  -53.61068338  -53.61068338  -53.61171455]\n",
      "  warnings.warn(\n"
     ]
    }
   ],
   "source": [
    "#after going through the models, we import one last package, GridSearchCV\n",
    "#this sorts through many parameters and returns the best one.\n",
    "\n",
    "param_grid = [\n",
    "    {'n_estimators': [3,10,30], 'max_features': [2,4,6,8]},\n",
    "    {'bootstrap': [False], 'n_estimators': [3,10], 'max_features': [2,3,4]}\n",
    "]\n",
    "grid_search = GridSearchCV(forest_reg, param_grid, cv=5,\n",
    "                           scoring='neg_mean_squared_error',\n",
    "                           return_train_score=True)\n",
    "\n",
    "#here the grid search model is used to fit the training data\n",
    "#next we print out the best params and best estimators\n",
    "grid_search.fit(features_800_train, label_train)\n",
    "print(grid_search.best_params_)\n",
    "print(grid_search.best_estimator_)"
   ]
  },
  {
   "cell_type": "code",
   "execution_count": 20,
   "metadata": {
    "colab": {
     "base_uri": "https://localhost:8080/"
    },
    "id": "_9klDlR2FR2p",
    "outputId": "7452e77a-0a46-45ba-9934-a13a18070d03"
   },
   "outputs": [
    {
     "name": "stdout",
     "output_type": "stream",
     "text": [
      "18.11195527871897 {'max_features': 2, 'n_estimators': 3}\n",
      "17.28016193106719 {'max_features': 2, 'n_estimators': 10}\n",
      "17.133489351222405 {'max_features': 2, 'n_estimators': 30}\n",
      "17.768946542242368 {'max_features': 4, 'n_estimators': 3}\n",
      "17.159524590969735 {'max_features': 4, 'n_estimators': 10}\n",
      "16.853409174241442 {'max_features': 4, 'n_estimators': 30}\n",
      "nan {'max_features': 6, 'n_estimators': 3}\n",
      "nan {'max_features': 6, 'n_estimators': 10}\n",
      "nan {'max_features': 6, 'n_estimators': 30}\n",
      "nan {'max_features': 8, 'n_estimators': 3}\n",
      "nan {'max_features': 8, 'n_estimators': 10}\n",
      "nan {'max_features': 8, 'n_estimators': 30}\n",
      "19.131521835094883 {'bootstrap': False, 'max_features': 2, 'n_estimators': 3}\n",
      "19.212772869204596 {'bootstrap': False, 'max_features': 2, 'n_estimators': 10}\n",
      "19.13210387012403 {'bootstrap': False, 'max_features': 3, 'n_estimators': 3}\n",
      "19.07403486649624 {'bootstrap': False, 'max_features': 3, 'n_estimators': 10}\n",
      "18.986678590604885 {'bootstrap': False, 'max_features': 4, 'n_estimators': 3}\n",
      "18.805312972427654 {'bootstrap': False, 'max_features': 4, 'n_estimators': 10}\n"
     ]
    }
   ],
   "source": [
    "#here the features and estimators are zip together with the scores\n",
    "#then they are printed out so we can see which returned the best and the range of values \n",
    "#that result from the changes in parameters\n",
    "\n",
    "cv_res = grid_search.cv_results_\n",
    "\n",
    "for mean_score, params in zip(cv_res['mean_test_score'], cv_res['params']):\n",
    "  print(np.sqrt(-mean_score), params)"
   ]
  },
  {
   "cell_type": "code",
   "execution_count": 21,
   "metadata": {
    "colab": {
     "base_uri": "https://localhost:8080/"
    },
    "id": "ae6Q0WcxFUHW",
    "outputId": "5abb45b0-c59a-4e62-b06a-331486959749"
   },
   "outputs": [
    {
     "name": "stdout",
     "output_type": "stream",
     "text": [
      "16.98522599605781\n"
     ]
    }
   ],
   "source": [
    "#lastly we isolate the best estimators from the model\n",
    "#we then predict the TEST data and compare to the test labels\n",
    "final_model = grid_search.best_estimator_\n",
    "final_pred = final_model.predict(features_800_test)\n",
    "\n",
    "final_mse = mean_squared_error(label_test, final_pred)\n",
    "final_rmse = np.sqrt(final_mse)\n",
    "print(final_rmse)"
   ]
  },
  {
   "cell_type": "code",
   "execution_count": 22,
   "metadata": {
    "colab": {
     "base_uri": "https://localhost:8080/"
    },
    "id": "fBBR4Kj1f1Iw",
    "outputId": "34ac8ecf-c2ce-45de-8d4b-3ca72fc524a0"
   },
   "outputs": [
    {
     "name": "stdout",
     "output_type": "stream",
     "text": [
      "The accuracy of our model is 66.0%\n"
     ]
    }
   ],
   "source": [
    "from sklearn.metrics import r2_score\n",
    "score = r2_score(label_test, final_pred)\n",
    "print(\"The accuracy of our model is {}%\".format(round(score, 2) *100))"
   ]
  },
  {
   "cell_type": "code",
   "execution_count": 26,
   "metadata": {
    "colab": {
     "base_uri": "https://localhost:8080/"
    },
    "id": "FcFj6KFhvkOY",
    "outputId": "97a306ae-9dea-4798-96e4-24c805780880"
   },
   "outputs": [
    {
     "name": "stdout",
     "output_type": "stream",
     "text": [
      "Fitting 5 folds for each of 162 candidates, totalling 810 fits\n",
      "[CV 1/5] END criterion=friedman_mse, max_depth=3, max_features=None, max_leaf_nodes=11, n_estimators=60;, score=-196.066 total time=   0.0s\n",
      "[CV 2/5] END criterion=friedman_mse, max_depth=3, max_features=None, max_leaf_nodes=11, n_estimators=60;, score=-188.474 total time=   0.0s\n",
      "[CV 3/5] END criterion=friedman_mse, max_depth=3, max_features=None, max_leaf_nodes=11, n_estimators=60;, score=-368.418 total time=   0.0s\n",
      "[CV 4/5] END criterion=friedman_mse, max_depth=3, max_features=None, max_leaf_nodes=11, n_estimators=60;, score=-174.542 total time=   0.0s\n",
      "[CV 5/5] END criterion=friedman_mse, max_depth=3, max_features=None, max_leaf_nodes=11, n_estimators=60;, score=-209.564 total time=   0.0s\n",
      "[CV 1/5] END criterion=friedman_mse, max_depth=3, max_features=None, max_leaf_nodes=11, n_estimators=80;, score=-195.744 total time=   0.0s\n",
      "[CV 2/5] END criterion=friedman_mse, max_depth=3, max_features=None, max_leaf_nodes=11, n_estimators=80;, score=-187.959 total time=   0.0s\n",
      "[CV 3/5] END criterion=friedman_mse, max_depth=3, max_features=None, max_leaf_nodes=11, n_estimators=80;, score=-368.343 total time=   0.0s\n",
      "[CV 4/5] END criterion=friedman_mse, max_depth=3, max_features=None, max_leaf_nodes=11, n_estimators=80;, score=-174.044 total time=   0.0s\n",
      "[CV 5/5] END criterion=friedman_mse, max_depth=3, max_features=None, max_leaf_nodes=11, n_estimators=80;, score=-208.807 total time=   0.0s\n",
      "[CV 1/5] END criterion=friedman_mse, max_depth=3, max_features=None, max_leaf_nodes=11, n_estimators=100;, score=-195.913 total time=   0.0s\n",
      "[CV 2/5] END criterion=friedman_mse, max_depth=3, max_features=None, max_leaf_nodes=11, n_estimators=100;, score=-187.616 total time=   0.0s\n",
      "[CV 3/5] END criterion=friedman_mse, max_depth=3, max_features=None, max_leaf_nodes=11, n_estimators=100;, score=-368.350 total time=   0.0s\n",
      "[CV 4/5] END criterion=friedman_mse, max_depth=3, max_features=None, max_leaf_nodes=11, n_estimators=100;, score=-174.205 total time=   0.0s\n",
      "[CV 5/5] END criterion=friedman_mse, max_depth=3, max_features=None, max_leaf_nodes=11, n_estimators=100;, score=-209.178 total time=   0.0s\n",
      "[CV 1/5] END criterion=friedman_mse, max_depth=3, max_features=None, max_leaf_nodes=16, n_estimators=60;, score=-196.066 total time=   0.0s\n",
      "[CV 2/5] END criterion=friedman_mse, max_depth=3, max_features=None, max_leaf_nodes=16, n_estimators=60;, score=-188.474 total time=   0.0s\n",
      "[CV 3/5] END criterion=friedman_mse, max_depth=3, max_features=None, max_leaf_nodes=16, n_estimators=60;, score=-368.418 total time=   0.0s\n",
      "[CV 4/5] END criterion=friedman_mse, max_depth=3, max_features=None, max_leaf_nodes=16, n_estimators=60;, score=-174.542 total time=   0.0s\n",
      "[CV 5/5] END criterion=friedman_mse, max_depth=3, max_features=None, max_leaf_nodes=16, n_estimators=60;, score=-209.564 total time=   0.0s\n",
      "[CV 1/5] END criterion=friedman_mse, max_depth=3, max_features=None, max_leaf_nodes=16, n_estimators=80;, score=-195.744 total time=   0.0s\n",
      "[CV 2/5] END criterion=friedman_mse, max_depth=3, max_features=None, max_leaf_nodes=16, n_estimators=80;, score=-187.959 total time=   0.0s\n",
      "[CV 3/5] END criterion=friedman_mse, max_depth=3, max_features=None, max_leaf_nodes=16, n_estimators=80;, score=-368.343 total time=   0.0s\n",
      "[CV 4/5] END criterion=friedman_mse, max_depth=3, max_features=None, max_leaf_nodes=16, n_estimators=80;, score=-174.044 total time=   0.0s\n",
      "[CV 5/5] END criterion=friedman_mse, max_depth=3, max_features=None, max_leaf_nodes=16, n_estimators=80;, score=-208.807 total time=   0.0s\n",
      "[CV 1/5] END criterion=friedman_mse, max_depth=3, max_features=None, max_leaf_nodes=16, n_estimators=100;, score=-195.913 total time=   0.0s\n",
      "[CV 2/5] END criterion=friedman_mse, max_depth=3, max_features=None, max_leaf_nodes=16, n_estimators=100;, score=-187.616 total time=   0.0s\n",
      "[CV 3/5] END criterion=friedman_mse, max_depth=3, max_features=None, max_leaf_nodes=16, n_estimators=100;, score=-368.350 total time=   0.0s\n",
      "[CV 4/5] END criterion=friedman_mse, max_depth=3, max_features=None, max_leaf_nodes=16, n_estimators=100;, score=-174.205 total time=   0.0s\n",
      "[CV 5/5] END criterion=friedman_mse, max_depth=3, max_features=None, max_leaf_nodes=16, n_estimators=100;, score=-209.178 total time=   0.0s\n",
      "[CV 1/5] END criterion=friedman_mse, max_depth=3, max_features=None, max_leaf_nodes=20, n_estimators=60;, score=-196.066 total time=   0.0s\n",
      "[CV 2/5] END criterion=friedman_mse, max_depth=3, max_features=None, max_leaf_nodes=20, n_estimators=60;, score=-188.474 total time=   0.0s\n",
      "[CV 3/5] END criterion=friedman_mse, max_depth=3, max_features=None, max_leaf_nodes=20, n_estimators=60;, score=-368.418 total time=   0.0s\n",
      "[CV 4/5] END criterion=friedman_mse, max_depth=3, max_features=None, max_leaf_nodes=20, n_estimators=60;, score=-174.542 total time=   0.0s\n",
      "[CV 5/5] END criterion=friedman_mse, max_depth=3, max_features=None, max_leaf_nodes=20, n_estimators=60;, score=-209.564 total time=   0.0s\n",
      "[CV 1/5] END criterion=friedman_mse, max_depth=3, max_features=None, max_leaf_nodes=20, n_estimators=80;, score=-195.744 total time=   0.0s\n",
      "[CV 2/5] END criterion=friedman_mse, max_depth=3, max_features=None, max_leaf_nodes=20, n_estimators=80;, score=-187.959 total time=   0.0s\n",
      "[CV 3/5] END criterion=friedman_mse, max_depth=3, max_features=None, max_leaf_nodes=20, n_estimators=80;, score=-368.343 total time=   0.0s\n",
      "[CV 4/5] END criterion=friedman_mse, max_depth=3, max_features=None, max_leaf_nodes=20, n_estimators=80;, score=-174.044 total time=   0.0s\n",
      "[CV 5/5] END criterion=friedman_mse, max_depth=3, max_features=None, max_leaf_nodes=20, n_estimators=80;, score=-208.807 total time=   0.0s\n",
      "[CV 1/5] END criterion=friedman_mse, max_depth=3, max_features=None, max_leaf_nodes=20, n_estimators=100;, score=-195.913 total time=   0.0s\n",
      "[CV 2/5] END criterion=friedman_mse, max_depth=3, max_features=None, max_leaf_nodes=20, n_estimators=100;, score=-187.616 total time=   0.0s\n",
      "[CV 3/5] END criterion=friedman_mse, max_depth=3, max_features=None, max_leaf_nodes=20, n_estimators=100;, score=-368.350 total time=   0.0s\n",
      "[CV 4/5] END criterion=friedman_mse, max_depth=3, max_features=None, max_leaf_nodes=20, n_estimators=100;, score=-174.205 total time=   0.0s\n",
      "[CV 5/5] END criterion=friedman_mse, max_depth=3, max_features=None, max_leaf_nodes=20, n_estimators=100;, score=-209.178 total time=   0.0s\n",
      "[CV 1/5] END criterion=friedman_mse, max_depth=3, max_features=sqrt, max_leaf_nodes=11, n_estimators=60;, score=-262.443 total time=   0.0s\n",
      "[CV 2/5] END criterion=friedman_mse, max_depth=3, max_features=sqrt, max_leaf_nodes=11, n_estimators=60;, score=-231.659 total time=   0.0s\n",
      "[CV 3/5] END criterion=friedman_mse, max_depth=3, max_features=sqrt, max_leaf_nodes=11, n_estimators=60;, score=-402.427 total time=   0.0s\n",
      "[CV 4/5] END criterion=friedman_mse, max_depth=3, max_features=sqrt, max_leaf_nodes=11, n_estimators=60;, score=-234.350 total time=   0.0s\n",
      "[CV 5/5] END criterion=friedman_mse, max_depth=3, max_features=sqrt, max_leaf_nodes=11, n_estimators=60;, score=-252.957 total time=   0.0s\n",
      "[CV 1/5] END criterion=friedman_mse, max_depth=3, max_features=sqrt, max_leaf_nodes=11, n_estimators=80;, score=-264.939 total time=   0.0s\n",
      "[CV 2/5] END criterion=friedman_mse, max_depth=3, max_features=sqrt, max_leaf_nodes=11, n_estimators=80;, score=-235.801 total time=   0.0s\n",
      "[CV 3/5] END criterion=friedman_mse, max_depth=3, max_features=sqrt, max_leaf_nodes=11, n_estimators=80;, score=-406.554 total time=   0.0s\n",
      "[CV 4/5] END criterion=friedman_mse, max_depth=3, max_features=sqrt, max_leaf_nodes=11, n_estimators=80;, score=-236.582 total time=   0.0s\n",
      "[CV 5/5] END criterion=friedman_mse, max_depth=3, max_features=sqrt, max_leaf_nodes=11, n_estimators=80;, score=-256.413 total time=   0.0s\n",
      "[CV 1/5] END criterion=friedman_mse, max_depth=3, max_features=sqrt, max_leaf_nodes=11, n_estimators=100;, score=-266.118 total time=   0.0s\n",
      "[CV 2/5] END criterion=friedman_mse, max_depth=3, max_features=sqrt, max_leaf_nodes=11, n_estimators=100;, score=-236.928 total time=   0.0s\n",
      "[CV 3/5] END criterion=friedman_mse, max_depth=3, max_features=sqrt, max_leaf_nodes=11, n_estimators=100;, score=-408.151 total time=   0.0s\n",
      "[CV 4/5] END criterion=friedman_mse, max_depth=3, max_features=sqrt, max_leaf_nodes=11, n_estimators=100;, score=-237.036 total time=   0.0s\n"
     ]
    },
    {
     "name": "stdout",
     "output_type": "stream",
     "text": [
      "[CV 5/5] END criterion=friedman_mse, max_depth=3, max_features=sqrt, max_leaf_nodes=11, n_estimators=100;, score=-259.222 total time=   0.0s\n",
      "[CV 1/5] END criterion=friedman_mse, max_depth=3, max_features=sqrt, max_leaf_nodes=16, n_estimators=60;, score=-262.443 total time=   0.0s\n",
      "[CV 2/5] END criterion=friedman_mse, max_depth=3, max_features=sqrt, max_leaf_nodes=16, n_estimators=60;, score=-231.659 total time=   0.0s\n",
      "[CV 3/5] END criterion=friedman_mse, max_depth=3, max_features=sqrt, max_leaf_nodes=16, n_estimators=60;, score=-402.427 total time=   0.0s\n",
      "[CV 4/5] END criterion=friedman_mse, max_depth=3, max_features=sqrt, max_leaf_nodes=16, n_estimators=60;, score=-234.350 total time=   0.0s\n",
      "[CV 5/5] END criterion=friedman_mse, max_depth=3, max_features=sqrt, max_leaf_nodes=16, n_estimators=60;, score=-252.957 total time=   0.0s\n",
      "[CV 1/5] END criterion=friedman_mse, max_depth=3, max_features=sqrt, max_leaf_nodes=16, n_estimators=80;, score=-264.939 total time=   0.0s\n",
      "[CV 2/5] END criterion=friedman_mse, max_depth=3, max_features=sqrt, max_leaf_nodes=16, n_estimators=80;, score=-235.801 total time=   0.0s\n",
      "[CV 3/5] END criterion=friedman_mse, max_depth=3, max_features=sqrt, max_leaf_nodes=16, n_estimators=80;, score=-406.554 total time=   0.0s\n",
      "[CV 4/5] END criterion=friedman_mse, max_depth=3, max_features=sqrt, max_leaf_nodes=16, n_estimators=80;, score=-236.582 total time=   0.0s\n",
      "[CV 5/5] END criterion=friedman_mse, max_depth=3, max_features=sqrt, max_leaf_nodes=16, n_estimators=80;, score=-256.413 total time=   0.0s\n",
      "[CV 1/5] END criterion=friedman_mse, max_depth=3, max_features=sqrt, max_leaf_nodes=16, n_estimators=100;, score=-266.118 total time=   0.0s\n",
      "[CV 2/5] END criterion=friedman_mse, max_depth=3, max_features=sqrt, max_leaf_nodes=16, n_estimators=100;, score=-236.928 total time=   0.0s\n",
      "[CV 3/5] END criterion=friedman_mse, max_depth=3, max_features=sqrt, max_leaf_nodes=16, n_estimators=100;, score=-408.151 total time=   0.0s\n",
      "[CV 4/5] END criterion=friedman_mse, max_depth=3, max_features=sqrt, max_leaf_nodes=16, n_estimators=100;, score=-237.036 total time=   0.0s\n",
      "[CV 5/5] END criterion=friedman_mse, max_depth=3, max_features=sqrt, max_leaf_nodes=16, n_estimators=100;, score=-259.222 total time=   0.0s\n",
      "[CV 1/5] END criterion=friedman_mse, max_depth=3, max_features=sqrt, max_leaf_nodes=20, n_estimators=60;, score=-262.443 total time=   0.0s\n",
      "[CV 2/5] END criterion=friedman_mse, max_depth=3, max_features=sqrt, max_leaf_nodes=20, n_estimators=60;, score=-231.659 total time=   0.0s\n",
      "[CV 3/5] END criterion=friedman_mse, max_depth=3, max_features=sqrt, max_leaf_nodes=20, n_estimators=60;, score=-402.427 total time=   0.0s\n",
      "[CV 4/5] END criterion=friedman_mse, max_depth=3, max_features=sqrt, max_leaf_nodes=20, n_estimators=60;, score=-234.350 total time=   0.0s\n",
      "[CV 5/5] END criterion=friedman_mse, max_depth=3, max_features=sqrt, max_leaf_nodes=20, n_estimators=60;, score=-252.957 total time=   0.0s\n",
      "[CV 1/5] END criterion=friedman_mse, max_depth=3, max_features=sqrt, max_leaf_nodes=20, n_estimators=80;, score=-264.939 total time=   0.0s\n",
      "[CV 2/5] END criterion=friedman_mse, max_depth=3, max_features=sqrt, max_leaf_nodes=20, n_estimators=80;, score=-235.801 total time=   0.0s\n",
      "[CV 3/5] END criterion=friedman_mse, max_depth=3, max_features=sqrt, max_leaf_nodes=20, n_estimators=80;, score=-406.554 total time=   0.0s\n",
      "[CV 4/5] END criterion=friedman_mse, max_depth=3, max_features=sqrt, max_leaf_nodes=20, n_estimators=80;, score=-236.582 total time=   0.0s\n",
      "[CV 5/5] END criterion=friedman_mse, max_depth=3, max_features=sqrt, max_leaf_nodes=20, n_estimators=80;, score=-256.413 total time=   0.0s\n",
      "[CV 1/5] END criterion=friedman_mse, max_depth=3, max_features=sqrt, max_leaf_nodes=20, n_estimators=100;, score=-266.118 total time=   0.0s\n",
      "[CV 2/5] END criterion=friedman_mse, max_depth=3, max_features=sqrt, max_leaf_nodes=20, n_estimators=100;, score=-236.928 total time=   0.0s\n",
      "[CV 3/5] END criterion=friedman_mse, max_depth=3, max_features=sqrt, max_leaf_nodes=20, n_estimators=100;, score=-408.151 total time=   0.0s\n",
      "[CV 4/5] END criterion=friedman_mse, max_depth=3, max_features=sqrt, max_leaf_nodes=20, n_estimators=100;, score=-237.036 total time=   0.0s\n",
      "[CV 5/5] END criterion=friedman_mse, max_depth=3, max_features=sqrt, max_leaf_nodes=20, n_estimators=100;, score=-259.222 total time=   0.0s\n",
      "[CV 1/5] END criterion=friedman_mse, max_depth=3, max_features=log2, max_leaf_nodes=11, n_estimators=60;, score=-262.443 total time=   0.0s\n",
      "[CV 2/5] END criterion=friedman_mse, max_depth=3, max_features=log2, max_leaf_nodes=11, n_estimators=60;, score=-231.659 total time=   0.0s\n",
      "[CV 3/5] END criterion=friedman_mse, max_depth=3, max_features=log2, max_leaf_nodes=11, n_estimators=60;, score=-402.427 total time=   0.0s\n",
      "[CV 4/5] END criterion=friedman_mse, max_depth=3, max_features=log2, max_leaf_nodes=11, n_estimators=60;, score=-234.350 total time=   0.0s\n",
      "[CV 5/5] END criterion=friedman_mse, max_depth=3, max_features=log2, max_leaf_nodes=11, n_estimators=60;, score=-252.957 total time=   0.0s\n",
      "[CV 1/5] END criterion=friedman_mse, max_depth=3, max_features=log2, max_leaf_nodes=11, n_estimators=80;, score=-264.939 total time=   0.0s\n",
      "[CV 2/5] END criterion=friedman_mse, max_depth=3, max_features=log2, max_leaf_nodes=11, n_estimators=80;, score=-235.801 total time=   0.0s\n",
      "[CV 3/5] END criterion=friedman_mse, max_depth=3, max_features=log2, max_leaf_nodes=11, n_estimators=80;, score=-406.554 total time=   0.0s\n",
      "[CV 4/5] END criterion=friedman_mse, max_depth=3, max_features=log2, max_leaf_nodes=11, n_estimators=80;, score=-236.582 total time=   0.0s\n",
      "[CV 5/5] END criterion=friedman_mse, max_depth=3, max_features=log2, max_leaf_nodes=11, n_estimators=80;, score=-256.413 total time=   0.0s\n",
      "[CV 1/5] END criterion=friedman_mse, max_depth=3, max_features=log2, max_leaf_nodes=11, n_estimators=100;, score=-266.118 total time=   0.0s\n",
      "[CV 2/5] END criterion=friedman_mse, max_depth=3, max_features=log2, max_leaf_nodes=11, n_estimators=100;, score=-236.928 total time=   0.0s\n",
      "[CV 3/5] END criterion=friedman_mse, max_depth=3, max_features=log2, max_leaf_nodes=11, n_estimators=100;, score=-408.151 total time=   0.0s\n",
      "[CV 4/5] END criterion=friedman_mse, max_depth=3, max_features=log2, max_leaf_nodes=11, n_estimators=100;, score=-237.036 total time=   0.0s\n",
      "[CV 5/5] END criterion=friedman_mse, max_depth=3, max_features=log2, max_leaf_nodes=11, n_estimators=100;, score=-259.222 total time=   0.0s\n",
      "[CV 1/5] END criterion=friedman_mse, max_depth=3, max_features=log2, max_leaf_nodes=16, n_estimators=60;, score=-262.443 total time=   0.0s\n",
      "[CV 2/5] END criterion=friedman_mse, max_depth=3, max_features=log2, max_leaf_nodes=16, n_estimators=60;, score=-231.659 total time=   0.0s\n",
      "[CV 3/5] END criterion=friedman_mse, max_depth=3, max_features=log2, max_leaf_nodes=16, n_estimators=60;, score=-402.427 total time=   0.0s\n",
      "[CV 4/5] END criterion=friedman_mse, max_depth=3, max_features=log2, max_leaf_nodes=16, n_estimators=60;, score=-234.350 total time=   0.0s\n",
      "[CV 5/5] END criterion=friedman_mse, max_depth=3, max_features=log2, max_leaf_nodes=16, n_estimators=60;, score=-252.957 total time=   0.0s\n",
      "[CV 1/5] END criterion=friedman_mse, max_depth=3, max_features=log2, max_leaf_nodes=16, n_estimators=80;, score=-264.939 total time=   0.0s\n",
      "[CV 2/5] END criterion=friedman_mse, max_depth=3, max_features=log2, max_leaf_nodes=16, n_estimators=80;, score=-235.801 total time=   0.0s\n",
      "[CV 3/5] END criterion=friedman_mse, max_depth=3, max_features=log2, max_leaf_nodes=16, n_estimators=80;, score=-406.554 total time=   0.0s\n",
      "[CV 4/5] END criterion=friedman_mse, max_depth=3, max_features=log2, max_leaf_nodes=16, n_estimators=80;, score=-236.582 total time=   0.0s\n",
      "[CV 5/5] END criterion=friedman_mse, max_depth=3, max_features=log2, max_leaf_nodes=16, n_estimators=80;, score=-256.413 total time=   0.0s\n",
      "[CV 1/5] END criterion=friedman_mse, max_depth=3, max_features=log2, max_leaf_nodes=16, n_estimators=100;, score=-266.118 total time=   0.0s\n",
      "[CV 2/5] END criterion=friedman_mse, max_depth=3, max_features=log2, max_leaf_nodes=16, n_estimators=100;, score=-236.928 total time=   0.0s\n",
      "[CV 3/5] END criterion=friedman_mse, max_depth=3, max_features=log2, max_leaf_nodes=16, n_estimators=100;, score=-408.151 total time=   0.0s\n"
     ]
    },
    {
     "name": "stdout",
     "output_type": "stream",
     "text": [
      "[CV 4/5] END criterion=friedman_mse, max_depth=3, max_features=log2, max_leaf_nodes=16, n_estimators=100;, score=-237.036 total time=   0.0s\n",
      "[CV 5/5] END criterion=friedman_mse, max_depth=3, max_features=log2, max_leaf_nodes=16, n_estimators=100;, score=-259.222 total time=   0.0s\n",
      "[CV 1/5] END criterion=friedman_mse, max_depth=3, max_features=log2, max_leaf_nodes=20, n_estimators=60;, score=-262.443 total time=   0.0s\n",
      "[CV 2/5] END criterion=friedman_mse, max_depth=3, max_features=log2, max_leaf_nodes=20, n_estimators=60;, score=-231.659 total time=   0.0s\n",
      "[CV 3/5] END criterion=friedman_mse, max_depth=3, max_features=log2, max_leaf_nodes=20, n_estimators=60;, score=-402.427 total time=   0.0s\n",
      "[CV 4/5] END criterion=friedman_mse, max_depth=3, max_features=log2, max_leaf_nodes=20, n_estimators=60;, score=-234.350 total time=   0.0s\n",
      "[CV 5/5] END criterion=friedman_mse, max_depth=3, max_features=log2, max_leaf_nodes=20, n_estimators=60;, score=-252.957 total time=   0.0s\n",
      "[CV 1/5] END criterion=friedman_mse, max_depth=3, max_features=log2, max_leaf_nodes=20, n_estimators=80;, score=-264.939 total time=   0.0s\n",
      "[CV 2/5] END criterion=friedman_mse, max_depth=3, max_features=log2, max_leaf_nodes=20, n_estimators=80;, score=-235.801 total time=   0.0s\n",
      "[CV 3/5] END criterion=friedman_mse, max_depth=3, max_features=log2, max_leaf_nodes=20, n_estimators=80;, score=-406.554 total time=   0.0s\n",
      "[CV 4/5] END criterion=friedman_mse, max_depth=3, max_features=log2, max_leaf_nodes=20, n_estimators=80;, score=-236.582 total time=   0.0s\n",
      "[CV 5/5] END criterion=friedman_mse, max_depth=3, max_features=log2, max_leaf_nodes=20, n_estimators=80;, score=-256.413 total time=   0.0s\n",
      "[CV 1/5] END criterion=friedman_mse, max_depth=3, max_features=log2, max_leaf_nodes=20, n_estimators=100;, score=-266.118 total time=   0.0s\n",
      "[CV 2/5] END criterion=friedman_mse, max_depth=3, max_features=log2, max_leaf_nodes=20, n_estimators=100;, score=-236.928 total time=   0.0s\n",
      "[CV 3/5] END criterion=friedman_mse, max_depth=3, max_features=log2, max_leaf_nodes=20, n_estimators=100;, score=-408.151 total time=   0.0s\n",
      "[CV 4/5] END criterion=friedman_mse, max_depth=3, max_features=log2, max_leaf_nodes=20, n_estimators=100;, score=-237.036 total time=   0.0s\n",
      "[CV 5/5] END criterion=friedman_mse, max_depth=3, max_features=log2, max_leaf_nodes=20, n_estimators=100;, score=-259.222 total time=   0.0s\n",
      "[CV 1/5] END criterion=friedman_mse, max_depth=4, max_features=None, max_leaf_nodes=11, n_estimators=60;, score=-193.777 total time=   0.0s\n",
      "[CV 2/5] END criterion=friedman_mse, max_depth=4, max_features=None, max_leaf_nodes=11, n_estimators=60;, score=-190.141 total time=   0.0s\n",
      "[CV 3/5] END criterion=friedman_mse, max_depth=4, max_features=None, max_leaf_nodes=11, n_estimators=60;, score=-365.149 total time=   0.0s\n",
      "[CV 4/5] END criterion=friedman_mse, max_depth=4, max_features=None, max_leaf_nodes=11, n_estimators=60;, score=-174.110 total time=   0.0s\n",
      "[CV 5/5] END criterion=friedman_mse, max_depth=4, max_features=None, max_leaf_nodes=11, n_estimators=60;, score=-203.979 total time=   0.0s\n",
      "[CV 1/5] END criterion=friedman_mse, max_depth=4, max_features=None, max_leaf_nodes=11, n_estimators=80;, score=-192.882 total time=   0.0s\n",
      "[CV 2/5] END criterion=friedman_mse, max_depth=4, max_features=None, max_leaf_nodes=11, n_estimators=80;, score=-189.622 total time=   0.0s\n",
      "[CV 3/5] END criterion=friedman_mse, max_depth=4, max_features=None, max_leaf_nodes=11, n_estimators=80;, score=-364.591 total time=   0.0s\n",
      "[CV 4/5] END criterion=friedman_mse, max_depth=4, max_features=None, max_leaf_nodes=11, n_estimators=80;, score=-173.440 total time=   0.0s\n",
      "[CV 5/5] END criterion=friedman_mse, max_depth=4, max_features=None, max_leaf_nodes=11, n_estimators=80;, score=-203.302 total time=   0.0s\n",
      "[CV 1/5] END criterion=friedman_mse, max_depth=4, max_features=None, max_leaf_nodes=11, n_estimators=100;, score=-192.346 total time=   0.0s\n",
      "[CV 2/5] END criterion=friedman_mse, max_depth=4, max_features=None, max_leaf_nodes=11, n_estimators=100;, score=-188.969 total time=   0.0s\n",
      "[CV 3/5] END criterion=friedman_mse, max_depth=4, max_features=None, max_leaf_nodes=11, n_estimators=100;, score=-365.187 total time=   0.0s\n",
      "[CV 4/5] END criterion=friedman_mse, max_depth=4, max_features=None, max_leaf_nodes=11, n_estimators=100;, score=-173.512 total time=   0.0s\n",
      "[CV 5/5] END criterion=friedman_mse, max_depth=4, max_features=None, max_leaf_nodes=11, n_estimators=100;, score=-203.372 total time=   0.0s\n",
      "[CV 1/5] END criterion=friedman_mse, max_depth=4, max_features=None, max_leaf_nodes=16, n_estimators=60;, score=-193.925 total time=   0.0s\n",
      "[CV 2/5] END criterion=friedman_mse, max_depth=4, max_features=None, max_leaf_nodes=16, n_estimators=60;, score=-190.119 total time=   0.0s\n",
      "[CV 3/5] END criterion=friedman_mse, max_depth=4, max_features=None, max_leaf_nodes=16, n_estimators=60;, score=-364.450 total time=   0.0s\n",
      "[CV 4/5] END criterion=friedman_mse, max_depth=4, max_features=None, max_leaf_nodes=16, n_estimators=60;, score=-172.816 total time=   0.0s\n",
      "[CV 5/5] END criterion=friedman_mse, max_depth=4, max_features=None, max_leaf_nodes=16, n_estimators=60;, score=-203.744 total time=   0.0s\n",
      "[CV 1/5] END criterion=friedman_mse, max_depth=4, max_features=None, max_leaf_nodes=16, n_estimators=80;, score=-193.095 total time=   0.0s\n",
      "[CV 2/5] END criterion=friedman_mse, max_depth=4, max_features=None, max_leaf_nodes=16, n_estimators=80;, score=-189.314 total time=   0.0s\n",
      "[CV 3/5] END criterion=friedman_mse, max_depth=4, max_features=None, max_leaf_nodes=16, n_estimators=80;, score=-363.101 total time=   0.0s\n",
      "[CV 4/5] END criterion=friedman_mse, max_depth=4, max_features=None, max_leaf_nodes=16, n_estimators=80;, score=-172.159 total time=   0.0s\n",
      "[CV 5/5] END criterion=friedman_mse, max_depth=4, max_features=None, max_leaf_nodes=16, n_estimators=80;, score=-203.241 total time=   0.0s\n",
      "[CV 1/5] END criterion=friedman_mse, max_depth=4, max_features=None, max_leaf_nodes=16, n_estimators=100;, score=-192.720 total time=   0.0s\n",
      "[CV 2/5] END criterion=friedman_mse, max_depth=4, max_features=None, max_leaf_nodes=16, n_estimators=100;, score=-188.748 total time=   0.0s\n",
      "[CV 3/5] END criterion=friedman_mse, max_depth=4, max_features=None, max_leaf_nodes=16, n_estimators=100;, score=-363.557 total time=   0.0s\n",
      "[CV 4/5] END criterion=friedman_mse, max_depth=4, max_features=None, max_leaf_nodes=16, n_estimators=100;, score=-172.259 total time=   0.0s\n",
      "[CV 5/5] END criterion=friedman_mse, max_depth=4, max_features=None, max_leaf_nodes=16, n_estimators=100;, score=-203.537 total time=   0.0s\n",
      "[CV 1/5] END criterion=friedman_mse, max_depth=4, max_features=None, max_leaf_nodes=20, n_estimators=60;, score=-193.925 total time=   0.0s\n",
      "[CV 2/5] END criterion=friedman_mse, max_depth=4, max_features=None, max_leaf_nodes=20, n_estimators=60;, score=-190.119 total time=   0.0s\n",
      "[CV 3/5] END criterion=friedman_mse, max_depth=4, max_features=None, max_leaf_nodes=20, n_estimators=60;, score=-364.450 total time=   0.0s\n",
      "[CV 4/5] END criterion=friedman_mse, max_depth=4, max_features=None, max_leaf_nodes=20, n_estimators=60;, score=-172.816 total time=   0.0s\n",
      "[CV 5/5] END criterion=friedman_mse, max_depth=4, max_features=None, max_leaf_nodes=20, n_estimators=60;, score=-203.744 total time=   0.0s\n",
      "[CV 1/5] END criterion=friedman_mse, max_depth=4, max_features=None, max_leaf_nodes=20, n_estimators=80;, score=-193.095 total time=   0.0s\n",
      "[CV 2/5] END criterion=friedman_mse, max_depth=4, max_features=None, max_leaf_nodes=20, n_estimators=80;, score=-189.314 total time=   0.0s\n",
      "[CV 3/5] END criterion=friedman_mse, max_depth=4, max_features=None, max_leaf_nodes=20, n_estimators=80;, score=-363.101 total time=   0.0s\n",
      "[CV 4/5] END criterion=friedman_mse, max_depth=4, max_features=None, max_leaf_nodes=20, n_estimators=80;, score=-172.159 total time=   0.0s\n",
      "[CV 5/5] END criterion=friedman_mse, max_depth=4, max_features=None, max_leaf_nodes=20, n_estimators=80;, score=-203.241 total time=   0.0s\n",
      "[CV 1/5] END criterion=friedman_mse, max_depth=4, max_features=None, max_leaf_nodes=20, n_estimators=100;, score=-192.720 total time=   0.0s\n",
      "[CV 2/5] END criterion=friedman_mse, max_depth=4, max_features=None, max_leaf_nodes=20, n_estimators=100;, score=-188.748 total time=   0.0s\n",
      "[CV 3/5] END criterion=friedman_mse, max_depth=4, max_features=None, max_leaf_nodes=20, n_estimators=100;, score=-363.557 total time=   0.0s\n"
     ]
    },
    {
     "name": "stdout",
     "output_type": "stream",
     "text": [
      "[CV 4/5] END criterion=friedman_mse, max_depth=4, max_features=None, max_leaf_nodes=20, n_estimators=100;, score=-172.259 total time=   0.0s\n",
      "[CV 5/5] END criterion=friedman_mse, max_depth=4, max_features=None, max_leaf_nodes=20, n_estimators=100;, score=-203.537 total time=   0.0s\n",
      "[CV 1/5] END criterion=friedman_mse, max_depth=4, max_features=sqrt, max_leaf_nodes=11, n_estimators=60;, score=-238.159 total time=   0.0s\n",
      "[CV 2/5] END criterion=friedman_mse, max_depth=4, max_features=sqrt, max_leaf_nodes=11, n_estimators=60;, score=-207.032 total time=   0.0s\n",
      "[CV 3/5] END criterion=friedman_mse, max_depth=4, max_features=sqrt, max_leaf_nodes=11, n_estimators=60;, score=-381.555 total time=   0.0s\n",
      "[CV 4/5] END criterion=friedman_mse, max_depth=4, max_features=sqrt, max_leaf_nodes=11, n_estimators=60;, score=-210.224 total time=   0.0s\n",
      "[CV 5/5] END criterion=friedman_mse, max_depth=4, max_features=sqrt, max_leaf_nodes=11, n_estimators=60;, score=-235.778 total time=   0.0s\n",
      "[CV 1/5] END criterion=friedman_mse, max_depth=4, max_features=sqrt, max_leaf_nodes=11, n_estimators=80;, score=-240.019 total time=   0.0s\n",
      "[CV 2/5] END criterion=friedman_mse, max_depth=4, max_features=sqrt, max_leaf_nodes=11, n_estimators=80;, score=-210.073 total time=   0.0s\n",
      "[CV 3/5] END criterion=friedman_mse, max_depth=4, max_features=sqrt, max_leaf_nodes=11, n_estimators=80;, score=-383.462 total time=   0.0s\n",
      "[CV 4/5] END criterion=friedman_mse, max_depth=4, max_features=sqrt, max_leaf_nodes=11, n_estimators=80;, score=-212.462 total time=   0.0s\n",
      "[CV 5/5] END criterion=friedman_mse, max_depth=4, max_features=sqrt, max_leaf_nodes=11, n_estimators=80;, score=-237.038 total time=   0.0s\n",
      "[CV 1/5] END criterion=friedman_mse, max_depth=4, max_features=sqrt, max_leaf_nodes=11, n_estimators=100;, score=-241.568 total time=   0.0s\n",
      "[CV 2/5] END criterion=friedman_mse, max_depth=4, max_features=sqrt, max_leaf_nodes=11, n_estimators=100;, score=-210.174 total time=   0.0s\n",
      "[CV 3/5] END criterion=friedman_mse, max_depth=4, max_features=sqrt, max_leaf_nodes=11, n_estimators=100;, score=-384.306 total time=   0.0s\n",
      "[CV 4/5] END criterion=friedman_mse, max_depth=4, max_features=sqrt, max_leaf_nodes=11, n_estimators=100;, score=-212.253 total time=   0.0s\n",
      "[CV 5/5] END criterion=friedman_mse, max_depth=4, max_features=sqrt, max_leaf_nodes=11, n_estimators=100;, score=-239.074 total time=   0.0s\n",
      "[CV 1/5] END criterion=friedman_mse, max_depth=4, max_features=sqrt, max_leaf_nodes=16, n_estimators=60;, score=-223.667 total time=   0.0s\n",
      "[CV 2/5] END criterion=friedman_mse, max_depth=4, max_features=sqrt, max_leaf_nodes=16, n_estimators=60;, score=-197.846 total time=   0.0s\n",
      "[CV 3/5] END criterion=friedman_mse, max_depth=4, max_features=sqrt, max_leaf_nodes=16, n_estimators=60;, score=-370.943 total time=   0.0s\n",
      "[CV 4/5] END criterion=friedman_mse, max_depth=4, max_features=sqrt, max_leaf_nodes=16, n_estimators=60;, score=-198.009 total time=   0.0s\n",
      "[CV 5/5] END criterion=friedman_mse, max_depth=4, max_features=sqrt, max_leaf_nodes=16, n_estimators=60;, score=-227.800 total time=   0.0s\n",
      "[CV 1/5] END criterion=friedman_mse, max_depth=4, max_features=sqrt, max_leaf_nodes=16, n_estimators=80;, score=-222.588 total time=   0.0s\n",
      "[CV 2/5] END criterion=friedman_mse, max_depth=4, max_features=sqrt, max_leaf_nodes=16, n_estimators=80;, score=-198.537 total time=   0.0s\n",
      "[CV 3/5] END criterion=friedman_mse, max_depth=4, max_features=sqrt, max_leaf_nodes=16, n_estimators=80;, score=-371.230 total time=   0.0s\n",
      "[CV 4/5] END criterion=friedman_mse, max_depth=4, max_features=sqrt, max_leaf_nodes=16, n_estimators=80;, score=-198.829 total time=   0.0s\n",
      "[CV 5/5] END criterion=friedman_mse, max_depth=4, max_features=sqrt, max_leaf_nodes=16, n_estimators=80;, score=-227.089 total time=   0.0s\n",
      "[CV 1/5] END criterion=friedman_mse, max_depth=4, max_features=sqrt, max_leaf_nodes=16, n_estimators=100;, score=-224.168 total time=   0.0s\n",
      "[CV 2/5] END criterion=friedman_mse, max_depth=4, max_features=sqrt, max_leaf_nodes=16, n_estimators=100;, score=-198.837 total time=   0.0s\n",
      "[CV 3/5] END criterion=friedman_mse, max_depth=4, max_features=sqrt, max_leaf_nodes=16, n_estimators=100;, score=-371.801 total time=   0.0s\n",
      "[CV 4/5] END criterion=friedman_mse, max_depth=4, max_features=sqrt, max_leaf_nodes=16, n_estimators=100;, score=-197.096 total time=   0.0s\n",
      "[CV 5/5] END criterion=friedman_mse, max_depth=4, max_features=sqrt, max_leaf_nodes=16, n_estimators=100;, score=-228.341 total time=   0.0s\n",
      "[CV 1/5] END criterion=friedman_mse, max_depth=4, max_features=sqrt, max_leaf_nodes=20, n_estimators=60;, score=-223.667 total time=   0.0s\n",
      "[CV 2/5] END criterion=friedman_mse, max_depth=4, max_features=sqrt, max_leaf_nodes=20, n_estimators=60;, score=-197.846 total time=   0.0s\n",
      "[CV 3/5] END criterion=friedman_mse, max_depth=4, max_features=sqrt, max_leaf_nodes=20, n_estimators=60;, score=-370.943 total time=   0.0s\n",
      "[CV 4/5] END criterion=friedman_mse, max_depth=4, max_features=sqrt, max_leaf_nodes=20, n_estimators=60;, score=-198.009 total time=   0.0s\n",
      "[CV 5/5] END criterion=friedman_mse, max_depth=4, max_features=sqrt, max_leaf_nodes=20, n_estimators=60;, score=-227.800 total time=   0.0s\n",
      "[CV 1/5] END criterion=friedman_mse, max_depth=4, max_features=sqrt, max_leaf_nodes=20, n_estimators=80;, score=-222.588 total time=   0.0s\n",
      "[CV 2/5] END criterion=friedman_mse, max_depth=4, max_features=sqrt, max_leaf_nodes=20, n_estimators=80;, score=-198.537 total time=   0.0s\n",
      "[CV 3/5] END criterion=friedman_mse, max_depth=4, max_features=sqrt, max_leaf_nodes=20, n_estimators=80;, score=-371.230 total time=   0.0s\n",
      "[CV 4/5] END criterion=friedman_mse, max_depth=4, max_features=sqrt, max_leaf_nodes=20, n_estimators=80;, score=-198.829 total time=   0.0s\n",
      "[CV 5/5] END criterion=friedman_mse, max_depth=4, max_features=sqrt, max_leaf_nodes=20, n_estimators=80;, score=-227.089 total time=   0.0s\n",
      "[CV 1/5] END criterion=friedman_mse, max_depth=4, max_features=sqrt, max_leaf_nodes=20, n_estimators=100;, score=-224.168 total time=   0.0s\n",
      "[CV 2/5] END criterion=friedman_mse, max_depth=4, max_features=sqrt, max_leaf_nodes=20, n_estimators=100;, score=-198.837 total time=   0.0s\n",
      "[CV 3/5] END criterion=friedman_mse, max_depth=4, max_features=sqrt, max_leaf_nodes=20, n_estimators=100;, score=-371.801 total time=   0.0s\n",
      "[CV 4/5] END criterion=friedman_mse, max_depth=4, max_features=sqrt, max_leaf_nodes=20, n_estimators=100;, score=-197.096 total time=   0.0s\n",
      "[CV 5/5] END criterion=friedman_mse, max_depth=4, max_features=sqrt, max_leaf_nodes=20, n_estimators=100;, score=-228.341 total time=   0.0s\n",
      "[CV 1/5] END criterion=friedman_mse, max_depth=4, max_features=log2, max_leaf_nodes=11, n_estimators=60;, score=-238.159 total time=   0.0s\n",
      "[CV 2/5] END criterion=friedman_mse, max_depth=4, max_features=log2, max_leaf_nodes=11, n_estimators=60;, score=-207.032 total time=   0.0s\n",
      "[CV 3/5] END criterion=friedman_mse, max_depth=4, max_features=log2, max_leaf_nodes=11, n_estimators=60;, score=-381.555 total time=   0.0s\n",
      "[CV 4/5] END criterion=friedman_mse, max_depth=4, max_features=log2, max_leaf_nodes=11, n_estimators=60;, score=-210.224 total time=   0.0s\n",
      "[CV 5/5] END criterion=friedman_mse, max_depth=4, max_features=log2, max_leaf_nodes=11, n_estimators=60;, score=-235.778 total time=   0.0s\n",
      "[CV 1/5] END criterion=friedman_mse, max_depth=4, max_features=log2, max_leaf_nodes=11, n_estimators=80;, score=-240.019 total time=   0.0s\n",
      "[CV 2/5] END criterion=friedman_mse, max_depth=4, max_features=log2, max_leaf_nodes=11, n_estimators=80;, score=-210.073 total time=   0.0s\n",
      "[CV 3/5] END criterion=friedman_mse, max_depth=4, max_features=log2, max_leaf_nodes=11, n_estimators=80;, score=-383.462 total time=   0.0s\n",
      "[CV 4/5] END criterion=friedman_mse, max_depth=4, max_features=log2, max_leaf_nodes=11, n_estimators=80;, score=-212.462 total time=   0.0s\n",
      "[CV 5/5] END criterion=friedman_mse, max_depth=4, max_features=log2, max_leaf_nodes=11, n_estimators=80;, score=-237.038 total time=   0.0s\n",
      "[CV 1/5] END criterion=friedman_mse, max_depth=4, max_features=log2, max_leaf_nodes=11, n_estimators=100;, score=-241.568 total time=   0.0s\n",
      "[CV 2/5] END criterion=friedman_mse, max_depth=4, max_features=log2, max_leaf_nodes=11, n_estimators=100;, score=-210.174 total time=   0.0s\n",
      "[CV 3/5] END criterion=friedman_mse, max_depth=4, max_features=log2, max_leaf_nodes=11, n_estimators=100;, score=-384.306 total time=   0.0s\n"
     ]
    },
    {
     "name": "stdout",
     "output_type": "stream",
     "text": [
      "[CV 4/5] END criterion=friedman_mse, max_depth=4, max_features=log2, max_leaf_nodes=11, n_estimators=100;, score=-212.253 total time=   0.0s\n",
      "[CV 5/5] END criterion=friedman_mse, max_depth=4, max_features=log2, max_leaf_nodes=11, n_estimators=100;, score=-239.074 total time=   0.0s\n",
      "[CV 1/5] END criterion=friedman_mse, max_depth=4, max_features=log2, max_leaf_nodes=16, n_estimators=60;, score=-223.667 total time=   0.0s\n",
      "[CV 2/5] END criterion=friedman_mse, max_depth=4, max_features=log2, max_leaf_nodes=16, n_estimators=60;, score=-197.846 total time=   0.0s\n",
      "[CV 3/5] END criterion=friedman_mse, max_depth=4, max_features=log2, max_leaf_nodes=16, n_estimators=60;, score=-370.943 total time=   0.0s\n",
      "[CV 4/5] END criterion=friedman_mse, max_depth=4, max_features=log2, max_leaf_nodes=16, n_estimators=60;, score=-198.009 total time=   0.0s\n",
      "[CV 5/5] END criterion=friedman_mse, max_depth=4, max_features=log2, max_leaf_nodes=16, n_estimators=60;, score=-227.800 total time=   0.0s\n",
      "[CV 1/5] END criterion=friedman_mse, max_depth=4, max_features=log2, max_leaf_nodes=16, n_estimators=80;, score=-222.588 total time=   0.0s\n",
      "[CV 2/5] END criterion=friedman_mse, max_depth=4, max_features=log2, max_leaf_nodes=16, n_estimators=80;, score=-198.537 total time=   0.0s\n",
      "[CV 3/5] END criterion=friedman_mse, max_depth=4, max_features=log2, max_leaf_nodes=16, n_estimators=80;, score=-371.230 total time=   0.0s\n",
      "[CV 4/5] END criterion=friedman_mse, max_depth=4, max_features=log2, max_leaf_nodes=16, n_estimators=80;, score=-198.829 total time=   0.0s\n",
      "[CV 5/5] END criterion=friedman_mse, max_depth=4, max_features=log2, max_leaf_nodes=16, n_estimators=80;, score=-227.089 total time=   0.0s\n",
      "[CV 1/5] END criterion=friedman_mse, max_depth=4, max_features=log2, max_leaf_nodes=16, n_estimators=100;, score=-224.168 total time=   0.0s\n",
      "[CV 2/5] END criterion=friedman_mse, max_depth=4, max_features=log2, max_leaf_nodes=16, n_estimators=100;, score=-198.837 total time=   0.0s\n",
      "[CV 3/5] END criterion=friedman_mse, max_depth=4, max_features=log2, max_leaf_nodes=16, n_estimators=100;, score=-371.801 total time=   0.0s\n",
      "[CV 4/5] END criterion=friedman_mse, max_depth=4, max_features=log2, max_leaf_nodes=16, n_estimators=100;, score=-197.096 total time=   0.0s\n",
      "[CV 5/5] END criterion=friedman_mse, max_depth=4, max_features=log2, max_leaf_nodes=16, n_estimators=100;, score=-228.341 total time=   0.0s\n",
      "[CV 1/5] END criterion=friedman_mse, max_depth=4, max_features=log2, max_leaf_nodes=20, n_estimators=60;, score=-223.667 total time=   0.0s\n",
      "[CV 2/5] END criterion=friedman_mse, max_depth=4, max_features=log2, max_leaf_nodes=20, n_estimators=60;, score=-197.846 total time=   0.0s\n",
      "[CV 3/5] END criterion=friedman_mse, max_depth=4, max_features=log2, max_leaf_nodes=20, n_estimators=60;, score=-370.943 total time=   0.0s\n",
      "[CV 4/5] END criterion=friedman_mse, max_depth=4, max_features=log2, max_leaf_nodes=20, n_estimators=60;, score=-198.009 total time=   0.0s\n",
      "[CV 5/5] END criterion=friedman_mse, max_depth=4, max_features=log2, max_leaf_nodes=20, n_estimators=60;, score=-227.800 total time=   0.0s\n",
      "[CV 1/5] END criterion=friedman_mse, max_depth=4, max_features=log2, max_leaf_nodes=20, n_estimators=80;, score=-222.588 total time=   0.0s\n",
      "[CV 2/5] END criterion=friedman_mse, max_depth=4, max_features=log2, max_leaf_nodes=20, n_estimators=80;, score=-198.537 total time=   0.0s\n",
      "[CV 3/5] END criterion=friedman_mse, max_depth=4, max_features=log2, max_leaf_nodes=20, n_estimators=80;, score=-371.230 total time=   0.0s\n",
      "[CV 4/5] END criterion=friedman_mse, max_depth=4, max_features=log2, max_leaf_nodes=20, n_estimators=80;, score=-198.829 total time=   0.0s\n",
      "[CV 5/5] END criterion=friedman_mse, max_depth=4, max_features=log2, max_leaf_nodes=20, n_estimators=80;, score=-227.089 total time=   0.0s\n",
      "[CV 1/5] END criterion=friedman_mse, max_depth=4, max_features=log2, max_leaf_nodes=20, n_estimators=100;, score=-224.168 total time=   0.0s\n",
      "[CV 2/5] END criterion=friedman_mse, max_depth=4, max_features=log2, max_leaf_nodes=20, n_estimators=100;, score=-198.837 total time=   0.0s\n",
      "[CV 3/5] END criterion=friedman_mse, max_depth=4, max_features=log2, max_leaf_nodes=20, n_estimators=100;, score=-371.801 total time=   0.0s\n",
      "[CV 4/5] END criterion=friedman_mse, max_depth=4, max_features=log2, max_leaf_nodes=20, n_estimators=100;, score=-197.096 total time=   0.0s\n",
      "[CV 5/5] END criterion=friedman_mse, max_depth=4, max_features=log2, max_leaf_nodes=20, n_estimators=100;, score=-228.341 total time=   0.0s\n",
      "[CV 1/5] END criterion=friedman_mse, max_depth=5, max_features=None, max_leaf_nodes=11, n_estimators=60;, score=-192.682 total time=   0.0s\n",
      "[CV 2/5] END criterion=friedman_mse, max_depth=5, max_features=None, max_leaf_nodes=11, n_estimators=60;, score=-194.544 total time=   0.0s\n",
      "[CV 3/5] END criterion=friedman_mse, max_depth=5, max_features=None, max_leaf_nodes=11, n_estimators=60;, score=-364.988 total time=   0.0s\n",
      "[CV 4/5] END criterion=friedman_mse, max_depth=5, max_features=None, max_leaf_nodes=11, n_estimators=60;, score=-174.215 total time=   0.0s\n",
      "[CV 5/5] END criterion=friedman_mse, max_depth=5, max_features=None, max_leaf_nodes=11, n_estimators=60;, score=-205.576 total time=   0.0s\n",
      "[CV 1/5] END criterion=friedman_mse, max_depth=5, max_features=None, max_leaf_nodes=11, n_estimators=80;, score=-191.762 total time=   0.0s\n",
      "[CV 2/5] END criterion=friedman_mse, max_depth=5, max_features=None, max_leaf_nodes=11, n_estimators=80;, score=-194.004 total time=   0.0s\n",
      "[CV 3/5] END criterion=friedman_mse, max_depth=5, max_features=None, max_leaf_nodes=11, n_estimators=80;, score=-364.434 total time=   0.0s\n",
      "[CV 4/5] END criterion=friedman_mse, max_depth=5, max_features=None, max_leaf_nodes=11, n_estimators=80;, score=-173.712 total time=   0.0s\n",
      "[CV 5/5] END criterion=friedman_mse, max_depth=5, max_features=None, max_leaf_nodes=11, n_estimators=80;, score=-204.198 total time=   0.0s\n",
      "[CV 1/5] END criterion=friedman_mse, max_depth=5, max_features=None, max_leaf_nodes=11, n_estimators=100;, score=-191.514 total time=   0.0s\n",
      "[CV 2/5] END criterion=friedman_mse, max_depth=5, max_features=None, max_leaf_nodes=11, n_estimators=100;, score=-193.203 total time=   0.0s\n",
      "[CV 3/5] END criterion=friedman_mse, max_depth=5, max_features=None, max_leaf_nodes=11, n_estimators=100;, score=-365.018 total time=   0.0s\n",
      "[CV 4/5] END criterion=friedman_mse, max_depth=5, max_features=None, max_leaf_nodes=11, n_estimators=100;, score=-173.930 total time=   0.0s\n",
      "[CV 5/5] END criterion=friedman_mse, max_depth=5, max_features=None, max_leaf_nodes=11, n_estimators=100;, score=-204.381 total time=   0.0s\n",
      "[CV 1/5] END criterion=friedman_mse, max_depth=5, max_features=None, max_leaf_nodes=16, n_estimators=60;, score=-194.497 total time=   0.0s\n",
      "[CV 2/5] END criterion=friedman_mse, max_depth=5, max_features=None, max_leaf_nodes=16, n_estimators=60;, score=-197.925 total time=   0.0s\n",
      "[CV 3/5] END criterion=friedman_mse, max_depth=5, max_features=None, max_leaf_nodes=16, n_estimators=60;, score=-363.740 total time=   0.0s\n",
      "[CV 4/5] END criterion=friedman_mse, max_depth=5, max_features=None, max_leaf_nodes=16, n_estimators=60;, score=-173.385 total time=   0.0s\n",
      "[CV 5/5] END criterion=friedman_mse, max_depth=5, max_features=None, max_leaf_nodes=16, n_estimators=60;, score=-206.258 total time=   0.0s\n",
      "[CV 1/5] END criterion=friedman_mse, max_depth=5, max_features=None, max_leaf_nodes=16, n_estimators=80;, score=-193.594 total time=   0.0s\n",
      "[CV 2/5] END criterion=friedman_mse, max_depth=5, max_features=None, max_leaf_nodes=16, n_estimators=80;, score=-197.913 total time=   0.0s\n",
      "[CV 3/5] END criterion=friedman_mse, max_depth=5, max_features=None, max_leaf_nodes=16, n_estimators=80;, score=-363.610 total time=   0.0s\n",
      "[CV 4/5] END criterion=friedman_mse, max_depth=5, max_features=None, max_leaf_nodes=16, n_estimators=80;, score=-172.615 total time=   0.0s\n",
      "[CV 5/5] END criterion=friedman_mse, max_depth=5, max_features=None, max_leaf_nodes=16, n_estimators=80;, score=-204.439 total time=   0.0s\n",
      "[CV 1/5] END criterion=friedman_mse, max_depth=5, max_features=None, max_leaf_nodes=16, n_estimators=100;, score=-193.322 total time=   0.0s\n",
      "[CV 2/5] END criterion=friedman_mse, max_depth=5, max_features=None, max_leaf_nodes=16, n_estimators=100;, score=-196.498 total time=   0.0s\n",
      "[CV 3/5] END criterion=friedman_mse, max_depth=5, max_features=None, max_leaf_nodes=16, n_estimators=100;, score=-364.087 total time=   0.0s\n"
     ]
    },
    {
     "name": "stdout",
     "output_type": "stream",
     "text": [
      "[CV 4/5] END criterion=friedman_mse, max_depth=5, max_features=None, max_leaf_nodes=16, n_estimators=100;, score=-172.933 total time=   0.0s\n",
      "[CV 5/5] END criterion=friedman_mse, max_depth=5, max_features=None, max_leaf_nodes=16, n_estimators=100;, score=-205.050 total time=   0.0s\n",
      "[CV 1/5] END criterion=friedman_mse, max_depth=5, max_features=None, max_leaf_nodes=20, n_estimators=60;, score=-195.630 total time=   0.0s\n",
      "[CV 2/5] END criterion=friedman_mse, max_depth=5, max_features=None, max_leaf_nodes=20, n_estimators=60;, score=-198.189 total time=   0.0s\n",
      "[CV 3/5] END criterion=friedman_mse, max_depth=5, max_features=None, max_leaf_nodes=20, n_estimators=60;, score=-363.576 total time=   0.0s\n",
      "[CV 4/5] END criterion=friedman_mse, max_depth=5, max_features=None, max_leaf_nodes=20, n_estimators=60;, score=-174.082 total time=   0.0s\n",
      "[CV 5/5] END criterion=friedman_mse, max_depth=5, max_features=None, max_leaf_nodes=20, n_estimators=60;, score=-206.985 total time=   0.0s\n",
      "[CV 1/5] END criterion=friedman_mse, max_depth=5, max_features=None, max_leaf_nodes=20, n_estimators=80;, score=-194.756 total time=   0.0s\n",
      "[CV 2/5] END criterion=friedman_mse, max_depth=5, max_features=None, max_leaf_nodes=20, n_estimators=80;, score=-198.135 total time=   0.0s\n",
      "[CV 3/5] END criterion=friedman_mse, max_depth=5, max_features=None, max_leaf_nodes=20, n_estimators=80;, score=-363.315 total time=   0.0s\n",
      "[CV 4/5] END criterion=friedman_mse, max_depth=5, max_features=None, max_leaf_nodes=20, n_estimators=80;, score=-173.105 total time=   0.0s\n",
      "[CV 5/5] END criterion=friedman_mse, max_depth=5, max_features=None, max_leaf_nodes=20, n_estimators=80;, score=-204.941 total time=   0.0s\n",
      "[CV 1/5] END criterion=friedman_mse, max_depth=5, max_features=None, max_leaf_nodes=20, n_estimators=100;, score=-193.911 total time=   0.0s\n",
      "[CV 2/5] END criterion=friedman_mse, max_depth=5, max_features=None, max_leaf_nodes=20, n_estimators=100;, score=-197.079 total time=   0.0s\n",
      "[CV 3/5] END criterion=friedman_mse, max_depth=5, max_features=None, max_leaf_nodes=20, n_estimators=100;, score=-363.849 total time=   0.0s\n",
      "[CV 4/5] END criterion=friedman_mse, max_depth=5, max_features=None, max_leaf_nodes=20, n_estimators=100;, score=-172.952 total time=   0.0s\n",
      "[CV 5/5] END criterion=friedman_mse, max_depth=5, max_features=None, max_leaf_nodes=20, n_estimators=100;, score=-205.489 total time=   0.0s\n",
      "[CV 1/5] END criterion=friedman_mse, max_depth=5, max_features=sqrt, max_leaf_nodes=11, n_estimators=60;, score=-241.431 total time=   0.0s\n",
      "[CV 2/5] END criterion=friedman_mse, max_depth=5, max_features=sqrt, max_leaf_nodes=11, n_estimators=60;, score=-208.632 total time=   0.0s\n",
      "[CV 3/5] END criterion=friedman_mse, max_depth=5, max_features=sqrt, max_leaf_nodes=11, n_estimators=60;, score=-383.445 total time=   0.0s\n",
      "[CV 4/5] END criterion=friedman_mse, max_depth=5, max_features=sqrt, max_leaf_nodes=11, n_estimators=60;, score=-214.378 total time=   0.0s\n",
      "[CV 5/5] END criterion=friedman_mse, max_depth=5, max_features=sqrt, max_leaf_nodes=11, n_estimators=60;, score=-239.246 total time=   0.0s\n",
      "[CV 1/5] END criterion=friedman_mse, max_depth=5, max_features=sqrt, max_leaf_nodes=11, n_estimators=80;, score=-244.594 total time=   0.0s\n",
      "[CV 2/5] END criterion=friedman_mse, max_depth=5, max_features=sqrt, max_leaf_nodes=11, n_estimators=80;, score=-211.634 total time=   0.0s\n",
      "[CV 3/5] END criterion=friedman_mse, max_depth=5, max_features=sqrt, max_leaf_nodes=11, n_estimators=80;, score=-386.440 total time=   0.0s\n",
      "[CV 4/5] END criterion=friedman_mse, max_depth=5, max_features=sqrt, max_leaf_nodes=11, n_estimators=80;, score=-217.274 total time=   0.0s\n",
      "[CV 5/5] END criterion=friedman_mse, max_depth=5, max_features=sqrt, max_leaf_nodes=11, n_estimators=80;, score=-242.035 total time=   0.0s\n",
      "[CV 1/5] END criterion=friedman_mse, max_depth=5, max_features=sqrt, max_leaf_nodes=11, n_estimators=100;, score=-245.194 total time=   0.0s\n",
      "[CV 2/5] END criterion=friedman_mse, max_depth=5, max_features=sqrt, max_leaf_nodes=11, n_estimators=100;, score=-211.150 total time=   0.0s\n",
      "[CV 3/5] END criterion=friedman_mse, max_depth=5, max_features=sqrt, max_leaf_nodes=11, n_estimators=100;, score=-386.891 total time=   0.0s\n",
      "[CV 4/5] END criterion=friedman_mse, max_depth=5, max_features=sqrt, max_leaf_nodes=11, n_estimators=100;, score=-216.855 total time=   0.0s\n",
      "[CV 5/5] END criterion=friedman_mse, max_depth=5, max_features=sqrt, max_leaf_nodes=11, n_estimators=100;, score=-243.133 total time=   0.0s\n",
      "[CV 1/5] END criterion=friedman_mse, max_depth=5, max_features=sqrt, max_leaf_nodes=16, n_estimators=60;, score=-223.551 total time=   0.0s\n",
      "[CV 2/5] END criterion=friedman_mse, max_depth=5, max_features=sqrt, max_leaf_nodes=16, n_estimators=60;, score=-195.596 total time=   0.0s\n",
      "[CV 3/5] END criterion=friedman_mse, max_depth=5, max_features=sqrt, max_leaf_nodes=16, n_estimators=60;, score=-368.633 total time=   0.0s\n",
      "[CV 4/5] END criterion=friedman_mse, max_depth=5, max_features=sqrt, max_leaf_nodes=16, n_estimators=60;, score=-195.370 total time=   0.0s\n",
      "[CV 5/5] END criterion=friedman_mse, max_depth=5, max_features=sqrt, max_leaf_nodes=16, n_estimators=60;, score=-224.252 total time=   0.0s\n",
      "[CV 1/5] END criterion=friedman_mse, max_depth=5, max_features=sqrt, max_leaf_nodes=16, n_estimators=80;, score=-225.680 total time=   0.0s\n",
      "[CV 2/5] END criterion=friedman_mse, max_depth=5, max_features=sqrt, max_leaf_nodes=16, n_estimators=80;, score=-197.852 total time=   0.0s\n",
      "[CV 3/5] END criterion=friedman_mse, max_depth=5, max_features=sqrt, max_leaf_nodes=16, n_estimators=80;, score=-370.180 total time=   0.0s\n",
      "[CV 4/5] END criterion=friedman_mse, max_depth=5, max_features=sqrt, max_leaf_nodes=16, n_estimators=80;, score=-196.736 total time=   0.0s\n",
      "[CV 5/5] END criterion=friedman_mse, max_depth=5, max_features=sqrt, max_leaf_nodes=16, n_estimators=80;, score=-225.116 total time=   0.0s\n",
      "[CV 1/5] END criterion=friedman_mse, max_depth=5, max_features=sqrt, max_leaf_nodes=16, n_estimators=100;, score=-224.982 total time=   0.0s\n",
      "[CV 2/5] END criterion=friedman_mse, max_depth=5, max_features=sqrt, max_leaf_nodes=16, n_estimators=100;, score=-197.153 total time=   0.0s\n",
      "[CV 3/5] END criterion=friedman_mse, max_depth=5, max_features=sqrt, max_leaf_nodes=16, n_estimators=100;, score=-369.542 total time=   0.0s\n",
      "[CV 4/5] END criterion=friedman_mse, max_depth=5, max_features=sqrt, max_leaf_nodes=16, n_estimators=100;, score=-197.557 total time=   0.0s\n",
      "[CV 5/5] END criterion=friedman_mse, max_depth=5, max_features=sqrt, max_leaf_nodes=16, n_estimators=100;, score=-225.550 total time=   0.0s\n",
      "[CV 1/5] END criterion=friedman_mse, max_depth=5, max_features=sqrt, max_leaf_nodes=20, n_estimators=60;, score=-216.320 total time=   0.0s\n",
      "[CV 2/5] END criterion=friedman_mse, max_depth=5, max_features=sqrt, max_leaf_nodes=20, n_estimators=60;, score=-192.698 total time=   0.0s\n",
      "[CV 3/5] END criterion=friedman_mse, max_depth=5, max_features=sqrt, max_leaf_nodes=20, n_estimators=60;, score=-362.924 total time=   0.0s\n",
      "[CV 4/5] END criterion=friedman_mse, max_depth=5, max_features=sqrt, max_leaf_nodes=20, n_estimators=60;, score=-188.046 total time=   0.0s\n",
      "[CV 5/5] END criterion=friedman_mse, max_depth=5, max_features=sqrt, max_leaf_nodes=20, n_estimators=60;, score=-220.625 total time=   0.0s\n",
      "[CV 1/5] END criterion=friedman_mse, max_depth=5, max_features=sqrt, max_leaf_nodes=20, n_estimators=80;, score=-217.214 total time=   0.0s\n",
      "[CV 2/5] END criterion=friedman_mse, max_depth=5, max_features=sqrt, max_leaf_nodes=20, n_estimators=80;, score=-194.035 total time=   0.0s\n",
      "[CV 3/5] END criterion=friedman_mse, max_depth=5, max_features=sqrt, max_leaf_nodes=20, n_estimators=80;, score=-365.036 total time=   0.0s\n",
      "[CV 4/5] END criterion=friedman_mse, max_depth=5, max_features=sqrt, max_leaf_nodes=20, n_estimators=80;, score=-188.113 total time=   0.0s\n",
      "[CV 5/5] END criterion=friedman_mse, max_depth=5, max_features=sqrt, max_leaf_nodes=20, n_estimators=80;, score=-220.990 total time=   0.0s\n",
      "[CV 1/5] END criterion=friedman_mse, max_depth=5, max_features=sqrt, max_leaf_nodes=20, n_estimators=100;, score=-216.628 total time=   0.0s\n",
      "[CV 2/5] END criterion=friedman_mse, max_depth=5, max_features=sqrt, max_leaf_nodes=20, n_estimators=100;, score=-194.063 total time=   0.0s\n",
      "[CV 3/5] END criterion=friedman_mse, max_depth=5, max_features=sqrt, max_leaf_nodes=20, n_estimators=100;, score=-364.473 total time=   0.0s\n"
     ]
    },
    {
     "name": "stdout",
     "output_type": "stream",
     "text": [
      "[CV 4/5] END criterion=friedman_mse, max_depth=5, max_features=sqrt, max_leaf_nodes=20, n_estimators=100;, score=-187.436 total time=   0.0s\n",
      "[CV 5/5] END criterion=friedman_mse, max_depth=5, max_features=sqrt, max_leaf_nodes=20, n_estimators=100;, score=-220.642 total time=   0.0s\n",
      "[CV 1/5] END criterion=friedman_mse, max_depth=5, max_features=log2, max_leaf_nodes=11, n_estimators=60;, score=-241.431 total time=   0.0s\n",
      "[CV 2/5] END criterion=friedman_mse, max_depth=5, max_features=log2, max_leaf_nodes=11, n_estimators=60;, score=-208.632 total time=   0.0s\n",
      "[CV 3/5] END criterion=friedman_mse, max_depth=5, max_features=log2, max_leaf_nodes=11, n_estimators=60;, score=-383.445 total time=   0.0s\n",
      "[CV 4/5] END criterion=friedman_mse, max_depth=5, max_features=log2, max_leaf_nodes=11, n_estimators=60;, score=-214.378 total time=   0.0s\n",
      "[CV 5/5] END criterion=friedman_mse, max_depth=5, max_features=log2, max_leaf_nodes=11, n_estimators=60;, score=-239.246 total time=   0.0s\n",
      "[CV 1/5] END criterion=friedman_mse, max_depth=5, max_features=log2, max_leaf_nodes=11, n_estimators=80;, score=-244.594 total time=   0.0s\n",
      "[CV 2/5] END criterion=friedman_mse, max_depth=5, max_features=log2, max_leaf_nodes=11, n_estimators=80;, score=-211.634 total time=   0.0s\n",
      "[CV 3/5] END criterion=friedman_mse, max_depth=5, max_features=log2, max_leaf_nodes=11, n_estimators=80;, score=-386.440 total time=   0.0s\n",
      "[CV 4/5] END criterion=friedman_mse, max_depth=5, max_features=log2, max_leaf_nodes=11, n_estimators=80;, score=-217.274 total time=   0.0s\n",
      "[CV 5/5] END criterion=friedman_mse, max_depth=5, max_features=log2, max_leaf_nodes=11, n_estimators=80;, score=-242.035 total time=   0.0s\n",
      "[CV 1/5] END criterion=friedman_mse, max_depth=5, max_features=log2, max_leaf_nodes=11, n_estimators=100;, score=-245.194 total time=   0.0s\n",
      "[CV 2/5] END criterion=friedman_mse, max_depth=5, max_features=log2, max_leaf_nodes=11, n_estimators=100;, score=-211.150 total time=   0.0s\n",
      "[CV 3/5] END criterion=friedman_mse, max_depth=5, max_features=log2, max_leaf_nodes=11, n_estimators=100;, score=-386.891 total time=   0.0s\n",
      "[CV 4/5] END criterion=friedman_mse, max_depth=5, max_features=log2, max_leaf_nodes=11, n_estimators=100;, score=-216.855 total time=   0.0s\n",
      "[CV 5/5] END criterion=friedman_mse, max_depth=5, max_features=log2, max_leaf_nodes=11, n_estimators=100;, score=-243.133 total time=   0.0s\n",
      "[CV 1/5] END criterion=friedman_mse, max_depth=5, max_features=log2, max_leaf_nodes=16, n_estimators=60;, score=-223.551 total time=   0.0s\n",
      "[CV 2/5] END criterion=friedman_mse, max_depth=5, max_features=log2, max_leaf_nodes=16, n_estimators=60;, score=-195.596 total time=   0.0s\n",
      "[CV 3/5] END criterion=friedman_mse, max_depth=5, max_features=log2, max_leaf_nodes=16, n_estimators=60;, score=-368.633 total time=   0.0s\n",
      "[CV 4/5] END criterion=friedman_mse, max_depth=5, max_features=log2, max_leaf_nodes=16, n_estimators=60;, score=-195.370 total time=   0.0s\n",
      "[CV 5/5] END criterion=friedman_mse, max_depth=5, max_features=log2, max_leaf_nodes=16, n_estimators=60;, score=-224.252 total time=   0.0s\n",
      "[CV 1/5] END criterion=friedman_mse, max_depth=5, max_features=log2, max_leaf_nodes=16, n_estimators=80;, score=-225.680 total time=   0.0s\n",
      "[CV 2/5] END criterion=friedman_mse, max_depth=5, max_features=log2, max_leaf_nodes=16, n_estimators=80;, score=-197.852 total time=   0.0s\n",
      "[CV 3/5] END criterion=friedman_mse, max_depth=5, max_features=log2, max_leaf_nodes=16, n_estimators=80;, score=-370.180 total time=   0.0s\n",
      "[CV 4/5] END criterion=friedman_mse, max_depth=5, max_features=log2, max_leaf_nodes=16, n_estimators=80;, score=-196.736 total time=   0.0s\n",
      "[CV 5/5] END criterion=friedman_mse, max_depth=5, max_features=log2, max_leaf_nodes=16, n_estimators=80;, score=-225.116 total time=   0.0s\n",
      "[CV 1/5] END criterion=friedman_mse, max_depth=5, max_features=log2, max_leaf_nodes=16, n_estimators=100;, score=-224.982 total time=   0.0s\n",
      "[CV 2/5] END criterion=friedman_mse, max_depth=5, max_features=log2, max_leaf_nodes=16, n_estimators=100;, score=-197.153 total time=   0.0s\n",
      "[CV 3/5] END criterion=friedman_mse, max_depth=5, max_features=log2, max_leaf_nodes=16, n_estimators=100;, score=-369.542 total time=   0.0s\n",
      "[CV 4/5] END criterion=friedman_mse, max_depth=5, max_features=log2, max_leaf_nodes=16, n_estimators=100;, score=-197.557 total time=   0.0s\n",
      "[CV 5/5] END criterion=friedman_mse, max_depth=5, max_features=log2, max_leaf_nodes=16, n_estimators=100;, score=-225.550 total time=   0.0s\n",
      "[CV 1/5] END criterion=friedman_mse, max_depth=5, max_features=log2, max_leaf_nodes=20, n_estimators=60;, score=-216.320 total time=   0.0s\n",
      "[CV 2/5] END criterion=friedman_mse, max_depth=5, max_features=log2, max_leaf_nodes=20, n_estimators=60;, score=-192.698 total time=   0.0s\n",
      "[CV 3/5] END criterion=friedman_mse, max_depth=5, max_features=log2, max_leaf_nodes=20, n_estimators=60;, score=-362.924 total time=   0.0s\n",
      "[CV 4/5] END criterion=friedman_mse, max_depth=5, max_features=log2, max_leaf_nodes=20, n_estimators=60;, score=-188.046 total time=   0.0s\n",
      "[CV 5/5] END criterion=friedman_mse, max_depth=5, max_features=log2, max_leaf_nodes=20, n_estimators=60;, score=-220.625 total time=   0.0s\n",
      "[CV 1/5] END criterion=friedman_mse, max_depth=5, max_features=log2, max_leaf_nodes=20, n_estimators=80;, score=-217.214 total time=   0.0s\n",
      "[CV 2/5] END criterion=friedman_mse, max_depth=5, max_features=log2, max_leaf_nodes=20, n_estimators=80;, score=-194.035 total time=   0.0s\n",
      "[CV 3/5] END criterion=friedman_mse, max_depth=5, max_features=log2, max_leaf_nodes=20, n_estimators=80;, score=-365.036 total time=   0.0s\n",
      "[CV 4/5] END criterion=friedman_mse, max_depth=5, max_features=log2, max_leaf_nodes=20, n_estimators=80;, score=-188.113 total time=   0.0s\n",
      "[CV 5/5] END criterion=friedman_mse, max_depth=5, max_features=log2, max_leaf_nodes=20, n_estimators=80;, score=-220.990 total time=   0.0s\n",
      "[CV 1/5] END criterion=friedman_mse, max_depth=5, max_features=log2, max_leaf_nodes=20, n_estimators=100;, score=-216.628 total time=   0.0s\n",
      "[CV 2/5] END criterion=friedman_mse, max_depth=5, max_features=log2, max_leaf_nodes=20, n_estimators=100;, score=-194.063 total time=   0.0s\n",
      "[CV 3/5] END criterion=friedman_mse, max_depth=5, max_features=log2, max_leaf_nodes=20, n_estimators=100;, score=-364.473 total time=   0.0s\n",
      "[CV 4/5] END criterion=friedman_mse, max_depth=5, max_features=log2, max_leaf_nodes=20, n_estimators=100;, score=-187.436 total time=   0.0s\n",
      "[CV 5/5] END criterion=friedman_mse, max_depth=5, max_features=log2, max_leaf_nodes=20, n_estimators=100;, score=-220.642 total time=   0.0s\n",
      "[CV 1/5] END criterion=squared_error, max_depth=3, max_features=None, max_leaf_nodes=11, n_estimators=60;, score=-196.066 total time=   0.0s\n",
      "[CV 2/5] END criterion=squared_error, max_depth=3, max_features=None, max_leaf_nodes=11, n_estimators=60;, score=-188.474 total time=   0.0s\n",
      "[CV 3/5] END criterion=squared_error, max_depth=3, max_features=None, max_leaf_nodes=11, n_estimators=60;, score=-368.418 total time=   0.0s\n",
      "[CV 4/5] END criterion=squared_error, max_depth=3, max_features=None, max_leaf_nodes=11, n_estimators=60;, score=-174.542 total time=   0.0s\n",
      "[CV 5/5] END criterion=squared_error, max_depth=3, max_features=None, max_leaf_nodes=11, n_estimators=60;, score=-209.564 total time=   0.0s\n",
      "[CV 1/5] END criterion=squared_error, max_depth=3, max_features=None, max_leaf_nodes=11, n_estimators=80;, score=-195.744 total time=   0.0s\n",
      "[CV 2/5] END criterion=squared_error, max_depth=3, max_features=None, max_leaf_nodes=11, n_estimators=80;, score=-187.959 total time=   0.0s\n",
      "[CV 3/5] END criterion=squared_error, max_depth=3, max_features=None, max_leaf_nodes=11, n_estimators=80;, score=-368.343 total time=   0.0s\n",
      "[CV 4/5] END criterion=squared_error, max_depth=3, max_features=None, max_leaf_nodes=11, n_estimators=80;, score=-174.044 total time=   0.0s\n",
      "[CV 5/5] END criterion=squared_error, max_depth=3, max_features=None, max_leaf_nodes=11, n_estimators=80;, score=-208.807 total time=   0.0s\n",
      "[CV 1/5] END criterion=squared_error, max_depth=3, max_features=None, max_leaf_nodes=11, n_estimators=100;, score=-195.913 total time=   0.0s\n",
      "[CV 2/5] END criterion=squared_error, max_depth=3, max_features=None, max_leaf_nodes=11, n_estimators=100;, score=-187.616 total time=   0.0s\n"
     ]
    },
    {
     "name": "stdout",
     "output_type": "stream",
     "text": [
      "[CV 3/5] END criterion=squared_error, max_depth=3, max_features=None, max_leaf_nodes=11, n_estimators=100;, score=-368.350 total time=   0.0s\n",
      "[CV 4/5] END criterion=squared_error, max_depth=3, max_features=None, max_leaf_nodes=11, n_estimators=100;, score=-174.205 total time=   0.0s\n",
      "[CV 5/5] END criterion=squared_error, max_depth=3, max_features=None, max_leaf_nodes=11, n_estimators=100;, score=-209.178 total time=   0.0s\n",
      "[CV 1/5] END criterion=squared_error, max_depth=3, max_features=None, max_leaf_nodes=16, n_estimators=60;, score=-196.066 total time=   0.0s\n",
      "[CV 2/5] END criterion=squared_error, max_depth=3, max_features=None, max_leaf_nodes=16, n_estimators=60;, score=-188.474 total time=   0.0s\n",
      "[CV 3/5] END criterion=squared_error, max_depth=3, max_features=None, max_leaf_nodes=16, n_estimators=60;, score=-368.418 total time=   0.0s\n",
      "[CV 4/5] END criterion=squared_error, max_depth=3, max_features=None, max_leaf_nodes=16, n_estimators=60;, score=-174.542 total time=   0.0s\n",
      "[CV 5/5] END criterion=squared_error, max_depth=3, max_features=None, max_leaf_nodes=16, n_estimators=60;, score=-209.564 total time=   0.0s\n",
      "[CV 1/5] END criterion=squared_error, max_depth=3, max_features=None, max_leaf_nodes=16, n_estimators=80;, score=-195.744 total time=   0.0s\n",
      "[CV 2/5] END criterion=squared_error, max_depth=3, max_features=None, max_leaf_nodes=16, n_estimators=80;, score=-187.959 total time=   0.0s\n",
      "[CV 3/5] END criterion=squared_error, max_depth=3, max_features=None, max_leaf_nodes=16, n_estimators=80;, score=-368.343 total time=   0.0s\n",
      "[CV 4/5] END criterion=squared_error, max_depth=3, max_features=None, max_leaf_nodes=16, n_estimators=80;, score=-174.044 total time=   0.0s\n",
      "[CV 5/5] END criterion=squared_error, max_depth=3, max_features=None, max_leaf_nodes=16, n_estimators=80;, score=-208.807 total time=   0.0s\n",
      "[CV 1/5] END criterion=squared_error, max_depth=3, max_features=None, max_leaf_nodes=16, n_estimators=100;, score=-195.913 total time=   0.0s\n",
      "[CV 2/5] END criterion=squared_error, max_depth=3, max_features=None, max_leaf_nodes=16, n_estimators=100;, score=-187.616 total time=   0.0s\n",
      "[CV 3/5] END criterion=squared_error, max_depth=3, max_features=None, max_leaf_nodes=16, n_estimators=100;, score=-368.350 total time=   0.0s\n",
      "[CV 4/5] END criterion=squared_error, max_depth=3, max_features=None, max_leaf_nodes=16, n_estimators=100;, score=-174.205 total time=   0.0s\n",
      "[CV 5/5] END criterion=squared_error, max_depth=3, max_features=None, max_leaf_nodes=16, n_estimators=100;, score=-209.178 total time=   0.0s\n",
      "[CV 1/5] END criterion=squared_error, max_depth=3, max_features=None, max_leaf_nodes=20, n_estimators=60;, score=-196.066 total time=   0.0s\n",
      "[CV 2/5] END criterion=squared_error, max_depth=3, max_features=None, max_leaf_nodes=20, n_estimators=60;, score=-188.474 total time=   0.0s\n",
      "[CV 3/5] END criterion=squared_error, max_depth=3, max_features=None, max_leaf_nodes=20, n_estimators=60;, score=-368.418 total time=   0.0s\n",
      "[CV 4/5] END criterion=squared_error, max_depth=3, max_features=None, max_leaf_nodes=20, n_estimators=60;, score=-174.542 total time=   0.0s\n",
      "[CV 5/5] END criterion=squared_error, max_depth=3, max_features=None, max_leaf_nodes=20, n_estimators=60;, score=-209.564 total time=   0.0s\n",
      "[CV 1/5] END criterion=squared_error, max_depth=3, max_features=None, max_leaf_nodes=20, n_estimators=80;, score=-195.744 total time=   0.0s\n",
      "[CV 2/5] END criterion=squared_error, max_depth=3, max_features=None, max_leaf_nodes=20, n_estimators=80;, score=-187.959 total time=   0.0s\n",
      "[CV 3/5] END criterion=squared_error, max_depth=3, max_features=None, max_leaf_nodes=20, n_estimators=80;, score=-368.343 total time=   0.0s\n",
      "[CV 4/5] END criterion=squared_error, max_depth=3, max_features=None, max_leaf_nodes=20, n_estimators=80;, score=-174.044 total time=   0.0s\n",
      "[CV 5/5] END criterion=squared_error, max_depth=3, max_features=None, max_leaf_nodes=20, n_estimators=80;, score=-208.807 total time=   0.0s\n",
      "[CV 1/5] END criterion=squared_error, max_depth=3, max_features=None, max_leaf_nodes=20, n_estimators=100;, score=-195.913 total time=   0.0s\n",
      "[CV 2/5] END criterion=squared_error, max_depth=3, max_features=None, max_leaf_nodes=20, n_estimators=100;, score=-187.616 total time=   0.0s\n",
      "[CV 3/5] END criterion=squared_error, max_depth=3, max_features=None, max_leaf_nodes=20, n_estimators=100;, score=-368.350 total time=   0.0s\n",
      "[CV 4/5] END criterion=squared_error, max_depth=3, max_features=None, max_leaf_nodes=20, n_estimators=100;, score=-174.205 total time=   0.0s\n",
      "[CV 5/5] END criterion=squared_error, max_depth=3, max_features=None, max_leaf_nodes=20, n_estimators=100;, score=-209.178 total time=   0.0s\n",
      "[CV 1/5] END criterion=squared_error, max_depth=3, max_features=sqrt, max_leaf_nodes=11, n_estimators=60;, score=-262.443 total time=   0.0s\n",
      "[CV 2/5] END criterion=squared_error, max_depth=3, max_features=sqrt, max_leaf_nodes=11, n_estimators=60;, score=-231.659 total time=   0.0s\n",
      "[CV 3/5] END criterion=squared_error, max_depth=3, max_features=sqrt, max_leaf_nodes=11, n_estimators=60;, score=-402.427 total time=   0.0s\n",
      "[CV 4/5] END criterion=squared_error, max_depth=3, max_features=sqrt, max_leaf_nodes=11, n_estimators=60;, score=-234.350 total time=   0.0s\n",
      "[CV 5/5] END criterion=squared_error, max_depth=3, max_features=sqrt, max_leaf_nodes=11, n_estimators=60;, score=-252.957 total time=   0.0s\n",
      "[CV 1/5] END criterion=squared_error, max_depth=3, max_features=sqrt, max_leaf_nodes=11, n_estimators=80;, score=-264.939 total time=   0.0s\n",
      "[CV 2/5] END criterion=squared_error, max_depth=3, max_features=sqrt, max_leaf_nodes=11, n_estimators=80;, score=-235.801 total time=   0.0s\n",
      "[CV 3/5] END criterion=squared_error, max_depth=3, max_features=sqrt, max_leaf_nodes=11, n_estimators=80;, score=-406.554 total time=   0.0s\n",
      "[CV 4/5] END criterion=squared_error, max_depth=3, max_features=sqrt, max_leaf_nodes=11, n_estimators=80;, score=-236.582 total time=   0.0s\n",
      "[CV 5/5] END criterion=squared_error, max_depth=3, max_features=sqrt, max_leaf_nodes=11, n_estimators=80;, score=-256.413 total time=   0.0s\n",
      "[CV 1/5] END criterion=squared_error, max_depth=3, max_features=sqrt, max_leaf_nodes=11, n_estimators=100;, score=-266.118 total time=   0.0s\n",
      "[CV 2/5] END criterion=squared_error, max_depth=3, max_features=sqrt, max_leaf_nodes=11, n_estimators=100;, score=-236.928 total time=   0.0s\n",
      "[CV 3/5] END criterion=squared_error, max_depth=3, max_features=sqrt, max_leaf_nodes=11, n_estimators=100;, score=-408.151 total time=   0.0s\n",
      "[CV 4/5] END criterion=squared_error, max_depth=3, max_features=sqrt, max_leaf_nodes=11, n_estimators=100;, score=-237.036 total time=   0.0s\n",
      "[CV 5/5] END criterion=squared_error, max_depth=3, max_features=sqrt, max_leaf_nodes=11, n_estimators=100;, score=-259.222 total time=   0.0s\n",
      "[CV 1/5] END criterion=squared_error, max_depth=3, max_features=sqrt, max_leaf_nodes=16, n_estimators=60;, score=-262.443 total time=   0.0s\n",
      "[CV 2/5] END criterion=squared_error, max_depth=3, max_features=sqrt, max_leaf_nodes=16, n_estimators=60;, score=-231.659 total time=   0.0s\n",
      "[CV 3/5] END criterion=squared_error, max_depth=3, max_features=sqrt, max_leaf_nodes=16, n_estimators=60;, score=-402.427 total time=   0.0s\n",
      "[CV 4/5] END criterion=squared_error, max_depth=3, max_features=sqrt, max_leaf_nodes=16, n_estimators=60;, score=-234.350 total time=   0.0s\n",
      "[CV 5/5] END criterion=squared_error, max_depth=3, max_features=sqrt, max_leaf_nodes=16, n_estimators=60;, score=-252.957 total time=   0.0s\n",
      "[CV 1/5] END criterion=squared_error, max_depth=3, max_features=sqrt, max_leaf_nodes=16, n_estimators=80;, score=-264.939 total time=   0.0s\n",
      "[CV 2/5] END criterion=squared_error, max_depth=3, max_features=sqrt, max_leaf_nodes=16, n_estimators=80;, score=-235.801 total time=   0.0s\n",
      "[CV 3/5] END criterion=squared_error, max_depth=3, max_features=sqrt, max_leaf_nodes=16, n_estimators=80;, score=-406.554 total time=   0.0s\n",
      "[CV 4/5] END criterion=squared_error, max_depth=3, max_features=sqrt, max_leaf_nodes=16, n_estimators=80;, score=-236.582 total time=   0.0s\n",
      "[CV 5/5] END criterion=squared_error, max_depth=3, max_features=sqrt, max_leaf_nodes=16, n_estimators=80;, score=-256.413 total time=   0.0s\n"
     ]
    },
    {
     "name": "stdout",
     "output_type": "stream",
     "text": [
      "[CV 1/5] END criterion=squared_error, max_depth=3, max_features=sqrt, max_leaf_nodes=16, n_estimators=100;, score=-266.118 total time=   0.0s\n",
      "[CV 2/5] END criterion=squared_error, max_depth=3, max_features=sqrt, max_leaf_nodes=16, n_estimators=100;, score=-236.928 total time=   0.0s\n",
      "[CV 3/5] END criterion=squared_error, max_depth=3, max_features=sqrt, max_leaf_nodes=16, n_estimators=100;, score=-408.151 total time=   0.0s\n",
      "[CV 4/5] END criterion=squared_error, max_depth=3, max_features=sqrt, max_leaf_nodes=16, n_estimators=100;, score=-237.036 total time=   0.0s\n",
      "[CV 5/5] END criterion=squared_error, max_depth=3, max_features=sqrt, max_leaf_nodes=16, n_estimators=100;, score=-259.222 total time=   0.0s\n",
      "[CV 1/5] END criterion=squared_error, max_depth=3, max_features=sqrt, max_leaf_nodes=20, n_estimators=60;, score=-262.443 total time=   0.0s\n",
      "[CV 2/5] END criterion=squared_error, max_depth=3, max_features=sqrt, max_leaf_nodes=20, n_estimators=60;, score=-231.659 total time=   0.0s\n",
      "[CV 3/5] END criterion=squared_error, max_depth=3, max_features=sqrt, max_leaf_nodes=20, n_estimators=60;, score=-402.427 total time=   0.0s\n",
      "[CV 4/5] END criterion=squared_error, max_depth=3, max_features=sqrt, max_leaf_nodes=20, n_estimators=60;, score=-234.350 total time=   0.0s\n",
      "[CV 5/5] END criterion=squared_error, max_depth=3, max_features=sqrt, max_leaf_nodes=20, n_estimators=60;, score=-252.957 total time=   0.0s\n",
      "[CV 1/5] END criterion=squared_error, max_depth=3, max_features=sqrt, max_leaf_nodes=20, n_estimators=80;, score=-264.939 total time=   0.0s\n",
      "[CV 2/5] END criterion=squared_error, max_depth=3, max_features=sqrt, max_leaf_nodes=20, n_estimators=80;, score=-235.801 total time=   0.0s\n",
      "[CV 3/5] END criterion=squared_error, max_depth=3, max_features=sqrt, max_leaf_nodes=20, n_estimators=80;, score=-406.554 total time=   0.0s\n",
      "[CV 4/5] END criterion=squared_error, max_depth=3, max_features=sqrt, max_leaf_nodes=20, n_estimators=80;, score=-236.582 total time=   0.0s\n",
      "[CV 5/5] END criterion=squared_error, max_depth=3, max_features=sqrt, max_leaf_nodes=20, n_estimators=80;, score=-256.413 total time=   0.0s\n",
      "[CV 1/5] END criterion=squared_error, max_depth=3, max_features=sqrt, max_leaf_nodes=20, n_estimators=100;, score=-266.118 total time=   0.0s\n",
      "[CV 2/5] END criterion=squared_error, max_depth=3, max_features=sqrt, max_leaf_nodes=20, n_estimators=100;, score=-236.928 total time=   0.0s\n",
      "[CV 3/5] END criterion=squared_error, max_depth=3, max_features=sqrt, max_leaf_nodes=20, n_estimators=100;, score=-408.151 total time=   0.0s\n",
      "[CV 4/5] END criterion=squared_error, max_depth=3, max_features=sqrt, max_leaf_nodes=20, n_estimators=100;, score=-237.036 total time=   0.0s\n",
      "[CV 5/5] END criterion=squared_error, max_depth=3, max_features=sqrt, max_leaf_nodes=20, n_estimators=100;, score=-259.222 total time=   0.0s\n",
      "[CV 1/5] END criterion=squared_error, max_depth=3, max_features=log2, max_leaf_nodes=11, n_estimators=60;, score=-262.443 total time=   0.0s\n",
      "[CV 2/5] END criterion=squared_error, max_depth=3, max_features=log2, max_leaf_nodes=11, n_estimators=60;, score=-231.659 total time=   0.0s\n",
      "[CV 3/5] END criterion=squared_error, max_depth=3, max_features=log2, max_leaf_nodes=11, n_estimators=60;, score=-402.427 total time=   0.0s\n",
      "[CV 4/5] END criterion=squared_error, max_depth=3, max_features=log2, max_leaf_nodes=11, n_estimators=60;, score=-234.350 total time=   0.0s\n",
      "[CV 5/5] END criterion=squared_error, max_depth=3, max_features=log2, max_leaf_nodes=11, n_estimators=60;, score=-252.957 total time=   0.0s\n",
      "[CV 1/5] END criterion=squared_error, max_depth=3, max_features=log2, max_leaf_nodes=11, n_estimators=80;, score=-264.939 total time=   0.0s\n",
      "[CV 2/5] END criterion=squared_error, max_depth=3, max_features=log2, max_leaf_nodes=11, n_estimators=80;, score=-235.801 total time=   0.0s\n",
      "[CV 3/5] END criterion=squared_error, max_depth=3, max_features=log2, max_leaf_nodes=11, n_estimators=80;, score=-406.554 total time=   0.0s\n",
      "[CV 4/5] END criterion=squared_error, max_depth=3, max_features=log2, max_leaf_nodes=11, n_estimators=80;, score=-236.582 total time=   0.0s\n",
      "[CV 5/5] END criterion=squared_error, max_depth=3, max_features=log2, max_leaf_nodes=11, n_estimators=80;, score=-256.413 total time=   0.0s\n",
      "[CV 1/5] END criterion=squared_error, max_depth=3, max_features=log2, max_leaf_nodes=11, n_estimators=100;, score=-266.118 total time=   0.0s\n",
      "[CV 2/5] END criterion=squared_error, max_depth=3, max_features=log2, max_leaf_nodes=11, n_estimators=100;, score=-236.928 total time=   0.0s\n",
      "[CV 3/5] END criterion=squared_error, max_depth=3, max_features=log2, max_leaf_nodes=11, n_estimators=100;, score=-408.151 total time=   0.0s\n",
      "[CV 4/5] END criterion=squared_error, max_depth=3, max_features=log2, max_leaf_nodes=11, n_estimators=100;, score=-237.036 total time=   0.0s\n",
      "[CV 5/5] END criterion=squared_error, max_depth=3, max_features=log2, max_leaf_nodes=11, n_estimators=100;, score=-259.222 total time=   0.0s\n",
      "[CV 1/5] END criterion=squared_error, max_depth=3, max_features=log2, max_leaf_nodes=16, n_estimators=60;, score=-262.443 total time=   0.0s\n",
      "[CV 2/5] END criterion=squared_error, max_depth=3, max_features=log2, max_leaf_nodes=16, n_estimators=60;, score=-231.659 total time=   0.0s\n",
      "[CV 3/5] END criterion=squared_error, max_depth=3, max_features=log2, max_leaf_nodes=16, n_estimators=60;, score=-402.427 total time=   0.0s\n",
      "[CV 4/5] END criterion=squared_error, max_depth=3, max_features=log2, max_leaf_nodes=16, n_estimators=60;, score=-234.350 total time=   0.0s\n",
      "[CV 5/5] END criterion=squared_error, max_depth=3, max_features=log2, max_leaf_nodes=16, n_estimators=60;, score=-252.957 total time=   0.0s\n",
      "[CV 1/5] END criterion=squared_error, max_depth=3, max_features=log2, max_leaf_nodes=16, n_estimators=80;, score=-264.939 total time=   0.0s\n",
      "[CV 2/5] END criterion=squared_error, max_depth=3, max_features=log2, max_leaf_nodes=16, n_estimators=80;, score=-235.801 total time=   0.0s\n",
      "[CV 3/5] END criterion=squared_error, max_depth=3, max_features=log2, max_leaf_nodes=16, n_estimators=80;, score=-406.554 total time=   0.0s\n",
      "[CV 4/5] END criterion=squared_error, max_depth=3, max_features=log2, max_leaf_nodes=16, n_estimators=80;, score=-236.582 total time=   0.0s\n",
      "[CV 5/5] END criterion=squared_error, max_depth=3, max_features=log2, max_leaf_nodes=16, n_estimators=80;, score=-256.413 total time=   0.0s\n",
      "[CV 1/5] END criterion=squared_error, max_depth=3, max_features=log2, max_leaf_nodes=16, n_estimators=100;, score=-266.118 total time=   0.0s\n",
      "[CV 2/5] END criterion=squared_error, max_depth=3, max_features=log2, max_leaf_nodes=16, n_estimators=100;, score=-236.928 total time=   0.0s\n",
      "[CV 3/5] END criterion=squared_error, max_depth=3, max_features=log2, max_leaf_nodes=16, n_estimators=100;, score=-408.151 total time=   0.0s\n",
      "[CV 4/5] END criterion=squared_error, max_depth=3, max_features=log2, max_leaf_nodes=16, n_estimators=100;, score=-237.036 total time=   0.0s\n",
      "[CV 5/5] END criterion=squared_error, max_depth=3, max_features=log2, max_leaf_nodes=16, n_estimators=100;, score=-259.222 total time=   0.0s\n",
      "[CV 1/5] END criterion=squared_error, max_depth=3, max_features=log2, max_leaf_nodes=20, n_estimators=60;, score=-262.443 total time=   0.0s\n",
      "[CV 2/5] END criterion=squared_error, max_depth=3, max_features=log2, max_leaf_nodes=20, n_estimators=60;, score=-231.659 total time=   0.0s\n",
      "[CV 3/5] END criterion=squared_error, max_depth=3, max_features=log2, max_leaf_nodes=20, n_estimators=60;, score=-402.427 total time=   0.0s\n",
      "[CV 4/5] END criterion=squared_error, max_depth=3, max_features=log2, max_leaf_nodes=20, n_estimators=60;, score=-234.350 total time=   0.0s\n",
      "[CV 5/5] END criterion=squared_error, max_depth=3, max_features=log2, max_leaf_nodes=20, n_estimators=60;, score=-252.957 total time=   0.0s\n",
      "[CV 1/5] END criterion=squared_error, max_depth=3, max_features=log2, max_leaf_nodes=20, n_estimators=80;, score=-264.939 total time=   0.0s\n",
      "[CV 2/5] END criterion=squared_error, max_depth=3, max_features=log2, max_leaf_nodes=20, n_estimators=80;, score=-235.801 total time=   0.0s\n",
      "[CV 3/5] END criterion=squared_error, max_depth=3, max_features=log2, max_leaf_nodes=20, n_estimators=80;, score=-406.554 total time=   0.0s\n",
      "[CV 4/5] END criterion=squared_error, max_depth=3, max_features=log2, max_leaf_nodes=20, n_estimators=80;, score=-236.582 total time=   0.0s\n"
     ]
    },
    {
     "name": "stdout",
     "output_type": "stream",
     "text": [
      "[CV 5/5] END criterion=squared_error, max_depth=3, max_features=log2, max_leaf_nodes=20, n_estimators=80;, score=-256.413 total time=   0.0s\n",
      "[CV 1/5] END criterion=squared_error, max_depth=3, max_features=log2, max_leaf_nodes=20, n_estimators=100;, score=-266.118 total time=   0.0s\n",
      "[CV 2/5] END criterion=squared_error, max_depth=3, max_features=log2, max_leaf_nodes=20, n_estimators=100;, score=-236.928 total time=   0.0s\n",
      "[CV 3/5] END criterion=squared_error, max_depth=3, max_features=log2, max_leaf_nodes=20, n_estimators=100;, score=-408.151 total time=   0.0s\n",
      "[CV 4/5] END criterion=squared_error, max_depth=3, max_features=log2, max_leaf_nodes=20, n_estimators=100;, score=-237.036 total time=   0.0s\n",
      "[CV 5/5] END criterion=squared_error, max_depth=3, max_features=log2, max_leaf_nodes=20, n_estimators=100;, score=-259.222 total time=   0.0s\n",
      "[CV 1/5] END criterion=squared_error, max_depth=4, max_features=None, max_leaf_nodes=11, n_estimators=60;, score=-193.777 total time=   0.0s\n",
      "[CV 2/5] END criterion=squared_error, max_depth=4, max_features=None, max_leaf_nodes=11, n_estimators=60;, score=-190.141 total time=   0.0s\n",
      "[CV 3/5] END criterion=squared_error, max_depth=4, max_features=None, max_leaf_nodes=11, n_estimators=60;, score=-365.149 total time=   0.0s\n",
      "[CV 4/5] END criterion=squared_error, max_depth=4, max_features=None, max_leaf_nodes=11, n_estimators=60;, score=-174.110 total time=   0.0s\n",
      "[CV 5/5] END criterion=squared_error, max_depth=4, max_features=None, max_leaf_nodes=11, n_estimators=60;, score=-203.979 total time=   0.0s\n",
      "[CV 1/5] END criterion=squared_error, max_depth=4, max_features=None, max_leaf_nodes=11, n_estimators=80;, score=-192.882 total time=   0.0s\n",
      "[CV 2/5] END criterion=squared_error, max_depth=4, max_features=None, max_leaf_nodes=11, n_estimators=80;, score=-189.622 total time=   0.0s\n",
      "[CV 3/5] END criterion=squared_error, max_depth=4, max_features=None, max_leaf_nodes=11, n_estimators=80;, score=-364.591 total time=   0.0s\n",
      "[CV 4/5] END criterion=squared_error, max_depth=4, max_features=None, max_leaf_nodes=11, n_estimators=80;, score=-173.440 total time=   0.0s\n",
      "[CV 5/5] END criterion=squared_error, max_depth=4, max_features=None, max_leaf_nodes=11, n_estimators=80;, score=-203.302 total time=   0.0s\n",
      "[CV 1/5] END criterion=squared_error, max_depth=4, max_features=None, max_leaf_nodes=11, n_estimators=100;, score=-192.346 total time=   0.0s\n",
      "[CV 2/5] END criterion=squared_error, max_depth=4, max_features=None, max_leaf_nodes=11, n_estimators=100;, score=-188.969 total time=   0.0s\n",
      "[CV 3/5] END criterion=squared_error, max_depth=4, max_features=None, max_leaf_nodes=11, n_estimators=100;, score=-365.187 total time=   0.0s\n",
      "[CV 4/5] END criterion=squared_error, max_depth=4, max_features=None, max_leaf_nodes=11, n_estimators=100;, score=-173.512 total time=   0.0s\n",
      "[CV 5/5] END criterion=squared_error, max_depth=4, max_features=None, max_leaf_nodes=11, n_estimators=100;, score=-203.372 total time=   0.0s\n",
      "[CV 1/5] END criterion=squared_error, max_depth=4, max_features=None, max_leaf_nodes=16, n_estimators=60;, score=-194.016 total time=   0.0s\n",
      "[CV 2/5] END criterion=squared_error, max_depth=4, max_features=None, max_leaf_nodes=16, n_estimators=60;, score=-190.119 total time=   0.0s\n",
      "[CV 3/5] END criterion=squared_error, max_depth=4, max_features=None, max_leaf_nodes=16, n_estimators=60;, score=-364.450 total time=   0.0s\n",
      "[CV 4/5] END criterion=squared_error, max_depth=4, max_features=None, max_leaf_nodes=16, n_estimators=60;, score=-172.816 total time=   0.0s\n",
      "[CV 5/5] END criterion=squared_error, max_depth=4, max_features=None, max_leaf_nodes=16, n_estimators=60;, score=-203.744 total time=   0.0s\n",
      "[CV 1/5] END criterion=squared_error, max_depth=4, max_features=None, max_leaf_nodes=16, n_estimators=80;, score=-193.159 total time=   0.0s\n",
      "[CV 2/5] END criterion=squared_error, max_depth=4, max_features=None, max_leaf_nodes=16, n_estimators=80;, score=-189.329 total time=   0.0s\n",
      "[CV 3/5] END criterion=squared_error, max_depth=4, max_features=None, max_leaf_nodes=16, n_estimators=80;, score=-363.101 total time=   0.0s\n",
      "[CV 4/5] END criterion=squared_error, max_depth=4, max_features=None, max_leaf_nodes=16, n_estimators=80;, score=-172.159 total time=   0.0s\n",
      "[CV 5/5] END criterion=squared_error, max_depth=4, max_features=None, max_leaf_nodes=16, n_estimators=80;, score=-203.241 total time=   0.0s\n",
      "[CV 1/5] END criterion=squared_error, max_depth=4, max_features=None, max_leaf_nodes=16, n_estimators=100;, score=-192.770 total time=   0.0s\n",
      "[CV 2/5] END criterion=squared_error, max_depth=4, max_features=None, max_leaf_nodes=16, n_estimators=100;, score=-188.758 total time=   0.0s\n",
      "[CV 3/5] END criterion=squared_error, max_depth=4, max_features=None, max_leaf_nodes=16, n_estimators=100;, score=-363.538 total time=   0.0s\n",
      "[CV 4/5] END criterion=squared_error, max_depth=4, max_features=None, max_leaf_nodes=16, n_estimators=100;, score=-172.259 total time=   0.0s\n",
      "[CV 5/5] END criterion=squared_error, max_depth=4, max_features=None, max_leaf_nodes=16, n_estimators=100;, score=-203.537 total time=   0.0s\n",
      "[CV 1/5] END criterion=squared_error, max_depth=4, max_features=None, max_leaf_nodes=20, n_estimators=60;, score=-194.016 total time=   0.0s\n",
      "[CV 2/5] END criterion=squared_error, max_depth=4, max_features=None, max_leaf_nodes=20, n_estimators=60;, score=-190.119 total time=   0.0s\n",
      "[CV 3/5] END criterion=squared_error, max_depth=4, max_features=None, max_leaf_nodes=20, n_estimators=60;, score=-364.450 total time=   0.0s\n",
      "[CV 4/5] END criterion=squared_error, max_depth=4, max_features=None, max_leaf_nodes=20, n_estimators=60;, score=-172.816 total time=   0.0s\n",
      "[CV 5/5] END criterion=squared_error, max_depth=4, max_features=None, max_leaf_nodes=20, n_estimators=60;, score=-203.744 total time=   0.0s\n",
      "[CV 1/5] END criterion=squared_error, max_depth=4, max_features=None, max_leaf_nodes=20, n_estimators=80;, score=-193.159 total time=   0.0s\n",
      "[CV 2/5] END criterion=squared_error, max_depth=4, max_features=None, max_leaf_nodes=20, n_estimators=80;, score=-189.329 total time=   0.0s\n",
      "[CV 3/5] END criterion=squared_error, max_depth=4, max_features=None, max_leaf_nodes=20, n_estimators=80;, score=-363.101 total time=   0.0s\n",
      "[CV 4/5] END criterion=squared_error, max_depth=4, max_features=None, max_leaf_nodes=20, n_estimators=80;, score=-172.159 total time=   0.0s\n",
      "[CV 5/5] END criterion=squared_error, max_depth=4, max_features=None, max_leaf_nodes=20, n_estimators=80;, score=-203.241 total time=   0.0s\n",
      "[CV 1/5] END criterion=squared_error, max_depth=4, max_features=None, max_leaf_nodes=20, n_estimators=100;, score=-192.770 total time=   0.0s\n",
      "[CV 2/5] END criterion=squared_error, max_depth=4, max_features=None, max_leaf_nodes=20, n_estimators=100;, score=-188.758 total time=   0.0s\n",
      "[CV 3/5] END criterion=squared_error, max_depth=4, max_features=None, max_leaf_nodes=20, n_estimators=100;, score=-363.538 total time=   0.0s\n",
      "[CV 4/5] END criterion=squared_error, max_depth=4, max_features=None, max_leaf_nodes=20, n_estimators=100;, score=-172.259 total time=   0.0s\n",
      "[CV 5/5] END criterion=squared_error, max_depth=4, max_features=None, max_leaf_nodes=20, n_estimators=100;, score=-203.537 total time=   0.0s\n",
      "[CV 1/5] END criterion=squared_error, max_depth=4, max_features=sqrt, max_leaf_nodes=11, n_estimators=60;, score=-238.159 total time=   0.0s\n",
      "[CV 2/5] END criterion=squared_error, max_depth=4, max_features=sqrt, max_leaf_nodes=11, n_estimators=60;, score=-207.032 total time=   0.0s\n",
      "[CV 3/5] END criterion=squared_error, max_depth=4, max_features=sqrt, max_leaf_nodes=11, n_estimators=60;, score=-381.555 total time=   0.0s\n",
      "[CV 4/5] END criterion=squared_error, max_depth=4, max_features=sqrt, max_leaf_nodes=11, n_estimators=60;, score=-210.224 total time=   0.0s\n",
      "[CV 5/5] END criterion=squared_error, max_depth=4, max_features=sqrt, max_leaf_nodes=11, n_estimators=60;, score=-235.778 total time=   0.0s\n",
      "[CV 1/5] END criterion=squared_error, max_depth=4, max_features=sqrt, max_leaf_nodes=11, n_estimators=80;, score=-240.019 total time=   0.0s\n",
      "[CV 2/5] END criterion=squared_error, max_depth=4, max_features=sqrt, max_leaf_nodes=11, n_estimators=80;, score=-210.073 total time=   0.0s\n",
      "[CV 3/5] END criterion=squared_error, max_depth=4, max_features=sqrt, max_leaf_nodes=11, n_estimators=80;, score=-383.462 total time=   0.0s\n"
     ]
    },
    {
     "name": "stdout",
     "output_type": "stream",
     "text": [
      "[CV 4/5] END criterion=squared_error, max_depth=4, max_features=sqrt, max_leaf_nodes=11, n_estimators=80;, score=-212.462 total time=   0.0s\n",
      "[CV 5/5] END criterion=squared_error, max_depth=4, max_features=sqrt, max_leaf_nodes=11, n_estimators=80;, score=-237.038 total time=   0.0s\n",
      "[CV 1/5] END criterion=squared_error, max_depth=4, max_features=sqrt, max_leaf_nodes=11, n_estimators=100;, score=-241.568 total time=   0.0s\n",
      "[CV 2/5] END criterion=squared_error, max_depth=4, max_features=sqrt, max_leaf_nodes=11, n_estimators=100;, score=-210.174 total time=   0.0s\n",
      "[CV 3/5] END criterion=squared_error, max_depth=4, max_features=sqrt, max_leaf_nodes=11, n_estimators=100;, score=-384.306 total time=   0.0s\n",
      "[CV 4/5] END criterion=squared_error, max_depth=4, max_features=sqrt, max_leaf_nodes=11, n_estimators=100;, score=-212.253 total time=   0.0s\n",
      "[CV 5/5] END criterion=squared_error, max_depth=4, max_features=sqrt, max_leaf_nodes=11, n_estimators=100;, score=-239.074 total time=   0.0s\n",
      "[CV 1/5] END criterion=squared_error, max_depth=4, max_features=sqrt, max_leaf_nodes=16, n_estimators=60;, score=-223.667 total time=   0.0s\n",
      "[CV 2/5] END criterion=squared_error, max_depth=4, max_features=sqrt, max_leaf_nodes=16, n_estimators=60;, score=-197.846 total time=   0.0s\n",
      "[CV 3/5] END criterion=squared_error, max_depth=4, max_features=sqrt, max_leaf_nodes=16, n_estimators=60;, score=-370.943 total time=   0.0s\n",
      "[CV 4/5] END criterion=squared_error, max_depth=4, max_features=sqrt, max_leaf_nodes=16, n_estimators=60;, score=-198.009 total time=   0.0s\n",
      "[CV 5/5] END criterion=squared_error, max_depth=4, max_features=sqrt, max_leaf_nodes=16, n_estimators=60;, score=-227.800 total time=   0.0s\n",
      "[CV 1/5] END criterion=squared_error, max_depth=4, max_features=sqrt, max_leaf_nodes=16, n_estimators=80;, score=-222.588 total time=   0.0s\n",
      "[CV 2/5] END criterion=squared_error, max_depth=4, max_features=sqrt, max_leaf_nodes=16, n_estimators=80;, score=-198.537 total time=   0.0s\n",
      "[CV 3/5] END criterion=squared_error, max_depth=4, max_features=sqrt, max_leaf_nodes=16, n_estimators=80;, score=-371.230 total time=   0.0s\n",
      "[CV 4/5] END criterion=squared_error, max_depth=4, max_features=sqrt, max_leaf_nodes=16, n_estimators=80;, score=-198.829 total time=   0.0s\n",
      "[CV 5/5] END criterion=squared_error, max_depth=4, max_features=sqrt, max_leaf_nodes=16, n_estimators=80;, score=-227.089 total time=   0.0s\n",
      "[CV 1/5] END criterion=squared_error, max_depth=4, max_features=sqrt, max_leaf_nodes=16, n_estimators=100;, score=-224.168 total time=   0.0s\n",
      "[CV 2/5] END criterion=squared_error, max_depth=4, max_features=sqrt, max_leaf_nodes=16, n_estimators=100;, score=-198.837 total time=   0.0s\n",
      "[CV 3/5] END criterion=squared_error, max_depth=4, max_features=sqrt, max_leaf_nodes=16, n_estimators=100;, score=-371.801 total time=   0.0s\n",
      "[CV 4/5] END criterion=squared_error, max_depth=4, max_features=sqrt, max_leaf_nodes=16, n_estimators=100;, score=-197.096 total time=   0.0s\n",
      "[CV 5/5] END criterion=squared_error, max_depth=4, max_features=sqrt, max_leaf_nodes=16, n_estimators=100;, score=-228.341 total time=   0.0s\n",
      "[CV 1/5] END criterion=squared_error, max_depth=4, max_features=sqrt, max_leaf_nodes=20, n_estimators=60;, score=-223.667 total time=   0.0s\n",
      "[CV 2/5] END criterion=squared_error, max_depth=4, max_features=sqrt, max_leaf_nodes=20, n_estimators=60;, score=-197.846 total time=   0.0s\n",
      "[CV 3/5] END criterion=squared_error, max_depth=4, max_features=sqrt, max_leaf_nodes=20, n_estimators=60;, score=-370.943 total time=   0.0s\n",
      "[CV 4/5] END criterion=squared_error, max_depth=4, max_features=sqrt, max_leaf_nodes=20, n_estimators=60;, score=-198.009 total time=   0.0s\n",
      "[CV 5/5] END criterion=squared_error, max_depth=4, max_features=sqrt, max_leaf_nodes=20, n_estimators=60;, score=-227.800 total time=   0.0s\n",
      "[CV 1/5] END criterion=squared_error, max_depth=4, max_features=sqrt, max_leaf_nodes=20, n_estimators=80;, score=-222.588 total time=   0.0s\n",
      "[CV 2/5] END criterion=squared_error, max_depth=4, max_features=sqrt, max_leaf_nodes=20, n_estimators=80;, score=-198.537 total time=   0.0s\n",
      "[CV 3/5] END criterion=squared_error, max_depth=4, max_features=sqrt, max_leaf_nodes=20, n_estimators=80;, score=-371.230 total time=   0.0s\n",
      "[CV 4/5] END criterion=squared_error, max_depth=4, max_features=sqrt, max_leaf_nodes=20, n_estimators=80;, score=-198.829 total time=   0.0s\n",
      "[CV 5/5] END criterion=squared_error, max_depth=4, max_features=sqrt, max_leaf_nodes=20, n_estimators=80;, score=-227.089 total time=   0.0s\n",
      "[CV 1/5] END criterion=squared_error, max_depth=4, max_features=sqrt, max_leaf_nodes=20, n_estimators=100;, score=-224.168 total time=   0.0s\n",
      "[CV 2/5] END criterion=squared_error, max_depth=4, max_features=sqrt, max_leaf_nodes=20, n_estimators=100;, score=-198.837 total time=   0.0s\n",
      "[CV 3/5] END criterion=squared_error, max_depth=4, max_features=sqrt, max_leaf_nodes=20, n_estimators=100;, score=-371.801 total time=   0.0s\n",
      "[CV 4/5] END criterion=squared_error, max_depth=4, max_features=sqrt, max_leaf_nodes=20, n_estimators=100;, score=-197.096 total time=   0.0s\n",
      "[CV 5/5] END criterion=squared_error, max_depth=4, max_features=sqrt, max_leaf_nodes=20, n_estimators=100;, score=-228.341 total time=   0.0s\n",
      "[CV 1/5] END criterion=squared_error, max_depth=4, max_features=log2, max_leaf_nodes=11, n_estimators=60;, score=-238.159 total time=   0.0s\n",
      "[CV 2/5] END criterion=squared_error, max_depth=4, max_features=log2, max_leaf_nodes=11, n_estimators=60;, score=-207.032 total time=   0.0s\n",
      "[CV 3/5] END criterion=squared_error, max_depth=4, max_features=log2, max_leaf_nodes=11, n_estimators=60;, score=-381.555 total time=   0.0s\n",
      "[CV 4/5] END criterion=squared_error, max_depth=4, max_features=log2, max_leaf_nodes=11, n_estimators=60;, score=-210.224 total time=   0.0s\n",
      "[CV 5/5] END criterion=squared_error, max_depth=4, max_features=log2, max_leaf_nodes=11, n_estimators=60;, score=-235.778 total time=   0.0s\n",
      "[CV 1/5] END criterion=squared_error, max_depth=4, max_features=log2, max_leaf_nodes=11, n_estimators=80;, score=-240.019 total time=   0.0s\n",
      "[CV 2/5] END criterion=squared_error, max_depth=4, max_features=log2, max_leaf_nodes=11, n_estimators=80;, score=-210.073 total time=   0.0s\n",
      "[CV 3/5] END criterion=squared_error, max_depth=4, max_features=log2, max_leaf_nodes=11, n_estimators=80;, score=-383.462 total time=   0.0s\n",
      "[CV 4/5] END criterion=squared_error, max_depth=4, max_features=log2, max_leaf_nodes=11, n_estimators=80;, score=-212.462 total time=   0.0s\n",
      "[CV 5/5] END criterion=squared_error, max_depth=4, max_features=log2, max_leaf_nodes=11, n_estimators=80;, score=-237.038 total time=   0.0s\n",
      "[CV 1/5] END criterion=squared_error, max_depth=4, max_features=log2, max_leaf_nodes=11, n_estimators=100;, score=-241.568 total time=   0.0s\n",
      "[CV 2/5] END criterion=squared_error, max_depth=4, max_features=log2, max_leaf_nodes=11, n_estimators=100;, score=-210.174 total time=   0.0s\n",
      "[CV 3/5] END criterion=squared_error, max_depth=4, max_features=log2, max_leaf_nodes=11, n_estimators=100;, score=-384.306 total time=   0.0s\n",
      "[CV 4/5] END criterion=squared_error, max_depth=4, max_features=log2, max_leaf_nodes=11, n_estimators=100;, score=-212.253 total time=   0.0s\n",
      "[CV 5/5] END criterion=squared_error, max_depth=4, max_features=log2, max_leaf_nodes=11, n_estimators=100;, score=-239.074 total time=   0.0s\n",
      "[CV 1/5] END criterion=squared_error, max_depth=4, max_features=log2, max_leaf_nodes=16, n_estimators=60;, score=-223.667 total time=   0.0s\n",
      "[CV 2/5] END criterion=squared_error, max_depth=4, max_features=log2, max_leaf_nodes=16, n_estimators=60;, score=-197.846 total time=   0.0s\n",
      "[CV 3/5] END criterion=squared_error, max_depth=4, max_features=log2, max_leaf_nodes=16, n_estimators=60;, score=-370.943 total time=   0.0s\n",
      "[CV 4/5] END criterion=squared_error, max_depth=4, max_features=log2, max_leaf_nodes=16, n_estimators=60;, score=-198.009 total time=   0.0s\n",
      "[CV 5/5] END criterion=squared_error, max_depth=4, max_features=log2, max_leaf_nodes=16, n_estimators=60;, score=-227.800 total time=   0.0s\n",
      "[CV 1/5] END criterion=squared_error, max_depth=4, max_features=log2, max_leaf_nodes=16, n_estimators=80;, score=-222.588 total time=   0.0s\n"
     ]
    },
    {
     "name": "stdout",
     "output_type": "stream",
     "text": [
      "[CV 2/5] END criterion=squared_error, max_depth=4, max_features=log2, max_leaf_nodes=16, n_estimators=80;, score=-198.537 total time=   0.0s\n",
      "[CV 3/5] END criterion=squared_error, max_depth=4, max_features=log2, max_leaf_nodes=16, n_estimators=80;, score=-371.230 total time=   0.0s\n",
      "[CV 4/5] END criterion=squared_error, max_depth=4, max_features=log2, max_leaf_nodes=16, n_estimators=80;, score=-198.829 total time=   0.0s\n",
      "[CV 5/5] END criterion=squared_error, max_depth=4, max_features=log2, max_leaf_nodes=16, n_estimators=80;, score=-227.089 total time=   0.0s\n",
      "[CV 1/5] END criterion=squared_error, max_depth=4, max_features=log2, max_leaf_nodes=16, n_estimators=100;, score=-224.168 total time=   0.0s\n",
      "[CV 2/5] END criterion=squared_error, max_depth=4, max_features=log2, max_leaf_nodes=16, n_estimators=100;, score=-198.837 total time=   0.0s\n",
      "[CV 3/5] END criterion=squared_error, max_depth=4, max_features=log2, max_leaf_nodes=16, n_estimators=100;, score=-371.801 total time=   0.0s\n",
      "[CV 4/5] END criterion=squared_error, max_depth=4, max_features=log2, max_leaf_nodes=16, n_estimators=100;, score=-197.096 total time=   0.0s\n",
      "[CV 5/5] END criterion=squared_error, max_depth=4, max_features=log2, max_leaf_nodes=16, n_estimators=100;, score=-228.341 total time=   0.0s\n",
      "[CV 1/5] END criterion=squared_error, max_depth=4, max_features=log2, max_leaf_nodes=20, n_estimators=60;, score=-223.667 total time=   0.0s\n",
      "[CV 2/5] END criterion=squared_error, max_depth=4, max_features=log2, max_leaf_nodes=20, n_estimators=60;, score=-197.846 total time=   0.0s\n",
      "[CV 3/5] END criterion=squared_error, max_depth=4, max_features=log2, max_leaf_nodes=20, n_estimators=60;, score=-370.943 total time=   0.0s\n",
      "[CV 4/5] END criterion=squared_error, max_depth=4, max_features=log2, max_leaf_nodes=20, n_estimators=60;, score=-198.009 total time=   0.0s\n",
      "[CV 5/5] END criterion=squared_error, max_depth=4, max_features=log2, max_leaf_nodes=20, n_estimators=60;, score=-227.800 total time=   0.0s\n",
      "[CV 1/5] END criterion=squared_error, max_depth=4, max_features=log2, max_leaf_nodes=20, n_estimators=80;, score=-222.588 total time=   0.0s\n",
      "[CV 2/5] END criterion=squared_error, max_depth=4, max_features=log2, max_leaf_nodes=20, n_estimators=80;, score=-198.537 total time=   0.0s\n",
      "[CV 3/5] END criterion=squared_error, max_depth=4, max_features=log2, max_leaf_nodes=20, n_estimators=80;, score=-371.230 total time=   0.0s\n",
      "[CV 4/5] END criterion=squared_error, max_depth=4, max_features=log2, max_leaf_nodes=20, n_estimators=80;, score=-198.829 total time=   0.0s\n",
      "[CV 5/5] END criterion=squared_error, max_depth=4, max_features=log2, max_leaf_nodes=20, n_estimators=80;, score=-227.089 total time=   0.0s\n",
      "[CV 1/5] END criterion=squared_error, max_depth=4, max_features=log2, max_leaf_nodes=20, n_estimators=100;, score=-224.168 total time=   0.0s\n",
      "[CV 2/5] END criterion=squared_error, max_depth=4, max_features=log2, max_leaf_nodes=20, n_estimators=100;, score=-198.837 total time=   0.0s\n",
      "[CV 3/5] END criterion=squared_error, max_depth=4, max_features=log2, max_leaf_nodes=20, n_estimators=100;, score=-371.801 total time=   0.0s\n",
      "[CV 4/5] END criterion=squared_error, max_depth=4, max_features=log2, max_leaf_nodes=20, n_estimators=100;, score=-197.096 total time=   0.0s\n",
      "[CV 5/5] END criterion=squared_error, max_depth=4, max_features=log2, max_leaf_nodes=20, n_estimators=100;, score=-228.341 total time=   0.0s\n",
      "[CV 1/5] END criterion=squared_error, max_depth=5, max_features=None, max_leaf_nodes=11, n_estimators=60;, score=-192.682 total time=   0.0s\n",
      "[CV 2/5] END criterion=squared_error, max_depth=5, max_features=None, max_leaf_nodes=11, n_estimators=60;, score=-194.544 total time=   0.0s\n",
      "[CV 3/5] END criterion=squared_error, max_depth=5, max_features=None, max_leaf_nodes=11, n_estimators=60;, score=-364.988 total time=   0.0s\n",
      "[CV 4/5] END criterion=squared_error, max_depth=5, max_features=None, max_leaf_nodes=11, n_estimators=60;, score=-174.215 total time=   0.0s\n",
      "[CV 5/5] END criterion=squared_error, max_depth=5, max_features=None, max_leaf_nodes=11, n_estimators=60;, score=-205.576 total time=   0.0s\n",
      "[CV 1/5] END criterion=squared_error, max_depth=5, max_features=None, max_leaf_nodes=11, n_estimators=80;, score=-191.762 total time=   0.0s\n",
      "[CV 2/5] END criterion=squared_error, max_depth=5, max_features=None, max_leaf_nodes=11, n_estimators=80;, score=-193.984 total time=   0.0s\n",
      "[CV 3/5] END criterion=squared_error, max_depth=5, max_features=None, max_leaf_nodes=11, n_estimators=80;, score=-364.434 total time=   0.0s\n",
      "[CV 4/5] END criterion=squared_error, max_depth=5, max_features=None, max_leaf_nodes=11, n_estimators=80;, score=-173.712 total time=   0.0s\n",
      "[CV 5/5] END criterion=squared_error, max_depth=5, max_features=None, max_leaf_nodes=11, n_estimators=80;, score=-204.198 total time=   0.0s\n",
      "[CV 1/5] END criterion=squared_error, max_depth=5, max_features=None, max_leaf_nodes=11, n_estimators=100;, score=-191.514 total time=   0.0s\n",
      "[CV 2/5] END criterion=squared_error, max_depth=5, max_features=None, max_leaf_nodes=11, n_estimators=100;, score=-193.189 total time=   0.0s\n",
      "[CV 3/5] END criterion=squared_error, max_depth=5, max_features=None, max_leaf_nodes=11, n_estimators=100;, score=-365.024 total time=   0.0s\n",
      "[CV 4/5] END criterion=squared_error, max_depth=5, max_features=None, max_leaf_nodes=11, n_estimators=100;, score=-173.930 total time=   0.0s\n",
      "[CV 5/5] END criterion=squared_error, max_depth=5, max_features=None, max_leaf_nodes=11, n_estimators=100;, score=-204.304 total time=   0.0s\n",
      "[CV 1/5] END criterion=squared_error, max_depth=5, max_features=None, max_leaf_nodes=16, n_estimators=60;, score=-194.589 total time=   0.0s\n",
      "[CV 2/5] END criterion=squared_error, max_depth=5, max_features=None, max_leaf_nodes=16, n_estimators=60;, score=-197.925 total time=   0.0s\n",
      "[CV 3/5] END criterion=squared_error, max_depth=5, max_features=None, max_leaf_nodes=16, n_estimators=60;, score=-363.732 total time=   0.0s\n",
      "[CV 4/5] END criterion=squared_error, max_depth=5, max_features=None, max_leaf_nodes=16, n_estimators=60;, score=-173.385 total time=   0.0s\n",
      "[CV 5/5] END criterion=squared_error, max_depth=5, max_features=None, max_leaf_nodes=16, n_estimators=60;, score=-206.258 total time=   0.0s\n",
      "[CV 1/5] END criterion=squared_error, max_depth=5, max_features=None, max_leaf_nodes=16, n_estimators=80;, score=-193.662 total time=   0.0s\n",
      "[CV 2/5] END criterion=squared_error, max_depth=5, max_features=None, max_leaf_nodes=16, n_estimators=80;, score=-197.891 total time=   0.0s\n",
      "[CV 3/5] END criterion=squared_error, max_depth=5, max_features=None, max_leaf_nodes=16, n_estimators=80;, score=-363.597 total time=   0.0s\n",
      "[CV 4/5] END criterion=squared_error, max_depth=5, max_features=None, max_leaf_nodes=16, n_estimators=80;, score=-172.615 total time=   0.0s\n",
      "[CV 5/5] END criterion=squared_error, max_depth=5, max_features=None, max_leaf_nodes=16, n_estimators=80;, score=-204.439 total time=   0.0s\n",
      "[CV 1/5] END criterion=squared_error, max_depth=5, max_features=None, max_leaf_nodes=16, n_estimators=100;, score=-193.398 total time=   0.0s\n",
      "[CV 2/5] END criterion=squared_error, max_depth=5, max_features=None, max_leaf_nodes=16, n_estimators=100;, score=-196.483 total time=   0.0s\n",
      "[CV 3/5] END criterion=squared_error, max_depth=5, max_features=None, max_leaf_nodes=16, n_estimators=100;, score=-364.079 total time=   0.0s\n",
      "[CV 4/5] END criterion=squared_error, max_depth=5, max_features=None, max_leaf_nodes=16, n_estimators=100;, score=-172.933 total time=   0.0s\n",
      "[CV 5/5] END criterion=squared_error, max_depth=5, max_features=None, max_leaf_nodes=16, n_estimators=100;, score=-204.917 total time=   0.0s\n",
      "[CV 1/5] END criterion=squared_error, max_depth=5, max_features=None, max_leaf_nodes=20, n_estimators=60;, score=-195.727 total time=   0.0s\n",
      "[CV 2/5] END criterion=squared_error, max_depth=5, max_features=None, max_leaf_nodes=20, n_estimators=60;, score=-198.189 total time=   0.0s\n",
      "[CV 3/5] END criterion=squared_error, max_depth=5, max_features=None, max_leaf_nodes=20, n_estimators=60;, score=-363.576 total time=   0.0s\n",
      "[CV 4/5] END criterion=squared_error, max_depth=5, max_features=None, max_leaf_nodes=20, n_estimators=60;, score=-174.082 total time=   0.0s\n",
      "[CV 5/5] END criterion=squared_error, max_depth=5, max_features=None, max_leaf_nodes=20, n_estimators=60;, score=-206.985 total time=   0.0s\n"
     ]
    },
    {
     "name": "stdout",
     "output_type": "stream",
     "text": [
      "[CV 1/5] END criterion=squared_error, max_depth=5, max_features=None, max_leaf_nodes=20, n_estimators=80;, score=-194.772 total time=   0.0s\n",
      "[CV 2/5] END criterion=squared_error, max_depth=5, max_features=None, max_leaf_nodes=20, n_estimators=80;, score=-198.111 total time=   0.0s\n",
      "[CV 3/5] END criterion=squared_error, max_depth=5, max_features=None, max_leaf_nodes=20, n_estimators=80;, score=-363.328 total time=   0.0s\n",
      "[CV 4/5] END criterion=squared_error, max_depth=5, max_features=None, max_leaf_nodes=20, n_estimators=80;, score=-173.176 total time=   0.0s\n",
      "[CV 5/5] END criterion=squared_error, max_depth=5, max_features=None, max_leaf_nodes=20, n_estimators=80;, score=-204.941 total time=   0.0s\n",
      "[CV 1/5] END criterion=squared_error, max_depth=5, max_features=None, max_leaf_nodes=20, n_estimators=100;, score=-193.948 total time=   0.0s\n",
      "[CV 2/5] END criterion=squared_error, max_depth=5, max_features=None, max_leaf_nodes=20, n_estimators=100;, score=-197.062 total time=   0.0s\n",
      "[CV 3/5] END criterion=squared_error, max_depth=5, max_features=None, max_leaf_nodes=20, n_estimators=100;, score=-363.850 total time=   0.0s\n",
      "[CV 4/5] END criterion=squared_error, max_depth=5, max_features=None, max_leaf_nodes=20, n_estimators=100;, score=-173.009 total time=   0.0s\n",
      "[CV 5/5] END criterion=squared_error, max_depth=5, max_features=None, max_leaf_nodes=20, n_estimators=100;, score=-205.348 total time=   0.0s\n",
      "[CV 1/5] END criterion=squared_error, max_depth=5, max_features=sqrt, max_leaf_nodes=11, n_estimators=60;, score=-241.431 total time=   0.0s\n",
      "[CV 2/5] END criterion=squared_error, max_depth=5, max_features=sqrt, max_leaf_nodes=11, n_estimators=60;, score=-208.632 total time=   0.0s\n",
      "[CV 3/5] END criterion=squared_error, max_depth=5, max_features=sqrt, max_leaf_nodes=11, n_estimators=60;, score=-383.445 total time=   0.0s\n",
      "[CV 4/5] END criterion=squared_error, max_depth=5, max_features=sqrt, max_leaf_nodes=11, n_estimators=60;, score=-214.378 total time=   0.0s\n",
      "[CV 5/5] END criterion=squared_error, max_depth=5, max_features=sqrt, max_leaf_nodes=11, n_estimators=60;, score=-239.246 total time=   0.0s\n",
      "[CV 1/5] END criterion=squared_error, max_depth=5, max_features=sqrt, max_leaf_nodes=11, n_estimators=80;, score=-244.594 total time=   0.0s\n",
      "[CV 2/5] END criterion=squared_error, max_depth=5, max_features=sqrt, max_leaf_nodes=11, n_estimators=80;, score=-211.634 total time=   0.0s\n",
      "[CV 3/5] END criterion=squared_error, max_depth=5, max_features=sqrt, max_leaf_nodes=11, n_estimators=80;, score=-386.440 total time=   0.0s\n",
      "[CV 4/5] END criterion=squared_error, max_depth=5, max_features=sqrt, max_leaf_nodes=11, n_estimators=80;, score=-217.274 total time=   0.0s\n",
      "[CV 5/5] END criterion=squared_error, max_depth=5, max_features=sqrt, max_leaf_nodes=11, n_estimators=80;, score=-242.035 total time=   0.0s\n",
      "[CV 1/5] END criterion=squared_error, max_depth=5, max_features=sqrt, max_leaf_nodes=11, n_estimators=100;, score=-245.194 total time=   0.0s\n",
      "[CV 2/5] END criterion=squared_error, max_depth=5, max_features=sqrt, max_leaf_nodes=11, n_estimators=100;, score=-211.150 total time=   0.0s\n",
      "[CV 3/5] END criterion=squared_error, max_depth=5, max_features=sqrt, max_leaf_nodes=11, n_estimators=100;, score=-386.891 total time=   0.0s\n",
      "[CV 4/5] END criterion=squared_error, max_depth=5, max_features=sqrt, max_leaf_nodes=11, n_estimators=100;, score=-216.855 total time=   0.0s\n",
      "[CV 5/5] END criterion=squared_error, max_depth=5, max_features=sqrt, max_leaf_nodes=11, n_estimators=100;, score=-243.133 total time=   0.0s\n",
      "[CV 1/5] END criterion=squared_error, max_depth=5, max_features=sqrt, max_leaf_nodes=16, n_estimators=60;, score=-223.551 total time=   0.0s\n",
      "[CV 2/5] END criterion=squared_error, max_depth=5, max_features=sqrt, max_leaf_nodes=16, n_estimators=60;, score=-195.596 total time=   0.0s\n",
      "[CV 3/5] END criterion=squared_error, max_depth=5, max_features=sqrt, max_leaf_nodes=16, n_estimators=60;, score=-368.633 total time=   0.0s\n",
      "[CV 4/5] END criterion=squared_error, max_depth=5, max_features=sqrt, max_leaf_nodes=16, n_estimators=60;, score=-195.370 total time=   0.0s\n",
      "[CV 5/5] END criterion=squared_error, max_depth=5, max_features=sqrt, max_leaf_nodes=16, n_estimators=60;, score=-224.252 total time=   0.0s\n",
      "[CV 1/5] END criterion=squared_error, max_depth=5, max_features=sqrt, max_leaf_nodes=16, n_estimators=80;, score=-225.680 total time=   0.0s\n",
      "[CV 2/5] END criterion=squared_error, max_depth=5, max_features=sqrt, max_leaf_nodes=16, n_estimators=80;, score=-197.852 total time=   0.0s\n",
      "[CV 3/5] END criterion=squared_error, max_depth=5, max_features=sqrt, max_leaf_nodes=16, n_estimators=80;, score=-370.180 total time=   0.0s\n",
      "[CV 4/5] END criterion=squared_error, max_depth=5, max_features=sqrt, max_leaf_nodes=16, n_estimators=80;, score=-196.736 total time=   0.0s\n",
      "[CV 5/5] END criterion=squared_error, max_depth=5, max_features=sqrt, max_leaf_nodes=16, n_estimators=80;, score=-225.116 total time=   0.0s\n",
      "[CV 1/5] END criterion=squared_error, max_depth=5, max_features=sqrt, max_leaf_nodes=16, n_estimators=100;, score=-224.982 total time=   0.0s\n",
      "[CV 2/5] END criterion=squared_error, max_depth=5, max_features=sqrt, max_leaf_nodes=16, n_estimators=100;, score=-197.153 total time=   0.0s\n",
      "[CV 3/5] END criterion=squared_error, max_depth=5, max_features=sqrt, max_leaf_nodes=16, n_estimators=100;, score=-369.542 total time=   0.0s\n",
      "[CV 4/5] END criterion=squared_error, max_depth=5, max_features=sqrt, max_leaf_nodes=16, n_estimators=100;, score=-197.557 total time=   0.0s\n",
      "[CV 5/5] END criterion=squared_error, max_depth=5, max_features=sqrt, max_leaf_nodes=16, n_estimators=100;, score=-225.550 total time=   0.0s\n",
      "[CV 1/5] END criterion=squared_error, max_depth=5, max_features=sqrt, max_leaf_nodes=20, n_estimators=60;, score=-216.320 total time=   0.0s\n",
      "[CV 2/5] END criterion=squared_error, max_depth=5, max_features=sqrt, max_leaf_nodes=20, n_estimators=60;, score=-192.698 total time=   0.0s\n",
      "[CV 3/5] END criterion=squared_error, max_depth=5, max_features=sqrt, max_leaf_nodes=20, n_estimators=60;, score=-362.924 total time=   0.0s\n",
      "[CV 4/5] END criterion=squared_error, max_depth=5, max_features=sqrt, max_leaf_nodes=20, n_estimators=60;, score=-188.046 total time=   0.0s\n",
      "[CV 5/5] END criterion=squared_error, max_depth=5, max_features=sqrt, max_leaf_nodes=20, n_estimators=60;, score=-220.625 total time=   0.0s\n",
      "[CV 1/5] END criterion=squared_error, max_depth=5, max_features=sqrt, max_leaf_nodes=20, n_estimators=80;, score=-217.214 total time=   0.0s\n",
      "[CV 2/5] END criterion=squared_error, max_depth=5, max_features=sqrt, max_leaf_nodes=20, n_estimators=80;, score=-194.035 total time=   0.0s\n",
      "[CV 3/5] END criterion=squared_error, max_depth=5, max_features=sqrt, max_leaf_nodes=20, n_estimators=80;, score=-365.036 total time=   0.0s\n",
      "[CV 4/5] END criterion=squared_error, max_depth=5, max_features=sqrt, max_leaf_nodes=20, n_estimators=80;, score=-188.113 total time=   0.0s\n",
      "[CV 5/5] END criterion=squared_error, max_depth=5, max_features=sqrt, max_leaf_nodes=20, n_estimators=80;, score=-220.990 total time=   0.0s\n",
      "[CV 1/5] END criterion=squared_error, max_depth=5, max_features=sqrt, max_leaf_nodes=20, n_estimators=100;, score=-216.628 total time=   0.0s\n",
      "[CV 2/5] END criterion=squared_error, max_depth=5, max_features=sqrt, max_leaf_nodes=20, n_estimators=100;, score=-194.063 total time=   0.0s\n",
      "[CV 3/5] END criterion=squared_error, max_depth=5, max_features=sqrt, max_leaf_nodes=20, n_estimators=100;, score=-364.473 total time=   0.0s\n",
      "[CV 4/5] END criterion=squared_error, max_depth=5, max_features=sqrt, max_leaf_nodes=20, n_estimators=100;, score=-187.436 total time=   0.0s\n",
      "[CV 5/5] END criterion=squared_error, max_depth=5, max_features=sqrt, max_leaf_nodes=20, n_estimators=100;, score=-220.642 total time=   0.0s\n",
      "[CV 1/5] END criterion=squared_error, max_depth=5, max_features=log2, max_leaf_nodes=11, n_estimators=60;, score=-241.431 total time=   0.0s\n",
      "[CV 2/5] END criterion=squared_error, max_depth=5, max_features=log2, max_leaf_nodes=11, n_estimators=60;, score=-208.632 total time=   0.0s\n",
      "[CV 3/5] END criterion=squared_error, max_depth=5, max_features=log2, max_leaf_nodes=11, n_estimators=60;, score=-383.445 total time=   0.0s\n"
     ]
    },
    {
     "name": "stdout",
     "output_type": "stream",
     "text": [
      "[CV 4/5] END criterion=squared_error, max_depth=5, max_features=log2, max_leaf_nodes=11, n_estimators=60;, score=-214.378 total time=   0.0s\n",
      "[CV 5/5] END criterion=squared_error, max_depth=5, max_features=log2, max_leaf_nodes=11, n_estimators=60;, score=-239.246 total time=   0.0s\n",
      "[CV 1/5] END criterion=squared_error, max_depth=5, max_features=log2, max_leaf_nodes=11, n_estimators=80;, score=-244.594 total time=   0.0s\n",
      "[CV 2/5] END criterion=squared_error, max_depth=5, max_features=log2, max_leaf_nodes=11, n_estimators=80;, score=-211.634 total time=   0.0s\n",
      "[CV 3/5] END criterion=squared_error, max_depth=5, max_features=log2, max_leaf_nodes=11, n_estimators=80;, score=-386.440 total time=   0.0s\n",
      "[CV 4/5] END criterion=squared_error, max_depth=5, max_features=log2, max_leaf_nodes=11, n_estimators=80;, score=-217.274 total time=   0.0s\n",
      "[CV 5/5] END criterion=squared_error, max_depth=5, max_features=log2, max_leaf_nodes=11, n_estimators=80;, score=-242.035 total time=   0.0s\n",
      "[CV 1/5] END criterion=squared_error, max_depth=5, max_features=log2, max_leaf_nodes=11, n_estimators=100;, score=-245.194 total time=   0.0s\n",
      "[CV 2/5] END criterion=squared_error, max_depth=5, max_features=log2, max_leaf_nodes=11, n_estimators=100;, score=-211.150 total time=   0.0s\n",
      "[CV 3/5] END criterion=squared_error, max_depth=5, max_features=log2, max_leaf_nodes=11, n_estimators=100;, score=-386.891 total time=   0.0s\n",
      "[CV 4/5] END criterion=squared_error, max_depth=5, max_features=log2, max_leaf_nodes=11, n_estimators=100;, score=-216.855 total time=   0.0s\n",
      "[CV 5/5] END criterion=squared_error, max_depth=5, max_features=log2, max_leaf_nodes=11, n_estimators=100;, score=-243.133 total time=   0.0s\n",
      "[CV 1/5] END criterion=squared_error, max_depth=5, max_features=log2, max_leaf_nodes=16, n_estimators=60;, score=-223.551 total time=   0.0s\n",
      "[CV 2/5] END criterion=squared_error, max_depth=5, max_features=log2, max_leaf_nodes=16, n_estimators=60;, score=-195.596 total time=   0.0s\n",
      "[CV 3/5] END criterion=squared_error, max_depth=5, max_features=log2, max_leaf_nodes=16, n_estimators=60;, score=-368.633 total time=   0.0s\n",
      "[CV 4/5] END criterion=squared_error, max_depth=5, max_features=log2, max_leaf_nodes=16, n_estimators=60;, score=-195.370 total time=   0.0s\n",
      "[CV 5/5] END criterion=squared_error, max_depth=5, max_features=log2, max_leaf_nodes=16, n_estimators=60;, score=-224.252 total time=   0.0s\n",
      "[CV 1/5] END criterion=squared_error, max_depth=5, max_features=log2, max_leaf_nodes=16, n_estimators=80;, score=-225.680 total time=   0.0s\n",
      "[CV 2/5] END criterion=squared_error, max_depth=5, max_features=log2, max_leaf_nodes=16, n_estimators=80;, score=-197.852 total time=   0.0s\n",
      "[CV 3/5] END criterion=squared_error, max_depth=5, max_features=log2, max_leaf_nodes=16, n_estimators=80;, score=-370.180 total time=   0.0s\n",
      "[CV 4/5] END criterion=squared_error, max_depth=5, max_features=log2, max_leaf_nodes=16, n_estimators=80;, score=-196.736 total time=   0.0s\n",
      "[CV 5/5] END criterion=squared_error, max_depth=5, max_features=log2, max_leaf_nodes=16, n_estimators=80;, score=-225.116 total time=   0.0s\n",
      "[CV 1/5] END criterion=squared_error, max_depth=5, max_features=log2, max_leaf_nodes=16, n_estimators=100;, score=-224.982 total time=   0.0s\n",
      "[CV 2/5] END criterion=squared_error, max_depth=5, max_features=log2, max_leaf_nodes=16, n_estimators=100;, score=-197.153 total time=   0.0s\n",
      "[CV 3/5] END criterion=squared_error, max_depth=5, max_features=log2, max_leaf_nodes=16, n_estimators=100;, score=-369.542 total time=   0.0s\n",
      "[CV 4/5] END criterion=squared_error, max_depth=5, max_features=log2, max_leaf_nodes=16, n_estimators=100;, score=-197.557 total time=   0.0s\n",
      "[CV 5/5] END criterion=squared_error, max_depth=5, max_features=log2, max_leaf_nodes=16, n_estimators=100;, score=-225.550 total time=   0.0s\n",
      "[CV 1/5] END criterion=squared_error, max_depth=5, max_features=log2, max_leaf_nodes=20, n_estimators=60;, score=-216.320 total time=   0.0s\n",
      "[CV 2/5] END criterion=squared_error, max_depth=5, max_features=log2, max_leaf_nodes=20, n_estimators=60;, score=-192.698 total time=   0.0s\n",
      "[CV 3/5] END criterion=squared_error, max_depth=5, max_features=log2, max_leaf_nodes=20, n_estimators=60;, score=-362.924 total time=   0.0s\n",
      "[CV 4/5] END criterion=squared_error, max_depth=5, max_features=log2, max_leaf_nodes=20, n_estimators=60;, score=-188.046 total time=   0.0s\n",
      "[CV 5/5] END criterion=squared_error, max_depth=5, max_features=log2, max_leaf_nodes=20, n_estimators=60;, score=-220.625 total time=   0.0s\n",
      "[CV 1/5] END criterion=squared_error, max_depth=5, max_features=log2, max_leaf_nodes=20, n_estimators=80;, score=-217.214 total time=   0.0s\n",
      "[CV 2/5] END criterion=squared_error, max_depth=5, max_features=log2, max_leaf_nodes=20, n_estimators=80;, score=-194.035 total time=   0.0s\n",
      "[CV 3/5] END criterion=squared_error, max_depth=5, max_features=log2, max_leaf_nodes=20, n_estimators=80;, score=-365.036 total time=   0.0s\n",
      "[CV 4/5] END criterion=squared_error, max_depth=5, max_features=log2, max_leaf_nodes=20, n_estimators=80;, score=-188.113 total time=   0.0s\n",
      "[CV 5/5] END criterion=squared_error, max_depth=5, max_features=log2, max_leaf_nodes=20, n_estimators=80;, score=-220.990 total time=   0.0s\n",
      "[CV 1/5] END criterion=squared_error, max_depth=5, max_features=log2, max_leaf_nodes=20, n_estimators=100;, score=-216.628 total time=   0.0s\n",
      "[CV 2/5] END criterion=squared_error, max_depth=5, max_features=log2, max_leaf_nodes=20, n_estimators=100;, score=-194.063 total time=   0.0s\n",
      "[CV 3/5] END criterion=squared_error, max_depth=5, max_features=log2, max_leaf_nodes=20, n_estimators=100;, score=-364.473 total time=   0.0s\n",
      "[CV 4/5] END criterion=squared_error, max_depth=5, max_features=log2, max_leaf_nodes=20, n_estimators=100;, score=-187.436 total time=   0.0s\n",
      "[CV 5/5] END criterion=squared_error, max_depth=5, max_features=log2, max_leaf_nodes=20, n_estimators=100;, score=-220.642 total time=   0.0s\n",
      "Best hyperparameters: {'criterion': 'friedman_mse', 'max_depth': 4, 'max_features': None, 'max_leaf_nodes': 16, 'n_estimators': 100}\n",
      "Best hyperparameters: 14.972107181557888\n"
     ]
    }
   ],
   "source": [
    "from sklearn.ensemble import RandomForestRegressor\n",
    "rfr = RandomForestRegressor(random_state=42)\n",
    "\n",
    "scaler = StandardScaler()\n",
    "features_800_train = scaler.fit_transform(features_800_train)\n",
    "features_800_test = scaler.fit_transform(features_800_test)\n",
    "\n",
    "\n",
    "param_grid =[ \n",
    "    {           \n",
    "               'n_estimators': [60,80,100],\n",
    "                'max_depth': [3,4,5],\n",
    "                'max_leaf_nodes':[11,16,20],\n",
    "#                'n_jobs' : [-1],\n",
    "#              'min_samples_leaf':[1,2,3],\n",
    "#              'min_samples_split':[2,3],\n",
    "              'criterion': ['friedman_mse','squared_error'],\n",
    "              'max_features': [None, 'sqrt', 'log2']\n",
    "    }\n",
    "]\n",
    "grid_search_rf = GridSearchCV(rfr, param_grid, cv=5, scoring='neg_mean_squared_error', verbose=3)\n",
    "grid_search_rf.fit(features_800_train, label_train)\n",
    "\n",
    "# Print the best hyperparameters found\n",
    "print(\"Best hyperparameters:\", grid_search_rf.best_params_)\n",
    "print(\"Best hyperparameters:\", np.sqrt(-grid_search_rf.best_score_))"
   ]
  },
  {
   "cell_type": "code",
   "execution_count": 27,
   "metadata": {
    "colab": {
     "base_uri": "https://localhost:8080/"
    },
    "id": "FEveRQhOuowj",
    "outputId": "d4c75fa8-e674-415c-9fa5-c44b1d66acb8"
   },
   "outputs": [
    {
     "name": "stdout",
     "output_type": "stream",
     "text": [
      "14.16548663918681\n"
     ]
    }
   ],
   "source": [
    "#we then predict the TEST data and compare to the test labels\n",
    "model_rf = grid_search_rf.best_estimator_\n",
    "pred_rf = model_rf.predict(features_800_train)\n",
    "\n",
    "mse_rf = mean_squared_error(label_train, pred_rf)\n",
    "rmse_rf = np.sqrt(mse_rf)\n",
    "print(rmse_rf)"
   ]
  },
  {
   "cell_type": "code",
   "execution_count": 28,
   "metadata": {
    "colab": {
     "base_uri": "https://localhost:8080/"
    },
    "id": "1xo7fMwCx6TP",
    "outputId": "6aaf75e5-3146-49fd-9e9b-d7c2ab375b55"
   },
   "outputs": [
    {
     "name": "stdout",
     "output_type": "stream",
     "text": [
      "The accuracy of our model is 73.0%\n"
     ]
    }
   ],
   "source": [
    "from sklearn.metrics import r2_score\n",
    "score_rf = r2_score(label_train, pred_rf)\n",
    "print(\"The accuracy of our model is {}%\".format(round(score_rf, 2) *100))"
   ]
  },
  {
   "cell_type": "code",
   "execution_count": 29,
   "metadata": {
    "colab": {
     "base_uri": "https://localhost:8080/"
    },
    "id": "wbpQhRSTyaJF",
    "outputId": "95811809-ed2d-4b82-b053-3fa1f4ee723e"
   },
   "outputs": [
    {
     "name": "stdout",
     "output_type": "stream",
     "text": [
      "14.789777835157963\n"
     ]
    }
   ],
   "source": [
    "#we then predict the TEST data and compare to the test labels\n",
    "model_rft = grid_search_rf.best_estimator_\n",
    "pred_rft = model_rf.predict(features_800_test)\n",
    "\n",
    "mse_rft = mean_squared_error(label_test, pred_rft)\n",
    "rmse_rft = np.sqrt(mse_rft)\n",
    "print(rmse_rft)"
   ]
  },
  {
   "cell_type": "code",
   "execution_count": 30,
   "metadata": {
    "colab": {
     "base_uri": "https://localhost:8080/"
    },
    "id": "3uE-3MqizXUC",
    "outputId": "cadd2635-8e29-413b-e270-eebd018d0911"
   },
   "outputs": [
    {
     "name": "stdout",
     "output_type": "stream",
     "text": [
      "The accuracy of our model is 74.0%\n"
     ]
    }
   ],
   "source": [
    "score_rft = r2_score(label_test, pred_rft)\n",
    "print(\"The accuracy of our model is {}%\".format(round(score_rft, 2) *100))"
   ]
  },
  {
   "cell_type": "code",
   "execution_count": 34,
   "metadata": {
    "id": "fDFAMYzOzxPk"
   },
   "outputs": [
    {
     "data": {
      "text/plain": [
       "['mse_rft.pkl']"
      ]
     },
     "execution_count": 34,
     "metadata": {},
     "output_type": "execute_result"
    }
   ],
   "source": [
    "joblib.dump(mse_rft, \"mse_rft.pkl\")"
   ]
  }
 ],
 "metadata": {
  "colab": {
   "provenance": []
  },
  "kernelspec": {
   "display_name": "Python 3 (ipykernel)",
   "language": "python",
   "name": "python3"
  },
  "language_info": {
   "codemirror_mode": {
    "name": "ipython",
    "version": 3
   },
   "file_extension": ".py",
   "mimetype": "text/x-python",
   "name": "python",
   "nbconvert_exporter": "python",
   "pygments_lexer": "ipython3",
   "version": "3.9.13"
  }
 },
 "nbformat": 4,
 "nbformat_minor": 1
}
