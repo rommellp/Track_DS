{
 "cells": [
  {
   "cell_type": "code",
   "execution_count": null,
   "metadata": {
    "id": "t0wktXHAJJ6v"
   },
   "outputs": [],
   "source": [
    "#import modules for analyzing ,plotting, and formatting\n",
    "import pandas as pd\n",
    "import matplotlib.pyplot as plt\n",
    "import numpy as np\n",
    "import datetime\n",
    "import seaborn as sns\n"
   ]
  },
  {
   "cell_type": "code",
   "execution_count": null,
   "metadata": {
    "id": "mikBp-p3JP0I"
   },
   "outputs": [],
   "source": [
    "merged_400_1500 = pd.read_csv(\"merged_400m_1500m_df.csv\")"
   ]
  },
  {
   "cell_type": "code",
   "execution_count": null,
   "metadata": {
    "id": "kNKRqyjtDsRp"
   },
   "outputs": [],
   "source": [
    "#import sklearn and relevant packages\n",
    "from sklearn.model_selection import train_test_split\n",
    "from sklearn.linear_model import LinearRegression\n",
    "from sklearn.pipeline import Pipeline\n",
    "from sklearn.preprocessing import StandardScaler\n",
    "from sklearn.preprocessing import MinMaxScaler\n",
    "from sklearn.preprocessing import OneHotEncoder\n",
    "from sklearn.metrics import mean_absolute_error\n",
    "from sklearn.metrics import mean_absolute_percentage_error\n",
    "from sklearn.metrics import mean_squared_error\n",
    "from sklearn.tree import DecisionTreeRegressor\n",
    "from sklearn.model_selection import cross_val_score\n",
    "from sklearn.ensemble import RandomForestRegressor\n",
    "from sklearn.model_selection import GridSearchCV\n",
    "\n",
    "#separate datasets for the model\n",
    "#here the model is split 67/33\n",
    "m400_1500_train, m400_1500_test = train_test_split(merged_400_1500, test_size=0.33, random_state=0)\n",
    "\n",
    "#gl means grade level\n",
    "#for this model we will use 400/1500m times and grade level\n",
    "gl_400_1500_train = m400_1500_train[['400 Meters', '1500 Meters', 'Grade Level']]\n",
    "gl_400_1500_test = m400_1500_test[['400 Meters', '1500 Meters', 'Grade Level']]\n"
   ]
  },
  {
   "cell_type": "code",
   "execution_count": null,
   "metadata": {
    "id": "X27bKDAxDyoa"
   },
   "outputs": [],
   "source": [
    "#here we separate the features and labels. The features used are the 400m times as well as the grade leve\n",
    "# this calls for dropping the 1500m column for the features df\n",
    "#next I select only the 1500m column for the label df\n",
    "features_400_train = gl_400_1500_train.drop('1500 Meters', axis=1)\n",
    "label_train = gl_400_1500_train['1500 Meters'].copy()\n",
    "\n",
    "#same steps are repeated for the test df\n",
    "features_400_test = gl_400_1500_test.drop('1500 Meters', axis=1)\n",
    "label_test = gl_400_1500_test['1500 Meters'].copy()"
   ]
  },
  {
   "cell_type": "code",
   "execution_count": null,
   "metadata": {
    "colab": {
     "base_uri": "https://localhost:8080/",
     "height": 419
    },
    "id": "Ym8jGskOD2pW",
    "outputId": "c60d00ad-498b-405b-8aa3-aa2e41a365ab"
   },
   "outputs": [
    {
     "data": {
      "text/html": [
       "\n",
       "  <div id=\"df-0a0a2cb6-3c86-4141-b0fb-b7d0d6f7a2fa\">\n",
       "    <div class=\"colab-df-container\">\n",
       "      <div>\n",
       "<style scoped>\n",
       "    .dataframe tbody tr th:only-of-type {\n",
       "        vertical-align: middle;\n",
       "    }\n",
       "\n",
       "    .dataframe tbody tr th {\n",
       "        vertical-align: top;\n",
       "    }\n",
       "\n",
       "    .dataframe thead th {\n",
       "        text-align: right;\n",
       "    }\n",
       "</style>\n",
       "<table border=\"1\" class=\"dataframe\">\n",
       "  <thead>\n",
       "    <tr style=\"text-align: right;\">\n",
       "      <th></th>\n",
       "      <th>400 Meters</th>\n",
       "      <th>Grade Level</th>\n",
       "    </tr>\n",
       "  </thead>\n",
       "  <tbody>\n",
       "    <tr>\n",
       "      <th>605</th>\n",
       "      <td>55.76</td>\n",
       "      <td>11th Grade</td>\n",
       "    </tr>\n",
       "    <tr>\n",
       "      <th>481</th>\n",
       "      <td>60.04</td>\n",
       "      <td>11th Grade</td>\n",
       "    </tr>\n",
       "    <tr>\n",
       "      <th>590</th>\n",
       "      <td>55.40</td>\n",
       "      <td>11th Grade</td>\n",
       "    </tr>\n",
       "    <tr>\n",
       "      <th>667</th>\n",
       "      <td>61.74</td>\n",
       "      <td>10th Grade</td>\n",
       "    </tr>\n",
       "    <tr>\n",
       "      <th>672</th>\n",
       "      <td>72.50</td>\n",
       "      <td>9th Grade</td>\n",
       "    </tr>\n",
       "    <tr>\n",
       "      <th>...</th>\n",
       "      <td>...</td>\n",
       "      <td>...</td>\n",
       "    </tr>\n",
       "    <tr>\n",
       "      <th>1033</th>\n",
       "      <td>54.88</td>\n",
       "      <td>12th Grade</td>\n",
       "    </tr>\n",
       "    <tr>\n",
       "      <th>763</th>\n",
       "      <td>57.71</td>\n",
       "      <td>12th Grade</td>\n",
       "    </tr>\n",
       "    <tr>\n",
       "      <th>835</th>\n",
       "      <td>56.29</td>\n",
       "      <td>11th Grade</td>\n",
       "    </tr>\n",
       "    <tr>\n",
       "      <th>559</th>\n",
       "      <td>53.94</td>\n",
       "      <td>11th Grade</td>\n",
       "    </tr>\n",
       "    <tr>\n",
       "      <th>684</th>\n",
       "      <td>57.44</td>\n",
       "      <td>10th Grade</td>\n",
       "    </tr>\n",
       "  </tbody>\n",
       "</table>\n",
       "<p>762 rows × 2 columns</p>\n",
       "</div>\n",
       "      <button class=\"colab-df-convert\" onclick=\"convertToInteractive('df-0a0a2cb6-3c86-4141-b0fb-b7d0d6f7a2fa')\"\n",
       "              title=\"Convert this dataframe to an interactive table.\"\n",
       "              style=\"display:none;\">\n",
       "        \n",
       "  <svg xmlns=\"http://www.w3.org/2000/svg\" height=\"24px\"viewBox=\"0 0 24 24\"\n",
       "       width=\"24px\">\n",
       "    <path d=\"M0 0h24v24H0V0z\" fill=\"none\"/>\n",
       "    <path d=\"M18.56 5.44l.94 2.06.94-2.06 2.06-.94-2.06-.94-.94-2.06-.94 2.06-2.06.94zm-11 1L8.5 8.5l.94-2.06 2.06-.94-2.06-.94L8.5 2.5l-.94 2.06-2.06.94zm10 10l.94 2.06.94-2.06 2.06-.94-2.06-.94-.94-2.06-.94 2.06-2.06.94z\"/><path d=\"M17.41 7.96l-1.37-1.37c-.4-.4-.92-.59-1.43-.59-.52 0-1.04.2-1.43.59L10.3 9.45l-7.72 7.72c-.78.78-.78 2.05 0 2.83L4 21.41c.39.39.9.59 1.41.59.51 0 1.02-.2 1.41-.59l7.78-7.78 2.81-2.81c.8-.78.8-2.07 0-2.86zM5.41 20L4 18.59l7.72-7.72 1.47 1.35L5.41 20z\"/>\n",
       "  </svg>\n",
       "      </button>\n",
       "      \n",
       "  <style>\n",
       "    .colab-df-container {\n",
       "      display:flex;\n",
       "      flex-wrap:wrap;\n",
       "      gap: 12px;\n",
       "    }\n",
       "\n",
       "    .colab-df-convert {\n",
       "      background-color: #E8F0FE;\n",
       "      border: none;\n",
       "      border-radius: 50%;\n",
       "      cursor: pointer;\n",
       "      display: none;\n",
       "      fill: #1967D2;\n",
       "      height: 32px;\n",
       "      padding: 0 0 0 0;\n",
       "      width: 32px;\n",
       "    }\n",
       "\n",
       "    .colab-df-convert:hover {\n",
       "      background-color: #E2EBFA;\n",
       "      box-shadow: 0px 1px 2px rgba(60, 64, 67, 0.3), 0px 1px 3px 1px rgba(60, 64, 67, 0.15);\n",
       "      fill: #174EA6;\n",
       "    }\n",
       "\n",
       "    [theme=dark] .colab-df-convert {\n",
       "      background-color: #3B4455;\n",
       "      fill: #D2E3FC;\n",
       "    }\n",
       "\n",
       "    [theme=dark] .colab-df-convert:hover {\n",
       "      background-color: #434B5C;\n",
       "      box-shadow: 0px 1px 3px 1px rgba(0, 0, 0, 0.15);\n",
       "      filter: drop-shadow(0px 1px 2px rgba(0, 0, 0, 0.3));\n",
       "      fill: #FFFFFF;\n",
       "    }\n",
       "  </style>\n",
       "\n",
       "      <script>\n",
       "        const buttonEl =\n",
       "          document.querySelector('#df-0a0a2cb6-3c86-4141-b0fb-b7d0d6f7a2fa button.colab-df-convert');\n",
       "        buttonEl.style.display =\n",
       "          google.colab.kernel.accessAllowed ? 'block' : 'none';\n",
       "\n",
       "        async function convertToInteractive(key) {\n",
       "          const element = document.querySelector('#df-0a0a2cb6-3c86-4141-b0fb-b7d0d6f7a2fa');\n",
       "          const dataTable =\n",
       "            await google.colab.kernel.invokeFunction('convertToInteractive',\n",
       "                                                     [key], {});\n",
       "          if (!dataTable) return;\n",
       "\n",
       "          const docLinkHtml = 'Like what you see? Visit the ' +\n",
       "            '<a target=\"_blank\" href=https://colab.research.google.com/notebooks/data_table.ipynb>data table notebook</a>'\n",
       "            + ' to learn more about interactive tables.';\n",
       "          element.innerHTML = '';\n",
       "          dataTable['output_type'] = 'display_data';\n",
       "          await google.colab.output.renderOutput(dataTable, element);\n",
       "          const docLink = document.createElement('div');\n",
       "          docLink.innerHTML = docLinkHtml;\n",
       "          element.appendChild(docLink);\n",
       "        }\n",
       "      </script>\n",
       "    </div>\n",
       "  </div>\n",
       "  "
      ],
      "text/plain": [
       "      400 Meters Grade Level\n",
       "605        55.76  11th Grade\n",
       "481        60.04  11th Grade\n",
       "590        55.40  11th Grade\n",
       "667        61.74  10th Grade\n",
       "672        72.50   9th Grade\n",
       "...          ...         ...\n",
       "1033       54.88  12th Grade\n",
       "763        57.71  12th Grade\n",
       "835        56.29  11th Grade\n",
       "559        53.94  11th Grade\n",
       "684        57.44  10th Grade\n",
       "\n",
       "[762 rows x 2 columns]"
      ]
     },
     "execution_count": 5,
     "metadata": {},
     "output_type": "execute_result"
    }
   ],
   "source": [
    "features_400_train"
   ]
  },
  {
   "cell_type": "code",
   "execution_count": null,
   "metadata": {
    "colab": {
     "base_uri": "https://localhost:8080/",
     "height": 419
    },
    "id": "yXLwSsyQD3UH",
    "outputId": "a382e6c7-dc8c-4c32-e7e6-9aea2f46f3c7"
   },
   "outputs": [
    {
     "data": {
      "text/html": [
       "\n",
       "  <div id=\"df-f0688d66-1510-4eb0-be78-c44f10d836bf\">\n",
       "    <div class=\"colab-df-container\">\n",
       "      <div>\n",
       "<style scoped>\n",
       "    .dataframe tbody tr th:only-of-type {\n",
       "        vertical-align: middle;\n",
       "    }\n",
       "\n",
       "    .dataframe tbody tr th {\n",
       "        vertical-align: top;\n",
       "    }\n",
       "\n",
       "    .dataframe thead th {\n",
       "        text-align: right;\n",
       "    }\n",
       "</style>\n",
       "<table border=\"1\" class=\"dataframe\">\n",
       "  <thead>\n",
       "    <tr style=\"text-align: right;\">\n",
       "      <th></th>\n",
       "      <th>400 Meters</th>\n",
       "      <th>Grade Level_9th Grade</th>\n",
       "      <th>Grade Level_10th Grade</th>\n",
       "      <th>Grade Level_11th Grade</th>\n",
       "      <th>Grade Level_12th Grade</th>\n",
       "    </tr>\n",
       "  </thead>\n",
       "  <tbody>\n",
       "    <tr>\n",
       "      <th>671</th>\n",
       "      <td>57.60</td>\n",
       "      <td>0</td>\n",
       "      <td>1</td>\n",
       "      <td>0</td>\n",
       "      <td>0</td>\n",
       "    </tr>\n",
       "    <tr>\n",
       "      <th>877</th>\n",
       "      <td>56.90</td>\n",
       "      <td>0</td>\n",
       "      <td>0</td>\n",
       "      <td>0</td>\n",
       "      <td>1</td>\n",
       "    </tr>\n",
       "    <tr>\n",
       "      <th>971</th>\n",
       "      <td>55.84</td>\n",
       "      <td>0</td>\n",
       "      <td>0</td>\n",
       "      <td>0</td>\n",
       "      <td>1</td>\n",
       "    </tr>\n",
       "    <tr>\n",
       "      <th>184</th>\n",
       "      <td>53.90</td>\n",
       "      <td>0</td>\n",
       "      <td>1</td>\n",
       "      <td>0</td>\n",
       "      <td>0</td>\n",
       "    </tr>\n",
       "    <tr>\n",
       "      <th>1137</th>\n",
       "      <td>53.64</td>\n",
       "      <td>0</td>\n",
       "      <td>0</td>\n",
       "      <td>0</td>\n",
       "      <td>1</td>\n",
       "    </tr>\n",
       "    <tr>\n",
       "      <th>...</th>\n",
       "      <td>...</td>\n",
       "      <td>...</td>\n",
       "      <td>...</td>\n",
       "      <td>...</td>\n",
       "      <td>...</td>\n",
       "    </tr>\n",
       "    <tr>\n",
       "      <th>974</th>\n",
       "      <td>56.04</td>\n",
       "      <td>0</td>\n",
       "      <td>0</td>\n",
       "      <td>0</td>\n",
       "      <td>1</td>\n",
       "    </tr>\n",
       "    <tr>\n",
       "      <th>37</th>\n",
       "      <td>56.90</td>\n",
       "      <td>0</td>\n",
       "      <td>0</td>\n",
       "      <td>0</td>\n",
       "      <td>1</td>\n",
       "    </tr>\n",
       "    <tr>\n",
       "      <th>143</th>\n",
       "      <td>50.46</td>\n",
       "      <td>0</td>\n",
       "      <td>0</td>\n",
       "      <td>0</td>\n",
       "      <td>1</td>\n",
       "    </tr>\n",
       "    <tr>\n",
       "      <th>158</th>\n",
       "      <td>68.30</td>\n",
       "      <td>0</td>\n",
       "      <td>0</td>\n",
       "      <td>0</td>\n",
       "      <td>1</td>\n",
       "    </tr>\n",
       "    <tr>\n",
       "      <th>40</th>\n",
       "      <td>58.90</td>\n",
       "      <td>0</td>\n",
       "      <td>0</td>\n",
       "      <td>1</td>\n",
       "      <td>0</td>\n",
       "    </tr>\n",
       "  </tbody>\n",
       "</table>\n",
       "<p>376 rows × 5 columns</p>\n",
       "</div>\n",
       "      <button class=\"colab-df-convert\" onclick=\"convertToInteractive('df-f0688d66-1510-4eb0-be78-c44f10d836bf')\"\n",
       "              title=\"Convert this dataframe to an interactive table.\"\n",
       "              style=\"display:none;\">\n",
       "        \n",
       "  <svg xmlns=\"http://www.w3.org/2000/svg\" height=\"24px\"viewBox=\"0 0 24 24\"\n",
       "       width=\"24px\">\n",
       "    <path d=\"M0 0h24v24H0V0z\" fill=\"none\"/>\n",
       "    <path d=\"M18.56 5.44l.94 2.06.94-2.06 2.06-.94-2.06-.94-.94-2.06-.94 2.06-2.06.94zm-11 1L8.5 8.5l.94-2.06 2.06-.94-2.06-.94L8.5 2.5l-.94 2.06-2.06.94zm10 10l.94 2.06.94-2.06 2.06-.94-2.06-.94-.94-2.06-.94 2.06-2.06.94z\"/><path d=\"M17.41 7.96l-1.37-1.37c-.4-.4-.92-.59-1.43-.59-.52 0-1.04.2-1.43.59L10.3 9.45l-7.72 7.72c-.78.78-.78 2.05 0 2.83L4 21.41c.39.39.9.59 1.41.59.51 0 1.02-.2 1.41-.59l7.78-7.78 2.81-2.81c.8-.78.8-2.07 0-2.86zM5.41 20L4 18.59l7.72-7.72 1.47 1.35L5.41 20z\"/>\n",
       "  </svg>\n",
       "      </button>\n",
       "      \n",
       "  <style>\n",
       "    .colab-df-container {\n",
       "      display:flex;\n",
       "      flex-wrap:wrap;\n",
       "      gap: 12px;\n",
       "    }\n",
       "\n",
       "    .colab-df-convert {\n",
       "      background-color: #E8F0FE;\n",
       "      border: none;\n",
       "      border-radius: 50%;\n",
       "      cursor: pointer;\n",
       "      display: none;\n",
       "      fill: #1967D2;\n",
       "      height: 32px;\n",
       "      padding: 0 0 0 0;\n",
       "      width: 32px;\n",
       "    }\n",
       "\n",
       "    .colab-df-convert:hover {\n",
       "      background-color: #E2EBFA;\n",
       "      box-shadow: 0px 1px 2px rgba(60, 64, 67, 0.3), 0px 1px 3px 1px rgba(60, 64, 67, 0.15);\n",
       "      fill: #174EA6;\n",
       "    }\n",
       "\n",
       "    [theme=dark] .colab-df-convert {\n",
       "      background-color: #3B4455;\n",
       "      fill: #D2E3FC;\n",
       "    }\n",
       "\n",
       "    [theme=dark] .colab-df-convert:hover {\n",
       "      background-color: #434B5C;\n",
       "      box-shadow: 0px 1px 3px 1px rgba(0, 0, 0, 0.15);\n",
       "      filter: drop-shadow(0px 1px 2px rgba(0, 0, 0, 0.3));\n",
       "      fill: #FFFFFF;\n",
       "    }\n",
       "  </style>\n",
       "\n",
       "      <script>\n",
       "        const buttonEl =\n",
       "          document.querySelector('#df-f0688d66-1510-4eb0-be78-c44f10d836bf button.colab-df-convert');\n",
       "        buttonEl.style.display =\n",
       "          google.colab.kernel.accessAllowed ? 'block' : 'none';\n",
       "\n",
       "        async function convertToInteractive(key) {\n",
       "          const element = document.querySelector('#df-f0688d66-1510-4eb0-be78-c44f10d836bf');\n",
       "          const dataTable =\n",
       "            await google.colab.kernel.invokeFunction('convertToInteractive',\n",
       "                                                     [key], {});\n",
       "          if (!dataTable) return;\n",
       "\n",
       "          const docLinkHtml = 'Like what you see? Visit the ' +\n",
       "            '<a target=\"_blank\" href=https://colab.research.google.com/notebooks/data_table.ipynb>data table notebook</a>'\n",
       "            + ' to learn more about interactive tables.';\n",
       "          element.innerHTML = '';\n",
       "          dataTable['output_type'] = 'display_data';\n",
       "          await google.colab.output.renderOutput(dataTable, element);\n",
       "          const docLink = document.createElement('div');\n",
       "          docLink.innerHTML = docLinkHtml;\n",
       "          element.appendChild(docLink);\n",
       "        }\n",
       "      </script>\n",
       "    </div>\n",
       "  </div>\n",
       "  "
      ],
      "text/plain": [
       "      400 Meters  Grade Level_9th Grade  Grade Level_10th Grade  \\\n",
       "671        57.60                      0                       1   \n",
       "877        56.90                      0                       0   \n",
       "971        55.84                      0                       0   \n",
       "184        53.90                      0                       1   \n",
       "1137       53.64                      0                       0   \n",
       "...          ...                    ...                     ...   \n",
       "974        56.04                      0                       0   \n",
       "37         56.90                      0                       0   \n",
       "143        50.46                      0                       0   \n",
       "158        68.30                      0                       0   \n",
       "40         58.90                      0                       0   \n",
       "\n",
       "      Grade Level_11th Grade  Grade Level_12th Grade  \n",
       "671                        0                       0  \n",
       "877                        0                       1  \n",
       "971                        0                       1  \n",
       "184                        0                       0  \n",
       "1137                       0                       1  \n",
       "...                      ...                     ...  \n",
       "974                        0                       1  \n",
       "37                         0                       1  \n",
       "143                        0                       1  \n",
       "158                        0                       1  \n",
       "40                         1                       0  \n",
       "\n",
       "[376 rows x 5 columns]"
      ]
     },
     "execution_count": 6,
     "metadata": {},
     "output_type": "execute_result"
    }
   ],
   "source": [
    "#regression models require numeric data, this means that we have to convert variables from a categorical feature to a binary one.\n",
    "#grade level is converted to 0s and 1s\n",
    "# get dummies turned all non-numeric to numeric.\n",
    "dummy_400_train = pd.get_dummies(features_400_train)\n",
    "\n",
    "#after converting the grade level column, we reindex the df\n",
    "dummy_400_train = dummy_400_train.reindex(columns=dummy_400_train.columns, fill_value=0)\n",
    "features_400_train = dummy_400_train[['400 Meters', 'Grade Level_9th Grade', 'Grade Level_10th Grade', 'Grade Level_11th Grade', 'Grade Level_12th Grade']]\n",
    "features_400_train\n",
    "\n",
    "#the same steps are repeated for the test df\n",
    "dummy_400_test = pd.get_dummies(features_400_test)\n",
    "\n",
    "dummy_400_test = dummy_400_test.reindex(columns=dummy_400_test.columns, fill_value=0)\n",
    "features_400_test = dummy_400_test[['400 Meters', 'Grade Level_9th Grade', 'Grade Level_10th Grade', 'Grade Level_11th Grade', 'Grade Level_12th Grade']]\n",
    "features_400_test"
   ]
  },
  {
   "cell_type": "code",
   "execution_count": null,
   "metadata": {
    "colab": {
     "base_uri": "https://localhost:8080/"
    },
    "id": "Fw9sKLeqD7Xu",
    "outputId": "fac91e5f-555e-4453-dbad-d8dcfd534d97"
   },
   "outputs": [
    {
     "data": {
      "text/plain": [
       "288.91527272727274"
      ]
     },
     "execution_count": 7,
     "metadata": {},
     "output_type": "execute_result"
    }
   ],
   "source": [
    "#here I am selecting the runners with times between 59 and 60 seconds in the 400m\n",
    "#next I am finding those same runners in the labeled data (1500m times)\n",
    "#I do this as a simple measure so that I can compare the single test predicitions below, and get \n",
    "# a sense of which model is predicting closes to what we expect a runner to run. \n",
    "\n",
    "times = features_400_train[(features_400_train['400 Meters'] > 59) & (features_400_train['400 Meters'] < 60)]\n",
    "label_train[times.index].mean()"
   ]
  },
  {
   "cell_type": "code",
   "execution_count": null,
   "metadata": {
    "id": "O8Noeut1EAau"
   },
   "outputs": [],
   "source": [
    "# I used a small definition from Intro to machine learning to display the scores from the cross val.\n",
    "#this code will be used later to display the scores from cross val cv\n",
    "def display_scores(scores):\n",
    "  print('Scores:', scores)\n",
    "  print('Mean:', scores.mean()),\n",
    "  print('Standard Deviation:', scores.std())\n"
   ]
  },
  {
   "cell_type": "markdown",
   "metadata": {
    "id": "ibNcfIZ2Es9z"
   },
   "source": [
    "Here we have the data processed and formatted to run multiple ML models.\n",
    "These will be LinearRegression, Decision Tree Regression, and Forest Regression.\n",
    "\n",
    "Our main measure of the data is the RMSE. This function compares the values of the labels to the predictions. We compare this value for all the training data and choose a model that works best before we use the test data."
   ]
  },
  {
   "cell_type": "code",
   "execution_count": null,
   "metadata": {
    "colab": {
     "base_uri": "https://localhost:8080/",
     "height": 74
    },
    "id": "ddN2JtflEBOI",
    "outputId": "135c5c96-9b59-49dd-cda2-8ff7cb35ce02"
   },
   "outputs": [
    {
     "data": {
      "text/html": [
       "<style>#sk-container-id-1 {color: black;background-color: white;}#sk-container-id-1 pre{padding: 0;}#sk-container-id-1 div.sk-toggleable {background-color: white;}#sk-container-id-1 label.sk-toggleable__label {cursor: pointer;display: block;width: 100%;margin-bottom: 0;padding: 0.3em;box-sizing: border-box;text-align: center;}#sk-container-id-1 label.sk-toggleable__label-arrow:before {content: \"▸\";float: left;margin-right: 0.25em;color: #696969;}#sk-container-id-1 label.sk-toggleable__label-arrow:hover:before {color: black;}#sk-container-id-1 div.sk-estimator:hover label.sk-toggleable__label-arrow:before {color: black;}#sk-container-id-1 div.sk-toggleable__content {max-height: 0;max-width: 0;overflow: hidden;text-align: left;background-color: #f0f8ff;}#sk-container-id-1 div.sk-toggleable__content pre {margin: 0.2em;color: black;border-radius: 0.25em;background-color: #f0f8ff;}#sk-container-id-1 input.sk-toggleable__control:checked~div.sk-toggleable__content {max-height: 200px;max-width: 100%;overflow: auto;}#sk-container-id-1 input.sk-toggleable__control:checked~label.sk-toggleable__label-arrow:before {content: \"▾\";}#sk-container-id-1 div.sk-estimator input.sk-toggleable__control:checked~label.sk-toggleable__label {background-color: #d4ebff;}#sk-container-id-1 div.sk-label input.sk-toggleable__control:checked~label.sk-toggleable__label {background-color: #d4ebff;}#sk-container-id-1 input.sk-hidden--visually {border: 0;clip: rect(1px 1px 1px 1px);clip: rect(1px, 1px, 1px, 1px);height: 1px;margin: -1px;overflow: hidden;padding: 0;position: absolute;width: 1px;}#sk-container-id-1 div.sk-estimator {font-family: monospace;background-color: #f0f8ff;border: 1px dotted black;border-radius: 0.25em;box-sizing: border-box;margin-bottom: 0.5em;}#sk-container-id-1 div.sk-estimator:hover {background-color: #d4ebff;}#sk-container-id-1 div.sk-parallel-item::after {content: \"\";width: 100%;border-bottom: 1px solid gray;flex-grow: 1;}#sk-container-id-1 div.sk-label:hover label.sk-toggleable__label {background-color: #d4ebff;}#sk-container-id-1 div.sk-serial::before {content: \"\";position: absolute;border-left: 1px solid gray;box-sizing: border-box;top: 0;bottom: 0;left: 50%;z-index: 0;}#sk-container-id-1 div.sk-serial {display: flex;flex-direction: column;align-items: center;background-color: white;padding-right: 0.2em;padding-left: 0.2em;position: relative;}#sk-container-id-1 div.sk-item {position: relative;z-index: 1;}#sk-container-id-1 div.sk-parallel {display: flex;align-items: stretch;justify-content: center;background-color: white;position: relative;}#sk-container-id-1 div.sk-item::before, #sk-container-id-1 div.sk-parallel-item::before {content: \"\";position: absolute;border-left: 1px solid gray;box-sizing: border-box;top: 0;bottom: 0;left: 50%;z-index: -1;}#sk-container-id-1 div.sk-parallel-item {display: flex;flex-direction: column;z-index: 1;position: relative;background-color: white;}#sk-container-id-1 div.sk-parallel-item:first-child::after {align-self: flex-end;width: 50%;}#sk-container-id-1 div.sk-parallel-item:last-child::after {align-self: flex-start;width: 50%;}#sk-container-id-1 div.sk-parallel-item:only-child::after {width: 0;}#sk-container-id-1 div.sk-dashed-wrapped {border: 1px dashed gray;margin: 0 0.4em 0.5em 0.4em;box-sizing: border-box;padding-bottom: 0.4em;background-color: white;}#sk-container-id-1 div.sk-label label {font-family: monospace;font-weight: bold;display: inline-block;line-height: 1.2em;}#sk-container-id-1 div.sk-label-container {text-align: center;}#sk-container-id-1 div.sk-container {/* jupyter's `normalize.less` sets `[hidden] { display: none; }` but bootstrap.min.css set `[hidden] { display: none !important; }` so we also need the `!important` here to be able to override the default hidden behavior on the sphinx rendered scikit-learn.org. See: https://github.com/scikit-learn/scikit-learn/issues/21755 */display: inline-block !important;position: relative;}#sk-container-id-1 div.sk-text-repr-fallback {display: none;}</style><div id=\"sk-container-id-1\" class=\"sk-top-container\"><div class=\"sk-text-repr-fallback\"><pre>RandomForestRegressor()</pre><b>In a Jupyter environment, please rerun this cell to show the HTML representation or trust the notebook. <br />On GitHub, the HTML representation is unable to render, please try loading this page with nbviewer.org.</b></div><div class=\"sk-container\" hidden><div class=\"sk-item\"><div class=\"sk-estimator sk-toggleable\"><input class=\"sk-toggleable__control sk-hidden--visually\" id=\"sk-estimator-id-1\" type=\"checkbox\" checked><label for=\"sk-estimator-id-1\" class=\"sk-toggleable__label sk-toggleable__label-arrow\">RandomForestRegressor</label><div class=\"sk-toggleable__content\"><pre>RandomForestRegressor()</pre></div></div></div></div></div>"
      ],
      "text/plain": [
       "RandomForestRegressor()"
      ]
     },
     "execution_count": 9,
     "metadata": {},
     "output_type": "execute_result"
    }
   ],
   "source": [
    "#after preparing the data we are ready to create the linear regression instance\n",
    "# and train the model with out data\n",
    "\n",
    "linreg = LinearRegression()\n",
    "linreg.fit(features_400_train, label_train)\n",
    "\n",
    "#here we are importing another regression model to test the difference,\n",
    "# and checking is a more powerful model will produce better results.\n",
    "#we fit this model and predict on our training data as we did before.\n",
    "\n",
    "tree_reg = DecisionTreeRegressor()\n",
    "tree_reg.fit(features_400_train, label_train)\n",
    "\n",
    "#the most powerful model used in this project\n",
    "forest_reg = RandomForestRegressor()\n",
    "forest_reg.fit(features_400_train, label_train)\n",
    "\n",
    "#we import the one more regression model which will be the most powerful\n",
    "#the steps will be the same as before\n",
    "\n",
    "forest_reg = RandomForestRegressor()\n",
    "forest_reg.fit(features_400_train, label_train)"
   ]
  },
  {
   "cell_type": "markdown",
   "metadata": {
    "id": "YQdCmdAME0ad"
   },
   "source": [
    "After creating an instance for each regression model, we fit each of them on the training data. \n",
    "\n",
    "After each fit we predict on training data and compare the training labels to analyze the accuracy.\n"
   ]
  },
  {
   "cell_type": "code",
   "execution_count": null,
   "metadata": {
    "colab": {
     "base_uri": "https://localhost:8080/"
    },
    "id": "qLCLggI4ExkW",
    "outputId": "94b5084f-94bc-4d47-8701-2f7110aab670"
   },
   "outputs": [
    {
     "name": "stdout",
     "output_type": "stream",
     "text": [
      "linreg RMSE:  25.32408039414019\n"
     ]
    }
   ],
   "source": [
    "#after training we check out model by predicting using out training data\n",
    "#we compare out predictions on training data vs. the labels and study the difference\n",
    "# RMSE is the Root Mean Square Error, which measures the difference between predicted values and the labels. \n",
    "# this measure is common and works well with regression models.\n",
    "\n",
    "train_pred = linreg.predict(features_400_train)\n",
    "lin_mse = mean_squared_error(label_train, train_pred)\n",
    "lin_rmse = np.sqrt(lin_mse)\n",
    "print('linreg RMSE: ', lin_rmse)"
   ]
  },
  {
   "cell_type": "code",
   "execution_count": null,
   "metadata": {
    "colab": {
     "base_uri": "https://localhost:8080/"
    },
    "id": "T6PZIwOvE4Ba",
    "outputId": "1fc5c3ee-b630-49fc-bd78-89fa49c751cb"
   },
   "outputs": [
    {
     "name": "stdout",
     "output_type": "stream",
     "text": [
      "decision tree RMSE:  8.980467950783417\n"
     ]
    }
   ],
   "source": [
    "#predicting with the Decision Tree Regression \n",
    "tree_pred = tree_reg.predict(features_400_train)\n",
    "tree_mse = mean_squared_error(label_train, tree_pred)\n",
    "tree_rmse = np.sqrt(tree_mse)\n",
    "print('decision tree RMSE: ', tree_rmse)"
   ]
  },
  {
   "cell_type": "code",
   "execution_count": null,
   "metadata": {
    "colab": {
     "base_uri": "https://localhost:8080/"
    },
    "id": "Z0e2ijTyE6fe",
    "outputId": "77f6bd66-b9a7-4f2a-dcf3-8449c6bb626f"
   },
   "outputs": [
    {
     "name": "stdout",
     "output_type": "stream",
     "text": [
      "forest RMSE: 13.023350509730088\n"
     ]
    }
   ],
   "source": [
    "#prediction with Forest Regression\n",
    "forest_pred = forest_reg.predict(features_400_train)\n",
    "forest_mse = mean_squared_error(label_train, forest_pred)\n",
    "forest_rmse = np.sqrt(forest_mse)\n",
    "\n",
    "print('forest RMSE:',  forest_rmse)"
   ]
  },
  {
   "cell_type": "code",
   "execution_count": null,
   "metadata": {
    "colab": {
     "base_uri": "https://localhost:8080/"
    },
    "id": "cqksaA5fE_g1",
    "outputId": "91969639-8ed8-47fa-ea6e-0dad5710b365"
   },
   "outputs": [
    {
     "name": "stderr",
     "output_type": "stream",
     "text": [
      "/usr/local/lib/python3.9/dist-packages/sklearn/base.py:439: UserWarning: X does not have valid feature names, but LinearRegression was fitted with feature names\n",
      "  warnings.warn(\n"
     ]
    },
    {
     "data": {
      "text/plain": [
       "array([295.69639602])"
      ]
     },
     "execution_count": 13,
     "metadata": {},
     "output_type": "execute_result"
    }
   ],
   "source": [
    "#here is a small test using a runner with a 60 second 400m.\n",
    "# the number 1 represents a grade level.\n",
    "#using this we can run a simple test to see how acurate a single prediction is.\n",
    "#the array corresponds to 400m time, 9th grade, 10th grade, 11th grade, and 12th grade (in this order).\n",
    "\n",
    "test_arr = np.array([60,0,0,0,1])\n",
    "test_arr = test_arr.reshape(1,-1)\n",
    "\n",
    "#predicting a single result with linreg\n",
    "test_pred_lin = linreg.predict(test_arr)\n",
    "test_pred_lin"
   ]
  },
  {
   "cell_type": "code",
   "execution_count": null,
   "metadata": {
    "colab": {
     "base_uri": "https://localhost:8080/"
    },
    "id": "LLCK49xFFB2g",
    "outputId": "812a0c5e-891d-4c1e-9b82-189857b2ddbe"
   },
   "outputs": [
    {
     "name": "stderr",
     "output_type": "stream",
     "text": [
      "/usr/local/lib/python3.9/dist-packages/sklearn/base.py:439: UserWarning: X does not have valid feature names, but DecisionTreeRegressor was fitted with feature names\n",
      "  warnings.warn(\n"
     ]
    },
    {
     "data": {
      "text/plain": [
       "array([271.8])"
      ]
     },
     "execution_count": 14,
     "metadata": {},
     "output_type": "execute_result"
    }
   ],
   "source": [
    "#here we run the same test as before, with a single sample, and compare how the decision tree predicts.\n",
    "#although the decision tree has a lower RMSE than linreg, the prediction is futher off what we would expect.\n",
    "# this shows that the decision tree likely is overfitting the data\n",
    "\n",
    "#predicting a single result with Decison tree\n",
    "test_pred_tree = tree_reg.predict(test_arr)\n",
    "test_pred_tree"
   ]
  },
  {
   "cell_type": "code",
   "execution_count": null,
   "metadata": {
    "colab": {
     "base_uri": "https://localhost:8080/"
    },
    "id": "JDUvMFItFEvY",
    "outputId": "32d508bf-da04-4d1b-a43a-854e61ebd4b7"
   },
   "outputs": [
    {
     "name": "stderr",
     "output_type": "stream",
     "text": [
      "/usr/local/lib/python3.9/dist-packages/sklearn/base.py:439: UserWarning: X does not have valid feature names, but RandomForestRegressor was fitted with feature names\n",
      "  warnings.warn(\n"
     ]
    },
    {
     "data": {
      "text/plain": [
       "array([297.96296667])"
      ]
     },
     "execution_count": 15,
     "metadata": {},
     "output_type": "execute_result"
    }
   ],
   "source": [
    "# predicting a single result with forest regression \n",
    "test_pred_forest = forest_reg.predict(test_arr)\n",
    "test_pred_forest"
   ]
  },
  {
   "cell_type": "code",
   "execution_count": null,
   "metadata": {
    "colab": {
     "base_uri": "https://localhost:8080/"
    },
    "id": "X8Ugiij6FIpo",
    "outputId": "feba2dd0-6f71-42a9-d05d-02a452e10e65"
   },
   "outputs": [
    {
     "name": "stdout",
     "output_type": "stream",
     "text": [
      "Scores: [22.91634618 26.94032175 35.41110396 22.45967796 18.59265706 20.1902799\n",
      " 20.55152456 34.37641886 24.97160794 22.62253861]\n",
      "Mean: 24.903247676084476\n",
      "Standard Deviation: 5.480911579428736\n"
     ]
    }
   ],
   "source": [
    "# the same cross val is run using linear regression\n",
    "\n",
    "lin_scores = cross_val_score(linreg, features_400_train, label_train, \n",
    "                         scoring='neg_mean_squared_error', cv=10)\n",
    "\n",
    "#compared to the original linreg, the mean here is marginally better, but it is still insightful to check \n",
    "#the original values and compare.\n",
    "\n",
    "lin_rmse_scores = np.sqrt(-lin_scores)\n",
    "display_scores(lin_rmse_scores)"
   ]
  },
  {
   "cell_type": "code",
   "execution_count": null,
   "metadata": {
    "colab": {
     "base_uri": "https://localhost:8080/"
    },
    "id": "JzcIiketFJWj",
    "outputId": "74b355e8-346b-479b-f73d-b19eb2a63b32"
   },
   "outputs": [
    {
     "name": "stdout",
     "output_type": "stream",
     "text": [
      "Scores: [31.34992399 44.63369298 37.89607286 32.07949664 27.16141386 28.38631476\n",
      " 27.61306344 43.65391578 28.9352337  28.45967614]\n",
      "Mean: 33.01688041584433\n",
      "Standard Deviation: 6.308079119910784\n"
     ]
    }
   ],
   "source": [
    "#here I import cross_val_score which will allow me to test the decision tree \n",
    "#and improve how it fits by taking small chunks of the data and training on each chunk\n",
    "# this results in a better fitting.\n",
    "\n",
    "tree_scores = cross_val_score(tree_reg, features_400_train, label_train, \n",
    "                         scoring='neg_mean_squared_error', cv=10)\n",
    "\n",
    "# displaying the scors shows a larger mean\n",
    "#this is expected because before, the data was being overfit\n",
    "tree_rmse_scores = np.sqrt(-tree_scores)\n",
    "display_scores(tree_rmse_scores)"
   ]
  },
  {
   "cell_type": "code",
   "execution_count": null,
   "metadata": {
    "colab": {
     "base_uri": "https://localhost:8080/"
    },
    "id": "7s7opHO6FLJj",
    "outputId": "3e2f5155-5b62-4651-bc0e-44df28216613"
   },
   "outputs": [
    {
     "name": "stdout",
     "output_type": "stream",
     "text": [
      "Scores: [25.75849586 35.90964503 36.2642136  25.34455937 22.06336842 26.02470607\n",
      " 22.84815079 39.77984848 26.48499063 26.2493657 ]\n",
      "Mean: 28.672734395236073\n",
      "Standard Deviation: 5.901029028074876\n"
     ]
    }
   ],
   "source": [
    "#just as with the decision tree, randome forest was likely overfitting the training data\n",
    "# when using crossval we see that the mean is a amost twice as bad\n",
    "# still, this model produces the best results\n",
    "#this is also expected because this model is more powerful \n",
    "\n",
    "forest_scores = cross_val_score(forest_reg, features_400_train, label_train, \n",
    "                         scoring='neg_mean_squared_error', cv=10)\n",
    "\n",
    "forest_rmse_scores = np.sqrt(-forest_scores)\n",
    "display_scores(forest_rmse_scores)"
   ]
  },
  {
   "cell_type": "code",
   "execution_count": null,
   "metadata": {
    "colab": {
     "base_uri": "https://localhost:8080/"
    },
    "id": "9b-IdoKqFLSC",
    "outputId": "47a48a35-bbd2-485b-da28-866f0dd73d1a"
   },
   "outputs": [
    {
     "name": "stdout",
     "output_type": "stream",
     "text": [
      "{'max_features': 4, 'n_estimators': 30}\n",
      "RandomForestRegressor(max_features=4, n_estimators=30)\n"
     ]
    }
   ],
   "source": [
    "#after going through the models, we import one last package, GridSearchCV\n",
    "#this sorts through many parameters and returns the best one.\n",
    "\n",
    "param_grid = [\n",
    "    {'n_estimators': [3,10,30], 'max_features': [2,4,6,8]},\n",
    "    {'bootstrap': [False], 'n_estimators': [3,10], 'max_features': [2,3,4]}\n",
    "]\n",
    "grid_search = GridSearchCV(forest_reg, param_grid, cv=5,\n",
    "                           scoring='neg_mean_squared_error',\n",
    "                           return_train_score=True)\n",
    "\n",
    "#here the grid search model is used to fit the training data\n",
    "#next we print out the best params and best estimators\n",
    "grid_search.fit(features_400_train, label_train)\n",
    "print(grid_search.best_params_)\n",
    "print(grid_search.best_estimator_)"
   ]
  },
  {
   "cell_type": "code",
   "execution_count": null,
   "metadata": {
    "colab": {
     "base_uri": "https://localhost:8080/"
    },
    "id": "_9klDlR2FR2p",
    "outputId": "8bc6150f-0ef0-4dfe-ec48-df46c5ba1cfa"
   },
   "outputs": [
    {
     "name": "stdout",
     "output_type": "stream",
     "text": [
      "30.561859096972178 {'max_features': 2, 'n_estimators': 3}\n",
      "30.050159212961496 {'max_features': 2, 'n_estimators': 10}\n",
      "29.249118792720985 {'max_features': 2, 'n_estimators': 30}\n",
      "32.21142132514255 {'max_features': 4, 'n_estimators': 3}\n",
      "29.658109012314938 {'max_features': 4, 'n_estimators': 10}\n",
      "29.06264528408334 {'max_features': 4, 'n_estimators': 30}\n",
      "31.265504170952504 {'max_features': 6, 'n_estimators': 3}\n",
      "29.50909699546451 {'max_features': 6, 'n_estimators': 10}\n",
      "29.305172781047382 {'max_features': 6, 'n_estimators': 30}\n",
      "30.242449444263606 {'max_features': 8, 'n_estimators': 3}\n",
      "29.68181451864192 {'max_features': 8, 'n_estimators': 10}\n",
      "29.29974283816185 {'max_features': 8, 'n_estimators': 30}\n",
      "33.35184154727088 {'bootstrap': False, 'max_features': 2, 'n_estimators': 3}\n",
      "33.17201865801009 {'bootstrap': False, 'max_features': 2, 'n_estimators': 10}\n",
      "32.836180431374494 {'bootstrap': False, 'max_features': 3, 'n_estimators': 3}\n",
      "32.76875824097099 {'bootstrap': False, 'max_features': 3, 'n_estimators': 10}\n",
      "34.25853865222022 {'bootstrap': False, 'max_features': 4, 'n_estimators': 3}\n",
      "33.08179970573482 {'bootstrap': False, 'max_features': 4, 'n_estimators': 10}\n"
     ]
    }
   ],
   "source": [
    "#here the features and estimators are zip together with the scores\n",
    "#then they are printed out so we can see which returned the best and the range of values \n",
    "#that result from the changes in parameters\n",
    "\n",
    "cv_res = grid_search.cv_results_\n",
    "\n",
    "for mean_score, params in zip(cv_res['mean_test_score'], cv_res['params']):\n",
    "  print(np.sqrt(-mean_score), params)"
   ]
  },
  {
   "cell_type": "code",
   "execution_count": null,
   "metadata": {
    "colab": {
     "base_uri": "https://localhost:8080/"
    },
    "id": "ae6Q0WcxFUHW",
    "outputId": "c795cd99-dd77-4631-a764-a406f727b675"
   },
   "outputs": [
    {
     "name": "stdout",
     "output_type": "stream",
     "text": [
      "29.435421558177417\n"
     ]
    }
   ],
   "source": [
    "#lastly we isolate the best estimators from the model\n",
    "#we then predict the TEST data and compare to the test labels\n",
    "final_model = grid_search.best_estimator_\n",
    "final_pred = final_model.predict(features_400_test)\n",
    "\n",
    "final_mse = mean_squared_error(label_test, final_pred)\n",
    "final_rmse = np.sqrt(final_mse)\n",
    "print(final_rmse)"
   ]
  },
  {
   "cell_type": "code",
   "execution_count": null,
   "metadata": {
    "colab": {
     "base_uri": "https://localhost:8080/"
    },
    "id": "dhdtlhEQFUrh",
    "outputId": "7df7f882-7ba4-4250-bd1c-3cc87adeeace"
   },
   "outputs": [
    {
     "name": "stdout",
     "output_type": "stream",
     "text": [
      "[291.14344444]\n"
     ]
    },
    {
     "name": "stderr",
     "output_type": "stream",
     "text": [
      "/usr/local/lib/python3.9/dist-packages/sklearn/base.py:439: UserWarning: X does not have valid feature names, but RandomForestRegressor was fitted with feature names\n",
      "  warnings.warn(\n"
     ]
    }
   ],
   "source": [
    "test_pred = final_model.predict(test_arr)\n",
    "print(test_pred)"
   ]
  }
 ],
 "metadata": {
  "colab": {
   "provenance": []
  },
  "kernelspec": {
   "display_name": "Python 3 (ipykernel)",
   "language": "python",
   "name": "python3"
  },
  "language_info": {
   "codemirror_mode": {
    "name": "ipython",
    "version": 3
   },
   "file_extension": ".py",
   "mimetype": "text/x-python",
   "name": "python",
   "nbconvert_exporter": "python",
   "pygments_lexer": "ipython3",
   "version": "3.9.13"
  }
 },
 "nbformat": 4,
 "nbformat_minor": 1
}
