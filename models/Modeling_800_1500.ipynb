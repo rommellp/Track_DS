{
  "nbformat": 4,
  "nbformat_minor": 0,
  "metadata": {
    "colab": {
      "provenance": []
    },
    "kernelspec": {
      "name": "python3",
      "display_name": "Python 3"
    },
    "language_info": {
      "name": "python"
    }
  },
  "cells": [
    {
      "cell_type": "code",
      "source": [
        "#import modules for analyzing ,plotting, and formatting\n",
        "import pandas as pd\n",
        "import matplotlib.pyplot as plt\n",
        "import numpy as np\n",
        "import datetime\n",
        "import seaborn as sns\n"
      ],
      "metadata": {
        "id": "t0wktXHAJJ6v"
      },
      "execution_count": null,
      "outputs": []
    },
    {
      "cell_type": "code",
      "source": [
        "merged_800_1500 = pd.read_csv(\"merged_800m_1500m_df.csv\")"
      ],
      "metadata": {
        "id": "mikBp-p3JP0I"
      },
      "execution_count": null,
      "outputs": []
    },
    {
      "cell_type": "code",
      "execution_count": null,
      "metadata": {
        "id": "kNKRqyjtDsRp"
      },
      "outputs": [],
      "source": [
        "#import sklearn and relevant packages\n",
        "from sklearn.model_selection import train_test_split\n",
        "from sklearn.linear_model import LinearRegression\n",
        "from sklearn.pipeline import Pipeline\n",
        "from sklearn.preprocessing import StandardScaler\n",
        "from sklearn.preprocessing import MinMaxScaler\n",
        "from sklearn.preprocessing import OneHotEncoder\n",
        "from sklearn.metrics import mean_absolute_error\n",
        "from sklearn.metrics import mean_absolute_percentage_error\n",
        "from sklearn.metrics import mean_squared_error\n",
        "from sklearn.tree import DecisionTreeRegressor\n",
        "from sklearn.model_selection import cross_val_score\n",
        "from sklearn.ensemble import RandomForestRegressor\n",
        "from sklearn.model_selection import GridSearchCV\n",
        "\n",
        "#separate datasets for the model\n",
        "#here the model is split 67/33\n",
        "m800_1500_train, m800_1500_test = train_test_split(merged_800_1500, test_size=0.33, random_state=0)\n",
        "\n",
        "#gl means grade level\n",
        "#for this model we will use 800/1500m times and grade level\n",
        "gl_800_1500_train = m800_1500_train[['800 Meters', '1500 Meters', 'Grade Level']]\n",
        "gl_800_1500_test = m800_1500_test[['800 Meters', '1500 Meters', 'Grade Level']]\n"
      ]
    },
    {
      "cell_type": "code",
      "source": [
        "#here we separate the features and labels. The features used are the 800m times as well as the grade leve\n",
        "# this calls for dropping the 1500m column for the features df\n",
        "#next I select only the 1500m column for the label df\n",
        "features_800_train = gl_800_1500_train.drop('1500 Meters', axis=1)\n",
        "label_train = gl_800_1500_train['1500 Meters'].copy()\n",
        "\n",
        "#same steps are repeated for the test df\n",
        "features_800_test = gl_800_1500_test.drop('1500 Meters', axis=1)\n",
        "label_test = gl_800_1500_test['1500 Meters'].copy()"
      ],
      "metadata": {
        "id": "X27bKDAxDyoa"
      },
      "execution_count": null,
      "outputs": []
    },
    {
      "cell_type": "code",
      "source": [
        "features_800_train"
      ],
      "metadata": {
        "colab": {
          "base_uri": "https://localhost:8080/",
          "height": 419
        },
        "id": "Ym8jGskOD2pW",
        "outputId": "d5a2e525-30a2-410a-8ea5-16ee2b1d0dc7"
      },
      "execution_count": null,
      "outputs": [
        {
          "output_type": "execute_result",
          "data": {
            "text/plain": [
              "      800 Meters Grade Level\n",
              "1380      123.60  12th Grade\n",
              "1287      151.10  10th Grade\n",
              "1081      124.52  12th Grade\n",
              "572       123.79  11th Grade\n",
              "1775      133.60  11th Grade\n",
              "...          ...         ...\n",
              "1033      123.30  12th Grade\n",
              "1731      131.30  11th Grade\n",
              "763       155.00   9th Grade\n",
              "835       172.20   9th Grade\n",
              "1653      122.20  12th Grade\n",
              "\n",
              "[1680 rows x 2 columns]"
            ],
            "text/html": [
              "\n",
              "  <div id=\"df-949f7614-d696-4c8f-87f9-29756010e55c\">\n",
              "    <div class=\"colab-df-container\">\n",
              "      <div>\n",
              "<style scoped>\n",
              "    .dataframe tbody tr th:only-of-type {\n",
              "        vertical-align: middle;\n",
              "    }\n",
              "\n",
              "    .dataframe tbody tr th {\n",
              "        vertical-align: top;\n",
              "    }\n",
              "\n",
              "    .dataframe thead th {\n",
              "        text-align: right;\n",
              "    }\n",
              "</style>\n",
              "<table border=\"1\" class=\"dataframe\">\n",
              "  <thead>\n",
              "    <tr style=\"text-align: right;\">\n",
              "      <th></th>\n",
              "      <th>800 Meters</th>\n",
              "      <th>Grade Level</th>\n",
              "    </tr>\n",
              "  </thead>\n",
              "  <tbody>\n",
              "    <tr>\n",
              "      <th>1380</th>\n",
              "      <td>123.60</td>\n",
              "      <td>12th Grade</td>\n",
              "    </tr>\n",
              "    <tr>\n",
              "      <th>1287</th>\n",
              "      <td>151.10</td>\n",
              "      <td>10th Grade</td>\n",
              "    </tr>\n",
              "    <tr>\n",
              "      <th>1081</th>\n",
              "      <td>124.52</td>\n",
              "      <td>12th Grade</td>\n",
              "    </tr>\n",
              "    <tr>\n",
              "      <th>572</th>\n",
              "      <td>123.79</td>\n",
              "      <td>11th Grade</td>\n",
              "    </tr>\n",
              "    <tr>\n",
              "      <th>1775</th>\n",
              "      <td>133.60</td>\n",
              "      <td>11th Grade</td>\n",
              "    </tr>\n",
              "    <tr>\n",
              "      <th>...</th>\n",
              "      <td>...</td>\n",
              "      <td>...</td>\n",
              "    </tr>\n",
              "    <tr>\n",
              "      <th>1033</th>\n",
              "      <td>123.30</td>\n",
              "      <td>12th Grade</td>\n",
              "    </tr>\n",
              "    <tr>\n",
              "      <th>1731</th>\n",
              "      <td>131.30</td>\n",
              "      <td>11th Grade</td>\n",
              "    </tr>\n",
              "    <tr>\n",
              "      <th>763</th>\n",
              "      <td>155.00</td>\n",
              "      <td>9th Grade</td>\n",
              "    </tr>\n",
              "    <tr>\n",
              "      <th>835</th>\n",
              "      <td>172.20</td>\n",
              "      <td>9th Grade</td>\n",
              "    </tr>\n",
              "    <tr>\n",
              "      <th>1653</th>\n",
              "      <td>122.20</td>\n",
              "      <td>12th Grade</td>\n",
              "    </tr>\n",
              "  </tbody>\n",
              "</table>\n",
              "<p>1680 rows × 2 columns</p>\n",
              "</div>\n",
              "      <button class=\"colab-df-convert\" onclick=\"convertToInteractive('df-949f7614-d696-4c8f-87f9-29756010e55c')\"\n",
              "              title=\"Convert this dataframe to an interactive table.\"\n",
              "              style=\"display:none;\">\n",
              "        \n",
              "  <svg xmlns=\"http://www.w3.org/2000/svg\" height=\"24px\"viewBox=\"0 0 24 24\"\n",
              "       width=\"24px\">\n",
              "    <path d=\"M0 0h24v24H0V0z\" fill=\"none\"/>\n",
              "    <path d=\"M18.56 5.44l.94 2.06.94-2.06 2.06-.94-2.06-.94-.94-2.06-.94 2.06-2.06.94zm-11 1L8.5 8.5l.94-2.06 2.06-.94-2.06-.94L8.5 2.5l-.94 2.06-2.06.94zm10 10l.94 2.06.94-2.06 2.06-.94-2.06-.94-.94-2.06-.94 2.06-2.06.94z\"/><path d=\"M17.41 7.96l-1.37-1.37c-.4-.4-.92-.59-1.43-.59-.52 0-1.04.2-1.43.59L10.3 9.45l-7.72 7.72c-.78.78-.78 2.05 0 2.83L4 21.41c.39.39.9.59 1.41.59.51 0 1.02-.2 1.41-.59l7.78-7.78 2.81-2.81c.8-.78.8-2.07 0-2.86zM5.41 20L4 18.59l7.72-7.72 1.47 1.35L5.41 20z\"/>\n",
              "  </svg>\n",
              "      </button>\n",
              "      \n",
              "  <style>\n",
              "    .colab-df-container {\n",
              "      display:flex;\n",
              "      flex-wrap:wrap;\n",
              "      gap: 12px;\n",
              "    }\n",
              "\n",
              "    .colab-df-convert {\n",
              "      background-color: #E8F0FE;\n",
              "      border: none;\n",
              "      border-radius: 50%;\n",
              "      cursor: pointer;\n",
              "      display: none;\n",
              "      fill: #1967D2;\n",
              "      height: 32px;\n",
              "      padding: 0 0 0 0;\n",
              "      width: 32px;\n",
              "    }\n",
              "\n",
              "    .colab-df-convert:hover {\n",
              "      background-color: #E2EBFA;\n",
              "      box-shadow: 0px 1px 2px rgba(60, 64, 67, 0.3), 0px 1px 3px 1px rgba(60, 64, 67, 0.15);\n",
              "      fill: #174EA6;\n",
              "    }\n",
              "\n",
              "    [theme=dark] .colab-df-convert {\n",
              "      background-color: #3B4455;\n",
              "      fill: #D2E3FC;\n",
              "    }\n",
              "\n",
              "    [theme=dark] .colab-df-convert:hover {\n",
              "      background-color: #434B5C;\n",
              "      box-shadow: 0px 1px 3px 1px rgba(0, 0, 0, 0.15);\n",
              "      filter: drop-shadow(0px 1px 2px rgba(0, 0, 0, 0.3));\n",
              "      fill: #FFFFFF;\n",
              "    }\n",
              "  </style>\n",
              "\n",
              "      <script>\n",
              "        const buttonEl =\n",
              "          document.querySelector('#df-949f7614-d696-4c8f-87f9-29756010e55c button.colab-df-convert');\n",
              "        buttonEl.style.display =\n",
              "          google.colab.kernel.accessAllowed ? 'block' : 'none';\n",
              "\n",
              "        async function convertToInteractive(key) {\n",
              "          const element = document.querySelector('#df-949f7614-d696-4c8f-87f9-29756010e55c');\n",
              "          const dataTable =\n",
              "            await google.colab.kernel.invokeFunction('convertToInteractive',\n",
              "                                                     [key], {});\n",
              "          if (!dataTable) return;\n",
              "\n",
              "          const docLinkHtml = 'Like what you see? Visit the ' +\n",
              "            '<a target=\"_blank\" href=https://colab.research.google.com/notebooks/data_table.ipynb>data table notebook</a>'\n",
              "            + ' to learn more about interactive tables.';\n",
              "          element.innerHTML = '';\n",
              "          dataTable['output_type'] = 'display_data';\n",
              "          await google.colab.output.renderOutput(dataTable, element);\n",
              "          const docLink = document.createElement('div');\n",
              "          docLink.innerHTML = docLinkHtml;\n",
              "          element.appendChild(docLink);\n",
              "        }\n",
              "      </script>\n",
              "    </div>\n",
              "  </div>\n",
              "  "
            ]
          },
          "metadata": {},
          "execution_count": 5
        }
      ]
    },
    {
      "cell_type": "code",
      "source": [
        "#regression models require numeric data, this means that we have to convert variables from a categorical feature to a binary one.\n",
        "#grade level is converted to 0s and 1s\n",
        "# get dummies turned all non-numeric to numeric.\n",
        "dummy_800_train = pd.get_dummies(features_800_train)\n",
        "\n",
        "#after converting the grade level column, we reindex the df\n",
        "dummy_800_train = dummy_800_train.reindex(columns=dummy_800_train.columns, fill_value=0)\n",
        "features_800_train = dummy_800_train[['800 Meters', 'Grade Level_9th Grade', 'Grade Level_10th Grade', 'Grade Level_11th Grade', 'Grade Level_12th Grade']]\n",
        "features_800_train\n",
        "\n",
        "#the same steps are repeated for the test df\n",
        "dummy_800_test = pd.get_dummies(features_800_test)\n",
        "\n",
        "dummy_800_test = dummy_800_test.reindex(columns=dummy_800_test.columns, fill_value=0)\n",
        "features_800_test = dummy_800_test[['800 Meters', 'Grade Level_9th Grade', 'Grade Level_10th Grade', 'Grade Level_11th Grade', 'Grade Level_12th Grade']]\n",
        "features_800_test"
      ],
      "metadata": {
        "colab": {
          "base_uri": "https://localhost:8080/",
          "height": 419
        },
        "id": "yXLwSsyQD3UH",
        "outputId": "afe51d9c-5d7a-4e4c-b401-9c83782a9bd0"
      },
      "execution_count": null,
      "outputs": [
        {
          "output_type": "execute_result",
          "data": {
            "text/plain": [
              "      800 Meters  Grade Level_9th Grade  Grade Level_10th Grade  \\\n",
              "568       137.30                      0                       1   \n",
              "1180      122.30                      0                       1   \n",
              "1119      128.13                      0                       0   \n",
              "1820      156.00                      0                       0   \n",
              "399       146.00                      1                       0   \n",
              "...          ...                    ...                     ...   \n",
              "1880      161.00                      0                       1   \n",
              "1487      130.60                      0                       0   \n",
              "564       150.00                      1                       0   \n",
              "294       148.42                      0                       1   \n",
              "1658      157.70                      0                       0   \n",
              "\n",
              "      Grade Level_11th Grade  Grade Level_12th Grade  \n",
              "568                        0                       0  \n",
              "1180                       0                       0  \n",
              "1119                       0                       1  \n",
              "1820                       0                       1  \n",
              "399                        0                       0  \n",
              "...                      ...                     ...  \n",
              "1880                       0                       0  \n",
              "1487                       1                       0  \n",
              "564                        0                       0  \n",
              "294                        0                       0  \n",
              "1658                       0                       1  \n",
              "\n",
              "[828 rows x 5 columns]"
            ],
            "text/html": [
              "\n",
              "  <div id=\"df-72444d92-7691-48df-91a0-83ed9871e573\">\n",
              "    <div class=\"colab-df-container\">\n",
              "      <div>\n",
              "<style scoped>\n",
              "    .dataframe tbody tr th:only-of-type {\n",
              "        vertical-align: middle;\n",
              "    }\n",
              "\n",
              "    .dataframe tbody tr th {\n",
              "        vertical-align: top;\n",
              "    }\n",
              "\n",
              "    .dataframe thead th {\n",
              "        text-align: right;\n",
              "    }\n",
              "</style>\n",
              "<table border=\"1\" class=\"dataframe\">\n",
              "  <thead>\n",
              "    <tr style=\"text-align: right;\">\n",
              "      <th></th>\n",
              "      <th>800 Meters</th>\n",
              "      <th>Grade Level_9th Grade</th>\n",
              "      <th>Grade Level_10th Grade</th>\n",
              "      <th>Grade Level_11th Grade</th>\n",
              "      <th>Grade Level_12th Grade</th>\n",
              "    </tr>\n",
              "  </thead>\n",
              "  <tbody>\n",
              "    <tr>\n",
              "      <th>568</th>\n",
              "      <td>137.30</td>\n",
              "      <td>0</td>\n",
              "      <td>1</td>\n",
              "      <td>0</td>\n",
              "      <td>0</td>\n",
              "    </tr>\n",
              "    <tr>\n",
              "      <th>1180</th>\n",
              "      <td>122.30</td>\n",
              "      <td>0</td>\n",
              "      <td>1</td>\n",
              "      <td>0</td>\n",
              "      <td>0</td>\n",
              "    </tr>\n",
              "    <tr>\n",
              "      <th>1119</th>\n",
              "      <td>128.13</td>\n",
              "      <td>0</td>\n",
              "      <td>0</td>\n",
              "      <td>0</td>\n",
              "      <td>1</td>\n",
              "    </tr>\n",
              "    <tr>\n",
              "      <th>1820</th>\n",
              "      <td>156.00</td>\n",
              "      <td>0</td>\n",
              "      <td>0</td>\n",
              "      <td>0</td>\n",
              "      <td>1</td>\n",
              "    </tr>\n",
              "    <tr>\n",
              "      <th>399</th>\n",
              "      <td>146.00</td>\n",
              "      <td>1</td>\n",
              "      <td>0</td>\n",
              "      <td>0</td>\n",
              "      <td>0</td>\n",
              "    </tr>\n",
              "    <tr>\n",
              "      <th>...</th>\n",
              "      <td>...</td>\n",
              "      <td>...</td>\n",
              "      <td>...</td>\n",
              "      <td>...</td>\n",
              "      <td>...</td>\n",
              "    </tr>\n",
              "    <tr>\n",
              "      <th>1880</th>\n",
              "      <td>161.00</td>\n",
              "      <td>0</td>\n",
              "      <td>1</td>\n",
              "      <td>0</td>\n",
              "      <td>0</td>\n",
              "    </tr>\n",
              "    <tr>\n",
              "      <th>1487</th>\n",
              "      <td>130.60</td>\n",
              "      <td>0</td>\n",
              "      <td>0</td>\n",
              "      <td>1</td>\n",
              "      <td>0</td>\n",
              "    </tr>\n",
              "    <tr>\n",
              "      <th>564</th>\n",
              "      <td>150.00</td>\n",
              "      <td>1</td>\n",
              "      <td>0</td>\n",
              "      <td>0</td>\n",
              "      <td>0</td>\n",
              "    </tr>\n",
              "    <tr>\n",
              "      <th>294</th>\n",
              "      <td>148.42</td>\n",
              "      <td>0</td>\n",
              "      <td>1</td>\n",
              "      <td>0</td>\n",
              "      <td>0</td>\n",
              "    </tr>\n",
              "    <tr>\n",
              "      <th>1658</th>\n",
              "      <td>157.70</td>\n",
              "      <td>0</td>\n",
              "      <td>0</td>\n",
              "      <td>0</td>\n",
              "      <td>1</td>\n",
              "    </tr>\n",
              "  </tbody>\n",
              "</table>\n",
              "<p>828 rows × 5 columns</p>\n",
              "</div>\n",
              "      <button class=\"colab-df-convert\" onclick=\"convertToInteractive('df-72444d92-7691-48df-91a0-83ed9871e573')\"\n",
              "              title=\"Convert this dataframe to an interactive table.\"\n",
              "              style=\"display:none;\">\n",
              "        \n",
              "  <svg xmlns=\"http://www.w3.org/2000/svg\" height=\"24px\"viewBox=\"0 0 24 24\"\n",
              "       width=\"24px\">\n",
              "    <path d=\"M0 0h24v24H0V0z\" fill=\"none\"/>\n",
              "    <path d=\"M18.56 5.44l.94 2.06.94-2.06 2.06-.94-2.06-.94-.94-2.06-.94 2.06-2.06.94zm-11 1L8.5 8.5l.94-2.06 2.06-.94-2.06-.94L8.5 2.5l-.94 2.06-2.06.94zm10 10l.94 2.06.94-2.06 2.06-.94-2.06-.94-.94-2.06-.94 2.06-2.06.94z\"/><path d=\"M17.41 7.96l-1.37-1.37c-.4-.4-.92-.59-1.43-.59-.52 0-1.04.2-1.43.59L10.3 9.45l-7.72 7.72c-.78.78-.78 2.05 0 2.83L4 21.41c.39.39.9.59 1.41.59.51 0 1.02-.2 1.41-.59l7.78-7.78 2.81-2.81c.8-.78.8-2.07 0-2.86zM5.41 20L4 18.59l7.72-7.72 1.47 1.35L5.41 20z\"/>\n",
              "  </svg>\n",
              "      </button>\n",
              "      \n",
              "  <style>\n",
              "    .colab-df-container {\n",
              "      display:flex;\n",
              "      flex-wrap:wrap;\n",
              "      gap: 12px;\n",
              "    }\n",
              "\n",
              "    .colab-df-convert {\n",
              "      background-color: #E8F0FE;\n",
              "      border: none;\n",
              "      border-radius: 50%;\n",
              "      cursor: pointer;\n",
              "      display: none;\n",
              "      fill: #1967D2;\n",
              "      height: 32px;\n",
              "      padding: 0 0 0 0;\n",
              "      width: 32px;\n",
              "    }\n",
              "\n",
              "    .colab-df-convert:hover {\n",
              "      background-color: #E2EBFA;\n",
              "      box-shadow: 0px 1px 2px rgba(60, 64, 67, 0.3), 0px 1px 3px 1px rgba(60, 64, 67, 0.15);\n",
              "      fill: #174EA6;\n",
              "    }\n",
              "\n",
              "    [theme=dark] .colab-df-convert {\n",
              "      background-color: #3B4455;\n",
              "      fill: #D2E3FC;\n",
              "    }\n",
              "\n",
              "    [theme=dark] .colab-df-convert:hover {\n",
              "      background-color: #434B5C;\n",
              "      box-shadow: 0px 1px 3px 1px rgba(0, 0, 0, 0.15);\n",
              "      filter: drop-shadow(0px 1px 2px rgba(0, 0, 0, 0.3));\n",
              "      fill: #FFFFFF;\n",
              "    }\n",
              "  </style>\n",
              "\n",
              "      <script>\n",
              "        const buttonEl =\n",
              "          document.querySelector('#df-72444d92-7691-48df-91a0-83ed9871e573 button.colab-df-convert');\n",
              "        buttonEl.style.display =\n",
              "          google.colab.kernel.accessAllowed ? 'block' : 'none';\n",
              "\n",
              "        async function convertToInteractive(key) {\n",
              "          const element = document.querySelector('#df-72444d92-7691-48df-91a0-83ed9871e573');\n",
              "          const dataTable =\n",
              "            await google.colab.kernel.invokeFunction('convertToInteractive',\n",
              "                                                     [key], {});\n",
              "          if (!dataTable) return;\n",
              "\n",
              "          const docLinkHtml = 'Like what you see? Visit the ' +\n",
              "            '<a target=\"_blank\" href=https://colab.research.google.com/notebooks/data_table.ipynb>data table notebook</a>'\n",
              "            + ' to learn more about interactive tables.';\n",
              "          element.innerHTML = '';\n",
              "          dataTable['output_type'] = 'display_data';\n",
              "          await google.colab.output.renderOutput(dataTable, element);\n",
              "          const docLink = document.createElement('div');\n",
              "          docLink.innerHTML = docLinkHtml;\n",
              "          element.appendChild(docLink);\n",
              "        }\n",
              "      </script>\n",
              "    </div>\n",
              "  </div>\n",
              "  "
            ]
          },
          "metadata": {},
          "execution_count": 6
        }
      ]
    },
    {
      "cell_type": "code",
      "source": [
        "#here I am selecting the runners with times between 59 and 60 seconds in the 800m\n",
        "#next I am finding those same runners in the labeled data (1500m times)\n",
        "#I do this as a simple measure so that I can compare the single test predicitions below, and get \n",
        "# a sense of which model is predicting closes to what we expect a runner to run. \n",
        "\n",
        "times = features_800_train[(features_800_train['800 Meters'] > 119) & (features_800_train['800 Meters'] < 120)]\n",
        "label_train[times.index].mean()"
      ],
      "metadata": {
        "colab": {
          "base_uri": "https://localhost:8080/"
        },
        "id": "Fw9sKLeqD7Xu",
        "outputId": "3dbc9ba5-bf6f-4411-a7b0-d4b1b8716db4"
      },
      "execution_count": null,
      "outputs": [
        {
          "output_type": "execute_result",
          "data": {
            "text/plain": [
              "255.7447222222222"
            ]
          },
          "metadata": {},
          "execution_count": 25
        }
      ]
    },
    {
      "cell_type": "code",
      "source": [
        "# I used a small definition from Intro to machine learning to display the scores from the cross val.\n",
        "#this code will be used later to display the scores from cross val cv\n",
        "def display_scores(scores):\n",
        "  print('Scores:', scores)\n",
        "  print('Mean:', scores.mean()),\n",
        "  print('Standard Deviation:', scores.std())\n"
      ],
      "metadata": {
        "id": "O8Noeut1EAau"
      },
      "execution_count": null,
      "outputs": []
    },
    {
      "cell_type": "markdown",
      "source": [
        "Here we have the data processed and formatted to run multiple ML models.\n",
        "These will be LinearRegression, Decision Tree Regression, and Forest Regression.\n",
        "\n",
        "Our main measure of the data is the RMSE. This function compares the values of the labels to the predictions. We compare this value for all the training data and choose a model that works best before we use the test data."
      ],
      "metadata": {
        "id": "ibNcfIZ2Es9z"
      }
    },
    {
      "cell_type": "code",
      "source": [
        "#after preparing the data we are ready to create the linear regression instance\n",
        "# and train the model with out data\n",
        "\n",
        "linreg = LinearRegression()\n",
        "linreg.fit(features_800_train, label_train)\n",
        "\n",
        "#here we are importing another regression model to test the difference,\n",
        "# and checking is a more powerful model will produce better results.\n",
        "#we fit this model and predict on our training data as we did before.\n",
        "\n",
        "tree_reg = DecisionTreeRegressor()\n",
        "tree_reg.fit(features_800_train, label_train)\n",
        "\n",
        "#the most powerful model used in this project\n",
        "forest_reg = RandomForestRegressor()\n",
        "forest_reg.fit(features_800_train, label_train)\n",
        "\n",
        "#we import the one more regression model which will be the most powerful\n",
        "#the steps will be the same as before\n",
        "\n",
        "forest_reg = RandomForestRegressor()\n",
        "forest_reg.fit(features_800_train, label_train)"
      ],
      "metadata": {
        "colab": {
          "base_uri": "https://localhost:8080/",
          "height": 74
        },
        "id": "ddN2JtflEBOI",
        "outputId": "0d7b8bed-ac75-401f-f3ea-e2cfd679612f"
      },
      "execution_count": null,
      "outputs": [
        {
          "output_type": "execute_result",
          "data": {
            "text/plain": [
              "RandomForestRegressor()"
            ],
            "text/html": [
              "<style>#sk-container-id-1 {color: black;background-color: white;}#sk-container-id-1 pre{padding: 0;}#sk-container-id-1 div.sk-toggleable {background-color: white;}#sk-container-id-1 label.sk-toggleable__label {cursor: pointer;display: block;width: 100%;margin-bottom: 0;padding: 0.3em;box-sizing: border-box;text-align: center;}#sk-container-id-1 label.sk-toggleable__label-arrow:before {content: \"▸\";float: left;margin-right: 0.25em;color: #696969;}#sk-container-id-1 label.sk-toggleable__label-arrow:hover:before {color: black;}#sk-container-id-1 div.sk-estimator:hover label.sk-toggleable__label-arrow:before {color: black;}#sk-container-id-1 div.sk-toggleable__content {max-height: 0;max-width: 0;overflow: hidden;text-align: left;background-color: #f0f8ff;}#sk-container-id-1 div.sk-toggleable__content pre {margin: 0.2em;color: black;border-radius: 0.25em;background-color: #f0f8ff;}#sk-container-id-1 input.sk-toggleable__control:checked~div.sk-toggleable__content {max-height: 200px;max-width: 100%;overflow: auto;}#sk-container-id-1 input.sk-toggleable__control:checked~label.sk-toggleable__label-arrow:before {content: \"▾\";}#sk-container-id-1 div.sk-estimator input.sk-toggleable__control:checked~label.sk-toggleable__label {background-color: #d4ebff;}#sk-container-id-1 div.sk-label input.sk-toggleable__control:checked~label.sk-toggleable__label {background-color: #d4ebff;}#sk-container-id-1 input.sk-hidden--visually {border: 0;clip: rect(1px 1px 1px 1px);clip: rect(1px, 1px, 1px, 1px);height: 1px;margin: -1px;overflow: hidden;padding: 0;position: absolute;width: 1px;}#sk-container-id-1 div.sk-estimator {font-family: monospace;background-color: #f0f8ff;border: 1px dotted black;border-radius: 0.25em;box-sizing: border-box;margin-bottom: 0.5em;}#sk-container-id-1 div.sk-estimator:hover {background-color: #d4ebff;}#sk-container-id-1 div.sk-parallel-item::after {content: \"\";width: 100%;border-bottom: 1px solid gray;flex-grow: 1;}#sk-container-id-1 div.sk-label:hover label.sk-toggleable__label {background-color: #d4ebff;}#sk-container-id-1 div.sk-serial::before {content: \"\";position: absolute;border-left: 1px solid gray;box-sizing: border-box;top: 0;bottom: 0;left: 50%;z-index: 0;}#sk-container-id-1 div.sk-serial {display: flex;flex-direction: column;align-items: center;background-color: white;padding-right: 0.2em;padding-left: 0.2em;position: relative;}#sk-container-id-1 div.sk-item {position: relative;z-index: 1;}#sk-container-id-1 div.sk-parallel {display: flex;align-items: stretch;justify-content: center;background-color: white;position: relative;}#sk-container-id-1 div.sk-item::before, #sk-container-id-1 div.sk-parallel-item::before {content: \"\";position: absolute;border-left: 1px solid gray;box-sizing: border-box;top: 0;bottom: 0;left: 50%;z-index: -1;}#sk-container-id-1 div.sk-parallel-item {display: flex;flex-direction: column;z-index: 1;position: relative;background-color: white;}#sk-container-id-1 div.sk-parallel-item:first-child::after {align-self: flex-end;width: 50%;}#sk-container-id-1 div.sk-parallel-item:last-child::after {align-self: flex-start;width: 50%;}#sk-container-id-1 div.sk-parallel-item:only-child::after {width: 0;}#sk-container-id-1 div.sk-dashed-wrapped {border: 1px dashed gray;margin: 0 0.4em 0.5em 0.4em;box-sizing: border-box;padding-bottom: 0.4em;background-color: white;}#sk-container-id-1 div.sk-label label {font-family: monospace;font-weight: bold;display: inline-block;line-height: 1.2em;}#sk-container-id-1 div.sk-label-container {text-align: center;}#sk-container-id-1 div.sk-container {/* jupyter's `normalize.less` sets `[hidden] { display: none; }` but bootstrap.min.css set `[hidden] { display: none !important; }` so we also need the `!important` here to be able to override the default hidden behavior on the sphinx rendered scikit-learn.org. See: https://github.com/scikit-learn/scikit-learn/issues/21755 */display: inline-block !important;position: relative;}#sk-container-id-1 div.sk-text-repr-fallback {display: none;}</style><div id=\"sk-container-id-1\" class=\"sk-top-container\"><div class=\"sk-text-repr-fallback\"><pre>RandomForestRegressor()</pre><b>In a Jupyter environment, please rerun this cell to show the HTML representation or trust the notebook. <br />On GitHub, the HTML representation is unable to render, please try loading this page with nbviewer.org.</b></div><div class=\"sk-container\" hidden><div class=\"sk-item\"><div class=\"sk-estimator sk-toggleable\"><input class=\"sk-toggleable__control sk-hidden--visually\" id=\"sk-estimator-id-1\" type=\"checkbox\" checked><label for=\"sk-estimator-id-1\" class=\"sk-toggleable__label sk-toggleable__label-arrow\">RandomForestRegressor</label><div class=\"sk-toggleable__content\"><pre>RandomForestRegressor()</pre></div></div></div></div></div>"
            ]
          },
          "metadata": {},
          "execution_count": 9
        }
      ]
    },
    {
      "cell_type": "markdown",
      "source": [
        "After creating an instance for each regression model, we fit each of them on the training data. \n",
        "\n",
        "After each fit we predict on training data and compare the training labels to analyze the accuracy.\n"
      ],
      "metadata": {
        "id": "YQdCmdAME0ad"
      }
    },
    {
      "cell_type": "code",
      "source": [
        "#after training we check out model by predicting using out training data\n",
        "#we compare out predictions on training data vs. the labels and study the difference\n",
        "# RMSE is the Root Mean Square Error, which measures the difference between predicted values and the labels. \n",
        "# this measure is common and works well with regression models.\n",
        "\n",
        "train_pred = linreg.predict(features_800_train)\n",
        "lin_mse = mean_squared_error(label_train, train_pred)\n",
        "lin_rmse = np.sqrt(lin_mse)\n",
        "print('linreg RMSE: ', lin_rmse)"
      ],
      "metadata": {
        "colab": {
          "base_uri": "https://localhost:8080/"
        },
        "id": "qLCLggI4ExkW",
        "outputId": "20d0bc10-854b-4ec8-d767-2a9d7f628441"
      },
      "execution_count": null,
      "outputs": [
        {
          "output_type": "stream",
          "name": "stdout",
          "text": [
            "linreg RMSE:  14.54682161150026\n"
          ]
        }
      ]
    },
    {
      "cell_type": "code",
      "source": [
        "#predicting with the Decision Tree Regression \n",
        "tree_pred = tree_reg.predict(features_800_train)\n",
        "tree_mse = mean_squared_error(label_train, tree_pred)\n",
        "tree_rmse = np.sqrt(tree_mse)\n",
        "print('decision tree RMSE: ', tree_rmse)"
      ],
      "metadata": {
        "colab": {
          "base_uri": "https://localhost:8080/"
        },
        "id": "T6PZIwOvE4Ba",
        "outputId": "423f41e4-d76f-424d-beb1-d2fc9e778b11"
      },
      "execution_count": null,
      "outputs": [
        {
          "output_type": "stream",
          "name": "stdout",
          "text": [
            "decision tree RMSE:  7.786857701352396\n"
          ]
        }
      ]
    },
    {
      "cell_type": "code",
      "source": [
        "#prediction with Forest Regression\n",
        "forest_pred = forest_reg.predict(features_800_train)\n",
        "forest_mse = mean_squared_error(label_train, forest_pred)\n",
        "forest_rmse = np.sqrt(forest_mse)\n",
        "\n",
        "print('forest RMSE:',  forest_rmse)"
      ],
      "metadata": {
        "colab": {
          "base_uri": "https://localhost:8080/"
        },
        "id": "Z0e2ijTyE6fe",
        "outputId": "b8899031-63e7-4293-9748-0d63bf5cb470"
      },
      "execution_count": null,
      "outputs": [
        {
          "output_type": "stream",
          "name": "stdout",
          "text": [
            "forest RMSE: 9.146394029828686\n"
          ]
        }
      ]
    },
    {
      "cell_type": "code",
      "source": [
        "#here is a small test using a runner with a 60 second 800m.\n",
        "# the number 1 represents a grade level.\n",
        "#using this we can run a simple test to see how acurate a single prediction is.\n",
        "#the array corresponds to 800m time, 9th grade, 10th grade, 11th grade, and 12th grade (in this order).\n",
        "\n",
        "test_arr = np.array([120,0,0,0,1])\n",
        "test_arr = test_arr.reshape(1,-1)\n",
        "\n",
        "#predicting a single result with linreg\n",
        "test_pred_lin = linreg.predict(test_arr)\n",
        "test_pred_lin"
      ],
      "metadata": {
        "colab": {
          "base_uri": "https://localhost:8080/"
        },
        "id": "cqksaA5fE_g1",
        "outputId": "1567b9ab-4f86-48e7-e524-9d2336b3ed68"
      },
      "execution_count": null,
      "outputs": [
        {
          "output_type": "stream",
          "name": "stderr",
          "text": [
            "/usr/local/lib/python3.9/dist-packages/sklearn/base.py:439: UserWarning: X does not have valid feature names, but LinearRegression was fitted with feature names\n",
            "  warnings.warn(\n"
          ]
        },
        {
          "output_type": "execute_result",
          "data": {
            "text/plain": [
              "array([255.68008304])"
            ]
          },
          "metadata": {},
          "execution_count": 13
        }
      ]
    },
    {
      "cell_type": "code",
      "source": [
        "#here we run the same test as before, with a single sample, and compare how the decision tree predicts.\n",
        "#although the decision tree has a lower RMSE than linreg, the prediction is futher off what we would expect.\n",
        "# this shows that the decision tree likely is overfitting the data\n",
        "\n",
        "#predicting a single result with Decison tree\n",
        "test_pred_tree = tree_reg.predict(test_arr)\n",
        "test_pred_tree"
      ],
      "metadata": {
        "colab": {
          "base_uri": "https://localhost:8080/"
        },
        "id": "LLCK49xFFB2g",
        "outputId": "450a4cf7-1308-46b8-cc03-5912e2df7166"
      },
      "execution_count": null,
      "outputs": [
        {
          "output_type": "stream",
          "name": "stderr",
          "text": [
            "/usr/local/lib/python3.9/dist-packages/sklearn/base.py:439: UserWarning: X does not have valid feature names, but DecisionTreeRegressor was fitted with feature names\n",
            "  warnings.warn(\n"
          ]
        },
        {
          "output_type": "execute_result",
          "data": {
            "text/plain": [
              "array([251.31])"
            ]
          },
          "metadata": {},
          "execution_count": 14
        }
      ]
    },
    {
      "cell_type": "code",
      "source": [
        "# predicting a single result with forest regression \n",
        "test_pred_forest = forest_reg.predict(test_arr)\n",
        "test_pred_forest"
      ],
      "metadata": {
        "colab": {
          "base_uri": "https://localhost:8080/"
        },
        "id": "JDUvMFItFEvY",
        "outputId": "937822c2-9069-4558-e05f-8bf06534074f"
      },
      "execution_count": null,
      "outputs": [
        {
          "output_type": "stream",
          "name": "stderr",
          "text": [
            "/usr/local/lib/python3.9/dist-packages/sklearn/base.py:439: UserWarning: X does not have valid feature names, but RandomForestRegressor was fitted with feature names\n",
            "  warnings.warn(\n"
          ]
        },
        {
          "output_type": "execute_result",
          "data": {
            "text/plain": [
              "array([254.4003])"
            ]
          },
          "metadata": {},
          "execution_count": 15
        }
      ]
    },
    {
      "cell_type": "code",
      "source": [
        "# the same cross val is run using linear regression\n",
        "\n",
        "lin_scores = cross_val_score(linreg, features_800_train, label_train, \n",
        "                         scoring='neg_mean_squared_error', cv=10)\n",
        "\n",
        "#compared to the original linreg, the mean here is marginally better, but it is still insightful to check \n",
        "#the original values and compare.\n",
        "\n",
        "lin_rmse_scores = np.sqrt(-lin_scores)\n",
        "display_scores(lin_rmse_scores)"
      ],
      "metadata": {
        "colab": {
          "base_uri": "https://localhost:8080/"
        },
        "id": "X8Ugiij6FIpo",
        "outputId": "cf520756-e05a-48a9-f787-6e08677b2feb"
      },
      "execution_count": null,
      "outputs": [
        {
          "output_type": "stream",
          "name": "stdout",
          "text": [
            "Scores: [12.92322322 12.8017793  12.30115494 14.35071304 21.87252578 15.1711855\n",
            " 12.62522304 13.17126945 13.63156169 14.68578445]\n",
            "Mean: 14.353442040808574\n",
            "Standard Deviation: 2.6624468673682364\n"
          ]
        }
      ]
    },
    {
      "cell_type": "code",
      "source": [
        "#here I import cross_val_score which will allow me to test the decision tree \n",
        "#and improve how it fits by taking small chunks of the data and training on each chunk\n",
        "# this results in a better fitting.\n",
        "\n",
        "tree_scores = cross_val_score(tree_reg, features_800_train, label_train, \n",
        "                         scoring='neg_mean_squared_error', cv=10)\n",
        "\n",
        "# displaying the scors shows a larger mean\n",
        "#this is expected because before, the data was being overfit\n",
        "tree_rmse_scores = np.sqrt(-tree_scores)\n",
        "display_scores(tree_rmse_scores)"
      ],
      "metadata": {
        "colab": {
          "base_uri": "https://localhost:8080/"
        },
        "id": "JzcIiketFJWj",
        "outputId": "06b923fb-a16c-4ce4-bd31-59a5b22598e6"
      },
      "execution_count": null,
      "outputs": [
        {
          "output_type": "stream",
          "name": "stdout",
          "text": [
            "Scores: [18.93653344 18.85636828 16.16145525 21.53373923 26.82513086 19.89432869\n",
            " 16.08310095 17.93840563 17.68309069 19.14774099]\n",
            "Mean: 19.30598940056982\n",
            "Standard Deviation: 2.949396391548148\n"
          ]
        }
      ]
    },
    {
      "cell_type": "code",
      "source": [
        "#just as with the decision tree, randome forest was likely overfitting the training data\n",
        "# when using crossval we see that the mean is a amost twice as bad\n",
        "# still, this model produces the best results\n",
        "#this is also expected because this model is more powerful \n",
        "\n",
        "forest_scores = cross_val_score(forest_reg, features_800_train, label_train, \n",
        "                         scoring='neg_mean_squared_error', cv=10)\n",
        "\n",
        "forest_rmse_scores = np.sqrt(-forest_scores)\n",
        "display_scores(forest_rmse_scores)"
      ],
      "metadata": {
        "colab": {
          "base_uri": "https://localhost:8080/"
        },
        "id": "7s7opHO6FLJj",
        "outputId": "a87fb39b-15fb-4a26-8ed8-e9bb735ff66f"
      },
      "execution_count": null,
      "outputs": [
        {
          "output_type": "stream",
          "name": "stdout",
          "text": [
            "Scores: [15.67033026 16.6354771  13.48735116 18.63764456 23.80039426 17.10687907\n",
            " 13.77525981 15.11343507 15.26869911 16.4966374 ]\n",
            "Mean: 16.59921078073425\n",
            "Standard Deviation: 2.806791739475534\n"
          ]
        }
      ]
    },
    {
      "cell_type": "code",
      "source": [
        "#after going through the models, we import one last package, GridSearchCV\n",
        "#this sorts through many parameters and returns the best one.\n",
        "\n",
        "param_grid = [\n",
        "    {'n_estimators': [3,10,30], 'max_features': [2,4,6,8]},\n",
        "    {'bootstrap': [False], 'n_estimators': [3,10], 'max_features': [2,3,4]}\n",
        "]\n",
        "grid_search = GridSearchCV(forest_reg, param_grid, cv=5,\n",
        "                           scoring='neg_mean_squared_error',\n",
        "                           return_train_score=True)\n",
        "\n",
        "#here the grid search model is used to fit the training data\n",
        "#next we print out the best params and best estimators\n",
        "grid_search.fit(features_800_train, label_train)\n",
        "print(grid_search.best_params_)\n",
        "print(grid_search.best_estimator_)"
      ],
      "metadata": {
        "colab": {
          "base_uri": "https://localhost:8080/"
        },
        "id": "9b-IdoKqFLSC",
        "outputId": "5e0ee835-63b6-4451-ff48-4f668f4ff50a"
      },
      "execution_count": null,
      "outputs": [
        {
          "output_type": "stream",
          "name": "stdout",
          "text": [
            "{'max_features': 6, 'n_estimators': 30}\n",
            "RandomForestRegressor(max_features=6, n_estimators=30)\n"
          ]
        }
      ]
    },
    {
      "cell_type": "code",
      "source": [
        "#here the features and estimators are zip together with the scores\n",
        "#then they are printed out so we can see which returned the best and the range of values \n",
        "#that result from the changes in parameters\n",
        "\n",
        "cv_res = grid_search.cv_results_\n",
        "\n",
        "for mean_score, params in zip(cv_res['mean_test_score'], cv_res['params']):\n",
        "  print(np.sqrt(-mean_score), params)"
      ],
      "metadata": {
        "colab": {
          "base_uri": "https://localhost:8080/"
        },
        "id": "_9klDlR2FR2p",
        "outputId": "fe89437c-54ce-49e6-c668-fa4926d5e8a4"
      },
      "execution_count": null,
      "outputs": [
        {
          "output_type": "stream",
          "name": "stdout",
          "text": [
            "18.234187367183587 {'max_features': 2, 'n_estimators': 3}\n",
            "17.344881530925655 {'max_features': 2, 'n_estimators': 10}\n",
            "17.27677521962205 {'max_features': 2, 'n_estimators': 30}\n",
            "17.869886401982072 {'max_features': 4, 'n_estimators': 3}\n",
            "16.88103190666687 {'max_features': 4, 'n_estimators': 10}\n",
            "16.854673269521033 {'max_features': 4, 'n_estimators': 30}\n",
            "17.601764193034462 {'max_features': 6, 'n_estimators': 3}\n",
            "17.10946149847384 {'max_features': 6, 'n_estimators': 10}\n",
            "16.764509632028762 {'max_features': 6, 'n_estimators': 30}\n",
            "17.989635579020593 {'max_features': 8, 'n_estimators': 3}\n",
            "17.076785241758294 {'max_features': 8, 'n_estimators': 10}\n",
            "16.882692220395192 {'max_features': 8, 'n_estimators': 30}\n",
            "19.248165158237335 {'bootstrap': False, 'max_features': 2, 'n_estimators': 3}\n",
            "19.175622339132545 {'bootstrap': False, 'max_features': 2, 'n_estimators': 10}\n",
            "19.06505987701021 {'bootstrap': False, 'max_features': 3, 'n_estimators': 3}\n",
            "18.995490058782842 {'bootstrap': False, 'max_features': 3, 'n_estimators': 10}\n",
            "18.96777091574646 {'bootstrap': False, 'max_features': 4, 'n_estimators': 3}\n",
            "18.801180445987292 {'bootstrap': False, 'max_features': 4, 'n_estimators': 10}\n"
          ]
        }
      ]
    },
    {
      "cell_type": "code",
      "source": [
        "#lastly we isolate the best estimators from the model\n",
        "#we then predict the TEST data and compare to the test labels\n",
        "final_model = grid_search.best_estimator_\n",
        "final_pred = final_model.predict(features_800_test)\n",
        "\n",
        "final_mse = mean_squared_error(label_test, final_pred)\n",
        "final_rmse = np.sqrt(final_mse)\n",
        "print(final_rmse)"
      ],
      "metadata": {
        "colab": {
          "base_uri": "https://localhost:8080/"
        },
        "id": "ae6Q0WcxFUHW",
        "outputId": "6b3f1460-dc60-4c23-c340-0a3469ab4f21"
      },
      "execution_count": null,
      "outputs": [
        {
          "output_type": "stream",
          "name": "stdout",
          "text": [
            "16.77809638885795\n"
          ]
        }
      ]
    },
    {
      "cell_type": "code",
      "source": [
        "test_pred = final_model.predict(test_arr)\n",
        "print(test_pred)"
      ],
      "metadata": {
        "colab": {
          "base_uri": "https://localhost:8080/"
        },
        "id": "dhdtlhEQFUrh",
        "outputId": "fc8a3e7b-a87f-4db7-b5c7-6cc2ec23d3e2"
      },
      "execution_count": null,
      "outputs": [
        {
          "output_type": "stream",
          "name": "stdout",
          "text": [
            "[256.26533333]\n"
          ]
        },
        {
          "output_type": "stream",
          "name": "stderr",
          "text": [
            "/usr/local/lib/python3.9/dist-packages/sklearn/base.py:439: UserWarning: X does not have valid feature names, but RandomForestRegressor was fitted with feature names\n",
            "  warnings.warn(\n"
          ]
        }
      ]
    }
  ]
}