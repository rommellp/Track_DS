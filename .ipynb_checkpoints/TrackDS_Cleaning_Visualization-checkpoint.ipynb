{
 "cells": [
  {
   "cell_type": "code",
   "execution_count": 1,
   "metadata": {
    "id": "dyQze7GSQqIm"
   },
   "outputs": [],
   "source": [
    "#import modules for analyzing ,plotting, and formatting\n",
    "import pandas as pd\n",
    "import matplotlib.pyplot as plt\n",
    "import numpy as np\n",
    "import datetime\n",
    "import seaborn as sns\n"
   ]
  },
  {
   "cell_type": "code",
   "execution_count": 2,
   "metadata": {
    "id": "tTupoZErQwon"
   },
   "outputs": [],
   "source": [
    "original_tf_data = pd.read_csv(\"first_upload.csv\")\n",
    "\n",
    "df = pd.DataFrame(original_tf_data, columns=['ID Number','Gender','Grade Level','Season','400 Meters','800 Meters','1500 Meters','1600 Meters'])\n",
    "columnsTitles = ['ID Number','Gender','Grade Level','Season','400 Meters','800 Meters','1500 Meters','1600 Meters']\n",
    "original_tf_df = df.reindex(columns=columnsTitles)\n",
    "\n",
    "original_tf_df\n",
    "copy_df = original_tf_df.copy()"
   ]
  },
  {
   "cell_type": "code",
   "execution_count": 3,
   "metadata": {
    "colab": {
     "base_uri": "https://localhost:8080/",
     "height": 419
    },
    "collapsed": true,
    "id": "7JGQlmu3Qz11",
    "outputId": "6f64c4a1-bbc6-4312-99e3-80ef451a1079"
   },
   "outputs": [
    {
     "data": {
      "text/html": [
       "\n",
       "  <div id=\"df-3909e762-1a1e-4e94-ac09-a7cafbdd8232\">\n",
       "    <div class=\"colab-df-container\">\n",
       "      <div>\n",
       "<style scoped>\n",
       "    .dataframe tbody tr th:only-of-type {\n",
       "        vertical-align: middle;\n",
       "    }\n",
       "\n",
       "    .dataframe tbody tr th {\n",
       "        vertical-align: top;\n",
       "    }\n",
       "\n",
       "    .dataframe thead th {\n",
       "        text-align: right;\n",
       "    }\n",
       "</style>\n",
       "<table border=\"1\" class=\"dataframe\">\n",
       "  <thead>\n",
       "    <tr style=\"text-align: right;\">\n",
       "      <th></th>\n",
       "      <th>ID Number</th>\n",
       "      <th>Gender</th>\n",
       "      <th>Grade Level</th>\n",
       "      <th>Season</th>\n",
       "      <th>400 Meters</th>\n",
       "      <th>800 Meters</th>\n",
       "      <th>1500 Meters</th>\n",
       "      <th>1600 Meters</th>\n",
       "    </tr>\n",
       "  </thead>\n",
       "  <tbody>\n",
       "    <tr>\n",
       "      <th>0</th>\n",
       "      <td>21</td>\n",
       "      <td>M</td>\n",
       "      <td>12th Grade</td>\n",
       "      <td>2007 Outdoor Season</td>\n",
       "      <td>57.74</td>\n",
       "      <td>NaN</td>\n",
       "      <td>NaN</td>\n",
       "      <td>NaN</td>\n",
       "    </tr>\n",
       "    <tr>\n",
       "      <th>1</th>\n",
       "      <td>21</td>\n",
       "      <td>M</td>\n",
       "      <td>12th Grade</td>\n",
       "      <td>2007 Outdoor Season</td>\n",
       "      <td>57.34c</td>\n",
       "      <td>NaN</td>\n",
       "      <td>NaN</td>\n",
       "      <td>NaN</td>\n",
       "    </tr>\n",
       "    <tr>\n",
       "      <th>2</th>\n",
       "      <td>21</td>\n",
       "      <td>M</td>\n",
       "      <td>12th Grade</td>\n",
       "      <td>2007 Outdoor Season</td>\n",
       "      <td>56.14c</td>\n",
       "      <td>NaN</td>\n",
       "      <td>NaN</td>\n",
       "      <td>NaN</td>\n",
       "    </tr>\n",
       "    <tr>\n",
       "      <th>3</th>\n",
       "      <td>21</td>\n",
       "      <td>M</td>\n",
       "      <td>12th Grade</td>\n",
       "      <td>2007 Outdoor Season</td>\n",
       "      <td>57.2h</td>\n",
       "      <td>NaN</td>\n",
       "      <td>NaN</td>\n",
       "      <td>NaN</td>\n",
       "    </tr>\n",
       "    <tr>\n",
       "      <th>4</th>\n",
       "      <td>21</td>\n",
       "      <td>M</td>\n",
       "      <td>12th Grade</td>\n",
       "      <td>2007 Outdoor Season</td>\n",
       "      <td>58.8h</td>\n",
       "      <td>NaN</td>\n",
       "      <td>NaN</td>\n",
       "      <td>NaN</td>\n",
       "    </tr>\n",
       "    <tr>\n",
       "      <th>...</th>\n",
       "      <td>...</td>\n",
       "      <td>...</td>\n",
       "      <td>...</td>\n",
       "      <td>...</td>\n",
       "      <td>...</td>\n",
       "      <td>...</td>\n",
       "      <td>...</td>\n",
       "      <td>...</td>\n",
       "    </tr>\n",
       "    <tr>\n",
       "      <th>41784</th>\n",
       "      <td>19989</td>\n",
       "      <td>M</td>\n",
       "      <td>12th Grade</td>\n",
       "      <td>2005 Outdoor Season</td>\n",
       "      <td>54.14c</td>\n",
       "      <td>NaN</td>\n",
       "      <td>NaN</td>\n",
       "      <td>NaN</td>\n",
       "    </tr>\n",
       "    <tr>\n",
       "      <th>41785</th>\n",
       "      <td>19991</td>\n",
       "      <td>M</td>\n",
       "      <td>12th Grade</td>\n",
       "      <td>2005 Outdoor Season</td>\n",
       "      <td>NaN</td>\n",
       "      <td>3:27.3h</td>\n",
       "      <td>NaN</td>\n",
       "      <td>NaN</td>\n",
       "    </tr>\n",
       "    <tr>\n",
       "      <th>41786</th>\n",
       "      <td>19991</td>\n",
       "      <td>M</td>\n",
       "      <td>12th Grade</td>\n",
       "      <td>2005 Outdoor Season</td>\n",
       "      <td>NaN</td>\n",
       "      <td>3:14.3h</td>\n",
       "      <td>NaN</td>\n",
       "      <td>NaN</td>\n",
       "    </tr>\n",
       "    <tr>\n",
       "      <th>41787</th>\n",
       "      <td>19991</td>\n",
       "      <td>M</td>\n",
       "      <td>12th Grade</td>\n",
       "      <td>2005 Outdoor Season</td>\n",
       "      <td>NaN</td>\n",
       "      <td>3:21.5h</td>\n",
       "      <td>NaN</td>\n",
       "      <td>NaN</td>\n",
       "    </tr>\n",
       "    <tr>\n",
       "      <th>41788</th>\n",
       "      <td>19991</td>\n",
       "      <td>M</td>\n",
       "      <td>12th Grade</td>\n",
       "      <td>2005 Outdoor Season</td>\n",
       "      <td>NaN</td>\n",
       "      <td>3:05.3h</td>\n",
       "      <td>NaN</td>\n",
       "      <td>NaN</td>\n",
       "    </tr>\n",
       "  </tbody>\n",
       "</table>\n",
       "<p>41789 rows × 8 columns</p>\n",
       "</div>\n",
       "      <button class=\"colab-df-convert\" onclick=\"convertToInteractive('df-3909e762-1a1e-4e94-ac09-a7cafbdd8232')\"\n",
       "              title=\"Convert this dataframe to an interactive table.\"\n",
       "              style=\"display:none;\">\n",
       "        \n",
       "  <svg xmlns=\"http://www.w3.org/2000/svg\" height=\"24px\"viewBox=\"0 0 24 24\"\n",
       "       width=\"24px\">\n",
       "    <path d=\"M0 0h24v24H0V0z\" fill=\"none\"/>\n",
       "    <path d=\"M18.56 5.44l.94 2.06.94-2.06 2.06-.94-2.06-.94-.94-2.06-.94 2.06-2.06.94zm-11 1L8.5 8.5l.94-2.06 2.06-.94-2.06-.94L8.5 2.5l-.94 2.06-2.06.94zm10 10l.94 2.06.94-2.06 2.06-.94-2.06-.94-.94-2.06-.94 2.06-2.06.94z\"/><path d=\"M17.41 7.96l-1.37-1.37c-.4-.4-.92-.59-1.43-.59-.52 0-1.04.2-1.43.59L10.3 9.45l-7.72 7.72c-.78.78-.78 2.05 0 2.83L4 21.41c.39.39.9.59 1.41.59.51 0 1.02-.2 1.41-.59l7.78-7.78 2.81-2.81c.8-.78.8-2.07 0-2.86zM5.41 20L4 18.59l7.72-7.72 1.47 1.35L5.41 20z\"/>\n",
       "  </svg>\n",
       "      </button>\n",
       "      \n",
       "  <style>\n",
       "    .colab-df-container {\n",
       "      display:flex;\n",
       "      flex-wrap:wrap;\n",
       "      gap: 12px;\n",
       "    }\n",
       "\n",
       "    .colab-df-convert {\n",
       "      background-color: #E8F0FE;\n",
       "      border: none;\n",
       "      border-radius: 50%;\n",
       "      cursor: pointer;\n",
       "      display: none;\n",
       "      fill: #1967D2;\n",
       "      height: 32px;\n",
       "      padding: 0 0 0 0;\n",
       "      width: 32px;\n",
       "    }\n",
       "\n",
       "    .colab-df-convert:hover {\n",
       "      background-color: #E2EBFA;\n",
       "      box-shadow: 0px 1px 2px rgba(60, 64, 67, 0.3), 0px 1px 3px 1px rgba(60, 64, 67, 0.15);\n",
       "      fill: #174EA6;\n",
       "    }\n",
       "\n",
       "    [theme=dark] .colab-df-convert {\n",
       "      background-color: #3B4455;\n",
       "      fill: #D2E3FC;\n",
       "    }\n",
       "\n",
       "    [theme=dark] .colab-df-convert:hover {\n",
       "      background-color: #434B5C;\n",
       "      box-shadow: 0px 1px 3px 1px rgba(0, 0, 0, 0.15);\n",
       "      filter: drop-shadow(0px 1px 2px rgba(0, 0, 0, 0.3));\n",
       "      fill: #FFFFFF;\n",
       "    }\n",
       "  </style>\n",
       "\n",
       "      <script>\n",
       "        const buttonEl =\n",
       "          document.querySelector('#df-3909e762-1a1e-4e94-ac09-a7cafbdd8232 button.colab-df-convert');\n",
       "        buttonEl.style.display =\n",
       "          google.colab.kernel.accessAllowed ? 'block' : 'none';\n",
       "\n",
       "        async function convertToInteractive(key) {\n",
       "          const element = document.querySelector('#df-3909e762-1a1e-4e94-ac09-a7cafbdd8232');\n",
       "          const dataTable =\n",
       "            await google.colab.kernel.invokeFunction('convertToInteractive',\n",
       "                                                     [key], {});\n",
       "          if (!dataTable) return;\n",
       "\n",
       "          const docLinkHtml = 'Like what you see? Visit the ' +\n",
       "            '<a target=\"_blank\" href=https://colab.research.google.com/notebooks/data_table.ipynb>data table notebook</a>'\n",
       "            + ' to learn more about interactive tables.';\n",
       "          element.innerHTML = '';\n",
       "          dataTable['output_type'] = 'display_data';\n",
       "          await google.colab.output.renderOutput(dataTable, element);\n",
       "          const docLink = document.createElement('div');\n",
       "          docLink.innerHTML = docLinkHtml;\n",
       "          element.appendChild(docLink);\n",
       "        }\n",
       "      </script>\n",
       "    </div>\n",
       "  </div>\n",
       "  "
      ],
      "text/plain": [
       "       ID Number Gender Grade Level                                    Season  \\\n",
       "0             21      M  12th Grade  2007 Outdoor Season                        \n",
       "1             21      M  12th Grade  2007 Outdoor Season                        \n",
       "2             21      M  12th Grade  2007 Outdoor Season                        \n",
       "3             21      M  12th Grade  2007 Outdoor Season                        \n",
       "4             21      M  12th Grade  2007 Outdoor Season                        \n",
       "...          ...    ...         ...                                       ...   \n",
       "41784      19989      M  12th Grade  2005 Outdoor Season                        \n",
       "41785      19991      M  12th Grade  2005 Outdoor Season                        \n",
       "41786      19991      M  12th Grade  2005 Outdoor Season                        \n",
       "41787      19991      M  12th Grade  2005 Outdoor Season                        \n",
       "41788      19991      M  12th Grade  2005 Outdoor Season                        \n",
       "\n",
       "      400 Meters 800 Meters 1500 Meters 1600 Meters  \n",
       "0          57.74        NaN         NaN         NaN  \n",
       "1         57.34c        NaN         NaN         NaN  \n",
       "2         56.14c        NaN         NaN         NaN  \n",
       "3          57.2h        NaN         NaN         NaN  \n",
       "4          58.8h        NaN         NaN         NaN  \n",
       "...          ...        ...         ...         ...  \n",
       "41784     54.14c        NaN         NaN         NaN  \n",
       "41785        NaN    3:27.3h         NaN         NaN  \n",
       "41786        NaN    3:14.3h         NaN         NaN  \n",
       "41787        NaN    3:21.5h         NaN         NaN  \n",
       "41788        NaN    3:05.3h         NaN         NaN  \n",
       "\n",
       "[41789 rows x 8 columns]"
      ]
     },
     "execution_count": 3,
     "metadata": {},
     "output_type": "execute_result"
    }
   ],
   "source": [
    "copy_df"
   ]
  },
  {
   "cell_type": "code",
   "execution_count": 4,
   "metadata": {
    "colab": {
     "base_uri": "https://localhost:8080/"
    },
    "id": "c-K0hrWbQ4MH",
    "outputId": "322a856b-de28-453f-8f5e-1559e954c6e0"
   },
   "outputs": [
    {
     "name": "stdout",
     "output_type": "stream",
     "text": [
      "<class 'pandas.core.frame.DataFrame'>\n",
      "RangeIndex: 41789 entries, 0 to 41788\n",
      "Data columns (total 8 columns):\n",
      " #   Column       Non-Null Count  Dtype \n",
      "---  ------       --------------  ----- \n",
      " 0   ID Number    41789 non-null  int64 \n",
      " 1   Gender       41789 non-null  object\n",
      " 2   Grade Level  41789 non-null  object\n",
      " 3   Season       41789 non-null  object\n",
      " 4   400 Meters   14362 non-null  object\n",
      " 5   800 Meters   12910 non-null  object\n",
      " 6   1500 Meters  14315 non-null  object\n",
      " 7   1600 Meters  200 non-null    object\n",
      "dtypes: int64(1), object(7)\n",
      "memory usage: 2.6+ MB\n"
     ]
    }
   ],
   "source": [
    "copy_df.info()"
   ]
  },
  {
   "cell_type": "code",
   "execution_count": 5,
   "metadata": {
    "id": "7enHwKMHQ-tc"
   },
   "outputs": [],
   "source": [
    "# this is the laters version of these def I am running\n",
    "\n",
    "null_times = {np.nan,'nan','DNR','nt','no time','FS','DQ','NT','SCR','DNS','DNF','na','MB', 'shot 29.9', 'NS', '?'}\n",
    "\n",
    "def time_convert(x):\n",
    "    if (str(x)[-1]=='c') or (str(x)[-1]=='h'):\n",
    "        x = str(x)[:-1] \n",
    "    x_split = str(x).split(':')\n",
    "    if not '.' in x_split[-1]:\n",
    "        x = str(x) + '.00'\n",
    "    #print(x)\n",
    "    ##Annoying edge cases\n",
    "    if (x_split[-1] == '60.00') or (x_split[-1] =='60.0') or (x_split[-1] == '28/0'):\n",
    "      #print('here')\n",
    "      return np.nan\n",
    "\n",
    "    if (x[-1] == 'a'):\n",
    "      #print('here')\n",
    "      return(np.nan)\n",
    "\n",
    "    if (str(x) == '57.4**'):\n",
    "      #print(x)\n",
    "      return(np.nan)\n",
    "\n",
    "    if len(x_split)==1:\n",
    "        t = datetime.datetime.strptime(x, '%S.%f').time()\n",
    "        return((t.hour * 60 + t.minute) *60 + t.second+ 0.000001*t.microsecond)\n",
    "\n",
    "    if len(x_split)==2:\n",
    "      t = datetime.datetime.strptime(x, '%M:%S.%f').time()\n",
    "      return((t.hour * 60 + t.minute) *60 + t.second+ 0.000001*t.microsecond)\n",
    "\n",
    "    if len(x_split)==3:\n",
    "        t = datetime.datetime.strptime(x, '%H:%M:%S.%f').time()\n",
    "        return((t.hour * 60 + t.minute) *60 + t.second+ 0.000001*t.microsecond)\n",
    "  "
   ]
  },
  {
   "cell_type": "code",
   "execution_count": 6,
   "metadata": {
    "id": "zxtPBJ1UPNal"
   },
   "outputs": [],
   "source": [
    "#One dataframe for each event\n",
    "#here we are doing the final filtering of these df's\n",
    "#by using a list of wrongly input features, we can check if those values are in any \n",
    "#row of these 400m cols. if it is, it is filtered out using the '~'. \n",
    "#finally, convert time is applied to convert each input time to seconds. \n",
    "\n",
    "df_400 = copy_df[['ID Number', 'Gender', 'Grade Level', 'Season', '400 Meters']]\n",
    "df_400 = df_400[~df_400['400 Meters'].isin(null_times)]\n",
    "df_400['400 Meters'] = df_400['400 Meters'].apply(time_convert)\n",
    "\n",
    "df_800 = copy_df[['ID Number', 'Gender', 'Grade Level', 'Season', '800 Meters']]\n",
    "df_800 = df_800[~df_800['800 Meters'].isin(null_times)]\n",
    "df_800['800 Meters'] = df_800['800 Meters'].apply(time_convert)\n",
    "\n",
    "df_1500 = copy_df[['ID Number', 'Gender', 'Grade Level', 'Season', '1500 Meters']]\n",
    "df_1500 = df_1500[~df_1500['1500 Meters'].isin(null_times)]\n",
    "df_1500['1500 Meters'] = df_1500['1500 Meters'].apply(time_convert)\n",
    "\n",
    "df_1600 = copy_df[['ID Number', 'Gender', 'Grade Level', 'Season', '1600 Meters']]\n",
    "df_1600 = df_1600[~df_1600['1600 Meters'].isin(null_times)]\n",
    "\n",
    "df_1600['1600 Meters'] = df_1600['1600 Meters'].apply(time_convert)"
   ]
  },
  {
   "cell_type": "code",
   "execution_count": 7,
   "metadata": {
    "colab": {
     "base_uri": "https://localhost:8080/",
     "height": 625
    },
    "id": "dV8KirC_5VD2",
    "outputId": "864b8906-5bdc-4534-e11a-4e0d25adafd7"
   },
   "outputs": [
    {
     "name": "stdout",
     "output_type": "stream",
     "text": [
      "<class 'pandas.core.frame.DataFrame'>\n",
      "Int64Index: 196 entries, 158 to 41559\n",
      "Data columns (total 5 columns):\n",
      " #   Column       Non-Null Count  Dtype  \n",
      "---  ------       --------------  -----  \n",
      " 0   ID Number    196 non-null    int64  \n",
      " 1   Gender       196 non-null    object \n",
      " 2   Grade Level  196 non-null    object \n",
      " 3   Season       196 non-null    object \n",
      " 4   1600 Meters  195 non-null    float64\n",
      "dtypes: float64(1), int64(1), object(3)\n",
      "memory usage: 9.2+ KB\n"
     ]
    },
    {
     "data": {
      "text/html": [
       "\n",
       "  <div id=\"df-ad76f390-ea25-4f0b-8e90-d46fac698098\">\n",
       "    <div class=\"colab-df-container\">\n",
       "      <div>\n",
       "<style scoped>\n",
       "    .dataframe tbody tr th:only-of-type {\n",
       "        vertical-align: middle;\n",
       "    }\n",
       "\n",
       "    .dataframe tbody tr th {\n",
       "        vertical-align: top;\n",
       "    }\n",
       "\n",
       "    .dataframe thead th {\n",
       "        text-align: right;\n",
       "    }\n",
       "</style>\n",
       "<table border=\"1\" class=\"dataframe\">\n",
       "  <thead>\n",
       "    <tr style=\"text-align: right;\">\n",
       "      <th></th>\n",
       "      <th>ID Number</th>\n",
       "      <th>Gender</th>\n",
       "      <th>Grade Level</th>\n",
       "      <th>Season</th>\n",
       "      <th>1600 Meters</th>\n",
       "    </tr>\n",
       "  </thead>\n",
       "  <tbody>\n",
       "    <tr>\n",
       "      <th>5324</th>\n",
       "      <td>2325</td>\n",
       "      <td>M</td>\n",
       "      <td>11th Grade</td>\n",
       "      <td>2005 Outdoor Season</td>\n",
       "      <td>57.8</td>\n",
       "    </tr>\n",
       "    <tr>\n",
       "      <th>5341</th>\n",
       "      <td>2326</td>\n",
       "      <td>M</td>\n",
       "      <td>10th Grade</td>\n",
       "      <td>2005 Outdoor Season</td>\n",
       "      <td>56.3</td>\n",
       "    </tr>\n",
       "    <tr>\n",
       "      <th>5356</th>\n",
       "      <td>2328</td>\n",
       "      <td>M</td>\n",
       "      <td>12th Grade</td>\n",
       "      <td>2005 Outdoor Season</td>\n",
       "      <td>56.6</td>\n",
       "    </tr>\n",
       "    <tr>\n",
       "      <th>5418</th>\n",
       "      <td>2329</td>\n",
       "      <td>M</td>\n",
       "      <td>10th Grade</td>\n",
       "      <td>2005 Outdoor Season</td>\n",
       "      <td>55.6</td>\n",
       "    </tr>\n",
       "    <tr>\n",
       "      <th>5437</th>\n",
       "      <td>2331</td>\n",
       "      <td>M</td>\n",
       "      <td>12th Grade</td>\n",
       "      <td>2005 Outdoor Season</td>\n",
       "      <td>57.6</td>\n",
       "    </tr>\n",
       "    <tr>\n",
       "      <th>14911</th>\n",
       "      <td>6342</td>\n",
       "      <td>M</td>\n",
       "      <td>12th Grade</td>\n",
       "      <td>2004 Outdoor Season</td>\n",
       "      <td>53.0</td>\n",
       "    </tr>\n",
       "    <tr>\n",
       "      <th>14940</th>\n",
       "      <td>6344</td>\n",
       "      <td>M</td>\n",
       "      <td>12th Grade</td>\n",
       "      <td>2004 Outdoor Season</td>\n",
       "      <td>56.0</td>\n",
       "    </tr>\n",
       "    <tr>\n",
       "      <th>14958</th>\n",
       "      <td>6345</td>\n",
       "      <td>M</td>\n",
       "      <td>12th Grade</td>\n",
       "      <td>2004 Outdoor Season</td>\n",
       "      <td>54.0</td>\n",
       "    </tr>\n",
       "    <tr>\n",
       "      <th>15014</th>\n",
       "      <td>6346</td>\n",
       "      <td>M</td>\n",
       "      <td>10th Grade</td>\n",
       "      <td>2004 Outdoor Season</td>\n",
       "      <td>56.0</td>\n",
       "    </tr>\n",
       "    <tr>\n",
       "      <th>16508</th>\n",
       "      <td>7083</td>\n",
       "      <td>M</td>\n",
       "      <td>10th Grade</td>\n",
       "      <td>2004 Outdoor Season</td>\n",
       "      <td>5.0</td>\n",
       "    </tr>\n",
       "    <tr>\n",
       "      <th>17688</th>\n",
       "      <td>7805</td>\n",
       "      <td>M</td>\n",
       "      <td>11th Grade</td>\n",
       "      <td>2005 Outdoor Season</td>\n",
       "      <td>57.4</td>\n",
       "    </tr>\n",
       "    <tr>\n",
       "      <th>41559</th>\n",
       "      <td>19803</td>\n",
       "      <td>M</td>\n",
       "      <td>11th Grade</td>\n",
       "      <td>2005 Outdoor Season</td>\n",
       "      <td>57.1</td>\n",
       "    </tr>\n",
       "  </tbody>\n",
       "</table>\n",
       "</div>\n",
       "      <button class=\"colab-df-convert\" onclick=\"convertToInteractive('df-ad76f390-ea25-4f0b-8e90-d46fac698098')\"\n",
       "              title=\"Convert this dataframe to an interactive table.\"\n",
       "              style=\"display:none;\">\n",
       "        \n",
       "  <svg xmlns=\"http://www.w3.org/2000/svg\" height=\"24px\"viewBox=\"0 0 24 24\"\n",
       "       width=\"24px\">\n",
       "    <path d=\"M0 0h24v24H0V0z\" fill=\"none\"/>\n",
       "    <path d=\"M18.56 5.44l.94 2.06.94-2.06 2.06-.94-2.06-.94-.94-2.06-.94 2.06-2.06.94zm-11 1L8.5 8.5l.94-2.06 2.06-.94-2.06-.94L8.5 2.5l-.94 2.06-2.06.94zm10 10l.94 2.06.94-2.06 2.06-.94-2.06-.94-.94-2.06-.94 2.06-2.06.94z\"/><path d=\"M17.41 7.96l-1.37-1.37c-.4-.4-.92-.59-1.43-.59-.52 0-1.04.2-1.43.59L10.3 9.45l-7.72 7.72c-.78.78-.78 2.05 0 2.83L4 21.41c.39.39.9.59 1.41.59.51 0 1.02-.2 1.41-.59l7.78-7.78 2.81-2.81c.8-.78.8-2.07 0-2.86zM5.41 20L4 18.59l7.72-7.72 1.47 1.35L5.41 20z\"/>\n",
       "  </svg>\n",
       "      </button>\n",
       "      \n",
       "  <style>\n",
       "    .colab-df-container {\n",
       "      display:flex;\n",
       "      flex-wrap:wrap;\n",
       "      gap: 12px;\n",
       "    }\n",
       "\n",
       "    .colab-df-convert {\n",
       "      background-color: #E8F0FE;\n",
       "      border: none;\n",
       "      border-radius: 50%;\n",
       "      cursor: pointer;\n",
       "      display: none;\n",
       "      fill: #1967D2;\n",
       "      height: 32px;\n",
       "      padding: 0 0 0 0;\n",
       "      width: 32px;\n",
       "    }\n",
       "\n",
       "    .colab-df-convert:hover {\n",
       "      background-color: #E2EBFA;\n",
       "      box-shadow: 0px 1px 2px rgba(60, 64, 67, 0.3), 0px 1px 3px 1px rgba(60, 64, 67, 0.15);\n",
       "      fill: #174EA6;\n",
       "    }\n",
       "\n",
       "    [theme=dark] .colab-df-convert {\n",
       "      background-color: #3B4455;\n",
       "      fill: #D2E3FC;\n",
       "    }\n",
       "\n",
       "    [theme=dark] .colab-df-convert:hover {\n",
       "      background-color: #434B5C;\n",
       "      box-shadow: 0px 1px 3px 1px rgba(0, 0, 0, 0.15);\n",
       "      filter: drop-shadow(0px 1px 2px rgba(0, 0, 0, 0.3));\n",
       "      fill: #FFFFFF;\n",
       "    }\n",
       "  </style>\n",
       "\n",
       "      <script>\n",
       "        const buttonEl =\n",
       "          document.querySelector('#df-ad76f390-ea25-4f0b-8e90-d46fac698098 button.colab-df-convert');\n",
       "        buttonEl.style.display =\n",
       "          google.colab.kernel.accessAllowed ? 'block' : 'none';\n",
       "\n",
       "        async function convertToInteractive(key) {\n",
       "          const element = document.querySelector('#df-ad76f390-ea25-4f0b-8e90-d46fac698098');\n",
       "          const dataTable =\n",
       "            await google.colab.kernel.invokeFunction('convertToInteractive',\n",
       "                                                     [key], {});\n",
       "          if (!dataTable) return;\n",
       "\n",
       "          const docLinkHtml = 'Like what you see? Visit the ' +\n",
       "            '<a target=\"_blank\" href=https://colab.research.google.com/notebooks/data_table.ipynb>data table notebook</a>'\n",
       "            + ' to learn more about interactive tables.';\n",
       "          element.innerHTML = '';\n",
       "          dataTable['output_type'] = 'display_data';\n",
       "          await google.colab.output.renderOutput(dataTable, element);\n",
       "          const docLink = document.createElement('div');\n",
       "          docLink.innerHTML = docLinkHtml;\n",
       "          element.appendChild(docLink);\n",
       "        }\n",
       "      </script>\n",
       "    </div>\n",
       "  </div>\n",
       "  "
      ],
      "text/plain": [
       "       ID Number Gender Grade Level                                    Season  \\\n",
       "5324        2325      M  11th Grade  2005 Outdoor Season                        \n",
       "5341        2326      M  10th Grade  2005 Outdoor Season                        \n",
       "5356        2328      M  12th Grade  2005 Outdoor Season                        \n",
       "5418        2329      M  10th Grade  2005 Outdoor Season                        \n",
       "5437        2331      M  12th Grade  2005 Outdoor Season                        \n",
       "14911       6342      M  12th Grade  2004 Outdoor Season                        \n",
       "14940       6344      M  12th Grade  2004 Outdoor Season                        \n",
       "14958       6345      M  12th Grade  2004 Outdoor Season                        \n",
       "15014       6346      M  10th Grade  2004 Outdoor Season                        \n",
       "16508       7083      M  10th Grade  2004 Outdoor Season                        \n",
       "17688       7805      M  11th Grade  2005 Outdoor Season                        \n",
       "41559      19803      M  11th Grade  2005 Outdoor Season                        \n",
       "\n",
       "       1600 Meters  \n",
       "5324          57.8  \n",
       "5341          56.3  \n",
       "5356          56.6  \n",
       "5418          55.6  \n",
       "5437          57.6  \n",
       "14911         53.0  \n",
       "14940         56.0  \n",
       "14958         54.0  \n",
       "15014         56.0  \n",
       "16508          5.0  \n",
       "17688         57.4  \n",
       "41559         57.1  "
      ]
     },
     "execution_count": 7,
     "metadata": {},
     "output_type": "execute_result"
    }
   ],
   "source": [
    "df_1600.info()\n",
    "df_1600[(df_1600['1600 Meters']>500) | (df_1600['1600 Meters']<100)]"
   ]
  },
  {
   "cell_type": "code",
   "execution_count": 8,
   "metadata": {
    "colab": {
     "base_uri": "https://localhost:8080/",
     "height": 811
    },
    "id": "1MyIifIW3Q3p",
    "outputId": "bac364b3-ff2c-40af-bb8b-6b13bcf5feb6"
   },
   "outputs": [
    {
     "name": "stdout",
     "output_type": "stream",
     "text": [
      "<class 'pandas.core.frame.DataFrame'>\n",
      "Int64Index: 14195 entries, 72 to 41777\n",
      "Data columns (total 5 columns):\n",
      " #   Column       Non-Null Count  Dtype  \n",
      "---  ------       --------------  -----  \n",
      " 0   ID Number    14195 non-null  int64  \n",
      " 1   Gender       14195 non-null  object \n",
      " 2   Grade Level  14195 non-null  object \n",
      " 3   Season       14195 non-null  object \n",
      " 4   1500 Meters  14188 non-null  float64\n",
      "dtypes: float64(1), int64(1), object(3)\n",
      "memory usage: 665.4+ KB\n"
     ]
    },
    {
     "data": {
      "text/html": [
       "\n",
       "  <div id=\"df-ab11ea13-5d91-44a3-bcc9-e07cb0344118\">\n",
       "    <div class=\"colab-df-container\">\n",
       "      <div>\n",
       "<style scoped>\n",
       "    .dataframe tbody tr th:only-of-type {\n",
       "        vertical-align: middle;\n",
       "    }\n",
       "\n",
       "    .dataframe tbody tr th {\n",
       "        vertical-align: top;\n",
       "    }\n",
       "\n",
       "    .dataframe thead th {\n",
       "        text-align: right;\n",
       "    }\n",
       "</style>\n",
       "<table border=\"1\" class=\"dataframe\">\n",
       "  <thead>\n",
       "    <tr style=\"text-align: right;\">\n",
       "      <th></th>\n",
       "      <th>ID Number</th>\n",
       "      <th>Gender</th>\n",
       "      <th>Grade Level</th>\n",
       "      <th>Season</th>\n",
       "      <th>1500 Meters</th>\n",
       "    </tr>\n",
       "  </thead>\n",
       "  <tbody>\n",
       "    <tr>\n",
       "      <th>971</th>\n",
       "      <td>652</td>\n",
       "      <td>M</td>\n",
       "      <td>9th Grade</td>\n",
       "      <td>2004 Outdoor Season</td>\n",
       "      <td>815.70</td>\n",
       "    </tr>\n",
       "    <tr>\n",
       "      <th>1303</th>\n",
       "      <td>726</td>\n",
       "      <td>M</td>\n",
       "      <td>11th Grade</td>\n",
       "      <td>2004 Outdoor Season</td>\n",
       "      <td>579.54</td>\n",
       "    </tr>\n",
       "    <tr>\n",
       "      <th>4260</th>\n",
       "      <td>1727</td>\n",
       "      <td>M</td>\n",
       "      <td>12th Grade</td>\n",
       "      <td>2004 Outdoor Season</td>\n",
       "      <td>534.20</td>\n",
       "    </tr>\n",
       "    <tr>\n",
       "      <th>5448</th>\n",
       "      <td>2336</td>\n",
       "      <td>M</td>\n",
       "      <td>9th Grade</td>\n",
       "      <td>2004 Outdoor Season</td>\n",
       "      <td>534.30</td>\n",
       "    </tr>\n",
       "    <tr>\n",
       "      <th>10224</th>\n",
       "      <td>4204</td>\n",
       "      <td>M</td>\n",
       "      <td>9th Grade</td>\n",
       "      <td>2004 Outdoor Season</td>\n",
       "      <td>1666.00</td>\n",
       "    </tr>\n",
       "    <tr>\n",
       "      <th>14035</th>\n",
       "      <td>5891</td>\n",
       "      <td>M</td>\n",
       "      <td>9th Grade</td>\n",
       "      <td>2004 Outdoor Season</td>\n",
       "      <td>0.00</td>\n",
       "    </tr>\n",
       "    <tr>\n",
       "      <th>16730</th>\n",
       "      <td>7349</td>\n",
       "      <td>M</td>\n",
       "      <td>9th Grade</td>\n",
       "      <td>2004 Outdoor Season</td>\n",
       "      <td>616.50</td>\n",
       "    </tr>\n",
       "    <tr>\n",
       "      <th>16783</th>\n",
       "      <td>7400</td>\n",
       "      <td>M</td>\n",
       "      <td>12th Grade</td>\n",
       "      <td>2005 Outdoor Season</td>\n",
       "      <td>61.70</td>\n",
       "    </tr>\n",
       "    <tr>\n",
       "      <th>18023</th>\n",
       "      <td>8086</td>\n",
       "      <td>M</td>\n",
       "      <td>12th Grade</td>\n",
       "      <td>2007 Outdoor Season</td>\n",
       "      <td>509.60</td>\n",
       "    </tr>\n",
       "    <tr>\n",
       "      <th>18650</th>\n",
       "      <td>8501</td>\n",
       "      <td>M</td>\n",
       "      <td>12th Grade</td>\n",
       "      <td>2004 Outdoor Season</td>\n",
       "      <td>571.00</td>\n",
       "    </tr>\n",
       "    <tr>\n",
       "      <th>21126</th>\n",
       "      <td>10335</td>\n",
       "      <td>M</td>\n",
       "      <td>10th Grade</td>\n",
       "      <td>2006 Outdoor Season</td>\n",
       "      <td>906.00</td>\n",
       "    </tr>\n",
       "    <tr>\n",
       "      <th>22932</th>\n",
       "      <td>11161</td>\n",
       "      <td>M</td>\n",
       "      <td>9th Grade</td>\n",
       "      <td>2005 Outdoor Season</td>\n",
       "      <td>801.80</td>\n",
       "    </tr>\n",
       "    <tr>\n",
       "      <th>25235</th>\n",
       "      <td>11841</td>\n",
       "      <td>M</td>\n",
       "      <td>12th Grade</td>\n",
       "      <td>2007 Outdoor Season</td>\n",
       "      <td>0.00</td>\n",
       "    </tr>\n",
       "    <tr>\n",
       "      <th>33005</th>\n",
       "      <td>15066</td>\n",
       "      <td>M</td>\n",
       "      <td>9th Grade</td>\n",
       "      <td>2005 Outdoor Season</td>\n",
       "      <td>628.35</td>\n",
       "    </tr>\n",
       "    <tr>\n",
       "      <th>33744</th>\n",
       "      <td>15430</td>\n",
       "      <td>M</td>\n",
       "      <td>11th Grade</td>\n",
       "      <td>2005 Outdoor Season</td>\n",
       "      <td>4366.00</td>\n",
       "    </tr>\n",
       "    <tr>\n",
       "      <th>34386</th>\n",
       "      <td>15700</td>\n",
       "      <td>M</td>\n",
       "      <td>10th Grade</td>\n",
       "      <td>2005 Outdoor Season</td>\n",
       "      <td>627.29</td>\n",
       "    </tr>\n",
       "    <tr>\n",
       "      <th>40877</th>\n",
       "      <td>19284</td>\n",
       "      <td>M</td>\n",
       "      <td>11th Grade</td>\n",
       "      <td>2005 Outdoor Season</td>\n",
       "      <td>512.10</td>\n",
       "    </tr>\n",
       "    <tr>\n",
       "      <th>40883</th>\n",
       "      <td>19315</td>\n",
       "      <td>M</td>\n",
       "      <td>10th Grade</td>\n",
       "      <td>2005 Outdoor Season</td>\n",
       "      <td>513.10</td>\n",
       "    </tr>\n",
       "  </tbody>\n",
       "</table>\n",
       "</div>\n",
       "      <button class=\"colab-df-convert\" onclick=\"convertToInteractive('df-ab11ea13-5d91-44a3-bcc9-e07cb0344118')\"\n",
       "              title=\"Convert this dataframe to an interactive table.\"\n",
       "              style=\"display:none;\">\n",
       "        \n",
       "  <svg xmlns=\"http://www.w3.org/2000/svg\" height=\"24px\"viewBox=\"0 0 24 24\"\n",
       "       width=\"24px\">\n",
       "    <path d=\"M0 0h24v24H0V0z\" fill=\"none\"/>\n",
       "    <path d=\"M18.56 5.44l.94 2.06.94-2.06 2.06-.94-2.06-.94-.94-2.06-.94 2.06-2.06.94zm-11 1L8.5 8.5l.94-2.06 2.06-.94-2.06-.94L8.5 2.5l-.94 2.06-2.06.94zm10 10l.94 2.06.94-2.06 2.06-.94-2.06-.94-.94-2.06-.94 2.06-2.06.94z\"/><path d=\"M17.41 7.96l-1.37-1.37c-.4-.4-.92-.59-1.43-.59-.52 0-1.04.2-1.43.59L10.3 9.45l-7.72 7.72c-.78.78-.78 2.05 0 2.83L4 21.41c.39.39.9.59 1.41.59.51 0 1.02-.2 1.41-.59l7.78-7.78 2.81-2.81c.8-.78.8-2.07 0-2.86zM5.41 20L4 18.59l7.72-7.72 1.47 1.35L5.41 20z\"/>\n",
       "  </svg>\n",
       "      </button>\n",
       "      \n",
       "  <style>\n",
       "    .colab-df-container {\n",
       "      display:flex;\n",
       "      flex-wrap:wrap;\n",
       "      gap: 12px;\n",
       "    }\n",
       "\n",
       "    .colab-df-convert {\n",
       "      background-color: #E8F0FE;\n",
       "      border: none;\n",
       "      border-radius: 50%;\n",
       "      cursor: pointer;\n",
       "      display: none;\n",
       "      fill: #1967D2;\n",
       "      height: 32px;\n",
       "      padding: 0 0 0 0;\n",
       "      width: 32px;\n",
       "    }\n",
       "\n",
       "    .colab-df-convert:hover {\n",
       "      background-color: #E2EBFA;\n",
       "      box-shadow: 0px 1px 2px rgba(60, 64, 67, 0.3), 0px 1px 3px 1px rgba(60, 64, 67, 0.15);\n",
       "      fill: #174EA6;\n",
       "    }\n",
       "\n",
       "    [theme=dark] .colab-df-convert {\n",
       "      background-color: #3B4455;\n",
       "      fill: #D2E3FC;\n",
       "    }\n",
       "\n",
       "    [theme=dark] .colab-df-convert:hover {\n",
       "      background-color: #434B5C;\n",
       "      box-shadow: 0px 1px 3px 1px rgba(0, 0, 0, 0.15);\n",
       "      filter: drop-shadow(0px 1px 2px rgba(0, 0, 0, 0.3));\n",
       "      fill: #FFFFFF;\n",
       "    }\n",
       "  </style>\n",
       "\n",
       "      <script>\n",
       "        const buttonEl =\n",
       "          document.querySelector('#df-ab11ea13-5d91-44a3-bcc9-e07cb0344118 button.colab-df-convert');\n",
       "        buttonEl.style.display =\n",
       "          google.colab.kernel.accessAllowed ? 'block' : 'none';\n",
       "\n",
       "        async function convertToInteractive(key) {\n",
       "          const element = document.querySelector('#df-ab11ea13-5d91-44a3-bcc9-e07cb0344118');\n",
       "          const dataTable =\n",
       "            await google.colab.kernel.invokeFunction('convertToInteractive',\n",
       "                                                     [key], {});\n",
       "          if (!dataTable) return;\n",
       "\n",
       "          const docLinkHtml = 'Like what you see? Visit the ' +\n",
       "            '<a target=\"_blank\" href=https://colab.research.google.com/notebooks/data_table.ipynb>data table notebook</a>'\n",
       "            + ' to learn more about interactive tables.';\n",
       "          element.innerHTML = '';\n",
       "          dataTable['output_type'] = 'display_data';\n",
       "          await google.colab.output.renderOutput(dataTable, element);\n",
       "          const docLink = document.createElement('div');\n",
       "          docLink.innerHTML = docLinkHtml;\n",
       "          element.appendChild(docLink);\n",
       "        }\n",
       "      </script>\n",
       "    </div>\n",
       "  </div>\n",
       "  "
      ],
      "text/plain": [
       "       ID Number Gender Grade Level                                    Season  \\\n",
       "971          652      M   9th Grade  2004 Outdoor Season                        \n",
       "1303         726      M  11th Grade  2004 Outdoor Season                        \n",
       "4260        1727      M  12th Grade  2004 Outdoor Season                        \n",
       "5448        2336      M   9th Grade  2004 Outdoor Season                        \n",
       "10224       4204      M   9th Grade  2004 Outdoor Season                        \n",
       "14035       5891      M   9th Grade  2004 Outdoor Season                        \n",
       "16730       7349      M   9th Grade  2004 Outdoor Season                        \n",
       "16783       7400      M  12th Grade  2005 Outdoor Season                        \n",
       "18023       8086      M  12th Grade  2007 Outdoor Season                        \n",
       "18650       8501      M  12th Grade  2004 Outdoor Season                        \n",
       "21126      10335      M  10th Grade  2006 Outdoor Season                        \n",
       "22932      11161      M   9th Grade  2005 Outdoor Season                        \n",
       "25235      11841      M  12th Grade  2007 Outdoor Season                        \n",
       "33005      15066      M   9th Grade  2005 Outdoor Season                        \n",
       "33744      15430      M  11th Grade  2005 Outdoor Season                        \n",
       "34386      15700      M  10th Grade  2005 Outdoor Season                        \n",
       "40877      19284      M  11th Grade  2005 Outdoor Season                        \n",
       "40883      19315      M  10th Grade  2005 Outdoor Season                        \n",
       "\n",
       "       1500 Meters  \n",
       "971         815.70  \n",
       "1303        579.54  \n",
       "4260        534.20  \n",
       "5448        534.30  \n",
       "10224      1666.00  \n",
       "14035         0.00  \n",
       "16730       616.50  \n",
       "16783        61.70  \n",
       "18023       509.60  \n",
       "18650       571.00  \n",
       "21126       906.00  \n",
       "22932       801.80  \n",
       "25235         0.00  \n",
       "33005       628.35  \n",
       "33744      4366.00  \n",
       "34386       627.29  \n",
       "40877       512.10  \n",
       "40883       513.10  "
      ]
     },
     "execution_count": 8,
     "metadata": {},
     "output_type": "execute_result"
    }
   ],
   "source": [
    "df_1500.info()\n",
    "df_1500[(df_1500['1500 Meters']>500) | (df_1500['1500 Meters']<100)]"
   ]
  },
  {
   "cell_type": "code",
   "execution_count": 9,
   "metadata": {
    "colab": {
     "base_uri": "https://localhost:8080/",
     "height": 842
    },
    "id": "UNsnc7F6vE66",
    "outputId": "1a67acfe-b876-4549-a57f-3f4aee0ca824"
   },
   "outputs": [
    {
     "name": "stdout",
     "output_type": "stream",
     "text": [
      "<class 'pandas.core.frame.DataFrame'>\n",
      "Int64Index: 12783 entries, 12 to 41788\n",
      "Data columns (total 5 columns):\n",
      " #   Column       Non-Null Count  Dtype  \n",
      "---  ------       --------------  -----  \n",
      " 0   ID Number    12783 non-null  int64  \n",
      " 1   Gender       12783 non-null  object \n",
      " 2   Grade Level  12783 non-null  object \n",
      " 3   Season       12783 non-null  object \n",
      " 4   800 Meters   12782 non-null  float64\n",
      "dtypes: float64(1), int64(1), object(3)\n",
      "memory usage: 599.2+ KB\n"
     ]
    },
    {
     "data": {
      "text/html": [
       "\n",
       "  <div id=\"df-7bcdfde0-9759-4978-956d-545e6b07cf6a\">\n",
       "    <div class=\"colab-df-container\">\n",
       "      <div>\n",
       "<style scoped>\n",
       "    .dataframe tbody tr th:only-of-type {\n",
       "        vertical-align: middle;\n",
       "    }\n",
       "\n",
       "    .dataframe tbody tr th {\n",
       "        vertical-align: top;\n",
       "    }\n",
       "\n",
       "    .dataframe thead th {\n",
       "        text-align: right;\n",
       "    }\n",
       "</style>\n",
       "<table border=\"1\" class=\"dataframe\">\n",
       "  <thead>\n",
       "    <tr style=\"text-align: right;\">\n",
       "      <th></th>\n",
       "      <th>ID Number</th>\n",
       "      <th>Gender</th>\n",
       "      <th>Grade Level</th>\n",
       "      <th>Season</th>\n",
       "      <th>800 Meters</th>\n",
       "    </tr>\n",
       "  </thead>\n",
       "  <tbody>\n",
       "    <tr>\n",
       "      <th>1081</th>\n",
       "      <td>690</td>\n",
       "      <td>M</td>\n",
       "      <td>12th Grade</td>\n",
       "      <td>2004 Outdoor Season</td>\n",
       "      <td>325.30</td>\n",
       "    </tr>\n",
       "    <tr>\n",
       "      <th>4428</th>\n",
       "      <td>1845</td>\n",
       "      <td>M</td>\n",
       "      <td>9th Grade</td>\n",
       "      <td>2004 Outdoor Season</td>\n",
       "      <td>385.12</td>\n",
       "    </tr>\n",
       "    <tr>\n",
       "      <th>10182</th>\n",
       "      <td>4193</td>\n",
       "      <td>M</td>\n",
       "      <td>11th Grade</td>\n",
       "      <td>2005 Outdoor Season</td>\n",
       "      <td>1322.00</td>\n",
       "    </tr>\n",
       "    <tr>\n",
       "      <th>18712</th>\n",
       "      <td>8547</td>\n",
       "      <td>M</td>\n",
       "      <td>12th Grade</td>\n",
       "      <td>2008 Outdoor Season</td>\n",
       "      <td>266.90</td>\n",
       "    </tr>\n",
       "    <tr>\n",
       "      <th>18957</th>\n",
       "      <td>8669</td>\n",
       "      <td>M</td>\n",
       "      <td>10th Grade</td>\n",
       "      <td>2004 Outdoor Season</td>\n",
       "      <td>382.00</td>\n",
       "    </tr>\n",
       "    <tr>\n",
       "      <th>19358</th>\n",
       "      <td>8988</td>\n",
       "      <td>M</td>\n",
       "      <td>12th Grade</td>\n",
       "      <td>2005 Outdoor Season</td>\n",
       "      <td>268.90</td>\n",
       "    </tr>\n",
       "    <tr>\n",
       "      <th>19359</th>\n",
       "      <td>8988</td>\n",
       "      <td>M</td>\n",
       "      <td>12th Grade</td>\n",
       "      <td>2005 Outdoor Season</td>\n",
       "      <td>261.34</td>\n",
       "    </tr>\n",
       "    <tr>\n",
       "      <th>19360</th>\n",
       "      <td>8988</td>\n",
       "      <td>M</td>\n",
       "      <td>12th Grade</td>\n",
       "      <td>2005 Outdoor Season</td>\n",
       "      <td>276.13</td>\n",
       "    </tr>\n",
       "    <tr>\n",
       "      <th>19485</th>\n",
       "      <td>9103</td>\n",
       "      <td>M</td>\n",
       "      <td>9th Grade</td>\n",
       "      <td>2004 Outdoor Season</td>\n",
       "      <td>3178.00</td>\n",
       "    </tr>\n",
       "    <tr>\n",
       "      <th>21124</th>\n",
       "      <td>10335</td>\n",
       "      <td>M</td>\n",
       "      <td>10th Grade</td>\n",
       "      <td>2006 Outdoor Season</td>\n",
       "      <td>750.60</td>\n",
       "    </tr>\n",
       "    <tr>\n",
       "      <th>21632</th>\n",
       "      <td>10822</td>\n",
       "      <td>M</td>\n",
       "      <td>10th Grade</td>\n",
       "      <td>2005 Outdoor Season</td>\n",
       "      <td>746.40</td>\n",
       "    </tr>\n",
       "    <tr>\n",
       "      <th>25231</th>\n",
       "      <td>11841</td>\n",
       "      <td>M</td>\n",
       "      <td>12th Grade</td>\n",
       "      <td>2007 Outdoor Season</td>\n",
       "      <td>0.00</td>\n",
       "    </tr>\n",
       "    <tr>\n",
       "      <th>25250</th>\n",
       "      <td>11842</td>\n",
       "      <td>M</td>\n",
       "      <td>12th Grade</td>\n",
       "      <td>2007 Outdoor Season</td>\n",
       "      <td>0.00</td>\n",
       "    </tr>\n",
       "    <tr>\n",
       "      <th>26959</th>\n",
       "      <td>12622</td>\n",
       "      <td>M</td>\n",
       "      <td>11th Grade</td>\n",
       "      <td>2005 Outdoor Season</td>\n",
       "      <td>1880.00</td>\n",
       "    </tr>\n",
       "    <tr>\n",
       "      <th>30742</th>\n",
       "      <td>14288</td>\n",
       "      <td>M</td>\n",
       "      <td>11th Grade</td>\n",
       "      <td>2005 Outdoor Season</td>\n",
       "      <td>24.80</td>\n",
       "    </tr>\n",
       "    <tr>\n",
       "      <th>31005</th>\n",
       "      <td>14379</td>\n",
       "      <td>M</td>\n",
       "      <td>9th Grade</td>\n",
       "      <td>2005 Outdoor Season</td>\n",
       "      <td>300.00</td>\n",
       "    </tr>\n",
       "    <tr>\n",
       "      <th>32105</th>\n",
       "      <td>14845</td>\n",
       "      <td>M</td>\n",
       "      <td>9th Grade</td>\n",
       "      <td>2005 Outdoor Season</td>\n",
       "      <td>255.00</td>\n",
       "    </tr>\n",
       "    <tr>\n",
       "      <th>38552</th>\n",
       "      <td>17598</td>\n",
       "      <td>M</td>\n",
       "      <td>10th Grade</td>\n",
       "      <td>2006 Outdoor Season</td>\n",
       "      <td>252.40</td>\n",
       "    </tr>\n",
       "    <tr>\n",
       "      <th>40734</th>\n",
       "      <td>19128</td>\n",
       "      <td>M</td>\n",
       "      <td>9th Grade</td>\n",
       "      <td>2005 Outdoor Season</td>\n",
       "      <td>1357.60</td>\n",
       "    </tr>\n",
       "  </tbody>\n",
       "</table>\n",
       "</div>\n",
       "      <button class=\"colab-df-convert\" onclick=\"convertToInteractive('df-7bcdfde0-9759-4978-956d-545e6b07cf6a')\"\n",
       "              title=\"Convert this dataframe to an interactive table.\"\n",
       "              style=\"display:none;\">\n",
       "        \n",
       "  <svg xmlns=\"http://www.w3.org/2000/svg\" height=\"24px\"viewBox=\"0 0 24 24\"\n",
       "       width=\"24px\">\n",
       "    <path d=\"M0 0h24v24H0V0z\" fill=\"none\"/>\n",
       "    <path d=\"M18.56 5.44l.94 2.06.94-2.06 2.06-.94-2.06-.94-.94-2.06-.94 2.06-2.06.94zm-11 1L8.5 8.5l.94-2.06 2.06-.94-2.06-.94L8.5 2.5l-.94 2.06-2.06.94zm10 10l.94 2.06.94-2.06 2.06-.94-2.06-.94-.94-2.06-.94 2.06-2.06.94z\"/><path d=\"M17.41 7.96l-1.37-1.37c-.4-.4-.92-.59-1.43-.59-.52 0-1.04.2-1.43.59L10.3 9.45l-7.72 7.72c-.78.78-.78 2.05 0 2.83L4 21.41c.39.39.9.59 1.41.59.51 0 1.02-.2 1.41-.59l7.78-7.78 2.81-2.81c.8-.78.8-2.07 0-2.86zM5.41 20L4 18.59l7.72-7.72 1.47 1.35L5.41 20z\"/>\n",
       "  </svg>\n",
       "      </button>\n",
       "      \n",
       "  <style>\n",
       "    .colab-df-container {\n",
       "      display:flex;\n",
       "      flex-wrap:wrap;\n",
       "      gap: 12px;\n",
       "    }\n",
       "\n",
       "    .colab-df-convert {\n",
       "      background-color: #E8F0FE;\n",
       "      border: none;\n",
       "      border-radius: 50%;\n",
       "      cursor: pointer;\n",
       "      display: none;\n",
       "      fill: #1967D2;\n",
       "      height: 32px;\n",
       "      padding: 0 0 0 0;\n",
       "      width: 32px;\n",
       "    }\n",
       "\n",
       "    .colab-df-convert:hover {\n",
       "      background-color: #E2EBFA;\n",
       "      box-shadow: 0px 1px 2px rgba(60, 64, 67, 0.3), 0px 1px 3px 1px rgba(60, 64, 67, 0.15);\n",
       "      fill: #174EA6;\n",
       "    }\n",
       "\n",
       "    [theme=dark] .colab-df-convert {\n",
       "      background-color: #3B4455;\n",
       "      fill: #D2E3FC;\n",
       "    }\n",
       "\n",
       "    [theme=dark] .colab-df-convert:hover {\n",
       "      background-color: #434B5C;\n",
       "      box-shadow: 0px 1px 3px 1px rgba(0, 0, 0, 0.15);\n",
       "      filter: drop-shadow(0px 1px 2px rgba(0, 0, 0, 0.3));\n",
       "      fill: #FFFFFF;\n",
       "    }\n",
       "  </style>\n",
       "\n",
       "      <script>\n",
       "        const buttonEl =\n",
       "          document.querySelector('#df-7bcdfde0-9759-4978-956d-545e6b07cf6a button.colab-df-convert');\n",
       "        buttonEl.style.display =\n",
       "          google.colab.kernel.accessAllowed ? 'block' : 'none';\n",
       "\n",
       "        async function convertToInteractive(key) {\n",
       "          const element = document.querySelector('#df-7bcdfde0-9759-4978-956d-545e6b07cf6a');\n",
       "          const dataTable =\n",
       "            await google.colab.kernel.invokeFunction('convertToInteractive',\n",
       "                                                     [key], {});\n",
       "          if (!dataTable) return;\n",
       "\n",
       "          const docLinkHtml = 'Like what you see? Visit the ' +\n",
       "            '<a target=\"_blank\" href=https://colab.research.google.com/notebooks/data_table.ipynb>data table notebook</a>'\n",
       "            + ' to learn more about interactive tables.';\n",
       "          element.innerHTML = '';\n",
       "          dataTable['output_type'] = 'display_data';\n",
       "          await google.colab.output.renderOutput(dataTable, element);\n",
       "          const docLink = document.createElement('div');\n",
       "          docLink.innerHTML = docLinkHtml;\n",
       "          element.appendChild(docLink);\n",
       "        }\n",
       "      </script>\n",
       "    </div>\n",
       "  </div>\n",
       "  "
      ],
      "text/plain": [
       "       ID Number Gender Grade Level                                    Season  \\\n",
       "1081         690      M  12th Grade  2004 Outdoor Season                        \n",
       "4428        1845      M   9th Grade  2004 Outdoor Season                        \n",
       "10182       4193      M  11th Grade  2005 Outdoor Season                        \n",
       "18712       8547      M  12th Grade  2008 Outdoor Season                        \n",
       "18957       8669      M  10th Grade  2004 Outdoor Season                        \n",
       "19358       8988      M  12th Grade  2005 Outdoor Season                        \n",
       "19359       8988      M  12th Grade  2005 Outdoor Season                        \n",
       "19360       8988      M  12th Grade  2005 Outdoor Season                        \n",
       "19485       9103      M   9th Grade  2004 Outdoor Season                        \n",
       "21124      10335      M  10th Grade  2006 Outdoor Season                        \n",
       "21632      10822      M  10th Grade  2005 Outdoor Season                        \n",
       "25231      11841      M  12th Grade  2007 Outdoor Season                        \n",
       "25250      11842      M  12th Grade  2007 Outdoor Season                        \n",
       "26959      12622      M  11th Grade  2005 Outdoor Season                        \n",
       "30742      14288      M  11th Grade  2005 Outdoor Season                        \n",
       "31005      14379      M   9th Grade  2005 Outdoor Season                        \n",
       "32105      14845      M   9th Grade  2005 Outdoor Season                        \n",
       "38552      17598      M  10th Grade  2006 Outdoor Season                        \n",
       "40734      19128      M   9th Grade  2005 Outdoor Season                        \n",
       "\n",
       "       800 Meters  \n",
       "1081       325.30  \n",
       "4428       385.12  \n",
       "10182     1322.00  \n",
       "18712      266.90  \n",
       "18957      382.00  \n",
       "19358      268.90  \n",
       "19359      261.34  \n",
       "19360      276.13  \n",
       "19485     3178.00  \n",
       "21124      750.60  \n",
       "21632      746.40  \n",
       "25231        0.00  \n",
       "25250        0.00  \n",
       "26959     1880.00  \n",
       "30742       24.80  \n",
       "31005      300.00  \n",
       "32105      255.00  \n",
       "38552      252.40  \n",
       "40734     1357.60  "
      ]
     },
     "execution_count": 9,
     "metadata": {},
     "output_type": "execute_result"
    }
   ],
   "source": [
    "df_800.info()\n",
    "df_800[(df_800['800 Meters']>250) | (df_800['800 Meters']<50)]"
   ]
  },
  {
   "cell_type": "code",
   "execution_count": 10,
   "metadata": {
    "colab": {
     "base_uri": "https://localhost:8080/",
     "height": 718
    },
    "id": "WuQ03gn1gheV",
    "outputId": "f410d0d0-ac3b-4572-db1e-9090d5c4316c"
   },
   "outputs": [
    {
     "name": "stdout",
     "output_type": "stream",
     "text": [
      "<class 'pandas.core.frame.DataFrame'>\n",
      "Int64Index: 14223 entries, 0 to 41784\n",
      "Data columns (total 5 columns):\n",
      " #   Column       Non-Null Count  Dtype  \n",
      "---  ------       --------------  -----  \n",
      " 0   ID Number    14223 non-null  int64  \n",
      " 1   Gender       14223 non-null  object \n",
      " 2   Grade Level  14223 non-null  object \n",
      " 3   Season       14223 non-null  object \n",
      " 4   400 Meters   14188 non-null  float64\n",
      "dtypes: float64(1), int64(1), object(3)\n",
      "memory usage: 666.7+ KB\n"
     ]
    },
    {
     "data": {
      "text/html": [
       "\n",
       "  <div id=\"df-353ac3b6-e58f-4184-b318-21e34a7e27d5\">\n",
       "    <div class=\"colab-df-container\">\n",
       "      <div>\n",
       "<style scoped>\n",
       "    .dataframe tbody tr th:only-of-type {\n",
       "        vertical-align: middle;\n",
       "    }\n",
       "\n",
       "    .dataframe tbody tr th {\n",
       "        vertical-align: top;\n",
       "    }\n",
       "\n",
       "    .dataframe thead th {\n",
       "        text-align: right;\n",
       "    }\n",
       "</style>\n",
       "<table border=\"1\" class=\"dataframe\">\n",
       "  <thead>\n",
       "    <tr style=\"text-align: right;\">\n",
       "      <th></th>\n",
       "      <th>ID Number</th>\n",
       "      <th>Gender</th>\n",
       "      <th>Grade Level</th>\n",
       "      <th>Season</th>\n",
       "      <th>400 Meters</th>\n",
       "    </tr>\n",
       "  </thead>\n",
       "  <tbody>\n",
       "    <tr>\n",
       "      <th>8570</th>\n",
       "      <td>3580</td>\n",
       "      <td>M</td>\n",
       "      <td>11th Grade</td>\n",
       "      <td>2005 Outdoor Season</td>\n",
       "      <td>3304.00</td>\n",
       "    </tr>\n",
       "    <tr>\n",
       "      <th>10159</th>\n",
       "      <td>4193</td>\n",
       "      <td>M</td>\n",
       "      <td>12th Grade</td>\n",
       "      <td>2006 Outdoor Season</td>\n",
       "      <td>3213.14</td>\n",
       "    </tr>\n",
       "    <tr>\n",
       "      <th>15147</th>\n",
       "      <td>6416</td>\n",
       "      <td>M</td>\n",
       "      <td>12th Grade</td>\n",
       "      <td>2005 Outdoor Season</td>\n",
       "      <td>3694.14</td>\n",
       "    </tr>\n",
       "    <tr>\n",
       "      <th>15543</th>\n",
       "      <td>6657</td>\n",
       "      <td>M</td>\n",
       "      <td>9th Grade</td>\n",
       "      <td>2004 Outdoor Season</td>\n",
       "      <td>3573.00</td>\n",
       "    </tr>\n",
       "    <tr>\n",
       "      <th>16189</th>\n",
       "      <td>6988</td>\n",
       "      <td>M</td>\n",
       "      <td>9th Grade</td>\n",
       "      <td>2004 Outdoor Season</td>\n",
       "      <td>3375.14</td>\n",
       "    </tr>\n",
       "    <tr>\n",
       "      <th>16190</th>\n",
       "      <td>6988</td>\n",
       "      <td>M</td>\n",
       "      <td>9th Grade</td>\n",
       "      <td>2004 Outdoor Season</td>\n",
       "      <td>3429.14</td>\n",
       "    </tr>\n",
       "    <tr>\n",
       "      <th>18396</th>\n",
       "      <td>8322</td>\n",
       "      <td>M</td>\n",
       "      <td>10th Grade</td>\n",
       "      <td>2004 Outdoor Season</td>\n",
       "      <td>12.24</td>\n",
       "    </tr>\n",
       "    <tr>\n",
       "      <th>18974</th>\n",
       "      <td>8676</td>\n",
       "      <td>M</td>\n",
       "      <td>11th Grade</td>\n",
       "      <td>2005 Outdoor Season</td>\n",
       "      <td>5775.14</td>\n",
       "    </tr>\n",
       "    <tr>\n",
       "      <th>26686</th>\n",
       "      <td>12583</td>\n",
       "      <td>M</td>\n",
       "      <td>11th Grade</td>\n",
       "      <td>2007 Outdoor Season</td>\n",
       "      <td>3309.00</td>\n",
       "    </tr>\n",
       "    <tr>\n",
       "      <th>27009</th>\n",
       "      <td>12633</td>\n",
       "      <td>M</td>\n",
       "      <td>9th Grade</td>\n",
       "      <td>2005 Outdoor Season</td>\n",
       "      <td>3574.14</td>\n",
       "    </tr>\n",
       "    <tr>\n",
       "      <th>33792</th>\n",
       "      <td>15477</td>\n",
       "      <td>M</td>\n",
       "      <td>11th Grade</td>\n",
       "      <td>2007 Outdoor Season</td>\n",
       "      <td>3268.14</td>\n",
       "    </tr>\n",
       "    <tr>\n",
       "      <th>36969</th>\n",
       "      <td>17034</td>\n",
       "      <td>M</td>\n",
       "      <td>9th Grade</td>\n",
       "      <td>2005 Outdoor Season</td>\n",
       "      <td>3486.14</td>\n",
       "    </tr>\n",
       "    <tr>\n",
       "      <th>38944</th>\n",
       "      <td>17988</td>\n",
       "      <td>M</td>\n",
       "      <td>10th Grade</td>\n",
       "      <td>2006 Outdoor Season</td>\n",
       "      <td>18.74</td>\n",
       "    </tr>\n",
       "    <tr>\n",
       "      <th>39293</th>\n",
       "      <td>18161</td>\n",
       "      <td>M</td>\n",
       "      <td>11th Grade</td>\n",
       "      <td>2005 Outdoor Season</td>\n",
       "      <td>3214.00</td>\n",
       "    </tr>\n",
       "    <tr>\n",
       "      <th>39590</th>\n",
       "      <td>18457</td>\n",
       "      <td>M</td>\n",
       "      <td>9th Grade</td>\n",
       "      <td>2005 Outdoor Season</td>\n",
       "      <td>3548.14</td>\n",
       "    </tr>\n",
       "  </tbody>\n",
       "</table>\n",
       "</div>\n",
       "      <button class=\"colab-df-convert\" onclick=\"convertToInteractive('df-353ac3b6-e58f-4184-b318-21e34a7e27d5')\"\n",
       "              title=\"Convert this dataframe to an interactive table.\"\n",
       "              style=\"display:none;\">\n",
       "        \n",
       "  <svg xmlns=\"http://www.w3.org/2000/svg\" height=\"24px\"viewBox=\"0 0 24 24\"\n",
       "       width=\"24px\">\n",
       "    <path d=\"M0 0h24v24H0V0z\" fill=\"none\"/>\n",
       "    <path d=\"M18.56 5.44l.94 2.06.94-2.06 2.06-.94-2.06-.94-.94-2.06-.94 2.06-2.06.94zm-11 1L8.5 8.5l.94-2.06 2.06-.94-2.06-.94L8.5 2.5l-.94 2.06-2.06.94zm10 10l.94 2.06.94-2.06 2.06-.94-2.06-.94-.94-2.06-.94 2.06-2.06.94z\"/><path d=\"M17.41 7.96l-1.37-1.37c-.4-.4-.92-.59-1.43-.59-.52 0-1.04.2-1.43.59L10.3 9.45l-7.72 7.72c-.78.78-.78 2.05 0 2.83L4 21.41c.39.39.9.59 1.41.59.51 0 1.02-.2 1.41-.59l7.78-7.78 2.81-2.81c.8-.78.8-2.07 0-2.86zM5.41 20L4 18.59l7.72-7.72 1.47 1.35L5.41 20z\"/>\n",
       "  </svg>\n",
       "      </button>\n",
       "      \n",
       "  <style>\n",
       "    .colab-df-container {\n",
       "      display:flex;\n",
       "      flex-wrap:wrap;\n",
       "      gap: 12px;\n",
       "    }\n",
       "\n",
       "    .colab-df-convert {\n",
       "      background-color: #E8F0FE;\n",
       "      border: none;\n",
       "      border-radius: 50%;\n",
       "      cursor: pointer;\n",
       "      display: none;\n",
       "      fill: #1967D2;\n",
       "      height: 32px;\n",
       "      padding: 0 0 0 0;\n",
       "      width: 32px;\n",
       "    }\n",
       "\n",
       "    .colab-df-convert:hover {\n",
       "      background-color: #E2EBFA;\n",
       "      box-shadow: 0px 1px 2px rgba(60, 64, 67, 0.3), 0px 1px 3px 1px rgba(60, 64, 67, 0.15);\n",
       "      fill: #174EA6;\n",
       "    }\n",
       "\n",
       "    [theme=dark] .colab-df-convert {\n",
       "      background-color: #3B4455;\n",
       "      fill: #D2E3FC;\n",
       "    }\n",
       "\n",
       "    [theme=dark] .colab-df-convert:hover {\n",
       "      background-color: #434B5C;\n",
       "      box-shadow: 0px 1px 3px 1px rgba(0, 0, 0, 0.15);\n",
       "      filter: drop-shadow(0px 1px 2px rgba(0, 0, 0, 0.3));\n",
       "      fill: #FFFFFF;\n",
       "    }\n",
       "  </style>\n",
       "\n",
       "      <script>\n",
       "        const buttonEl =\n",
       "          document.querySelector('#df-353ac3b6-e58f-4184-b318-21e34a7e27d5 button.colab-df-convert');\n",
       "        buttonEl.style.display =\n",
       "          google.colab.kernel.accessAllowed ? 'block' : 'none';\n",
       "\n",
       "        async function convertToInteractive(key) {\n",
       "          const element = document.querySelector('#df-353ac3b6-e58f-4184-b318-21e34a7e27d5');\n",
       "          const dataTable =\n",
       "            await google.colab.kernel.invokeFunction('convertToInteractive',\n",
       "                                                     [key], {});\n",
       "          if (!dataTable) return;\n",
       "\n",
       "          const docLinkHtml = 'Like what you see? Visit the ' +\n",
       "            '<a target=\"_blank\" href=https://colab.research.google.com/notebooks/data_table.ipynb>data table notebook</a>'\n",
       "            + ' to learn more about interactive tables.';\n",
       "          element.innerHTML = '';\n",
       "          dataTable['output_type'] = 'display_data';\n",
       "          await google.colab.output.renderOutput(dataTable, element);\n",
       "          const docLink = document.createElement('div');\n",
       "          docLink.innerHTML = docLinkHtml;\n",
       "          element.appendChild(docLink);\n",
       "        }\n",
       "      </script>\n",
       "    </div>\n",
       "  </div>\n",
       "  "
      ],
      "text/plain": [
       "       ID Number Gender Grade Level                                    Season  \\\n",
       "8570        3580      M  11th Grade  2005 Outdoor Season                        \n",
       "10159       4193      M  12th Grade  2006 Outdoor Season                        \n",
       "15147       6416      M  12th Grade  2005 Outdoor Season                        \n",
       "15543       6657      M   9th Grade  2004 Outdoor Season                        \n",
       "16189       6988      M   9th Grade  2004 Outdoor Season                        \n",
       "16190       6988      M   9th Grade  2004 Outdoor Season                        \n",
       "18396       8322      M  10th Grade  2004 Outdoor Season                        \n",
       "18974       8676      M  11th Grade  2005 Outdoor Season                        \n",
       "26686      12583      M  11th Grade  2007 Outdoor Season                        \n",
       "27009      12633      M   9th Grade  2005 Outdoor Season                        \n",
       "33792      15477      M  11th Grade  2007 Outdoor Season                        \n",
       "36969      17034      M   9th Grade  2005 Outdoor Season                        \n",
       "38944      17988      M  10th Grade  2006 Outdoor Season                        \n",
       "39293      18161      M  11th Grade  2005 Outdoor Season                        \n",
       "39590      18457      M   9th Grade  2005 Outdoor Season                        \n",
       "\n",
       "       400 Meters  \n",
       "8570      3304.00  \n",
       "10159     3213.14  \n",
       "15147     3694.14  \n",
       "15543     3573.00  \n",
       "16189     3375.14  \n",
       "16190     3429.14  \n",
       "18396       12.24  \n",
       "18974     5775.14  \n",
       "26686     3309.00  \n",
       "27009     3574.14  \n",
       "33792     3268.14  \n",
       "36969     3486.14  \n",
       "38944       18.74  \n",
       "39293     3214.00  \n",
       "39590     3548.14  "
      ]
     },
     "execution_count": 10,
     "metadata": {},
     "output_type": "execute_result"
    }
   ],
   "source": [
    "df_400.info()\n",
    "#There is something wrong with these 15 out of 14k in how their times were reported\n",
    "df_400[(df_400['400 Meters']>180) | (df_400['400 Meters']<40)]"
   ]
  },
  {
   "cell_type": "code",
   "execution_count": 11,
   "metadata": {
    "colab": {
     "base_uri": "https://localhost:8080/",
     "height": 282
    },
    "id": "t7gZuTIBv0nk",
    "outputId": "432b89d6-e25e-45bc-cfb8-d97ff8a6d695"
   },
   "outputs": [
    {
     "data": {
      "text/plain": [
       "<AxesSubplot:>"
      ]
     },
     "execution_count": 11,
     "metadata": {},
     "output_type": "execute_result"
    },
    {
     "data": {
      "image/png": "[encoded data removed]",
      "text/plain": [
       "<Figure size 432x288 with 1 Axes>"
      ]
     },
     "metadata": {
      "needs_background": "light"
     },
     "output_type": "display_data"
    }
   ],
   "source": [
    "#a boxplot is used here to visualize the times, and see where outliers lay, and where the averages lie.\n",
    "df_1600[(df_1600['1600 Meters']<500) & (df_1600['1600 Meters']>100)].boxplot(column = ['1600 Meters'])"
   ]
  },
  {
   "cell_type": "code",
   "execution_count": 12,
   "metadata": {
    "colab": {
     "base_uri": "https://localhost:8080/",
     "height": 282
    },
    "id": "5YeJKE4O4Qpi",
    "outputId": "261327f9-3045-41f7-e60c-aae61f1c6b18"
   },
   "outputs": [
    {
     "data": {
      "text/plain": [
       "<AxesSubplot:>"
      ]
     },
     "execution_count": 12,
     "metadata": {},
     "output_type": "execute_result"
    },
    {
     "data": {
      "image/png": "[encoded data removed]",
      "text/plain": [
       "<Figure size 432x288 with 1 Axes>"
      ]
     },
     "metadata": {
      "needs_background": "light"
     },
     "output_type": "display_data"
    }
   ],
   "source": [
    "#a boxplot is used here to visualize the times, and see where outliers lay, and where the averages lie.\n",
    "df_1500[(df_1500['1500 Meters']<500) & (df_1500['1500 Meters']>100)].boxplot(column = ['1500 Meters'])"
   ]
  },
  {
   "cell_type": "code",
   "execution_count": 13,
   "metadata": {
    "colab": {
     "base_uri": "https://localhost:8080/",
     "height": 282
    },
    "id": "sQGQWEBW8jLk",
    "outputId": "d75bc442-70e4-4b97-b05d-2f9a9688c6a1"
   },
   "outputs": [
    {
     "data": {
      "text/plain": [
       "<AxesSubplot:>"
      ]
     },
     "execution_count": 13,
     "metadata": {},
     "output_type": "execute_result"
    },
    {
     "data": {
      "image/png": "[encoded data removed]",
      "text/plain": [
       "<Figure size 432x288 with 1 Axes>"
      ]
     },
     "metadata": {
      "needs_background": "light"
     },
     "output_type": "display_data"
    }
   ],
   "source": [
    "#a boxplot is used here to visualize the times, and see where outliers lay, and where the averages lie.\n",
    "df_800[(df_800['800 Meters']<250) & (df_800['800 Meters']>50)].boxplot(column = ['800 Meters'])"
   ]
  },
  {
   "cell_type": "code",
   "execution_count": 14,
   "metadata": {
    "colab": {
     "base_uri": "https://localhost:8080/",
     "height": 282
    },
    "id": "k7l6WcB-sRqe",
    "outputId": "d49f7c78-11fb-48b5-da0b-b0a3a260a710"
   },
   "outputs": [
    {
     "data": {
      "text/plain": [
       "<AxesSubplot:>"
      ]
     },
     "execution_count": 14,
     "metadata": {},
     "output_type": "execute_result"
    },
    {
     "data": {
      "image/png": "[encoded data removed]",
      "text/plain": [
       "<Figure size 432x288 with 1 Axes>"
      ]
     },
     "metadata": {
      "needs_background": "light"
     },
     "output_type": "display_data"
    }
   ],
   "source": [
    "#a boxplot is used here to visualize the times, and see where outliers lay, and where the averages lie.\n",
    "df_400[(df_400['400 Meters']<75) & (df_400['400 Meters']>40)].boxplot(column = ['400 Meters'])"
   ]
  },
  {
   "cell_type": "code",
   "execution_count": 15,
   "metadata": {
    "colab": {
     "base_uri": "https://localhost:8080/",
     "height": 359
    },
    "id": "NhFusZbmvTEp",
    "outputId": "7ea68cd1-9926-4f73-cf6f-3ef843509a98"
   },
   "outputs": [
    {
     "data": {
      "image/png": "[encoded data removed]",
      "text/plain": [
       "<Figure size 720x360 with 1 Axes>"
      ]
     },
     "metadata": {
      "needs_background": "light"
     },
     "output_type": "display_data"
    }
   ],
   "source": [
    "#here a hist is used to check the distribution is normal, and out data looks good\n",
    "times_1600m= df_1600[(df_1600['1600 Meters']<500) & (df_1600['1600 Meters']>100)]['1600 Meters'].dropna().sort_values()\n",
    "plt.figure(figsize=(10, 5))\n",
    "plt.hist(times_1600m, bins=45)\n",
    "plt.xlabel('1600 Meter Times')\n",
    "plt.xticks(rotation = 90)\n",
    "plt.ylabel('Count')\n",
    "plt.title(\"Sorted 1600m Times, bins=45\")\n",
    "plt.show()"
   ]
  },
  {
   "cell_type": "code",
   "execution_count": 16,
   "metadata": {
    "colab": {
     "base_uri": "https://localhost:8080/",
     "height": 359
    },
    "id": "EZA74vvU3etC",
    "outputId": "f6c7097f-6c09-4666-bb8f-f94bda998ab0"
   },
   "outputs": [
    {
     "data": {
      "image/png": "[encoded data removed]",
      "text/plain": [
       "<Figure size 720x360 with 1 Axes>"
      ]
     },
     "metadata": {
      "needs_background": "light"
     },
     "output_type": "display_data"
    }
   ],
   "source": [
    "#here a hist is used to check the distribution is normal, and out data looks good\n",
    "times_1500m= df_1500[(df_1500['1500 Meters']<500) & (df_1500['1500 Meters']>100)]['1500 Meters'].dropna().sort_values()\n",
    "plt.figure(figsize=(10, 5))\n",
    "plt.hist(times_1500m, bins=100)\n",
    "plt.xlabel('1500 Meter Times')\n",
    "plt.xticks(rotation = 90)\n",
    "plt.ylabel('Count')\n",
    "plt.title(\"Sorted 1500m Times, bins=100\")\n",
    "plt.show()"
   ]
  },
  {
   "cell_type": "code",
   "execution_count": 17,
   "metadata": {
    "colab": {
     "base_uri": "https://localhost:8080/",
     "height": 359
    },
    "id": "pGoxTbFl7mTQ",
    "outputId": "e016a25f-b5fb-4151-a619-c3772612fbf0"
   },
   "outputs": [
    {
     "data": {
      "image/png": "[encoded data removed]",
      "text/plain": [
       "<Figure size 720x360 with 1 Axes>"
      ]
     },
     "metadata": {
      "needs_background": "light"
     },
     "output_type": "display_data"
    }
   ],
   "source": [
    "#here a hist is used to check the distribution is normal, and out data looks good\n",
    "times_800m= df_800[(df_800['800 Meters']<250) & (df_800['800 Meters']>50)]['800 Meters'].dropna().sort_values()\n",
    "plt.figure(figsize=(10, 5))\n",
    "plt.hist(times_800m, bins=100)\n",
    "plt.xlabel('800 Meter Times')\n",
    "plt.xticks(rotation = 90)\n",
    "plt.ylabel('Count')\n",
    "plt.title(\"Sorted 800m Times, bins=100\")\n",
    "plt.show()"
   ]
  },
  {
   "cell_type": "code",
   "execution_count": 18,
   "metadata": {
    "colab": {
     "base_uri": "https://localhost:8080/",
     "height": 352
    },
    "id": "nqd4K81BXohl",
    "outputId": "df3de0ad-daa6-4bc4-c5ff-5268442445df"
   },
   "outputs": [
    {
     "data": {
      "image/png": "[encoded data removed]",
      "text/plain": [
       "<Figure size 720x360 with 1 Axes>"
      ]
     },
     "metadata": {
      "needs_background": "light"
     },
     "output_type": "display_data"
    }
   ],
   "source": [
    "#here a hist is used to check the distribution is normal, and out data looks good\n",
    "times_400m= df_400[(df_400['400 Meters']<75) & (df_400['400 Meters']>40)]['400 Meters'].dropna().sort_values()\n",
    "plt.figure(figsize=(10, 5))\n",
    "plt.hist(times_400m, bins=100)\n",
    "plt.xlabel('400 Meter Times')\n",
    "plt.xticks(rotation = 90)\n",
    "plt.ylabel('Count')\n",
    "plt.title(\"Sorted 400m Times, bins=100\")\n",
    "plt.show()"
   ]
  },
  {
   "cell_type": "markdown",
   "metadata": {
    "id": "8iTtY3g94ulU"
   },
   "source": [
    "Look at Student ID column. \n",
    "\n",
    "Check which Id's occur multiple times. \n",
    "\n",
    "**--> value counts tells us this**\n",
    "\n",
    "Check if these ID's occur in multiple DataFrames. \n",
    "\n",
    "**--> use the .isin() function to check when the ID's in one appears in the other.**\n",
    "\n",
    "if it occurs multiple times, find the one that corresponds with the fastest time.\n",
    "\n",
    "**--> make a mini df with each ID and their time. Keep only the fastest times. But, how long would this take?**\n",
    "\n",
    "**--> sort the DF based on times, so the first time that appears would be the fastest?**\n",
    "\n",
    "Keep that one and drop all the rest.\n",
    "\n",
    "Long time goal: Compare ID's that appear in multiple DF's."
   ]
  },
  {
   "cell_type": "markdown",
   "metadata": {
    "id": "Hajx9yqGJ8cJ"
   },
   "source": [
    "Loop through Id, then season, then times. "
   ]
  },
  {
   "cell_type": "code",
   "execution_count": 19,
   "metadata": {
    "collapsed": true,
    "id": "Dq-h3UXiCGaN"
   },
   "outputs": [],
   "source": [
    "\n",
    "#df_1600_best = pd.DataFrame(columns=[['ID Number', '2003 Outdoor Season ','2004 Outdoor Season ', ' 2005 Outdoor Season ', \n",
    "#                                          '2006 Outdoor Season', '2007 Outdoor Season ','2008 Outdoor Season ',\n",
    "#                                      '2009 Outdoor Season', '2006 Indoor Season','2007 Indoor Season']])\n",
    "\n",
    "#for ID in (uni_id):\n",
    "#  df_1600_temp = df_1600[df_1600['ID Number'] == ID]\n",
    "#  uni_1600_sea_temp = df_1600_temp['Season'].unique()\n",
    "#  for sea in (uni_1600_sea_temp):\n",
    "#    temp_2 = df_1600_temp[df_1600_temp['Season']== sea]\n",
    "#    min_temp = temp_2['1600 Meters'].min\n",
    "#    df_1600_best[ID][sea].assign(min_temp)\n",
    "\n",
    "#df_1600_best"
   ]
  },
  {
   "cell_type": "markdown",
   "metadata": {
    "id": "mIoo78ZDVfxm"
   },
   "source": [
    "The currest filtered df's at this point should be:\n",
    "times_400m,\n",
    "times_800m,\n",
    "times_1500m,\n",
    "times_1600m,\n",
    "\n",
    "I lost track of it, and used df_xxxx, which were slightly unfiltered...\n",
    "\n",
    "for future reference."
   ]
  },
  {
   "cell_type": "code",
   "execution_count": 20,
   "metadata": {
    "colab": {
     "base_uri": "https://localhost:8080/"
    },
    "id": "8b-It88ObIVw",
    "outputId": "130a73d0-421f-42ec-a5b0-6e3325566844"
   },
   "outputs": [
    {
     "data": {
      "text/plain": [
       "2062"
      ]
     },
     "execution_count": 20,
     "metadata": {},
     "output_type": "execute_result"
    }
   ],
   "source": [
    "#Here I am grouping the cols together and agg the values of the 1500m col. \n",
    "#this allows for a clean df with the three groupby features untouched while finding the fastest times per feature.\n",
    "df_1500_best = df_1500.groupby(['ID Number','Season', 'Grade Level', 'Gender']).agg({'1500 Meters' : min})\n",
    "\n",
    "#resetting the index to allow regular indexing of the df after using groupby.\n",
    "#also doing another dropna to filter out.\n",
    "df_1500_best = df_1500_best.dropna().reset_index()\n",
    "\n",
    "#using unique I am able to find an id number per person. \n",
    "#this is for identifying people in multiple df's.\n",
    "unique_1500_best_time = df_1500_best['ID Number'].unique()\n",
    "len(unique_1500_best_time)"
   ]
  },
  {
   "cell_type": "code",
   "execution_count": 21,
   "metadata": {
    "colab": {
     "base_uri": "https://localhost:8080/"
    },
    "id": "8OXLg24VWiOX",
    "outputId": "4b433b57-83fe-4dc4-ee78-9b301bd732aa"
   },
   "outputs": [
    {
     "data": {
      "text/plain": [
       "145"
      ]
     },
     "execution_count": 21,
     "metadata": {},
     "output_type": "execute_result"
    }
   ],
   "source": [
    "#Here I am grouping the cols together and agg the values of the 1600m col. \n",
    "#this allows for a clean df with the three groupby features untouched while finding the fastest times per feature.\n",
    "df_1600_best = df_1600.groupby(['ID Number','Season', 'Grade Level', 'Gender']).agg({'1600 Meters' : min})\n",
    "\n",
    "#resetting the index to allow regular indexing of the df after using groupby.\n",
    "#also doing another dropna to filter out.\n",
    "df_1600_best = df_1600_best.dropna().reset_index()\n",
    "\n",
    "#using unique I am able to find an id number per person. \n",
    "#this is for identifying people in multiple df's.\n",
    "unique_1600_best_time = df_1600_best['ID Number'].unique()\n",
    "len(unique_1600_best_time)\n"
   ]
  },
  {
   "cell_type": "code",
   "execution_count": 22,
   "metadata": {
    "colab": {
     "base_uri": "https://localhost:8080/"
    },
    "id": "bvRKQz1nbepo",
    "outputId": "ee8fafe2-5dc0-479f-9d7d-fbb96cf8d120"
   },
   "outputs": [
    {
     "data": {
      "text/plain": [
       "2139"
      ]
     },
     "execution_count": 22,
     "metadata": {},
     "output_type": "execute_result"
    }
   ],
   "source": [
    "#Here I am grouping the cols together and agg the values of the 800m col. \n",
    "#this allows for a clean df with the three groupby features untouched while finding the fastest times per feature.\n",
    "df_800_best = df_800.groupby(['ID Number', 'Season', 'Grade Level', 'Gender']).agg({'800 Meters' : min})\n",
    "\n",
    "#resetting the index to allow regular indexing of the df after using groupby. \n",
    "#also doing another dropna to filter out.\n",
    "df_800_best = df_800_best.dropna().reset_index()\n",
    "\n",
    "#finding unique id #s. this will help to identify which athletes have competed in multiple events\n",
    "unique_800_best_time = df_800_best['ID Number'].unique()\n",
    "len(unique_800_best_time)"
   ]
  },
  {
   "cell_type": "code",
   "execution_count": 23,
   "metadata": {
    "colab": {
     "base_uri": "https://localhost:8080/"
    },
    "id": "C8dorijObyTm",
    "outputId": "9199ca19-dcd4-4465-cd1d-79c7b83a5168"
   },
   "outputs": [
    {
     "data": {
      "text/plain": [
       "2674"
      ]
     },
     "execution_count": 23,
     "metadata": {},
     "output_type": "execute_result"
    }
   ],
   "source": [
    "#group together the relevant columns, and find the minimum 400m times.\n",
    "df_400_best = df_400.groupby(['ID Number', 'Season', 'Grade Level', 'Gender']).agg({'400 Meters' : min})\n",
    "\n",
    "#droping the last nans and resetting the index so that we can index columns as usual \n",
    "df_400_best = df_400_best.dropna().reset_index()\n",
    "\n",
    "#finding unique id #s. this will help to identify which athletes have competed in multiple events\n",
    "unique_400_best_time = df_400_best['ID Number'].unique()\n",
    "len(unique_400_best_time)"
   ]
  },
  {
   "cell_type": "code",
   "execution_count": 24,
   "metadata": {
    "colab": {
     "base_uri": "https://localhost:8080/",
     "height": 419
    },
    "id": "uwoGW31GFeMt",
    "outputId": "ddb4185c-151e-4402-ad19-862cc74830b8"
   },
   "outputs": [
    {
     "data": {
      "text/html": [
       "\n",
       "  <div id=\"df-1fb898f2-1d71-4fe7-abfb-8b804c2fb713\">\n",
       "    <div class=\"colab-df-container\">\n",
       "      <div>\n",
       "<style scoped>\n",
       "    .dataframe tbody tr th:only-of-type {\n",
       "        vertical-align: middle;\n",
       "    }\n",
       "\n",
       "    .dataframe tbody tr th {\n",
       "        vertical-align: top;\n",
       "    }\n",
       "\n",
       "    .dataframe thead th {\n",
       "        text-align: right;\n",
       "    }\n",
       "</style>\n",
       "<table border=\"1\" class=\"dataframe\">\n",
       "  <thead>\n",
       "    <tr style=\"text-align: right;\">\n",
       "      <th></th>\n",
       "      <th>ID Number</th>\n",
       "      <th>Season</th>\n",
       "      <th>Grade Level</th>\n",
       "      <th>Gender_x</th>\n",
       "      <th>800 Meters</th>\n",
       "      <th>Gender_y</th>\n",
       "      <th>400 Meters</th>\n",
       "    </tr>\n",
       "  </thead>\n",
       "  <tbody>\n",
       "    <tr>\n",
       "      <th>0</th>\n",
       "      <td>21</td>\n",
       "      <td>2004 Outdoor Season</td>\n",
       "      <td>9th Grade</td>\n",
       "      <td>M</td>\n",
       "      <td>132.60</td>\n",
       "      <td>M</td>\n",
       "      <td>56.10</td>\n",
       "    </tr>\n",
       "    <tr>\n",
       "      <th>1</th>\n",
       "      <td>21</td>\n",
       "      <td>2005 Outdoor Season</td>\n",
       "      <td>10th Grade</td>\n",
       "      <td>M</td>\n",
       "      <td>135.00</td>\n",
       "      <td>M</td>\n",
       "      <td>53.70</td>\n",
       "    </tr>\n",
       "    <tr>\n",
       "      <th>2</th>\n",
       "      <td>21</td>\n",
       "      <td>2006 Outdoor Season</td>\n",
       "      <td>11th Grade</td>\n",
       "      <td>M</td>\n",
       "      <td>133.50</td>\n",
       "      <td>M</td>\n",
       "      <td>54.04</td>\n",
       "    </tr>\n",
       "    <tr>\n",
       "      <th>3</th>\n",
       "      <td>21</td>\n",
       "      <td>2007 Outdoor Season</td>\n",
       "      <td>12th Grade</td>\n",
       "      <td>M</td>\n",
       "      <td>127.35</td>\n",
       "      <td>M</td>\n",
       "      <td>54.40</td>\n",
       "    </tr>\n",
       "    <tr>\n",
       "      <th>4</th>\n",
       "      <td>63</td>\n",
       "      <td>2002 Outdoor  Season</td>\n",
       "      <td>9th Grade</td>\n",
       "      <td>M</td>\n",
       "      <td>128.90</td>\n",
       "      <td>M</td>\n",
       "      <td>57.84</td>\n",
       "    </tr>\n",
       "    <tr>\n",
       "      <th>...</th>\n",
       "      <td>...</td>\n",
       "      <td>...</td>\n",
       "      <td>...</td>\n",
       "      <td>...</td>\n",
       "      <td>...</td>\n",
       "      <td>...</td>\n",
       "      <td>...</td>\n",
       "    </tr>\n",
       "    <tr>\n",
       "      <th>1560</th>\n",
       "      <td>19812</td>\n",
       "      <td>2008 Outdoor Season</td>\n",
       "      <td>12th Grade</td>\n",
       "      <td>M</td>\n",
       "      <td>125.43</td>\n",
       "      <td>M</td>\n",
       "      <td>52.50</td>\n",
       "    </tr>\n",
       "    <tr>\n",
       "      <th>1561</th>\n",
       "      <td>19926</td>\n",
       "      <td>2006 Outdoor Season</td>\n",
       "      <td>11th Grade</td>\n",
       "      <td>M</td>\n",
       "      <td>154.00</td>\n",
       "      <td>M</td>\n",
       "      <td>65.24</td>\n",
       "    </tr>\n",
       "    <tr>\n",
       "      <th>1562</th>\n",
       "      <td>19982</td>\n",
       "      <td>2005 Outdoor Season</td>\n",
       "      <td>11th Grade</td>\n",
       "      <td>M</td>\n",
       "      <td>165.60</td>\n",
       "      <td>M</td>\n",
       "      <td>64.24</td>\n",
       "    </tr>\n",
       "    <tr>\n",
       "      <th>1563</th>\n",
       "      <td>19983</td>\n",
       "      <td>2005 Outdoor Season</td>\n",
       "      <td>11th Grade</td>\n",
       "      <td>M</td>\n",
       "      <td>130.60</td>\n",
       "      <td>M</td>\n",
       "      <td>58.04</td>\n",
       "    </tr>\n",
       "    <tr>\n",
       "      <th>1564</th>\n",
       "      <td>19983</td>\n",
       "      <td>2006 Outdoor Season</td>\n",
       "      <td>12th Grade</td>\n",
       "      <td>M</td>\n",
       "      <td>126.96</td>\n",
       "      <td>M</td>\n",
       "      <td>53.64</td>\n",
       "    </tr>\n",
       "  </tbody>\n",
       "</table>\n",
       "<p>1561 rows × 7 columns</p>\n",
       "</div>\n",
       "      <button class=\"colab-df-convert\" onclick=\"convertToInteractive('df-1fb898f2-1d71-4fe7-abfb-8b804c2fb713')\"\n",
       "              title=\"Convert this dataframe to an interactive table.\"\n",
       "              style=\"display:none;\">\n",
       "        \n",
       "  <svg xmlns=\"http://www.w3.org/2000/svg\" height=\"24px\"viewBox=\"0 0 24 24\"\n",
       "       width=\"24px\">\n",
       "    <path d=\"M0 0h24v24H0V0z\" fill=\"none\"/>\n",
       "    <path d=\"M18.56 5.44l.94 2.06.94-2.06 2.06-.94-2.06-.94-.94-2.06-.94 2.06-2.06.94zm-11 1L8.5 8.5l.94-2.06 2.06-.94-2.06-.94L8.5 2.5l-.94 2.06-2.06.94zm10 10l.94 2.06.94-2.06 2.06-.94-2.06-.94-.94-2.06-.94 2.06-2.06.94z\"/><path d=\"M17.41 7.96l-1.37-1.37c-.4-.4-.92-.59-1.43-.59-.52 0-1.04.2-1.43.59L10.3 9.45l-7.72 7.72c-.78.78-.78 2.05 0 2.83L4 21.41c.39.39.9.59 1.41.59.51 0 1.02-.2 1.41-.59l7.78-7.78 2.81-2.81c.8-.78.8-2.07 0-2.86zM5.41 20L4 18.59l7.72-7.72 1.47 1.35L5.41 20z\"/>\n",
       "  </svg>\n",
       "      </button>\n",
       "      \n",
       "  <style>\n",
       "    .colab-df-container {\n",
       "      display:flex;\n",
       "      flex-wrap:wrap;\n",
       "      gap: 12px;\n",
       "    }\n",
       "\n",
       "    .colab-df-convert {\n",
       "      background-color: #E8F0FE;\n",
       "      border: none;\n",
       "      border-radius: 50%;\n",
       "      cursor: pointer;\n",
       "      display: none;\n",
       "      fill: #1967D2;\n",
       "      height: 32px;\n",
       "      padding: 0 0 0 0;\n",
       "      width: 32px;\n",
       "    }\n",
       "\n",
       "    .colab-df-convert:hover {\n",
       "      background-color: #E2EBFA;\n",
       "      box-shadow: 0px 1px 2px rgba(60, 64, 67, 0.3), 0px 1px 3px 1px rgba(60, 64, 67, 0.15);\n",
       "      fill: #174EA6;\n",
       "    }\n",
       "\n",
       "    [theme=dark] .colab-df-convert {\n",
       "      background-color: #3B4455;\n",
       "      fill: #D2E3FC;\n",
       "    }\n",
       "\n",
       "    [theme=dark] .colab-df-convert:hover {\n",
       "      background-color: #434B5C;\n",
       "      box-shadow: 0px 1px 3px 1px rgba(0, 0, 0, 0.15);\n",
       "      filter: drop-shadow(0px 1px 2px rgba(0, 0, 0, 0.3));\n",
       "      fill: #FFFFFF;\n",
       "    }\n",
       "  </style>\n",
       "\n",
       "      <script>\n",
       "        const buttonEl =\n",
       "          document.querySelector('#df-1fb898f2-1d71-4fe7-abfb-8b804c2fb713 button.colab-df-convert');\n",
       "        buttonEl.style.display =\n",
       "          google.colab.kernel.accessAllowed ? 'block' : 'none';\n",
       "\n",
       "        async function convertToInteractive(key) {\n",
       "          const element = document.querySelector('#df-1fb898f2-1d71-4fe7-abfb-8b804c2fb713');\n",
       "          const dataTable =\n",
       "            await google.colab.kernel.invokeFunction('convertToInteractive',\n",
       "                                                     [key], {});\n",
       "          if (!dataTable) return;\n",
       "\n",
       "          const docLinkHtml = 'Like what you see? Visit the ' +\n",
       "            '<a target=\"_blank\" href=https://colab.research.google.com/notebooks/data_table.ipynb>data table notebook</a>'\n",
       "            + ' to learn more about interactive tables.';\n",
       "          element.innerHTML = '';\n",
       "          dataTable['output_type'] = 'display_data';\n",
       "          await google.colab.output.renderOutput(dataTable, element);\n",
       "          const docLink = document.createElement('div');\n",
       "          docLink.innerHTML = docLinkHtml;\n",
       "          element.appendChild(docLink);\n",
       "        }\n",
       "      </script>\n",
       "    </div>\n",
       "  </div>\n",
       "  "
      ],
      "text/plain": [
       "      ID Number                                     Season Grade Level  \\\n",
       "0            21   2004 Outdoor Season                        9th Grade   \n",
       "1            21   2005 Outdoor Season                       10th Grade   \n",
       "2            21   2006 Outdoor Season                       11th Grade   \n",
       "3            21   2007 Outdoor Season                       12th Grade   \n",
       "4            63  2002 Outdoor  Season                        9th Grade   \n",
       "...         ...                                        ...         ...   \n",
       "1560      19812   2008 Outdoor Season                       12th Grade   \n",
       "1561      19926   2006 Outdoor Season                       11th Grade   \n",
       "1562      19982   2005 Outdoor Season                       11th Grade   \n",
       "1563      19983   2005 Outdoor Season                       11th Grade   \n",
       "1564      19983   2006 Outdoor Season                       12th Grade   \n",
       "\n",
       "     Gender_x  800 Meters Gender_y  400 Meters  \n",
       "0           M      132.60        M       56.10  \n",
       "1           M      135.00        M       53.70  \n",
       "2           M      133.50        M       54.04  \n",
       "3           M      127.35        M       54.40  \n",
       "4           M      128.90        M       57.84  \n",
       "...       ...         ...      ...         ...  \n",
       "1560        M      125.43        M       52.50  \n",
       "1561        M      154.00        M       65.24  \n",
       "1562        M      165.60        M       64.24  \n",
       "1563        M      130.60        M       58.04  \n",
       "1564        M      126.96        M       53.64  \n",
       "\n",
       "[1561 rows x 7 columns]"
      ]
     },
     "execution_count": 24,
     "metadata": {},
     "output_type": "execute_result"
    }
   ],
   "source": [
    "#merging 400m and 800m df on id and season columns so that the id#, season, grade level, and times are all unique\n",
    "merged_400_800 = df_800_best.merge(df_400_best, how='inner', on=['ID Number','Season', 'Grade Level'])\n",
    "\n",
    "#this brings up a problem with grade level, leaving 4 items with '?'\n",
    "mismarked_merged_400_800 = merged_400_800[merged_400_800['Grade Level'] == '?']\n",
    "\n",
    "#dropping these rows with said '?'\n",
    "merged_400_800.drop([952, 988, 1003, 1013], axis=0, inplace=True)\n",
    "\n",
    "#checking if the rows were successfully dropped\n",
    "merged_400_800[merged_400_800['Grade Level'] == '?']\n",
    "len(merged_400_800)\n",
    "merged_400_800"
   ]
  },
  {
   "cell_type": "code",
   "execution_count": 25,
   "metadata": {
    "colab": {
     "base_uri": "https://localhost:8080/"
    },
    "id": "h9CsDvErTQtP",
    "outputId": "18e242e9-9242-4efd-f2de-2d7d6fa8f434"
   },
   "outputs": [
    {
     "name": "stdout",
     "output_type": "stream",
     "text": [
      "      ID Number                                    Season Grade Level  \\\n",
      "16          340  2011 Outdoor Season                                ?   \n",
      "554        8947  2004 Outdoor Season                                ?   \n",
      "721       11755  2005 Outdoor Season                                ?   \n",
      "729       11815  2005 Outdoor Season                                ?   \n",
      "1124      19349  2005 Outdoor Season                                ?   \n",
      "\n",
      "     Gender_x  1500 Meters Gender_y  400 Meters  \n",
      "16          M       282.52        M       56.11  \n",
      "554         M       318.00        M       60.14  \n",
      "721         M       269.40        M       56.84  \n",
      "729         M       342.20        M       63.20  \n",
      "1124        M       290.50        M       61.34  \n"
     ]
    }
   ],
   "source": [
    "#merging 400m and 1600m df on id and season columns so that the id#, season, grade level, and times are all unique\n",
    "merged_400_1600 = df_1600_best.merge(df_400_best, how='inner', on=['ID Number','Season', 'Grade Level'])\n",
    "#print('4/16', merged_400_1600.isnull().sum())\n",
    "\n",
    "#merging 400m and 1500m df on id and season columns so that the id#, season, grade level, and times are all unique\n",
    "merged_400_1500 = df_1500_best.merge(df_400_best, how='inner', on=['ID Number','Season', 'Grade Level'])\n",
    "#print('4/15', merged_400_1500.isnull().sum())\n",
    "\n",
    "#this brings up a problem with grade level, leaving 4 items with '?'\n",
    "mismarked_merged_400_1500 = merged_400_1500[merged_400_1500['Grade Level'] == '?']\n",
    "print(mismarked_merged_400_1500)\n",
    "\n",
    "#dropping these rows with said '?'\n",
    "merged_400_1500.drop([16, 554, 721, 729, 1124], axis=0, inplace=True)\n",
    "\n",
    "#merging 800m and 1600m df on id and season columns so that the id#, season, grade level, and times are all unique\n",
    "merged_800_1600 = df_1600_best.merge(df_800_best, how='inner', on=['ID Number','Season', 'Grade Level'])\n",
    "#print('8/16', merged_800_1600.isnull().sum())\n",
    "\n",
    "#merging 800m and 1500m df on id and season columns so that the id#, season, grade level, and times are all unique\n",
    "merged_800_1500 = df_1500_best.merge(df_800_best, how='inner', on=['ID Number','Season', 'Grade Level'])\n",
    "#print('8/15', merged_800_1500.isnull().sum())\n",
    "\n",
    "#this brings up a problem with grade level, leaving 4 items with '?'\n",
    "mismarked_merged_800_1500 = merged_800_1500[merged_800_1500['Grade Level'] == '?']\n",
    "#print(mismarked_merged_800_1500)\n",
    "\n",
    "#dropping these rows with said '?'\n",
    "merged_800_1500.drop([1486, 1561], axis=0, inplace=True)"
   ]
  },
  {
   "cell_type": "code",
   "execution_count": 25,
   "metadata": {
    "id": "S34p9Og50YE_"
   },
   "outputs": [],
   "source": []
  },
  {
   "cell_type": "code",
   "execution_count": 26,
   "metadata": {
    "colab": {
     "base_uri": "https://localhost:8080/",
     "height": 299
    },
    "id": "FFv-k9ql4Brm",
    "outputId": "5c3bc87c-1ac4-4ddd-84c5-8d476a2f49c2"
   },
   "outputs": [
    {
     "data": {
      "image/png": "[encoded data removed]",
      "text/plain": [
       "<Figure size 1653.12x360 with 4 Axes>"
      ]
     },
     "metadata": {
      "needs_background": "light"
     },
     "output_type": "display_data"
    }
   ],
   "source": [
    "# plotting the 400m v 800m times in seconds. using relplot, I have created cols of the grade level. and colored based on season. \n",
    "p1 = sns.relplot(\n",
    "    data=merged_400_800, x='400 Meters', y='800 Meters', kind='scatter', \n",
    "    hue='Season', palette ='deep', col='Grade Level', col_order=['9th Grade', '10th Grade', '11th Grade', '12th Grade']\n",
    ")\n",
    "plt.subplots_adjust(wspace=0.2)\n",
    "p1.set_axis_labels(\"400 Meter Time(s)\", \"800 Meter Time(s)\")\n",
    "plt.show()"
   ]
  },
  {
   "cell_type": "code",
   "execution_count": 27,
   "metadata": {
    "colab": {
     "base_uri": "https://localhost:8080/",
     "height": 300
    },
    "id": "LqmMzxPMt6P5",
    "outputId": "4a9bdd47-d211-4cd7-c417-abe72a27b85d"
   },
   "outputs": [
    {
     "data": {
      "image/png": "[encoded data removed]",
      "text/plain": [
       "<Figure size 1649.75x360 with 4 Axes>"
      ]
     },
     "metadata": {
      "needs_background": "light"
     },
     "output_type": "display_data"
    }
   ],
   "source": [
    "# plotting the 400m v 1600m times in seconds. using relplot, I have created cols of the grade level. and colored based on season. \n",
    "p2 = sns.relplot(\n",
    "    data=merged_400_1600, x='400 Meters', y='1600 Meters', kind='scatter', \n",
    "    hue='Season', palette ='deep', col='Grade Level', col_order=['9th Grade', '10th Grade', '11th Grade', '12th Grade']\n",
    ")\n",
    "plt.subplots_adjust(wspace=0.2)\n",
    "p2.set_axis_labels(\"400 Meter Time(s)\", \"1600 Meter Time(s)\")\n",
    "plt.show()"
   ]
  },
  {
   "cell_type": "code",
   "execution_count": 28,
   "metadata": {
    "colab": {
     "base_uri": "https://localhost:8080/",
     "height": 299
    },
    "id": "m1raPwz-T7AD",
    "outputId": "62ad6eb9-9d94-45aa-f38e-c4094a0e0ebd"
   },
   "outputs": [
    {
     "data": {
      "image/png": "[encoded data removed]",
      "text/plain": [
       "<Figure size 1653.12x360 with 4 Axes>"
      ]
     },
     "metadata": {
      "needs_background": "light"
     },
     "output_type": "display_data"
    }
   ],
   "source": [
    "# plotting the 400m v 1500m times in seconds. using relplot, I have created cols of the grade level. and colored based on season. \n",
    "p3 = sns.relplot(\n",
    "    data=merged_400_1500, x='400 Meters', y='1500 Meters', kind='scatter', \n",
    "    hue='Season', palette ='deep', col='Grade Level', col_order=['9th Grade', '10th Grade', '11th Grade', '12th Grade']\n",
    ")\n",
    "plt.subplots_adjust(wspace=0.2)\n",
    "p3.set_axis_labels(\"400 Meter Time(s)\", \"1500 Meter Time(s)\")\n",
    "plt.show()"
   ]
  },
  {
   "cell_type": "code",
   "execution_count": 29,
   "metadata": {
    "colab": {
     "base_uri": "https://localhost:8080/",
     "height": 299
    },
    "id": "_riabHsv2Eje",
    "outputId": "5db5de3f-2abe-4408-bcbb-d2800a04978e"
   },
   "outputs": [
    {
     "data": {
      "image/png": "[encoded data removed]",
      "text/plain": [
       "<Figure size 1652.75x360 with 4 Axes>"
      ]
     },
     "metadata": {
      "needs_background": "light"
     },
     "output_type": "display_data"
    }
   ],
   "source": [
    "# plotting the 800m v 1600m times in seconds. using relplot, I have created cols of the grade level. and colored based on season. \n",
    "p4 = sns.relplot(\n",
    "    data=merged_800_1600, x='800 Meters', y='1600 Meters', kind='scatter', \n",
    "    hue='Season', palette ='deep', col='Grade Level', col_order=['9th Grade', '10th Grade', '11th Grade', '12th Grade']\n",
    ")\n",
    "plt.subplots_adjust(wspace=0.2)\n",
    "p4.set_axis_labels(\"800 Meter Time(s)\", \"1600 Meter Time(s)\")\n",
    "plt.show()"
   ]
  },
  {
   "cell_type": "code",
   "execution_count": 30,
   "metadata": {
    "colab": {
     "base_uri": "https://localhost:8080/",
     "height": 248
    },
    "id": "v9Xf90FT2UES",
    "outputId": "af3f49dc-9066-48e7-d99e-f3ee64a75105"
   },
   "outputs": [
    {
     "data": {
      "image/png": "[encoded data removed]",
      "text/plain": [
       "<Figure size 2013.12x360 with 5 Axes>"
      ]
     },
     "metadata": {
      "needs_background": "light"
     },
     "output_type": "display_data"
    }
   ],
   "source": [
    "# plotting the 800m v 1500m times in seconds. using relplot, I have created cols of the grade level. and colored based on season. \n",
    "p5 = sns.relplot(\n",
    "    data=merged_800_1500, x='800 Meters', y='1500 Meters', kind='scatter', \n",
    "    hue='Season', palette ='deep', col='Grade Level', col_order=['8th Grade', '9th Grade', '10th Grade', '11th Grade', '12th Grade']\n",
    ")\n",
    "plt.subplots_adjust(wspace=0.2)\n",
    "p5.set_axis_labels(\"800 Meter Time(s)\", \"1500 Meter Time(s)\")\n",
    "plt.show()"
   ]
  },
  {
   "cell_type": "markdown",
   "metadata": {
    "id": "0eR1rTP3TdRX"
   },
   "source": [
    "At this point, we have dropped, sorted, and visualized lots of data. I am confident that the data we have is correlated and can be used further with ML techniques. "
   ]
  },
  {
   "cell_type": "code",
   "execution_count": 31,
   "metadata": {
    "id": "QAq5IA4GTqJk"
   },
   "outputs": [],
   "source": [
    "#import sklearn and relevant packages\n",
    "from sklearn.model_selection import train_test_split\n",
    "from sklearn.linear_model import LinearRegression\n",
    "from sklearn.pipeline import Pipeline\n",
    "from sklearn.preprocessing import StandardScaler\n",
    "from sklearn.preprocessing import MinMaxScaler\n",
    "from sklearn.preprocessing import OneHotEncoder\n",
    "from sklearn.metrics import mean_absolute_error\n",
    "from sklearn.metrics import mean_absolute_percentage_error\n",
    "from sklearn.metrics import mean_squared_error\n",
    "\n",
    "#separate datasets for the model\n",
    "#here the model is split 67/33\n",
    "m400_800_train, m400_800_test = train_test_split(merged_400_800, test_size=0.33, random_state=0)\n",
    "\n",
    "#gl means grade level\n",
    "#for this model we will use 400/800m times and grade level\n",
    "gl_400_800_train = m400_800_train[['400 Meters', '800 Meters', 'Grade Level']]\n",
    "gl_400_800_test = m400_800_test[['400 Meters', '800 Meters', 'Grade Level']]\n"
   ]
  },
  {
   "cell_type": "code",
   "execution_count": 32,
   "metadata": {
    "id": "dIJxRAUYn_mE"
   },
   "outputs": [],
   "source": [
    "#here we separate the features and labels. The features used are the 400m times as well as the grade leve\n",
    "# this calls for dropping the 800m column for the features df\n",
    "#next I select only the 800m column for the label df\n",
    "features_400_train = gl_400_800_train.drop('800 Meters', axis=1)\n",
    "label_train = gl_400_800_train['800 Meters'].copy()\n",
    "\n",
    "#same steps are repeated for the test df\n",
    "features_400_test = gl_400_800_test.drop('800 Meters', axis=1)\n",
    "label_test = gl_400_800_test['800 Meters'].copy()"
   ]
  },
  {
   "cell_type": "code",
   "execution_count": 33,
   "metadata": {
    "colab": {
     "base_uri": "https://localhost:8080/",
     "height": 419
    },
    "id": "yzEwTmOausP5",
    "outputId": "137cb204-dc49-4c61-e285-41d46fe04bb7"
   },
   "outputs": [
    {
     "data": {
      "text/html": [
       "\n",
       "  <div id=\"df-6435bfa6-cd38-4426-9810-1483a9231610\">\n",
       "    <div class=\"colab-df-container\">\n",
       "      <div>\n",
       "<style scoped>\n",
       "    .dataframe tbody tr th:only-of-type {\n",
       "        vertical-align: middle;\n",
       "    }\n",
       "\n",
       "    .dataframe tbody tr th {\n",
       "        vertical-align: top;\n",
       "    }\n",
       "\n",
       "    .dataframe thead th {\n",
       "        text-align: right;\n",
       "    }\n",
       "</style>\n",
       "<table border=\"1\" class=\"dataframe\">\n",
       "  <thead>\n",
       "    <tr style=\"text-align: right;\">\n",
       "      <th></th>\n",
       "      <th>400 Meters</th>\n",
       "      <th>Grade Level</th>\n",
       "    </tr>\n",
       "  </thead>\n",
       "  <tbody>\n",
       "    <tr>\n",
       "      <th>776</th>\n",
       "      <td>55.47</td>\n",
       "      <td>11th Grade</td>\n",
       "    </tr>\n",
       "    <tr>\n",
       "      <th>969</th>\n",
       "      <td>59.20</td>\n",
       "      <td>9th Grade</td>\n",
       "    </tr>\n",
       "    <tr>\n",
       "      <th>471</th>\n",
       "      <td>60.66</td>\n",
       "      <td>12th Grade</td>\n",
       "    </tr>\n",
       "    <tr>\n",
       "      <th>1204</th>\n",
       "      <td>62.84</td>\n",
       "      <td>12th Grade</td>\n",
       "    </tr>\n",
       "    <tr>\n",
       "      <th>575</th>\n",
       "      <td>51.94</td>\n",
       "      <td>12th Grade</td>\n",
       "    </tr>\n",
       "    <tr>\n",
       "      <th>...</th>\n",
       "      <td>...</td>\n",
       "      <td>...</td>\n",
       "    </tr>\n",
       "    <tr>\n",
       "      <th>763</th>\n",
       "      <td>60.84</td>\n",
       "      <td>10th Grade</td>\n",
       "    </tr>\n",
       "    <tr>\n",
       "      <th>835</th>\n",
       "      <td>54.98</td>\n",
       "      <td>10th Grade</td>\n",
       "    </tr>\n",
       "    <tr>\n",
       "      <th>1220</th>\n",
       "      <td>61.14</td>\n",
       "      <td>11th Grade</td>\n",
       "    </tr>\n",
       "    <tr>\n",
       "      <th>559</th>\n",
       "      <td>59.54</td>\n",
       "      <td>10th Grade</td>\n",
       "    </tr>\n",
       "    <tr>\n",
       "      <th>684</th>\n",
       "      <td>60.94</td>\n",
       "      <td>11th Grade</td>\n",
       "    </tr>\n",
       "  </tbody>\n",
       "</table>\n",
       "<p>1045 rows × 2 columns</p>\n",
       "</div>\n",
       "      <button class=\"colab-df-convert\" onclick=\"convertToInteractive('df-6435bfa6-cd38-4426-9810-1483a9231610')\"\n",
       "              title=\"Convert this dataframe to an interactive table.\"\n",
       "              style=\"display:none;\">\n",
       "        \n",
       "  <svg xmlns=\"http://www.w3.org/2000/svg\" height=\"24px\"viewBox=\"0 0 24 24\"\n",
       "       width=\"24px\">\n",
       "    <path d=\"M0 0h24v24H0V0z\" fill=\"none\"/>\n",
       "    <path d=\"M18.56 5.44l.94 2.06.94-2.06 2.06-.94-2.06-.94-.94-2.06-.94 2.06-2.06.94zm-11 1L8.5 8.5l.94-2.06 2.06-.94-2.06-.94L8.5 2.5l-.94 2.06-2.06.94zm10 10l.94 2.06.94-2.06 2.06-.94-2.06-.94-.94-2.06-.94 2.06-2.06.94z\"/><path d=\"M17.41 7.96l-1.37-1.37c-.4-.4-.92-.59-1.43-.59-.52 0-1.04.2-1.43.59L10.3 9.45l-7.72 7.72c-.78.78-.78 2.05 0 2.83L4 21.41c.39.39.9.59 1.41.59.51 0 1.02-.2 1.41-.59l7.78-7.78 2.81-2.81c.8-.78.8-2.07 0-2.86zM5.41 20L4 18.59l7.72-7.72 1.47 1.35L5.41 20z\"/>\n",
       "  </svg>\n",
       "      </button>\n",
       "      \n",
       "  <style>\n",
       "    .colab-df-container {\n",
       "      display:flex;\n",
       "      flex-wrap:wrap;\n",
       "      gap: 12px;\n",
       "    }\n",
       "\n",
       "    .colab-df-convert {\n",
       "      background-color: #E8F0FE;\n",
       "      border: none;\n",
       "      border-radius: 50%;\n",
       "      cursor: pointer;\n",
       "      display: none;\n",
       "      fill: #1967D2;\n",
       "      height: 32px;\n",
       "      padding: 0 0 0 0;\n",
       "      width: 32px;\n",
       "    }\n",
       "\n",
       "    .colab-df-convert:hover {\n",
       "      background-color: #E2EBFA;\n",
       "      box-shadow: 0px 1px 2px rgba(60, 64, 67, 0.3), 0px 1px 3px 1px rgba(60, 64, 67, 0.15);\n",
       "      fill: #174EA6;\n",
       "    }\n",
       "\n",
       "    [theme=dark] .colab-df-convert {\n",
       "      background-color: #3B4455;\n",
       "      fill: #D2E3FC;\n",
       "    }\n",
       "\n",
       "    [theme=dark] .colab-df-convert:hover {\n",
       "      background-color: #434B5C;\n",
       "      box-shadow: 0px 1px 3px 1px rgba(0, 0, 0, 0.15);\n",
       "      filter: drop-shadow(0px 1px 2px rgba(0, 0, 0, 0.3));\n",
       "      fill: #FFFFFF;\n",
       "    }\n",
       "  </style>\n",
       "\n",
       "      <script>\n",
       "        const buttonEl =\n",
       "          document.querySelector('#df-6435bfa6-cd38-4426-9810-1483a9231610 button.colab-df-convert');\n",
       "        buttonEl.style.display =\n",
       "          google.colab.kernel.accessAllowed ? 'block' : 'none';\n",
       "\n",
       "        async function convertToInteractive(key) {\n",
       "          const element = document.querySelector('#df-6435bfa6-cd38-4426-9810-1483a9231610');\n",
       "          const dataTable =\n",
       "            await google.colab.kernel.invokeFunction('convertToInteractive',\n",
       "                                                     [key], {});\n",
       "          if (!dataTable) return;\n",
       "\n",
       "          const docLinkHtml = 'Like what you see? Visit the ' +\n",
       "            '<a target=\"_blank\" href=https://colab.research.google.com/notebooks/data_table.ipynb>data table notebook</a>'\n",
       "            + ' to learn more about interactive tables.';\n",
       "          element.innerHTML = '';\n",
       "          dataTable['output_type'] = 'display_data';\n",
       "          await google.colab.output.renderOutput(dataTable, element);\n",
       "          const docLink = document.createElement('div');\n",
       "          docLink.innerHTML = docLinkHtml;\n",
       "          element.appendChild(docLink);\n",
       "        }\n",
       "      </script>\n",
       "    </div>\n",
       "  </div>\n",
       "  "
      ],
      "text/plain": [
       "      400 Meters Grade Level\n",
       "776        55.47  11th Grade\n",
       "969        59.20   9th Grade\n",
       "471        60.66  12th Grade\n",
       "1204       62.84  12th Grade\n",
       "575        51.94  12th Grade\n",
       "...          ...         ...\n",
       "763        60.84  10th Grade\n",
       "835        54.98  10th Grade\n",
       "1220       61.14  11th Grade\n",
       "559        59.54  10th Grade\n",
       "684        60.94  11th Grade\n",
       "\n",
       "[1045 rows x 2 columns]"
      ]
     },
     "execution_count": 33,
     "metadata": {},
     "output_type": "execute_result"
    }
   ],
   "source": [
    "features_400_train"
   ]
  },
  {
   "cell_type": "code",
   "execution_count": 34,
   "metadata": {
    "colab": {
     "base_uri": "https://localhost:8080/",
     "height": 419
    },
    "id": "3dJV1oiSB55H",
    "outputId": "d8b0fb6c-9051-4abd-c9f6-8ef029d0c6b9"
   },
   "outputs": [
    {
     "data": {
      "text/html": [
       "\n",
       "  <div id=\"df-f1cfa56b-c890-4639-a8d2-ad9f7322c296\">\n",
       "    <div class=\"colab-df-container\">\n",
       "      <div>\n",
       "<style scoped>\n",
       "    .dataframe tbody tr th:only-of-type {\n",
       "        vertical-align: middle;\n",
       "    }\n",
       "\n",
       "    .dataframe tbody tr th {\n",
       "        vertical-align: top;\n",
       "    }\n",
       "\n",
       "    .dataframe thead th {\n",
       "        text-align: right;\n",
       "    }\n",
       "</style>\n",
       "<table border=\"1\" class=\"dataframe\">\n",
       "  <thead>\n",
       "    <tr style=\"text-align: right;\">\n",
       "      <th></th>\n",
       "      <th>400 Meters</th>\n",
       "      <th>Grade Level_9th Grade</th>\n",
       "      <th>Grade Level_10th Grade</th>\n",
       "      <th>Grade Level_11th Grade</th>\n",
       "      <th>Grade Level_12th Grade</th>\n",
       "    </tr>\n",
       "  </thead>\n",
       "  <tbody>\n",
       "    <tr>\n",
       "      <th>319</th>\n",
       "      <td>64.14</td>\n",
       "      <td>0</td>\n",
       "      <td>0</td>\n",
       "      <td>1</td>\n",
       "      <td>0</td>\n",
       "    </tr>\n",
       "    <tr>\n",
       "      <th>1046</th>\n",
       "      <td>52.60</td>\n",
       "      <td>0</td>\n",
       "      <td>0</td>\n",
       "      <td>0</td>\n",
       "      <td>1</td>\n",
       "    </tr>\n",
       "    <tr>\n",
       "      <th>644</th>\n",
       "      <td>59.60</td>\n",
       "      <td>0</td>\n",
       "      <td>0</td>\n",
       "      <td>1</td>\n",
       "      <td>0</td>\n",
       "    </tr>\n",
       "    <tr>\n",
       "      <th>579</th>\n",
       "      <td>50.50</td>\n",
       "      <td>0</td>\n",
       "      <td>0</td>\n",
       "      <td>0</td>\n",
       "      <td>1</td>\n",
       "    </tr>\n",
       "    <tr>\n",
       "      <th>414</th>\n",
       "      <td>53.14</td>\n",
       "      <td>0</td>\n",
       "      <td>0</td>\n",
       "      <td>0</td>\n",
       "      <td>1</td>\n",
       "    </tr>\n",
       "    <tr>\n",
       "      <th>...</th>\n",
       "      <td>...</td>\n",
       "      <td>...</td>\n",
       "      <td>...</td>\n",
       "      <td>...</td>\n",
       "      <td>...</td>\n",
       "    </tr>\n",
       "    <tr>\n",
       "      <th>808</th>\n",
       "      <td>56.44</td>\n",
       "      <td>0</td>\n",
       "      <td>0</td>\n",
       "      <td>0</td>\n",
       "      <td>1</td>\n",
       "    </tr>\n",
       "    <tr>\n",
       "      <th>1227</th>\n",
       "      <td>57.30</td>\n",
       "      <td>0</td>\n",
       "      <td>1</td>\n",
       "      <td>0</td>\n",
       "      <td>0</td>\n",
       "    </tr>\n",
       "    <tr>\n",
       "      <th>477</th>\n",
       "      <td>57.24</td>\n",
       "      <td>0</td>\n",
       "      <td>0</td>\n",
       "      <td>1</td>\n",
       "      <td>0</td>\n",
       "    </tr>\n",
       "    <tr>\n",
       "      <th>1404</th>\n",
       "      <td>62.30</td>\n",
       "      <td>0</td>\n",
       "      <td>0</td>\n",
       "      <td>1</td>\n",
       "      <td>0</td>\n",
       "    </tr>\n",
       "    <tr>\n",
       "      <th>1485</th>\n",
       "      <td>60.24</td>\n",
       "      <td>0</td>\n",
       "      <td>1</td>\n",
       "      <td>0</td>\n",
       "      <td>0</td>\n",
       "    </tr>\n",
       "  </tbody>\n",
       "</table>\n",
       "<p>516 rows × 5 columns</p>\n",
       "</div>\n",
       "      <button class=\"colab-df-convert\" onclick=\"convertToInteractive('df-f1cfa56b-c890-4639-a8d2-ad9f7322c296')\"\n",
       "              title=\"Convert this dataframe to an interactive table.\"\n",
       "              style=\"display:none;\">\n",
       "        \n",
       "  <svg xmlns=\"http://www.w3.org/2000/svg\" height=\"24px\"viewBox=\"0 0 24 24\"\n",
       "       width=\"24px\">\n",
       "    <path d=\"M0 0h24v24H0V0z\" fill=\"none\"/>\n",
       "    <path d=\"M18.56 5.44l.94 2.06.94-2.06 2.06-.94-2.06-.94-.94-2.06-.94 2.06-2.06.94zm-11 1L8.5 8.5l.94-2.06 2.06-.94-2.06-.94L8.5 2.5l-.94 2.06-2.06.94zm10 10l.94 2.06.94-2.06 2.06-.94-2.06-.94-.94-2.06-.94 2.06-2.06.94z\"/><path d=\"M17.41 7.96l-1.37-1.37c-.4-.4-.92-.59-1.43-.59-.52 0-1.04.2-1.43.59L10.3 9.45l-7.72 7.72c-.78.78-.78 2.05 0 2.83L4 21.41c.39.39.9.59 1.41.59.51 0 1.02-.2 1.41-.59l7.78-7.78 2.81-2.81c.8-.78.8-2.07 0-2.86zM5.41 20L4 18.59l7.72-7.72 1.47 1.35L5.41 20z\"/>\n",
       "  </svg>\n",
       "      </button>\n",
       "      \n",
       "  <style>\n",
       "    .colab-df-container {\n",
       "      display:flex;\n",
       "      flex-wrap:wrap;\n",
       "      gap: 12px;\n",
       "    }\n",
       "\n",
       "    .colab-df-convert {\n",
       "      background-color: #E8F0FE;\n",
       "      border: none;\n",
       "      border-radius: 50%;\n",
       "      cursor: pointer;\n",
       "      display: none;\n",
       "      fill: #1967D2;\n",
       "      height: 32px;\n",
       "      padding: 0 0 0 0;\n",
       "      width: 32px;\n",
       "    }\n",
       "\n",
       "    .colab-df-convert:hover {\n",
       "      background-color: #E2EBFA;\n",
       "      box-shadow: 0px 1px 2px rgba(60, 64, 67, 0.3), 0px 1px 3px 1px rgba(60, 64, 67, 0.15);\n",
       "      fill: #174EA6;\n",
       "    }\n",
       "\n",
       "    [theme=dark] .colab-df-convert {\n",
       "      background-color: #3B4455;\n",
       "      fill: #D2E3FC;\n",
       "    }\n",
       "\n",
       "    [theme=dark] .colab-df-convert:hover {\n",
       "      background-color: #434B5C;\n",
       "      box-shadow: 0px 1px 3px 1px rgba(0, 0, 0, 0.15);\n",
       "      filter: drop-shadow(0px 1px 2px rgba(0, 0, 0, 0.3));\n",
       "      fill: #FFFFFF;\n",
       "    }\n",
       "  </style>\n",
       "\n",
       "      <script>\n",
       "        const buttonEl =\n",
       "          document.querySelector('#df-f1cfa56b-c890-4639-a8d2-ad9f7322c296 button.colab-df-convert');\n",
       "        buttonEl.style.display =\n",
       "          google.colab.kernel.accessAllowed ? 'block' : 'none';\n",
       "\n",
       "        async function convertToInteractive(key) {\n",
       "          const element = document.querySelector('#df-f1cfa56b-c890-4639-a8d2-ad9f7322c296');\n",
       "          const dataTable =\n",
       "            await google.colab.kernel.invokeFunction('convertToInteractive',\n",
       "                                                     [key], {});\n",
       "          if (!dataTable) return;\n",
       "\n",
       "          const docLinkHtml = 'Like what you see? Visit the ' +\n",
       "            '<a target=\"_blank\" href=https://colab.research.google.com/notebooks/data_table.ipynb>data table notebook</a>'\n",
       "            + ' to learn more about interactive tables.';\n",
       "          element.innerHTML = '';\n",
       "          dataTable['output_type'] = 'display_data';\n",
       "          await google.colab.output.renderOutput(dataTable, element);\n",
       "          const docLink = document.createElement('div');\n",
       "          docLink.innerHTML = docLinkHtml;\n",
       "          element.appendChild(docLink);\n",
       "        }\n",
       "      </script>\n",
       "    </div>\n",
       "  </div>\n",
       "  "
      ],
      "text/plain": [
       "      400 Meters  Grade Level_9th Grade  Grade Level_10th Grade  \\\n",
       "319        64.14                      0                       0   \n",
       "1046       52.60                      0                       0   \n",
       "644        59.60                      0                       0   \n",
       "579        50.50                      0                       0   \n",
       "414        53.14                      0                       0   \n",
       "...          ...                    ...                     ...   \n",
       "808        56.44                      0                       0   \n",
       "1227       57.30                      0                       1   \n",
       "477        57.24                      0                       0   \n",
       "1404       62.30                      0                       0   \n",
       "1485       60.24                      0                       1   \n",
       "\n",
       "      Grade Level_11th Grade  Grade Level_12th Grade  \n",
       "319                        1                       0  \n",
       "1046                       0                       1  \n",
       "644                        1                       0  \n",
       "579                        0                       1  \n",
       "414                        0                       1  \n",
       "...                      ...                     ...  \n",
       "808                        0                       1  \n",
       "1227                       0                       0  \n",
       "477                        1                       0  \n",
       "1404                       1                       0  \n",
       "1485                       0                       0  \n",
       "\n",
       "[516 rows x 5 columns]"
      ]
     },
     "execution_count": 34,
     "metadata": {},
     "output_type": "execute_result"
    }
   ],
   "source": [
    "#regression models require numeric data, this means that we have to convert variables from a categorical feature to a binary one.\n",
    "#grade level is converted to 0s and 1s\n",
    "# get dummies turned all non-numeric to numeric.\n",
    "dummy_400_train = pd.get_dummies(features_400_train)\n",
    "\n",
    "#after converting the grade level column, we reindex the df\n",
    "dummy_400_train = dummy_400_train.reindex(columns=dummy_400_train.columns, fill_value=0)\n",
    "features_400_train = dummy_400_train[['400 Meters', 'Grade Level_9th Grade', 'Grade Level_10th Grade', 'Grade Level_11th Grade', 'Grade Level_12th Grade']]\n",
    "features_400_train\n",
    "\n",
    "#the same steps are repeated for the test df\n",
    "dummy_400_test = pd.get_dummies(features_400_test)\n",
    "\n",
    "dummy_400_test = dummy_400_test.reindex(columns=dummy_400_test.columns, fill_value=0)\n",
    "features_400_test = dummy_400_test[['400 Meters', 'Grade Level_9th Grade', 'Grade Level_10th Grade', 'Grade Level_11th Grade', 'Grade Level_12th Grade']]\n",
    "features_400_test"
   ]
  },
  {
   "cell_type": "code",
   "execution_count": 35,
   "metadata": {
    "colab": {
     "base_uri": "https://localhost:8080/",
     "height": 74
    },
    "id": "sOJ7yus54xOd",
    "outputId": "163823f2-f173-4b77-f145-343442300eb1"
   },
   "outputs": [
    {
     "data": {
      "text/html": [
       "<style>#sk-container-id-1 {color: black;background-color: white;}#sk-container-id-1 pre{padding: 0;}#sk-container-id-1 div.sk-toggleable {background-color: white;}#sk-container-id-1 label.sk-toggleable__label {cursor: pointer;display: block;width: 100%;margin-bottom: 0;padding: 0.3em;box-sizing: border-box;text-align: center;}#sk-container-id-1 label.sk-toggleable__label-arrow:before {content: \"▸\";float: left;margin-right: 0.25em;color: #696969;}#sk-container-id-1 label.sk-toggleable__label-arrow:hover:before {color: black;}#sk-container-id-1 div.sk-estimator:hover label.sk-toggleable__label-arrow:before {color: black;}#sk-container-id-1 div.sk-toggleable__content {max-height: 0;max-width: 0;overflow: hidden;text-align: left;background-color: #f0f8ff;}#sk-container-id-1 div.sk-toggleable__content pre {margin: 0.2em;color: black;border-radius: 0.25em;background-color: #f0f8ff;}#sk-container-id-1 input.sk-toggleable__control:checked~div.sk-toggleable__content {max-height: 200px;max-width: 100%;overflow: auto;}#sk-container-id-1 input.sk-toggleable__control:checked~label.sk-toggleable__label-arrow:before {content: \"▾\";}#sk-container-id-1 div.sk-estimator input.sk-toggleable__control:checked~label.sk-toggleable__label {background-color: #d4ebff;}#sk-container-id-1 div.sk-label input.sk-toggleable__control:checked~label.sk-toggleable__label {background-color: #d4ebff;}#sk-container-id-1 input.sk-hidden--visually {border: 0;clip: rect(1px 1px 1px 1px);clip: rect(1px, 1px, 1px, 1px);height: 1px;margin: -1px;overflow: hidden;padding: 0;position: absolute;width: 1px;}#sk-container-id-1 div.sk-estimator {font-family: monospace;background-color: #f0f8ff;border: 1px dotted black;border-radius: 0.25em;box-sizing: border-box;margin-bottom: 0.5em;}#sk-container-id-1 div.sk-estimator:hover {background-color: #d4ebff;}#sk-container-id-1 div.sk-parallel-item::after {content: \"\";width: 100%;border-bottom: 1px solid gray;flex-grow: 1;}#sk-container-id-1 div.sk-label:hover label.sk-toggleable__label {background-color: #d4ebff;}#sk-container-id-1 div.sk-serial::before {content: \"\";position: absolute;border-left: 1px solid gray;box-sizing: border-box;top: 0;bottom: 0;left: 50%;z-index: 0;}#sk-container-id-1 div.sk-serial {display: flex;flex-direction: column;align-items: center;background-color: white;padding-right: 0.2em;padding-left: 0.2em;position: relative;}#sk-container-id-1 div.sk-item {position: relative;z-index: 1;}#sk-container-id-1 div.sk-parallel {display: flex;align-items: stretch;justify-content: center;background-color: white;position: relative;}#sk-container-id-1 div.sk-item::before, #sk-container-id-1 div.sk-parallel-item::before {content: \"\";position: absolute;border-left: 1px solid gray;box-sizing: border-box;top: 0;bottom: 0;left: 50%;z-index: -1;}#sk-container-id-1 div.sk-parallel-item {display: flex;flex-direction: column;z-index: 1;position: relative;background-color: white;}#sk-container-id-1 div.sk-parallel-item:first-child::after {align-self: flex-end;width: 50%;}#sk-container-id-1 div.sk-parallel-item:last-child::after {align-self: flex-start;width: 50%;}#sk-container-id-1 div.sk-parallel-item:only-child::after {width: 0;}#sk-container-id-1 div.sk-dashed-wrapped {border: 1px dashed gray;margin: 0 0.4em 0.5em 0.4em;box-sizing: border-box;padding-bottom: 0.4em;background-color: white;}#sk-container-id-1 div.sk-label label {font-family: monospace;font-weight: bold;display: inline-block;line-height: 1.2em;}#sk-container-id-1 div.sk-label-container {text-align: center;}#sk-container-id-1 div.sk-container {/* jupyter's `normalize.less` sets `[hidden] { display: none; }` but bootstrap.min.css set `[hidden] { display: none !important; }` so we also need the `!important` here to be able to override the default hidden behavior on the sphinx rendered scikit-learn.org. See: https://github.com/scikit-learn/scikit-learn/issues/21755 */display: inline-block !important;position: relative;}#sk-container-id-1 div.sk-text-repr-fallback {display: none;}</style><div id=\"sk-container-id-1\" class=\"sk-top-container\"><div class=\"sk-text-repr-fallback\"><pre>LinearRegression()</pre><b>In a Jupyter environment, please rerun this cell to show the HTML representation or trust the notebook. <br />On GitHub, the HTML representation is unable to render, please try loading this page with nbviewer.org.</b></div><div class=\"sk-container\" hidden><div class=\"sk-item\"><div class=\"sk-estimator sk-toggleable\"><input class=\"sk-toggleable__control sk-hidden--visually\" id=\"sk-estimator-id-1\" type=\"checkbox\" checked><label for=\"sk-estimator-id-1\" class=\"sk-toggleable__label sk-toggleable__label-arrow\">LinearRegression</label><div class=\"sk-toggleable__content\"><pre>LinearRegression()</pre></div></div></div></div></div>"
      ],
      "text/plain": [
       "LinearRegression()"
      ]
     },
     "execution_count": 35,
     "metadata": {},
     "output_type": "execute_result"
    }
   ],
   "source": [
    "#after preparing the data we are ready to create the linear regression instance\n",
    "# and train the model with out data\n",
    "\n",
    "linreg = LinearRegression()\n",
    "linreg.fit(features_400_train, label_train)"
   ]
  },
  {
   "cell_type": "code",
   "execution_count": 36,
   "metadata": {
    "colab": {
     "base_uri": "https://localhost:8080/"
    },
    "id": "w3dKmLtywjIW",
    "outputId": "e418872f-cee8-4e1a-894c-f80324de99cf"
   },
   "outputs": [
    {
     "name": "stdout",
     "output_type": "stream",
     "text": [
      "9.3626499701623\n",
      "[131.08098264 141.68762886 140.28897008 ... 142.26205193 140.37134815\n",
      " 141.86765795]\n"
     ]
    }
   ],
   "source": [
    "#after training we check out model by predicting using out training data\n",
    "#we compare out predictions on training data vs. the labels and study the difference\n",
    "# RMSE is the Root Mean Square Error, which measures the difference between predicted values and the labels. \n",
    "# this measure is common and works well with regression models.\n",
    "\n",
    "train_pred = linreg.predict(features_400_train)\n",
    "lin_mse = mean_squared_error(label_train, train_pred)\n",
    "lin_rmse = np.sqrt(lin_mse)\n",
    "print(lin_rmse)\n",
    "print(train_pred)"
   ]
  },
  {
   "cell_type": "code",
   "execution_count": 37,
   "metadata": {
    "colab": {
     "base_uri": "https://localhost:8080/"
    },
    "id": "cTPRf60uNnBm",
    "outputId": "328978b9-51ce-4cdf-b5e1-a21ecb08d6ff"
   },
   "outputs": [
    {
     "name": "stderr",
     "output_type": "stream",
     "text": [
      "/usr/local/lib/python3.9/dist-packages/sklearn/base.py:439: UserWarning: X does not have valid feature names, but LinearRegression was fitted with feature names\n",
      "  warnings.warn(\n"
     ]
    },
    {
     "data": {
      "text/plain": [
       "array([138.98746995])"
      ]
     },
     "execution_count": 37,
     "metadata": {},
     "output_type": "execute_result"
    }
   ],
   "source": [
    "#here is a small test using a runner with a 60 second 400m.\n",
    "# the number 1 represents a grade level.\n",
    "#using this we can run a simple test to see how acurate a single prediction is.\n",
    "\n",
    "test_arr = np.array([60,0,0,0,1])\n",
    "test_arr = test_arr.reshape(1,-1)\n",
    "test_pred = linreg.predict(test_arr)\n",
    "test_pred"
   ]
  },
  {
   "cell_type": "code",
   "execution_count": 38,
   "metadata": {
    "colab": {
     "base_uri": "https://localhost:8080/",
     "height": 74
    },
    "id": "EKhdrYs2wr8U",
    "outputId": "6070612b-7deb-4d00-c124-70794c681951"
   },
   "outputs": [
    {
     "data": {
      "text/html": [
       "<style>#sk-container-id-2 {color: black;background-color: white;}#sk-container-id-2 pre{padding: 0;}#sk-container-id-2 div.sk-toggleable {background-color: white;}#sk-container-id-2 label.sk-toggleable__label {cursor: pointer;display: block;width: 100%;margin-bottom: 0;padding: 0.3em;box-sizing: border-box;text-align: center;}#sk-container-id-2 label.sk-toggleable__label-arrow:before {content: \"▸\";float: left;margin-right: 0.25em;color: #696969;}#sk-container-id-2 label.sk-toggleable__label-arrow:hover:before {color: black;}#sk-container-id-2 div.sk-estimator:hover label.sk-toggleable__label-arrow:before {color: black;}#sk-container-id-2 div.sk-toggleable__content {max-height: 0;max-width: 0;overflow: hidden;text-align: left;background-color: #f0f8ff;}#sk-container-id-2 div.sk-toggleable__content pre {margin: 0.2em;color: black;border-radius: 0.25em;background-color: #f0f8ff;}#sk-container-id-2 input.sk-toggleable__control:checked~div.sk-toggleable__content {max-height: 200px;max-width: 100%;overflow: auto;}#sk-container-id-2 input.sk-toggleable__control:checked~label.sk-toggleable__label-arrow:before {content: \"▾\";}#sk-container-id-2 div.sk-estimator input.sk-toggleable__control:checked~label.sk-toggleable__label {background-color: #d4ebff;}#sk-container-id-2 div.sk-label input.sk-toggleable__control:checked~label.sk-toggleable__label {background-color: #d4ebff;}#sk-container-id-2 input.sk-hidden--visually {border: 0;clip: rect(1px 1px 1px 1px);clip: rect(1px, 1px, 1px, 1px);height: 1px;margin: -1px;overflow: hidden;padding: 0;position: absolute;width: 1px;}#sk-container-id-2 div.sk-estimator {font-family: monospace;background-color: #f0f8ff;border: 1px dotted black;border-radius: 0.25em;box-sizing: border-box;margin-bottom: 0.5em;}#sk-container-id-2 div.sk-estimator:hover {background-color: #d4ebff;}#sk-container-id-2 div.sk-parallel-item::after {content: \"\";width: 100%;border-bottom: 1px solid gray;flex-grow: 1;}#sk-container-id-2 div.sk-label:hover label.sk-toggleable__label {background-color: #d4ebff;}#sk-container-id-2 div.sk-serial::before {content: \"\";position: absolute;border-left: 1px solid gray;box-sizing: border-box;top: 0;bottom: 0;left: 50%;z-index: 0;}#sk-container-id-2 div.sk-serial {display: flex;flex-direction: column;align-items: center;background-color: white;padding-right: 0.2em;padding-left: 0.2em;position: relative;}#sk-container-id-2 div.sk-item {position: relative;z-index: 1;}#sk-container-id-2 div.sk-parallel {display: flex;align-items: stretch;justify-content: center;background-color: white;position: relative;}#sk-container-id-2 div.sk-item::before, #sk-container-id-2 div.sk-parallel-item::before {content: \"\";position: absolute;border-left: 1px solid gray;box-sizing: border-box;top: 0;bottom: 0;left: 50%;z-index: -1;}#sk-container-id-2 div.sk-parallel-item {display: flex;flex-direction: column;z-index: 1;position: relative;background-color: white;}#sk-container-id-2 div.sk-parallel-item:first-child::after {align-self: flex-end;width: 50%;}#sk-container-id-2 div.sk-parallel-item:last-child::after {align-self: flex-start;width: 50%;}#sk-container-id-2 div.sk-parallel-item:only-child::after {width: 0;}#sk-container-id-2 div.sk-dashed-wrapped {border: 1px dashed gray;margin: 0 0.4em 0.5em 0.4em;box-sizing: border-box;padding-bottom: 0.4em;background-color: white;}#sk-container-id-2 div.sk-label label {font-family: monospace;font-weight: bold;display: inline-block;line-height: 1.2em;}#sk-container-id-2 div.sk-label-container {text-align: center;}#sk-container-id-2 div.sk-container {/* jupyter's `normalize.less` sets `[hidden] { display: none; }` but bootstrap.min.css set `[hidden] { display: none !important; }` so we also need the `!important` here to be able to override the default hidden behavior on the sphinx rendered scikit-learn.org. See: https://github.com/scikit-learn/scikit-learn/issues/21755 */display: inline-block !important;position: relative;}#sk-container-id-2 div.sk-text-repr-fallback {display: none;}</style><div id=\"sk-container-id-2\" class=\"sk-top-container\"><div class=\"sk-text-repr-fallback\"><pre>DecisionTreeRegressor()</pre><b>In a Jupyter environment, please rerun this cell to show the HTML representation or trust the notebook. <br />On GitHub, the HTML representation is unable to render, please try loading this page with nbviewer.org.</b></div><div class=\"sk-container\" hidden><div class=\"sk-item\"><div class=\"sk-estimator sk-toggleable\"><input class=\"sk-toggleable__control sk-hidden--visually\" id=\"sk-estimator-id-2\" type=\"checkbox\" checked><label for=\"sk-estimator-id-2\" class=\"sk-toggleable__label sk-toggleable__label-arrow\">DecisionTreeRegressor</label><div class=\"sk-toggleable__content\"><pre>DecisionTreeRegressor()</pre></div></div></div></div></div>"
      ],
      "text/plain": [
       "DecisionTreeRegressor()"
      ]
     },
     "execution_count": 38,
     "metadata": {},
     "output_type": "execute_result"
    }
   ],
   "source": [
    "#here we are importing another regression model to test the difference,\n",
    "# and checking is a more powerful model will produce better results.\n",
    "#we fit this model and predict on our training data as we did before.\n",
    "from sklearn.tree import DecisionTreeRegressor\n",
    "\n",
    "tree_reg = DecisionTreeRegressor()\n",
    "tree_reg.fit(features_400_train, label_train)"
   ]
  },
  {
   "cell_type": "code",
   "execution_count": 39,
   "metadata": {
    "colab": {
     "base_uri": "https://localhost:8080/"
    },
    "id": "P8fh7E9S-JNP",
    "outputId": "cf916ad9-f5eb-4af8-d966-bfaf3ba1da09"
   },
   "outputs": [
    {
     "data": {
      "text/plain": [
       "4.533325001340969"
      ]
     },
     "execution_count": 39,
     "metadata": {},
     "output_type": "execute_result"
    }
   ],
   "source": [
    "#again, we are predicting on our training data and measuring the accuracy with RMSE.\n",
    "\n",
    "tree_pred = tree_reg.predict(features_400_train)\n",
    "tree_mse = mean_squared_error(label_train, tree_pred)\n",
    "tree_rmse = np.sqrt(tree_mse)\n",
    "tree_rmse"
   ]
  },
  {
   "cell_type": "code",
   "execution_count": 40,
   "metadata": {
    "colab": {
     "base_uri": "https://localhost:8080/"
    },
    "id": "s_1tLWeaNA3E",
    "outputId": "6aca8af0-f8af-451e-a13f-4abb7e2eb0cb"
   },
   "outputs": [
    {
     "name": "stderr",
     "output_type": "stream",
     "text": [
      "/usr/local/lib/python3.9/dist-packages/sklearn/base.py:439: UserWarning: X does not have valid feature names, but DecisionTreeRegressor was fitted with feature names\n",
      "  warnings.warn(\n"
     ]
    },
    {
     "data": {
      "text/plain": [
       "array([151.46])"
      ]
     },
     "execution_count": 40,
     "metadata": {},
     "output_type": "execute_result"
    }
   ],
   "source": [
    "#here we run the same test as before, with a single sample, and compare how the decision tree predicts.\n",
    "#although the decision tree has a lower RMSE than linreg, the prediction is futher off what we would expect.\n",
    "# this shows that the decision tree likely is overfitting the data\n",
    "\n",
    "test_arr = np.array([60,0,0,0,1])\n",
    "test_arr = test_arr.reshape(1,-1)\n",
    "test_pred = tree_reg.predict(test_arr)\n",
    "test_pred"
   ]
  },
  {
   "cell_type": "code",
   "execution_count": 41,
   "metadata": {
    "id": "oboRVv2D-f1X"
   },
   "outputs": [],
   "source": [
    "#here I import cross_val_score which will allow me to test the decision tree \n",
    "#and improve how it fits by taking small chunks of the data and training on each chunk\n",
    "# this results in a better fitting.\n",
    "\n",
    "from sklearn.model_selection import cross_val_score\n",
    "tree_scores = cross_val_score(tree_reg, features_400_train, label_train, \n",
    "                         scoring='neg_mean_squared_error', cv=10)\n",
    "\n",
    "tree_rmse_scores = np.sqrt(-tree_scores)"
   ]
  },
  {
   "cell_type": "code",
   "execution_count": 42,
   "metadata": {
    "colab": {
     "base_uri": "https://localhost:8080/"
    },
    "id": "tbNtQBqM_Fee",
    "outputId": "61d5e8fe-1d52-4020-e4de-e8bf15970d93"
   },
   "outputs": [
    {
     "name": "stdout",
     "output_type": "stream",
     "text": [
      "Scores: [11.29572722 11.36611779 11.2018983  14.06588701 11.05614316 12.08251329\n",
      " 15.7572914  15.45505952 12.61942649 12.57654017]\n",
      "Mean: 12.747660436118304\n",
      "Standard Deviation: 1.6697645904159608\n"
     ]
    }
   ],
   "source": [
    "# I used a small definition from Intro to machine learning to display the scores from the cross val.\n",
    "\n",
    "def display_scores(scores):\n",
    "  print('Scores:', scores)\n",
    "  print('Mean:', scores.mean()),\n",
    "  print('Standard Deviation:', scores.std())\n",
    "\n",
    "# displaying the scors shows a larger mean\n",
    "#this is expected because before, the data was being overfit\n",
    "\n",
    "display_scores(tree_rmse_scores)"
   ]
  },
  {
   "cell_type": "code",
   "execution_count": 43,
   "metadata": {
    "colab": {
     "base_uri": "https://localhost:8080/"
    },
    "id": "9pLpwxjHBIYs",
    "outputId": "8a1e6a31-b361-410c-c77b-8078d29a1e2a"
   },
   "outputs": [
    {
     "name": "stdout",
     "output_type": "stream",
     "text": [
      "Scores: [ 7.73196467  8.23373365  8.56330841 10.46744697  8.81124113 10.68551439\n",
      "  7.31402146 13.24348336  8.56941701  9.16674085]\n",
      "Mean: 9.278687190966243\n",
      "Standard Deviation: 1.664391176285673\n"
     ]
    }
   ],
   "source": [
    "# the same cross val is run using linear regression\n",
    "\n",
    "lin_scores = cross_val_score(linreg, features_400_train, label_train, \n",
    "                         scoring='neg_mean_squared_error', cv=10)\n",
    "\n",
    "#compared to the original linreg, the mean here is marginally better, but it is still insightful to check \n",
    "#the original values and compare.\n",
    "\n",
    "lin_rmse_scores = np.sqrt(-lin_scores)\n",
    "display_scores(lin_rmse_scores)"
   ]
  },
  {
   "cell_type": "code",
   "execution_count": 45,
   "metadata": {
    "colab": {
     "base_uri": "https://localhost:8080/"
    },
    "id": "hzEVmYEH-87P",
    "outputId": "1b98c665-0639-40d9-d583-da041d0bdb1e"
   },
   "outputs": [
    {
     "name": "stdout",
     "output_type": "stream",
     "text": [
      "forest RMSE: 5.549669643716788\n",
      "Scores: [ 9.67074648  9.52306448 10.44295976 12.01091223  9.11917789 11.61295638\n",
      " 12.03001521 14.25512403 10.39898087 11.01841372]\n",
      "Mean: 11.008235104756903\n",
      "Standard Deviation: 1.4564115776764386\n"
     ]
    }
   ],
   "source": [
    "#we import the one more regression model which will be the most powerful\n",
    "#the steps will be the same as before\n",
    "\n",
    "from sklearn.ensemble import RandomForestRegressor\n",
    "forest_reg = RandomForestRegressor()\n",
    "forest_reg.fit(features_400_train, label_train)\n",
    "\n",
    "forest_pred = forest_reg.predict(features_400_train)\n",
    "forest_mse = mean_squared_error(label_train, forest_pred)\n",
    "forest_rmse = np.sqrt(forest_mse)\n",
    "\n",
    "print('forest RMSE:',  forest_rmse)\n",
    "\n",
    "forest_scores = cross_val_score(forest_reg, features_400_train, label_train, \n",
    "                         scoring='neg_mean_squared_error', cv=10)\n",
    "\n",
    "forest_rmse_scores = np.sqrt(-forest_scores)\n",
    "display_scores(forest_rmse_scores)\n",
    "\n",
    "#just as with the decision tree, randome forest was likely overfitting the training data\n",
    "# when using crossval we see that the mean is a amost twice as bad\n",
    "# still, this model produces the best results\n",
    "#this is also expected because this model is more powerful "
   ]
  },
  {
   "cell_type": "code",
   "execution_count": 46,
   "metadata": {
    "colab": {
     "base_uri": "https://localhost:8080/"
    },
    "id": "ouJMAFJuFu_i",
    "outputId": "2e5a0abb-0bde-424d-d97f-a218ed2358ec"
   },
   "outputs": [
    {
     "name": "stderr",
     "output_type": "stream",
     "text": [
      "/usr/local/lib/python3.9/dist-packages/sklearn/base.py:439: UserWarning: X does not have valid feature names, but RandomForestRegressor was fitted with feature names\n",
      "  warnings.warn(\n"
     ]
    },
    {
     "data": {
      "text/plain": [
       "array([148.6854])"
      ]
     },
     "execution_count": 46,
     "metadata": {},
     "output_type": "execute_result"
    }
   ],
   "source": [
    "test_arr = np.array([60,0,0,0,1])\n",
    "test_arr = test_arr.reshape(1,-1)\n",
    "test_pred = forest_reg.predict(test_arr)\n",
    "test_pred"
   ]
  },
  {
   "cell_type": "code",
   "execution_count": 47,
   "metadata": {
    "colab": {
     "base_uri": "https://localhost:8080/"
    },
    "id": "hDYIF_uOCLj_",
    "outputId": "39cf11af-57da-4094-f5dc-8f3a584c5cce"
   },
   "outputs": [
    {
     "name": "stdout",
     "output_type": "stream",
     "text": [
      "{'max_features': 8, 'n_estimators': 30}\n",
      "RandomForestRegressor(max_features=8, n_estimators=30)\n"
     ]
    }
   ],
   "source": [
    "#after going through the models, we import one last package, GridSearchCV\n",
    "#this sorts through many parameters and returns the best one.\n",
    "\n",
    "from sklearn.model_selection import GridSearchCV\n",
    "\n",
    "param_grid = [\n",
    "    {'n_estimators': [3,10,30], 'max_features': [2,4,6,8]},\n",
    "    {'bootstrap': [False], 'n_estimators': [3,10], 'max_features': [2,3,4]}\n",
    "]\n",
    "grid_search = GridSearchCV(forest_reg, param_grid, cv=5,\n",
    "                           scoring='neg_mean_squared_error',\n",
    "                           return_train_score=True)\n",
    "\n",
    "#here the grid search model is used to fit the training data\n",
    "#next we print out the best params and best estimators\n",
    "grid_search.fit(features_400_train, label_train)\n",
    "print(grid_search.best_params_)\n",
    "print(grid_search.best_estimator_)"
   ]
  },
  {
   "cell_type": "code",
   "execution_count": 48,
   "metadata": {
    "colab": {
     "base_uri": "https://localhost:8080/"
    },
    "id": "swY8ThGVFtmI",
    "outputId": "af900e4e-f7f9-4917-b585-2996bb621449"
   },
   "outputs": [
    {
     "name": "stdout",
     "output_type": "stream",
     "text": [
      "12.384750463076873 {'max_features': 2, 'n_estimators': 3}\n",
      "11.720117958436113 {'max_features': 2, 'n_estimators': 10}\n",
      "11.323225746494384 {'max_features': 2, 'n_estimators': 30}\n",
      "11.375240242872005 {'max_features': 4, 'n_estimators': 3}\n",
      "11.095550882534775 {'max_features': 4, 'n_estimators': 10}\n",
      "10.832340278324205 {'max_features': 4, 'n_estimators': 30}\n",
      "11.479561164533747 {'max_features': 6, 'n_estimators': 3}\n",
      "10.906295132782274 {'max_features': 6, 'n_estimators': 10}\n",
      "10.952293552936439 {'max_features': 6, 'n_estimators': 30}\n",
      "11.452006414089379 {'max_features': 8, 'n_estimators': 3}\n",
      "10.887498882466462 {'max_features': 8, 'n_estimators': 10}\n",
      "10.729534766477387 {'max_features': 8, 'n_estimators': 30}\n",
      "13.09233783710512 {'bootstrap': False, 'max_features': 2, 'n_estimators': 3}\n",
      "13.135505747095454 {'bootstrap': False, 'max_features': 2, 'n_estimators': 10}\n",
      "12.680565340182081 {'bootstrap': False, 'max_features': 3, 'n_estimators': 3}\n",
      "12.621620934270936 {'bootstrap': False, 'max_features': 3, 'n_estimators': 10}\n",
      "12.379518306295779 {'bootstrap': False, 'max_features': 4, 'n_estimators': 3}\n",
      "12.266572431116268 {'bootstrap': False, 'max_features': 4, 'n_estimators': 10}\n"
     ]
    }
   ],
   "source": [
    "#here the features and estimators are zip together with the scores\n",
    "#then they are printed out so we can see which returned the best and the range of values \n",
    "#that result from the changes in parameters\n",
    "\n",
    "cv_res = grid_search.cv_results_\n",
    "\n",
    "for mean_score, params in zip(cv_res['mean_test_score'], cv_res['params']):\n",
    "  print(np.sqrt(-mean_score), params)"
   ]
  },
  {
   "cell_type": "code",
   "execution_count": 49,
   "metadata": {
    "colab": {
     "base_uri": "https://localhost:8080/"
    },
    "id": "bksrwkPcGJWo",
    "outputId": "bfa57c49-c7e9-488c-80e4-d55fcce6f70f"
   },
   "outputs": [
    {
     "name": "stdout",
     "output_type": "stream",
     "text": [
      "10.102562530890633\n"
     ]
    }
   ],
   "source": [
    "#lastly we isolate the best estimators from the model\n",
    "#we then predict the TEST data and compare to the test labels\n",
    "final_model = grid_search.best_estimator_\n",
    "final_pred = final_model.predict(features_400_test)\n",
    "\n",
    "final_mse = mean_squared_error(label_test, final_pred)\n",
    "final_rmse = np.sqrt(final_mse)\n",
    "print(final_rmse)"
   ]
  },
  {
   "cell_type": "code",
   "execution_count": 53,
   "metadata": {
    "colab": {
     "base_uri": "https://localhost:8080/"
    },
    "id": "u6T_HhpAdaXE",
    "outputId": "d8af3956-5e5c-46db-cdf8-a1ff684a18c0"
   },
   "outputs": [
    {
     "name": "stdout",
     "output_type": "stream",
     "text": [
      "[149.35722222]\n"
     ]
    },
    {
     "name": "stderr",
     "output_type": "stream",
     "text": [
      "/usr/local/lib/python3.9/dist-packages/sklearn/base.py:439: UserWarning: X does not have valid feature names, but RandomForestRegressor was fitted with feature names\n",
      "  warnings.warn(\n"
     ]
    }
   ],
   "source": [
    "test_arr = np.array([60,0,0,0,1])\n",
    "test_arr = test_arr.reshape(1,-1)\n",
    "test_pred = final_model.predict(test_arr)\n",
    "print(test_pred)"
   ]
  },
  {
   "cell_type": "code",
   "execution_count": 52,
   "metadata": {
    "id": "yrtod30JOX1h"
   },
   "outputs": [],
   "source": []
  }
 ],
 "metadata": {
  "colab": {
   "provenance": []
  },
  "kernelspec": {
   "display_name": "Python 3",
   "language": "python",
   "name": "python3"
  },
  "language_info": {
   "codemirror_mode": {
    "name": "ipython",
    "version": 3
   },
   "file_extension": ".py",
   "mimetype": "text/x-python",
   "name": "python",
   "nbconvert_exporter": "python",
   "pygments_lexer": "ipython3",
   "version": "3.7.4"
  }
 },
 "nbformat": 4,
 "nbformat_minor": 1
}
